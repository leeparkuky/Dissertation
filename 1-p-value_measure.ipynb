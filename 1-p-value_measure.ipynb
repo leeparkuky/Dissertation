{
 "cells": [
  {
   "cell_type": "code",
   "execution_count": 1,
   "id": "d929d036",
   "metadata": {},
   "outputs": [],
   "source": [
    "from sample import sample_generator\n",
    "from estimators import ClusteredSegmentation\n",
    "from BarcodeScanner import cluster_barcode_scanner\n",
    "import pandas as pd\n",
    "import numpy as np"
   ]
  },
  {
   "cell_type": "code",
   "execution_count": 2,
   "id": "52a2bcf8",
   "metadata": {},
   "outputs": [
    {
     "data": {
      "text/plain": [
       "sample_generator(p=3, sample_size=500, num_interactions=2, rng=Generator(PCG64) at 0x7FE422571820, beta_range=(3, 8), pi_range=(0.2, 0.8), error_scale=2.23606797749979)"
      ]
     },
     "execution_count": 2,
     "metadata": {},
     "output_type": "execute_result"
    }
   ],
   "source": [
    "rng = sample_generator(3, 500, 2)\n",
    "rng"
   ]
  },
  {
   "cell_type": "code",
   "execution_count": 3,
   "id": "4d42ce39",
   "metadata": {},
   "outputs": [],
   "source": [
    "num_cluster = np.unique(rng.barcode.reshape(-1)).shape[0]"
   ]
  },
  {
   "cell_type": "code",
   "execution_count": 4,
   "id": "159d93c0",
   "metadata": {},
   "outputs": [
    {
     "data": {
      "text/html": [
       "<div>\n",
       "<style scoped>\n",
       "    .dataframe tbody tr th:only-of-type {\n",
       "        vertical-align: middle;\n",
       "    }\n",
       "\n",
       "    .dataframe tbody tr th {\n",
       "        vertical-align: top;\n",
       "    }\n",
       "\n",
       "    .dataframe thead th {\n",
       "        text-align: right;\n",
       "    }\n",
       "</style>\n",
       "<table border=\"1\" class=\"dataframe\">\n",
       "  <thead>\n",
       "    <tr style=\"text-align: right;\">\n",
       "      <th></th>\n",
       "      <th>full</th>\n",
       "      <th>y</th>\n",
       "      <th>reduced</th>\n",
       "      <th>counts</th>\n",
       "    </tr>\n",
       "  </thead>\n",
       "  <tbody>\n",
       "    <tr>\n",
       "      <th>0</th>\n",
       "      <td>0</td>\n",
       "      <td>-5.097076</td>\n",
       "      <td>0</td>\n",
       "      <td>59</td>\n",
       "    </tr>\n",
       "    <tr>\n",
       "      <th>1</th>\n",
       "      <td>1</td>\n",
       "      <td>-0.985655</td>\n",
       "      <td>1</td>\n",
       "      <td>51</td>\n",
       "    </tr>\n",
       "    <tr>\n",
       "      <th>2</th>\n",
       "      <td>2</td>\n",
       "      <td>-0.234910</td>\n",
       "      <td>1</td>\n",
       "      <td>151</td>\n",
       "    </tr>\n",
       "    <tr>\n",
       "      <th>3</th>\n",
       "      <td>3</td>\n",
       "      <td>11.690994</td>\n",
       "      <td>2</td>\n",
       "      <td>111</td>\n",
       "    </tr>\n",
       "    <tr>\n",
       "      <th>4</th>\n",
       "      <td>4</td>\n",
       "      <td>-8.826978</td>\n",
       "      <td>0</td>\n",
       "      <td>19</td>\n",
       "    </tr>\n",
       "    <tr>\n",
       "      <th>5</th>\n",
       "      <td>5</td>\n",
       "      <td>-5.083069</td>\n",
       "      <td>0</td>\n",
       "      <td>25</td>\n",
       "    </tr>\n",
       "    <tr>\n",
       "      <th>6</th>\n",
       "      <td>6</td>\n",
       "      <td>-4.140045</td>\n",
       "      <td>0</td>\n",
       "      <td>45</td>\n",
       "    </tr>\n",
       "    <tr>\n",
       "      <th>7</th>\n",
       "      <td>7</td>\n",
       "      <td>0.682918</td>\n",
       "      <td>1</td>\n",
       "      <td>39</td>\n",
       "    </tr>\n",
       "  </tbody>\n",
       "</table>\n",
       "</div>"
      ],
      "text/plain": [
       "   full          y  reduced  counts\n",
       "0     0  -5.097076        0      59\n",
       "1     1  -0.985655        1      51\n",
       "2     2  -0.234910        1     151\n",
       "3     3  11.690994        2     111\n",
       "4     4  -8.826978        0      19\n",
       "5     5  -5.083069        0      25\n",
       "6     6  -4.140045        0      45\n",
       "7     7   0.682918        1      39"
      ]
     },
     "execution_count": 4,
     "metadata": {},
     "output_type": "execute_result"
    }
   ],
   "source": [
    "cluster = ClusteredSegmentation(n_clusters = 3)#num_cluster)\n",
    "cluster.fit(rng.barcode.reshape(-1,1), rng.y)\n",
    "cluster.full_to_reduced_with_counts"
   ]
  },
  {
   "cell_type": "code",
   "execution_count": 5,
   "id": "1a806735",
   "metadata": {
    "scrolled": true
   },
   "outputs": [
    {
     "data": {
      "text/plain": [
       "(tau(n=500, p=8, q=3, r_sqf=0.8756431219727703, r_sqr=0.8591840984272046, alpha=0.05),\n",
       " 0.13235314207519572)"
      ]
     },
     "execution_count": 5,
     "metadata": {},
     "output_type": "execute_result"
    }
   ],
   "source": [
    "cluster.tau_metric, cluster.tau_metric.tau_est"
   ]
  },
  {
   "cell_type": "code",
   "execution_count": 6,
   "id": "7b520a27",
   "metadata": {},
   "outputs": [
    {
     "data": {
      "text/plain": [
       "6.232168388595041"
      ]
     },
     "execution_count": 6,
     "metadata": {},
     "output_type": "execute_result"
    }
   ],
   "source": [
    "cluster.MSE"
   ]
  },
  {
   "cell_type": "code",
   "execution_count": 7,
   "id": "02a53b78",
   "metadata": {},
   "outputs": [
    {
     "data": {
      "text/plain": [
       "8"
      ]
     },
     "execution_count": 7,
     "metadata": {},
     "output_type": "execute_result"
    }
   ],
   "source": [
    "cluster.full_p"
   ]
  },
  {
   "cell_type": "code",
   "execution_count": 8,
   "id": "16441964",
   "metadata": {},
   "outputs": [
    {
     "data": {
      "text/plain": [
       "array([[0.094, 0.   , 0.   , 0.   , 0.   , 0.   , 0.   , 0.   ],\n",
       "       [0.   , 0.109, 0.   , 0.   , 0.   , 0.   , 0.   , 0.   ],\n",
       "       [0.   , 0.   , 0.037, 0.   , 0.   , 0.   , 0.   , 0.   ],\n",
       "       [0.   , 0.   , 0.   , 0.05 , 0.   , 0.   , 0.   , 0.   ],\n",
       "       [0.   , 0.   , 0.   , 0.   , 0.293, 0.   , 0.   , 0.   ],\n",
       "       [0.   , 0.   , 0.   , 0.   , 0.   , 0.222, 0.   , 0.   ],\n",
       "       [0.   , 0.   , 0.   , 0.   , 0.   , 0.   , 0.124, 0.   ],\n",
       "       [0.   , 0.   , 0.   , 0.   , 0.   , 0.   , 0.   , 0.143]])"
      ]
     },
     "execution_count": 8,
     "metadata": {},
     "output_type": "execute_result"
    }
   ],
   "source": [
    "cluster.full_var.round(3)"
   ]
  },
  {
   "cell_type": "markdown",
   "id": "8c553398",
   "metadata": {},
   "source": [
    "### Snecdor's F test statistics"
   ]
  },
  {
   "cell_type": "code",
   "execution_count": 9,
   "id": "e35ed232",
   "metadata": {},
   "outputs": [],
   "source": [
    "scanner = cluster_barcode_scanner(rng, cluster)"
   ]
  },
  {
   "cell_type": "code",
   "execution_count": 10,
   "id": "79c12c09",
   "metadata": {},
   "outputs": [],
   "source": [
    "scanner._cdf_table = scanner.cdf_table.fillna(0)\n",
    "scanner._cdf_table.cdf = scanner.cdf_table.cdf"
   ]
  },
  {
   "cell_type": "code",
   "execution_count": 11,
   "id": "ea16ba76",
   "metadata": {},
   "outputs": [
    {
     "data": {
      "text/html": [
       "<div>\n",
       "<style scoped>\n",
       "    .dataframe tbody tr th:only-of-type {\n",
       "        vertical-align: middle;\n",
       "    }\n",
       "\n",
       "    .dataframe tbody tr th {\n",
       "        vertical-align: top;\n",
       "    }\n",
       "\n",
       "    .dataframe thead th {\n",
       "        text-align: right;\n",
       "    }\n",
       "</style>\n",
       "<table border=\"1\" class=\"dataframe\">\n",
       "  <thead>\n",
       "    <tr style=\"text-align: right;\">\n",
       "      <th></th>\n",
       "      <th>beta1*beta2</th>\n",
       "      <th>beta1*beta3</th>\n",
       "      <th>beta2*beta3</th>\n",
       "      <th>beta1*beta2*beta3</th>\n",
       "      <th>cdf</th>\n",
       "    </tr>\n",
       "  </thead>\n",
       "  <tbody>\n",
       "    <tr>\n",
       "      <th>0</th>\n",
       "      <td>0</td>\n",
       "      <td>0</td>\n",
       "      <td>1</td>\n",
       "      <td>0</td>\n",
       "      <td>1.000000</td>\n",
       "    </tr>\n",
       "    <tr>\n",
       "      <th>1</th>\n",
       "      <td>0</td>\n",
       "      <td>0</td>\n",
       "      <td>1</td>\n",
       "      <td>1</td>\n",
       "      <td>1.000000</td>\n",
       "    </tr>\n",
       "    <tr>\n",
       "      <th>2</th>\n",
       "      <td>0</td>\n",
       "      <td>1</td>\n",
       "      <td>0</td>\n",
       "      <td>1</td>\n",
       "      <td>1.000000</td>\n",
       "    </tr>\n",
       "    <tr>\n",
       "      <th>3</th>\n",
       "      <td>0</td>\n",
       "      <td>1</td>\n",
       "      <td>1</td>\n",
       "      <td>0</td>\n",
       "      <td>1.000000</td>\n",
       "    </tr>\n",
       "    <tr>\n",
       "      <th>4</th>\n",
       "      <td>0</td>\n",
       "      <td>1</td>\n",
       "      <td>1</td>\n",
       "      <td>1</td>\n",
       "      <td>1.000000</td>\n",
       "    </tr>\n",
       "    <tr>\n",
       "      <th>5</th>\n",
       "      <td>1</td>\n",
       "      <td>0</td>\n",
       "      <td>0</td>\n",
       "      <td>1</td>\n",
       "      <td>1.000000</td>\n",
       "    </tr>\n",
       "    <tr>\n",
       "      <th>6</th>\n",
       "      <td>1</td>\n",
       "      <td>0</td>\n",
       "      <td>1</td>\n",
       "      <td>0</td>\n",
       "      <td>1.000000</td>\n",
       "    </tr>\n",
       "    <tr>\n",
       "      <th>7</th>\n",
       "      <td>1</td>\n",
       "      <td>0</td>\n",
       "      <td>1</td>\n",
       "      <td>1</td>\n",
       "      <td>1.000000</td>\n",
       "    </tr>\n",
       "    <tr>\n",
       "      <th>8</th>\n",
       "      <td>1</td>\n",
       "      <td>1</td>\n",
       "      <td>0</td>\n",
       "      <td>1</td>\n",
       "      <td>1.000000</td>\n",
       "    </tr>\n",
       "    <tr>\n",
       "      <th>9</th>\n",
       "      <td>1</td>\n",
       "      <td>1</td>\n",
       "      <td>1</td>\n",
       "      <td>0</td>\n",
       "      <td>1.000000</td>\n",
       "    </tr>\n",
       "    <tr>\n",
       "      <th>10</th>\n",
       "      <td>1</td>\n",
       "      <td>1</td>\n",
       "      <td>1</td>\n",
       "      <td>1</td>\n",
       "      <td>1.000000</td>\n",
       "    </tr>\n",
       "    <tr>\n",
       "      <th>11</th>\n",
       "      <td>0</td>\n",
       "      <td>0</td>\n",
       "      <td>0</td>\n",
       "      <td>1</td>\n",
       "      <td>1.000000</td>\n",
       "    </tr>\n",
       "    <tr>\n",
       "      <th>12</th>\n",
       "      <td>0</td>\n",
       "      <td>1</td>\n",
       "      <td>0</td>\n",
       "      <td>0</td>\n",
       "      <td>0.335264</td>\n",
       "    </tr>\n",
       "    <tr>\n",
       "      <th>13</th>\n",
       "      <td>1</td>\n",
       "      <td>0</td>\n",
       "      <td>0</td>\n",
       "      <td>0</td>\n",
       "      <td>0.187156</td>\n",
       "    </tr>\n",
       "    <tr>\n",
       "      <th>14</th>\n",
       "      <td>1</td>\n",
       "      <td>1</td>\n",
       "      <td>0</td>\n",
       "      <td>0</td>\n",
       "      <td>0.172625</td>\n",
       "    </tr>\n",
       "  </tbody>\n",
       "</table>\n",
       "</div>"
      ],
      "text/plain": [
       "    beta1*beta2  beta1*beta3  beta2*beta3  beta1*beta2*beta3       cdf\n",
       "0             0            0            1                  0  1.000000\n",
       "1             0            0            1                  1  1.000000\n",
       "2             0            1            0                  1  1.000000\n",
       "3             0            1            1                  0  1.000000\n",
       "4             0            1            1                  1  1.000000\n",
       "5             1            0            0                  1  1.000000\n",
       "6             1            0            1                  0  1.000000\n",
       "7             1            0            1                  1  1.000000\n",
       "8             1            1            0                  1  1.000000\n",
       "9             1            1            1                  0  1.000000\n",
       "10            1            1            1                  1  1.000000\n",
       "11            0            0            0                  1  1.000000\n",
       "12            0            1            0                  0  0.335264\n",
       "13            1            0            0                  0  0.187156\n",
       "14            1            1            0                  0  0.172625"
      ]
     },
     "execution_count": 11,
     "metadata": {},
     "output_type": "execute_result"
    }
   ],
   "source": [
    "scanner.cdf_table"
   ]
  },
  {
   "cell_type": "code",
   "execution_count": null,
   "id": "289cca79",
   "metadata": {},
   "outputs": [],
   "source": [
    "scanner.cdf_table"
   ]
  },
  {
   "cell_type": "code",
   "execution_count": 13,
   "id": "43feaef8",
   "metadata": {},
   "outputs": [
    {
     "data": {
      "text/html": [
       "<div>\n",
       "<style scoped>\n",
       "    .dataframe tbody tr th:only-of-type {\n",
       "        vertical-align: middle;\n",
       "    }\n",
       "\n",
       "    .dataframe tbody tr th {\n",
       "        vertical-align: top;\n",
       "    }\n",
       "\n",
       "    .dataframe thead th {\n",
       "        text-align: right;\n",
       "    }\n",
       "</style>\n",
       "<table border=\"1\" class=\"dataframe\">\n",
       "  <thead>\n",
       "    <tr style=\"text-align: right;\">\n",
       "      <th></th>\n",
       "      <th>coefficients</th>\n",
       "      <th>score</th>\n",
       "      <th>ranking</th>\n",
       "    </tr>\n",
       "  </thead>\n",
       "  <tbody>\n",
       "    <tr>\n",
       "      <th>0</th>\n",
       "      <td>beta2*beta3</td>\n",
       "      <td>0.630167</td>\n",
       "      <td>1.0</td>\n",
       "    </tr>\n",
       "    <tr>\n",
       "      <th>1</th>\n",
       "      <td>beta1*beta2*beta3</td>\n",
       "      <td>0.630167</td>\n",
       "      <td>2.0</td>\n",
       "    </tr>\n",
       "    <tr>\n",
       "      <th>2</th>\n",
       "      <td>beta1*beta3</td>\n",
       "      <td>0.512632</td>\n",
       "      <td>3.0</td>\n",
       "    </tr>\n",
       "    <tr>\n",
       "      <th>3</th>\n",
       "      <td>beta1*beta2</td>\n",
       "      <td>0.500966</td>\n",
       "      <td>4.0</td>\n",
       "    </tr>\n",
       "  </tbody>\n",
       "</table>\n",
       "</div>"
      ],
      "text/plain": [
       "        coefficients     score  ranking\n",
       "0        beta2*beta3  0.630167      1.0\n",
       "1  beta1*beta2*beta3  0.630167      2.0\n",
       "2        beta1*beta3  0.512632      3.0\n",
       "3        beta1*beta2  0.500966      4.0"
      ]
     },
     "execution_count": 13,
     "metadata": {},
     "output_type": "execute_result"
    }
   ],
   "source": [
    "scanner.cdf_ranking"
   ]
  },
  {
   "cell_type": "code",
   "execution_count": null,
   "id": "ca92a0ab",
   "metadata": {},
   "outputs": [],
   "source": [
    "ranking_table = scanner.cdf_ranking"
   ]
  },
  {
   "cell_type": "code",
   "execution_count": 12,
   "id": "71337529",
   "metadata": {},
   "outputs": [
    {
     "data": {
      "text/plain": [
       "{'X2*X3': 7.479393627725901, 'X1*X2*X3': -7.080352735799567}"
      ]
     },
     "execution_count": 12,
     "metadata": {},
     "output_type": "execute_result"
    }
   ],
   "source": [
    "rng.interactions"
   ]
  },
  {
   "cell_type": "code",
   "execution_count": null,
   "id": "d62869b1",
   "metadata": {},
   "outputs": [],
   "source": [
    "actual"
   ]
  },
  {
   "cell_type": "code",
   "execution_count": null,
   "id": "c56c54c4",
   "metadata": {},
   "outputs": [],
   "source": [
    "predicted"
   ]
  },
  {
   "cell_type": "code",
   "execution_count": null,
   "id": "02b4f8b2",
   "metadata": {},
   "outputs": [],
   "source": [
    "from sklearn.metrics import confusion_matrix, f1_score, roc_auc_score, RocCurveDisplay\n",
    "\n",
    "true_parameters = [x.replace('X','beta') for x in rng.interactions.keys()]\n",
    "actual = ranking_table.coefficients.isin(true_parameters)\n",
    "predicted = ranking_table.ranking.isin(list(range(1,11)))\n",
    "RocCurveDisplay.from_predictions(actual, predicted)"
   ]
  },
  {
   "cell_type": "code",
   "execution_count": null,
   "id": "863f6e03",
   "metadata": {},
   "outputs": [],
   "source": [
    "rng.interactions"
   ]
  },
  {
   "cell_type": "code",
   "execution_count": 190,
   "id": "fbe27709",
   "metadata": {},
   "outputs": [],
   "source": [
    "import random\n",
    "from sklearn.metrics import confusion_matrix, f1_score, roc_auc_score, RocCurveDisplay\n",
    "def simulation(sample_size, num_variables):\n",
    "    num_all_interactions = 2**num_variables - num_variables -1\n",
    "    k = random.randint(1, num_all_interactions - 1)\n",
    "    rng = sample_generator(num_variables, sample_size, k)\n",
    "    cluster = ClusteredSegmentation(n_clusters = 2**num_variables)\n",
    "    cluster.fit(rng.barcode.reshape(-1,1), rng.y)\n",
    "    scanner = cluster_barcode_scanner(rng, cluster, False) # <- need to change to False later\n",
    "    scanner.set_beta_sum_range(1, 2)\n",
    "#     ranking_table = scanner.get_distance_ranking(normalize = False)\n",
    "    ranking_table = scanner.cdf_ranking\n",
    "    true_parameters = [x.replace('X','beta') for x in rng.interactions.keys()]\n",
    "    actual = ranking_table.coefficients.isin(true_parameters)\n",
    "    predicted = ranking_table.ranking.isin(list(range(1, k+1)))\n",
    "#     counts = ranking_table.loc[ranking_table.coefficients.isin(true_parameters),:].ranking.isin(list(range(1, k+1))).sum()\n",
    "#     score = f1_score(actual, predicted)\n",
    "#     score = roc_auc_score(actual, predicted)\n",
    "    return (actual.to_numpy(), predicted.to_numpy())"
   ]
  },
  {
   "cell_type": "code",
   "execution_count": null,
   "id": "9eaa2eee",
   "metadata": {},
   "outputs": [],
   "source": [
    "from joblib import Parallel, delayed\n",
    "\n",
    "sample_size = 10_000\n",
    "\n",
    "result = Parallel(n_jobs = -1, verbose = 10)(delayed(simulation)(sample_size = sample_size, num_variables = 5) for _ in range(100))\n"
   ]
  },
  {
   "cell_type": "code",
   "execution_count": 188,
   "id": "15ed3076",
   "metadata": {},
   "outputs": [
    {
     "data": {
      "text/plain": [
       "<1x8 sparse array of type '<class 'numpy.int64'>'\n",
       "\twith 1 stored elements in Compressed Sparse Row format>"
      ]
     },
     "execution_count": 188,
     "metadata": {},
     "output_type": "execute_result"
    }
   ],
   "source": [
    "result[0]"
   ]
  },
  {
   "cell_type": "code",
   "execution_count": 189,
   "id": "fabf0c7f",
   "metadata": {},
   "outputs": [
    {
     "data": {
      "text/plain": [
       "array([[0, 0, 0, 0, 0, 0, 0, 1]])"
      ]
     },
     "execution_count": 189,
     "metadata": {},
     "output_type": "execute_result"
    }
   ],
   "source": [
    "result[0].toarray()"
   ]
  },
  {
   "cell_type": "code",
   "execution_count": null,
   "id": "e37cd407",
   "metadata": {},
   "outputs": [],
   "source": []
  },
  {
   "cell_type": "markdown",
   "id": "6c0e317b",
   "metadata": {},
   "source": [
    "### Misc"
   ]
  },
  {
   "cell_type": "code",
   "execution_count": 85,
   "id": "6a75506f",
   "metadata": {},
   "outputs": [],
   "source": [
    "from scipy.sparse import csr_matrix, csr_array, vstack"
   ]
  },
  {
   "cell_type": "code",
   "execution_count": 86,
   "id": "7d0f009e",
   "metadata": {},
   "outputs": [],
   "source": [
    "from itertools import product\n",
    "non_zero_part = product([0,1], repeat = 2**scanner.sample_generator.p - scanner.sample_generator.p - 1)\n",
    "zeros = [0] + [0 for _ in range(scanner.sample_generator.p)]"
   ]
  },
  {
   "cell_type": "code",
   "execution_count": 87,
   "id": "c4651044",
   "metadata": {},
   "outputs": [],
   "source": [
    "from joblib import Parallel, delayed"
   ]
  },
  {
   "cell_type": "code",
   "execution_count": 88,
   "id": "0a34dce4",
   "metadata": {},
   "outputs": [],
   "source": [
    "def get_csr_array(x, zeros = zeros):\n",
    "    return csr_array(zeros + list(x))"
   ]
  },
  {
   "cell_type": "code",
   "execution_count": 89,
   "id": "3473aef3",
   "metadata": {},
   "outputs": [
    {
     "name": "stderr",
     "output_type": "stream",
     "text": [
      "[Parallel(n_jobs=-1)]: Using backend LokyBackend with 10 concurrent workers.\n",
      "[Parallel(n_jobs=-1)]: Batch computation too fast (0.0054s.) Setting batch_size=2.\n",
      "[Parallel(n_jobs=-1)]: Done   2 out of  15 | elapsed:    0.0s remaining:    0.0s\n",
      "[Parallel(n_jobs=-1)]: Done   4 out of  15 | elapsed:    0.0s remaining:    0.0s\n",
      "[Parallel(n_jobs=-1)]: Done   6 out of  15 | elapsed:    0.0s remaining:    0.0s\n",
      "[Parallel(n_jobs=-1)]: Done   8 out of  15 | elapsed:    0.0s remaining:    0.0s\n",
      "[Parallel(n_jobs=-1)]: Done  10 out of  15 | elapsed:    0.0s remaining:    0.0s\n",
      "[Parallel(n_jobs=-1)]: Done  12 out of  15 | elapsed:    0.0s remaining:    0.0s\n",
      "[Parallel(n_jobs=-1)]: Done  15 out of  15 | elapsed:    0.0s finished\n"
     ]
    }
   ],
   "source": [
    "result = Parallel(n_jobs = -1, verbose = 10)(delayed(get_csr_array)(x) for x in non_zero_part if sum(x))\n"
   ]
  },
  {
   "cell_type": "code",
   "execution_count": 90,
   "id": "812f69f5",
   "metadata": {},
   "outputs": [],
   "source": [
    "betas = vstack(result)"
   ]
  },
  {
   "cell_type": "code",
   "execution_count": 91,
   "id": "f7d0799e",
   "metadata": {},
   "outputs": [
    {
     "data": {
      "text/plain": [
       "<15x8 sparse matrix of type '<class 'numpy.int64'>'\n",
       "\twith 32 stored elements in Compressed Sparse Row format>"
      ]
     },
     "execution_count": 91,
     "metadata": {},
     "output_type": "execute_result"
    }
   ],
   "source": [
    "betas"
   ]
  },
  {
   "cell_type": "code",
   "execution_count": 92,
   "id": "29e7caff",
   "metadata": {},
   "outputs": [
    {
     "data": {
      "text/plain": [
       "<1x8 sparse matrix of type '<class 'numpy.int64'>'\n",
       "\twith 1 stored elements in Compressed Sparse Row format>"
      ]
     },
     "execution_count": 92,
     "metadata": {},
     "output_type": "execute_result"
    }
   ],
   "source": [
    "betas.getrow(0)"
   ]
  },
  {
   "cell_type": "code",
   "execution_count": 93,
   "id": "59ebf974",
   "metadata": {},
   "outputs": [],
   "source": [
    "beta = csr_matrix(scanner.gen_beta_contrasts(betas.getrow(5).toarray()))"
   ]
  },
  {
   "cell_type": "code",
   "execution_count": 94,
   "id": "4bf3bcbb",
   "metadata": {},
   "outputs": [
    {
     "data": {
      "text/plain": [
       "array([[0, 0, 0, 0, 0, 0, 0, 1]])"
      ]
     },
     "execution_count": 94,
     "metadata": {},
     "output_type": "execute_result"
    }
   ],
   "source": [
    "betas.getrow(0).toarray()"
   ]
  },
  {
   "cell_type": "code",
   "execution_count": 95,
   "id": "b15db191",
   "metadata": {},
   "outputs": [
    {
     "data": {
      "text/plain": [
       "array([[ 0.        ,  0.        ,  0.        ,  0.        ,  0.        ,\n",
       "         1.        ,  0.        ,  0.        ],\n",
       "       [ 0.        ,  0.        ,  0.        ,  0.        ,  0.        ,\n",
       "         0.70710678, -0.70710678,  0.        ]])"
      ]
     },
     "execution_count": 95,
     "metadata": {},
     "output_type": "execute_result"
    }
   ],
   "source": [
    "beta.toarray()"
   ]
  },
  {
   "cell_type": "code",
   "execution_count": 96,
   "id": "04f73fbd",
   "metadata": {},
   "outputs": [
    {
     "data": {
      "text/plain": [
       "array([[ 0,  0,  1,  0, -1,  0,  0,  0],\n",
       "       [ 0,  0,  1,  0,  0,  0, -1,  0],\n",
       "       [ 1,  0,  0,  0,  0, -1,  0,  0],\n",
       "       [ 0,  1,  0, -1,  0,  0,  0,  0],\n",
       "       [ 0,  1,  0,  0,  0,  0,  0, -1]])"
      ]
     },
     "execution_count": 96,
     "metadata": {},
     "output_type": "execute_result"
    }
   ],
   "source": [
    "scanner.C"
   ]
  },
  {
   "cell_type": "code",
   "execution_count": 97,
   "id": "1ca4c855",
   "metadata": {},
   "outputs": [],
   "source": [
    "full_to_reduced = scanner.cluster_estimator.full_to_reduced_with_counts.copy()"
   ]
  },
  {
   "cell_type": "code",
   "execution_count": 98,
   "id": "b25ad084",
   "metadata": {},
   "outputs": [
    {
     "data": {
      "text/html": [
       "<div>\n",
       "<style scoped>\n",
       "    .dataframe tbody tr th:only-of-type {\n",
       "        vertical-align: middle;\n",
       "    }\n",
       "\n",
       "    .dataframe tbody tr th {\n",
       "        vertical-align: top;\n",
       "    }\n",
       "\n",
       "    .dataframe thead th {\n",
       "        text-align: right;\n",
       "    }\n",
       "</style>\n",
       "<table border=\"1\" class=\"dataframe\">\n",
       "  <thead>\n",
       "    <tr style=\"text-align: right;\">\n",
       "      <th></th>\n",
       "      <th>full</th>\n",
       "      <th>y</th>\n",
       "      <th>reduced</th>\n",
       "      <th>counts</th>\n",
       "    </tr>\n",
       "  </thead>\n",
       "  <tbody>\n",
       "    <tr>\n",
       "      <th>0</th>\n",
       "      <td>0</td>\n",
       "      <td>-6.643216</td>\n",
       "      <td>1</td>\n",
       "      <td>172</td>\n",
       "    </tr>\n",
       "    <tr>\n",
       "      <th>1</th>\n",
       "      <td>1</td>\n",
       "      <td>-1.669044</td>\n",
       "      <td>2</td>\n",
       "      <td>55</td>\n",
       "    </tr>\n",
       "    <tr>\n",
       "      <th>2</th>\n",
       "      <td>2</td>\n",
       "      <td>-12.982594</td>\n",
       "      <td>0</td>\n",
       "      <td>83</td>\n",
       "    </tr>\n",
       "    <tr>\n",
       "      <th>3</th>\n",
       "      <td>3</td>\n",
       "      <td>-0.939035</td>\n",
       "      <td>2</td>\n",
       "      <td>17</td>\n",
       "    </tr>\n",
       "    <tr>\n",
       "      <th>4</th>\n",
       "      <td>4</td>\n",
       "      <td>-13.122382</td>\n",
       "      <td>0</td>\n",
       "      <td>89</td>\n",
       "    </tr>\n",
       "    <tr>\n",
       "      <th>5</th>\n",
       "      <td>5</td>\n",
       "      <td>-8.053988</td>\n",
       "      <td>1</td>\n",
       "      <td>40</td>\n",
       "    </tr>\n",
       "    <tr>\n",
       "      <th>6</th>\n",
       "      <td>6</td>\n",
       "      <td>-19.855971</td>\n",
       "      <td>0</td>\n",
       "      <td>40</td>\n",
       "    </tr>\n",
       "    <tr>\n",
       "      <th>7</th>\n",
       "      <td>7</td>\n",
       "      <td>-0.284431</td>\n",
       "      <td>2</td>\n",
       "      <td>4</td>\n",
       "    </tr>\n",
       "  </tbody>\n",
       "</table>\n",
       "</div>"
      ],
      "text/plain": [
       "   full          y  reduced  counts\n",
       "0     0  -6.643216        1     172\n",
       "1     1  -1.669044        2      55\n",
       "2     2 -12.982594        0      83\n",
       "3     3  -0.939035        2      17\n",
       "4     4 -13.122382        0      89\n",
       "5     5  -8.053988        1      40\n",
       "6     6 -19.855971        0      40\n",
       "7     7  -0.284431        2       4"
      ]
     },
     "execution_count": 98,
     "metadata": {},
     "output_type": "execute_result"
    }
   ],
   "source": [
    "full_to_reduced"
   ]
  },
  {
   "cell_type": "code",
   "execution_count": 104,
   "id": "0cc414fd",
   "metadata": {},
   "outputs": [],
   "source": [
    "y_hat = full_to_reduced.y\n",
    "n_y = full_to_reduced.counts\n",
    "y_tot = y_hat * n_y"
   ]
  },
  {
   "cell_type": "code",
   "execution_count": 107,
   "id": "f7c67b79",
   "metadata": {},
   "outputs": [],
   "source": [
    "C = scanner.C.dot(np.diag(y_tot))\n",
    "ctc_inv = np.linalg.inv(C.dot(C.T))"
   ]
  },
  {
   "cell_type": "code",
   "execution_count": 108,
   "id": "f218308a",
   "metadata": {},
   "outputs": [],
   "source": [
    "H = (np.diag(np.ones(max(C.shape))) - C.T.dot(ctc_inv).dot(C))"
   ]
  },
  {
   "cell_type": "code",
   "execution_count": 110,
   "id": "6b0f0674",
   "metadata": {},
   "outputs": [],
   "source": [
    "L_inv = scanner.L_inv"
   ]
  },
  {
   "cell_type": "code",
   "execution_count": 112,
   "id": "8652d6fa",
   "metadata": {},
   "outputs": [
    {
     "data": {
      "text/plain": [
       "array([[ 0.        ,  0.        ,  0.        ,  0.        ,  0.        ,\n",
       "         1.        ,  0.        ,  0.        ],\n",
       "       [ 0.        ,  0.        ,  0.        ,  0.        ,  0.        ,\n",
       "         0.70710678, -0.70710678,  0.        ]])"
      ]
     },
     "execution_count": 112,
     "metadata": {},
     "output_type": "execute_result"
    }
   ],
   "source": [
    "beta.toarray()"
   ]
  },
  {
   "cell_type": "code",
   "execution_count": 139,
   "id": "95d0357f",
   "metadata": {},
   "outputs": [],
   "source": [
    "l_inv_b = L_inv.dot(beta.toarray().T)\n",
    "denom = np.array(l_inv_b.T.dot(l_inv_b))\n",
    "num   = np.array(l_inv_b.T.dot(H).dot(l_inv_b))\n"
   ]
  },
  {
   "cell_type": "code",
   "execution_count": 160,
   "id": "ed4ae603",
   "metadata": {},
   "outputs": [],
   "source": [
    "from numpy.linalg import inv, eig\n",
    "eigens = eig(l_inv_b.dot(inv(l_inv_b.T.dot(l_inv_b))).dot(l_inv_b.T))"
   ]
  },
  {
   "cell_type": "code",
   "execution_count": 166,
   "id": "b9e9f050",
   "metadata": {},
   "outputs": [
    {
     "data": {
      "text/plain": [
       "array([[ 1.        ,  0.        ],\n",
       "       [-1.        ,  0.        ],\n",
       "       [ 0.        ,  0.70710678],\n",
       "       [ 0.        , -0.70710678],\n",
       "       [-1.        , -0.70710678],\n",
       "       [ 1.        ,  0.70710678],\n",
       "       [ 0.        ,  0.        ],\n",
       "       [ 0.        ,  0.        ]])"
      ]
     },
     "execution_count": 166,
     "metadata": {},
     "output_type": "execute_result"
    }
   ],
   "source": [
    "l_inv_b"
   ]
  },
  {
   "cell_type": "code",
   "execution_count": 167,
   "id": "90f84a88",
   "metadata": {},
   "outputs": [
    {
     "data": {
      "text/plain": [
       "array([2.22044605e-16, 1.00000000e+00, 1.00000000e+00, 1.85037171e-17,\n",
       "       4.62223187e-33, 0.00000000e+00, 0.00000000e+00, 0.00000000e+00])"
      ]
     },
     "execution_count": 167,
     "metadata": {},
     "output_type": "execute_result"
    }
   ],
   "source": [
    "eigens[0]"
   ]
  },
  {
   "cell_type": "code",
   "execution_count": 165,
   "id": "a795011b",
   "metadata": {},
   "outputs": [
    {
     "data": {
      "text/plain": [
       "array([[-0.816, -0.577, -0.04 ,  0.019, -0.016, -0.015,  0.   ,  0.   ],\n",
       "       [-0.408,  0.577,  0.04 ,  0.716, -0.675, -0.612,  0.   ,  0.   ],\n",
       "       [-0.204,  0.289,  0.519, -0.349,  0.565,  0.513,  0.   ,  0.   ],\n",
       "       [ 0.204, -0.289, -0.519,  0.349, -0.094, -0.085,  0.   ,  0.   ],\n",
       "       [-0.204,  0.289, -0.479, -0.349,  0.329,  0.596,  0.   ,  0.   ],\n",
       "       [ 0.204, -0.289,  0.479,  0.349, -0.329, -0.002,  0.   ,  0.   ],\n",
       "       [ 0.   ,  0.   ,  0.   ,  0.   ,  0.   ,  0.   ,  1.   ,  0.   ],\n",
       "       [ 0.   ,  0.   ,  0.   ,  0.   ,  0.   ,  0.   ,  0.   ,  1.   ]])"
      ]
     },
     "execution_count": 165,
     "metadata": {},
     "output_type": "execute_result"
    }
   ],
   "source": [
    "eigens[1].round(3)"
   ]
  },
  {
   "cell_type": "code",
   "execution_count": 175,
   "id": "40567cf0",
   "metadata": {},
   "outputs": [],
   "source": [
    "v = eigens[1][:,1:3]"
   ]
  },
  {
   "cell_type": "code",
   "execution_count": 176,
   "id": "5c62dffe",
   "metadata": {},
   "outputs": [
    {
     "data": {
      "text/plain": [
       "array([[ 0.333, -0.333, -0.167,  0.167, -0.167,  0.167,  0.   ,  0.   ],\n",
       "       [-0.333,  0.333,  0.167, -0.167,  0.167, -0.167,  0.   ,  0.   ],\n",
       "       [-0.167,  0.167,  0.333, -0.333, -0.167,  0.167,  0.   ,  0.   ],\n",
       "       [ 0.167, -0.167, -0.333,  0.333,  0.167, -0.167,  0.   ,  0.   ],\n",
       "       [-0.167,  0.167, -0.167,  0.167,  0.333, -0.333,  0.   ,  0.   ],\n",
       "       [ 0.167, -0.167,  0.167, -0.167, -0.333,  0.333,  0.   ,  0.   ],\n",
       "       [ 0.   ,  0.   ,  0.   ,  0.   ,  0.   ,  0.   ,  0.   ,  0.   ],\n",
       "       [ 0.   ,  0.   ,  0.   ,  0.   ,  0.   ,  0.   ,  0.   ,  0.   ]])"
      ]
     },
     "execution_count": 176,
     "metadata": {},
     "output_type": "execute_result"
    }
   ],
   "source": [
    "l_inv_b.dot(inv(l_inv_b.T.dot(l_inv_b))).dot(l_inv_b.T).round(3)"
   ]
  },
  {
   "cell_type": "code",
   "execution_count": 181,
   "id": "10d31687",
   "metadata": {},
   "outputs": [
    {
     "data": {
      "text/plain": [
       "array([-0.57735027,  0.57735027,  0.28867513, -0.28867513,  0.28867513,\n",
       "       -0.28867513,  0.        ,  0.        ])"
      ]
     },
     "execution_count": 181,
     "metadata": {},
     "output_type": "execute_result"
    }
   ],
   "source": [
    "v.T[0]"
   ]
  },
  {
   "cell_type": "code",
   "execution_count": 133,
   "id": "6de6c487",
   "metadata": {},
   "outputs": [
    {
     "data": {
      "text/plain": [
       "0.23325860695200173"
      ]
     },
     "execution_count": 133,
     "metadata": {},
     "output_type": "execute_result"
    }
   ],
   "source": [
    "num/denom"
   ]
  },
  {
   "cell_type": "code",
   "execution_count": 134,
   "id": "4d30de22",
   "metadata": {},
   "outputs": [
    {
     "data": {
      "text/plain": [
       "{'X2*X3': 7.118762277547875, 'X1*X2*X3': 7.3032732545175065}"
      ]
     },
     "execution_count": 134,
     "metadata": {},
     "output_type": "execute_result"
    }
   ],
   "source": [
    "rng.interactions"
   ]
  },
  {
   "cell_type": "code",
   "execution_count": 185,
   "id": "855c0467",
   "metadata": {},
   "outputs": [],
   "source": [
    "denom = np.array(v.T[1].dot(v.T[1].T))\n",
    "num   = np.array(v.T[1].dot(H).dot(v.T[1].T))\n"
   ]
  },
  {
   "cell_type": "code",
   "execution_count": 186,
   "id": "051d9acd",
   "metadata": {},
   "outputs": [
    {
     "data": {
      "text/plain": [
       "0.20531512169199037"
      ]
     },
     "execution_count": 186,
     "metadata": {},
     "output_type": "execute_result"
    }
   ],
   "source": [
    "num/denom"
   ]
  },
  {
   "cell_type": "code",
   "execution_count": null,
   "id": "2c167666",
   "metadata": {},
   "outputs": [],
   "source": []
  }
 ],
 "metadata": {
  "kernelspec": {
   "display_name": "Python 3 (ipykernel)",
   "language": "python",
   "name": "python3"
  },
  "language_info": {
   "codemirror_mode": {
    "name": "ipython",
    "version": 3
   },
   "file_extension": ".py",
   "mimetype": "text/x-python",
   "name": "python",
   "nbconvert_exporter": "python",
   "pygments_lexer": "ipython3",
   "version": "3.9.13"
  }
 },
 "nbformat": 4,
 "nbformat_minor": 5
}
