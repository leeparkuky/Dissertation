{
 "cells": [
  {
   "cell_type": "code",
   "execution_count": 1,
   "id": "cad4a03f",
   "metadata": {},
   "outputs": [],
   "source": [
    "import scipy.stats as stat\n",
    "import numpy as np\n",
    "import pandas as pd"
   ]
  },
  {
   "cell_type": "code",
   "execution_count": 4,
   "id": "a7a7f32f",
   "metadata": {},
   "outputs": [],
   "source": [
    "intercept = np.ones(10)\n",
    "x1 = [1,1,1,1,1,0,0,0,0,0]\n",
    "x2 = [1,1,1,1,0,0,0,0,1,1]\n",
    "X = pd.DataFrame(zip(intercept, x1, x2), columns = ['x0','x1','x2']).astype(np.byte)"
   ]
  },
  {
   "cell_type": "code",
   "execution_count": 12,
   "id": "2d0727b6",
   "metadata": {},
   "outputs": [],
   "source": [
    "xtx_inv = np.linalg.inv(X.T.dot(X))"
   ]
  },
  {
   "cell_type": "code",
   "execution_count": 17,
   "id": "284d7239",
   "metadata": {},
   "outputs": [],
   "source": [
    "c = np.array([0,1,-1])"
   ]
  },
  {
   "cell_type": "code",
   "execution_count": 18,
   "id": "0b0b52f5",
   "metadata": {},
   "outputs": [
    {
     "data": {
      "text/plain": [
       "1.38"
      ]
     },
     "execution_count": 18,
     "metadata": {},
     "output_type": "execute_result"
    }
   ],
   "source": [
    "c.dot(xtx_inv).dot(c.T)"
   ]
  },
  {
   "cell_type": "code",
   "execution_count": null,
   "id": "c7b69d2e",
   "metadata": {},
   "outputs": [],
   "source": []
  },
  {
   "cell_type": "code",
   "execution_count": null,
   "id": "c41828ac",
   "metadata": {},
   "outputs": [],
   "source": []
  }
 ],
 "metadata": {
  "kernelspec": {
   "display_name": "Python 3 (ipykernel)",
   "language": "python",
   "name": "python3"
  },
  "language_info": {
   "codemirror_mode": {
    "name": "ipython",
    "version": 3
   },
   "file_extension": ".py",
   "mimetype": "text/x-python",
   "name": "python",
   "nbconvert_exporter": "python",
   "pygments_lexer": "ipython3",
   "version": "3.9.13"
  }
 },
 "nbformat": 4,
 "nbformat_minor": 5
}
