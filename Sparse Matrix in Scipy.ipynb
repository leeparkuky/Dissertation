{
 "cells": [
  {
   "cell_type": "code",
   "execution_count": 455,
   "id": "729bf6cd",
   "metadata": {},
   "outputs": [],
   "source": [
    "import numpy as np\n",
    "from scipy.sparse import csr_array\n",
    "from itertools import combinations, starmap"
   ]
  },
  {
   "cell_type": "markdown",
   "id": "a2bc8b69",
   "metadata": {},
   "source": [
    "#### Objective 1\n",
    "* We first want to represent p binary variables into 2^p sequence of 0 and 1\n",
    "* Example: \n",
    "\\[0,1,0,1\\] $\\rightarrow$ \\[0,1,0,1,0,0,0,0,1,0,0,0,0,0\\]"
   ]
  },
  {
   "cell_type": "code",
   "execution_count": 456,
   "id": "200ab6f4",
   "metadata": {},
   "outputs": [],
   "source": [
    "def prod(*args):\n",
    "    return np.prod(args)"
   ]
  },
  {
   "cell_type": "code",
   "execution_count": 457,
   "id": "70e49a4b",
   "metadata": {},
   "outputs": [],
   "source": [
    "from tqdm.notebook import trange"
   ]
  },
  {
   "cell_type": "code",
   "execution_count": 458,
   "id": "7945d543",
   "metadata": {},
   "outputs": [
    {
     "data": {
      "application/vnd.jupyter.widget-view+json": {
       "model_id": "21f9332c5636468db42406e928aa676b",
       "version_major": 2,
       "version_minor": 0
      },
      "text/plain": [
       "  0%|          | 0/15 [00:00<?, ?it/s]"
      ]
     },
     "metadata": {},
     "output_type": "display_data"
    }
   ],
   "source": [
    "# simple way\n",
    "sample_array = np.array([0,1,0,1,0, 1,0,1,1,1,1,1, 0, 1, 0, 1], dtype = np.byte)\n",
    "result = sample_array.copy()\n",
    "n = sample_array.shape[0] + 1\n",
    "for i in trange(2, n):\n",
    "    m = starmap(prod, combinations(sample_array.tolist(), i))\n",
    "    result = np.hstack((result, np.array(list(m), dtype = np.byte)))\n",
    "simple_result = np.insert(result, 0, 1)"
   ]
  },
  {
   "cell_type": "code",
   "execution_count": 459,
   "id": "9a1f1eb4",
   "metadata": {},
   "outputs": [],
   "source": [
    "# time the process\n",
    "def simulation_sim():\n",
    "    sample_array = np.array([0,1,0,1,0, 1,0,1,1,1,1,1, 0, 1, 0, 1], dtype = np.byte)\n",
    "    result = sample_array.copy()\n",
    "    n = sample_array.shape[0] + 1\n",
    "    for i in trange(2, n):\n",
    "        m = starmap(prod, combinations(sample_array.tolist(), i))\n",
    "        result = np.hstack((result, np.array(list(m), dtype = np.byte)))\n",
    "    simple_result = np.insert(result, 0, 1)\n",
    "    return simple_result"
   ]
  },
  {
   "cell_type": "markdown",
   "id": "c8423f54",
   "metadata": {},
   "source": [
    "#### Using sparse matrix"
   ]
  },
  {
   "cell_type": "code",
   "execution_count": 460,
   "id": "311a5d1c",
   "metadata": {},
   "outputs": [],
   "source": [
    "def sum_string(*args):\n",
    "    string = args[0]\n",
    "    for i in range(1, len(args)):\n",
    "        string = '*'.join([string, args[i]])\n",
    "    return string"
   ]
  },
  {
   "cell_type": "code",
   "execution_count": 461,
   "id": "46ae63f9",
   "metadata": {},
   "outputs": [
    {
     "data": {
      "application/vnd.jupyter.widget-view+json": {
       "model_id": "1097fcb182014c9297d39931f68dedb3",
       "version_major": 2,
       "version_minor": 0
      },
      "text/plain": [
       "  0%|          | 0/15 [00:00<?, ?it/s]"
      ]
     },
     "metadata": {},
     "output_type": "display_data"
    }
   ],
   "source": [
    "# Hard way of expanding it using sparse matrix\n",
    "sample_array = np.array([0,1,0,1,0, 1,0,1,1,1,1,1, 0, 1, 0, 1], dtype = np.byte)\n",
    "result = sample_array.copy()\n",
    "main_list = [f\"X{i}\" for i in range(len(sample_array))]\n",
    "index_list = main_list.copy()\n",
    "n = len(main_list) + 1\n",
    "for i in trange(2, n):\n",
    "    m = starmap(sum_string, combinations(main_list, i))\n",
    "    index_list = index_list + list(m)"
   ]
  },
  {
   "cell_type": "code",
   "execution_count": 463,
   "id": "36d750c9",
   "metadata": {},
   "outputs": [
    {
     "data": {
      "text/plain": [
       "16"
      ]
     },
     "execution_count": 463,
     "metadata": {},
     "output_type": "execute_result"
    }
   ],
   "source": [
    "len(sample_array)"
   ]
  },
  {
   "cell_type": "code",
   "execution_count": 464,
   "id": "52812da4",
   "metadata": {},
   "outputs": [
    {
     "data": {
      "application/vnd.jupyter.widget-view+json": {
       "model_id": "fb0bff10e4f34bd2b90a11af24e136cf",
       "version_major": 2,
       "version_minor": 0
      },
      "text/plain": [
       "  0%|          | 0/9 [00:00<?, ?it/s]"
      ]
     },
     "metadata": {},
     "output_type": "display_data"
    }
   ],
   "source": [
    "ones_index_main = [f\"X{i}\" for i in np.where(sample_array == 1)[0]]\n",
    "ones_index = ones_index_main.copy()\n",
    "n = len(ones_index_main)+1\n",
    "for i in trange(2, n):\n",
    "    m = starmap(sum_string, combinations(ones_index_main, i))\n",
    "    ones_index = ones_index + list(m)\n",
    "col = np.array([index_list.index(index)+1 for index in ones_index])\n",
    "col = np.insert(col, 0, 0)\n",
    "row = np.zeros((len(col),), dtype = np.byte)\n",
    "data = np.ones((len(col),), dtype = np.byte)\n",
    "csr_result = csr_array((data, (row, col)), shape=(1, 2**16))"
   ]
  },
  {
   "cell_type": "code",
   "execution_count": null,
   "id": "1d4c2662",
   "metadata": {},
   "outputs": [],
   "source": []
  },
  {
   "cell_type": "markdown",
   "id": "00412e7e",
   "metadata": {},
   "source": [
    "## Point 1: Why we use the sparse matrix: MEMORY!"
   ]
  },
  {
   "cell_type": "code",
   "execution_count": 11,
   "id": "727e258b",
   "metadata": {},
   "outputs": [],
   "source": [
    "import sys"
   ]
  },
  {
   "cell_type": "code",
   "execution_count": 12,
   "id": "d2693d40",
   "metadata": {},
   "outputs": [
    {
     "data": {
      "text/plain": [
       "(65640, 48)"
      ]
     },
     "execution_count": 12,
     "metadata": {},
     "output_type": "execute_result"
    }
   ],
   "source": [
    "sys.getsizeof(simple_result), sys.getsizeof(csr_result)"
   ]
  },
  {
   "cell_type": "code",
   "execution_count": 20,
   "id": "e52b46a2",
   "metadata": {},
   "outputs": [
    {
     "ename": "SyntaxError",
     "evalue": "invalid syntax (3830031417.py, line 1)",
     "output_type": "error",
     "traceback": [
      "\u001b[0;36m  File \u001b[0;32m\"/var/folders/xj/07knx1_11gl5w1nv4tg4xr000000gn/T/ipykernel_1235/3830031417.py\"\u001b[0;36m, line \u001b[0;32m1\u001b[0m\n\u001b[0;31m    simple array\u001b[0m\n\u001b[0m           ^\u001b[0m\n\u001b[0;31mSyntaxError\u001b[0m\u001b[0;31m:\u001b[0m invalid syntax\n"
     ]
    }
   ],
   "source": [
    "simple array"
   ]
  },
  {
   "cell_type": "code",
   "execution_count": 24,
   "id": "1842ca4a",
   "metadata": {},
   "outputs": [],
   "source": [
    "def simulation_diff(sample_array, index_list = index_list):\n",
    "    ones_index_main = [f\"X{i}\" for i in np.where(sample_array == 1)[0]]\n",
    "    ones_index = ones_index_main.copy()\n",
    "    n = len(ones_index_main)+1\n",
    "    for i in trange(2, n):\n",
    "        m = starmap(sum_string, combinations(ones_index_main, i))\n",
    "        ones_index = ones_index + list(m)\n",
    "    col = np.array([index_list.index(index)+1 for index in ones_index])\n",
    "    col=  np.insert(col, 0, 0)\n",
    "    row, data = np.zeros((len(col),), dtype = np.byte), np.ones((len(col),), dtype = np.byte)\n",
    "    csr_result = csr_array((data, (row, col)), shape=(1, 2**16))\n",
    "    return csr_result"
   ]
  },
  {
   "cell_type": "markdown",
   "id": "c0334d1e",
   "metadata": {},
   "source": [
    "## Point 2: Why we use the sparse matrix: Speed!"
   ]
  },
  {
   "cell_type": "code",
   "execution_count": 18,
   "id": "017938c0",
   "metadata": {
    "scrolled": true
   },
   "outputs": [
    {
     "name": "stdout",
     "output_type": "stream",
     "text": [
      "21 ns ± 0.0621 ns per loop (mean ± std. dev. of 7 runs, 10000000 loops each)\n"
     ]
    }
   ],
   "source": [
    "%timeit simulation_sim"
   ]
  },
  {
   "cell_type": "code",
   "execution_count": 19,
   "id": "9dbf3222",
   "metadata": {},
   "outputs": [
    {
     "name": "stdout",
     "output_type": "stream",
     "text": [
      "20.9 ns ± 0.0382 ns per loop (mean ± std. dev. of 7 runs, 10000000 loops each)\n"
     ]
    }
   ],
   "source": [
    "%timeit simulation_diff"
   ]
  },
  {
   "cell_type": "code",
   "execution_count": null,
   "id": "29c3449b",
   "metadata": {},
   "outputs": [],
   "source": []
  },
  {
   "cell_type": "code",
   "execution_count": null,
   "id": "4ac8ee48",
   "metadata": {},
   "outputs": [],
   "source": []
  },
  {
   "cell_type": "markdown",
   "id": "f946399f",
   "metadata": {},
   "source": [
    "# 2. SVD with sparse matrix"
   ]
  },
  {
   "cell_type": "code",
   "execution_count": 123,
   "id": "b95acb57",
   "metadata": {},
   "outputs": [],
   "source": [
    "array1 = np.array([0,1,0,1,0, 1,0,1,1,1,1,1, 0, 1, 0, 1], dtype = np.byte)\n",
    "array2 = np.array([0,0,0,0,0,1,0,1,1,0,1,1,0,1,0,1], dtype = np.byte)\n",
    "array3 = np.array([0,0,0,1,0,0,0,1,1,0,1,1,0,1,0,1], dtype = np.byte)\n",
    "array4 = np.array([0,1,0,0,0,0,0,1,1,0,1,1,0,1,0,1], dtype = np.byte)\n",
    "array5 = np.array([0,0,0,0,0,0,0,1,1,0,1,1,0,1,0,1], dtype = np.byte)\n",
    "array6 = np.array([0,0,1,0,1,0,0,1,1,0,1,1,0,1,0,1], dtype = np.byte)\n",
    "array7 = np.array([1,0,0,0,0,1,0,1,1,0,1,1,0,1,0,1], dtype = np.byte)"
   ]
  },
  {
   "cell_type": "code",
   "execution_count": 124,
   "id": "3fe58de2",
   "metadata": {},
   "outputs": [
    {
     "data": {
      "application/vnd.jupyter.widget-view+json": {
       "model_id": "6222ad5f1b534ba48bae6f0642530e76",
       "version_major": 2,
       "version_minor": 0
      },
      "text/plain": [
       "  0%|          | 0/9 [00:00<?, ?it/s]"
      ]
     },
     "metadata": {},
     "output_type": "display_data"
    },
    {
     "data": {
      "application/vnd.jupyter.widget-view+json": {
       "model_id": "835b83afd00743728608e438e1276ddf",
       "version_major": 2,
       "version_minor": 0
      },
      "text/plain": [
       "  0%|          | 0/6 [00:00<?, ?it/s]"
      ]
     },
     "metadata": {},
     "output_type": "display_data"
    },
    {
     "data": {
      "application/vnd.jupyter.widget-view+json": {
       "model_id": "525f364e3e214309a1573a21a6c508ab",
       "version_major": 2,
       "version_minor": 0
      },
      "text/plain": [
       "  0%|          | 0/6 [00:00<?, ?it/s]"
      ]
     },
     "metadata": {},
     "output_type": "display_data"
    },
    {
     "data": {
      "application/vnd.jupyter.widget-view+json": {
       "model_id": "37fc40b8189c4ca8a402cdbbce2baf2b",
       "version_major": 2,
       "version_minor": 0
      },
      "text/plain": [
       "  0%|          | 0/6 [00:00<?, ?it/s]"
      ]
     },
     "metadata": {},
     "output_type": "display_data"
    },
    {
     "data": {
      "application/vnd.jupyter.widget-view+json": {
       "model_id": "6ed6c443ae784142973dd1e0c46ac35d",
       "version_major": 2,
       "version_minor": 0
      },
      "text/plain": [
       "  0%|          | 0/5 [00:00<?, ?it/s]"
      ]
     },
     "metadata": {},
     "output_type": "display_data"
    },
    {
     "data": {
      "application/vnd.jupyter.widget-view+json": {
       "model_id": "b7c6784a65ff48b6aff6b6d2ba881fdd",
       "version_major": 2,
       "version_minor": 0
      },
      "text/plain": [
       "  0%|          | 0/7 [00:00<?, ?it/s]"
      ]
     },
     "metadata": {},
     "output_type": "display_data"
    },
    {
     "data": {
      "application/vnd.jupyter.widget-view+json": {
       "model_id": "d49e0b8ebb8648a9820b52986441c0c7",
       "version_major": 2,
       "version_minor": 0
      },
      "text/plain": [
       "  0%|          | 0/7 [00:00<?, ?it/s]"
      ]
     },
     "metadata": {},
     "output_type": "display_data"
    }
   ],
   "source": [
    "csr1 = simulation_diff(array1)\n",
    "csr2 = simulation_diff(array2)\n",
    "csr3 = simulation_diff(array3)\n",
    "csr4 = simulation_diff(array4)\n",
    "csr5 = simulation_diff(array5)\n",
    "csr6 = simulation_diff(array6)\n",
    "csr7 = simulation_diff(array7)\n"
   ]
  },
  {
   "cell_type": "code",
   "execution_count": 125,
   "id": "4aac38c2",
   "metadata": {},
   "outputs": [],
   "source": [
    "from scipy.sparse import vstack\n",
    "from scipy.sparse.linalg import svds"
   ]
  },
  {
   "cell_type": "code",
   "execution_count": 163,
   "id": "78f0a81c",
   "metadata": {},
   "outputs": [],
   "source": [
    "# We will have csr7 twice, because it can have min(M,N) - 1 singular vectors\n",
    "csr = vstack([csr1, csr2, csr3, csr4, csr5, csr6, csr7, csr7]).astype(np.float16)"
   ]
  },
  {
   "cell_type": "code",
   "execution_count": 164,
   "id": "10530e0e",
   "metadata": {},
   "outputs": [],
   "source": [
    "u3, s3, vT3 = svds(csc_matrix(csr), k = 7, which  = 'LM')"
   ]
  },
  {
   "cell_type": "code",
   "execution_count": 165,
   "id": "ca1df206",
   "metadata": {},
   "outputs": [],
   "source": [
    "vT3_csc = csc_matrix(vT3)"
   ]
  },
  {
   "cell_type": "code",
   "execution_count": 166,
   "id": "e2e54e17",
   "metadata": {},
   "outputs": [],
   "source": [
    "from scipy.linalg import inv\n",
    "inv_csc = csc_matrix(inv(vT3 @ vT3.T))"
   ]
  },
  {
   "cell_type": "code",
   "execution_count": 167,
   "id": "143704b1",
   "metadata": {},
   "outputs": [],
   "source": [
    "proj = vT3_csc.T @ inv_csc @ vT3_csc"
   ]
  },
  {
   "cell_type": "code",
   "execution_count": 168,
   "id": "4c53dd39",
   "metadata": {},
   "outputs": [
    {
     "data": {
      "text/plain": [
       "(1, 65536)"
      ]
     },
     "execution_count": 168,
     "metadata": {},
     "output_type": "execute_result"
    }
   ],
   "source": [
    "csr1.shape"
   ]
  },
  {
   "cell_type": "code",
   "execution_count": 169,
   "id": "98e6d25d",
   "metadata": {},
   "outputs": [],
   "source": [
    "proj_1 = proj @ csr1.T"
   ]
  },
  {
   "cell_type": "code",
   "execution_count": 174,
   "id": "8ef01c4c",
   "metadata": {},
   "outputs": [
    {
     "data": {
      "text/plain": [
       "array([1, 0, 1, ..., 0, 0, 0], dtype=int8)"
      ]
     },
     "execution_count": 174,
     "metadata": {},
     "output_type": "execute_result"
    }
   ],
   "source": [
    "proj_1.rint().astype(np.byte).toarray().reshape(-1)"
   ]
  },
  {
   "cell_type": "code",
   "execution_count": 184,
   "id": "79eab58f",
   "metadata": {},
   "outputs": [
    {
     "data": {
      "text/plain": [
       "True"
      ]
     },
     "execution_count": 184,
     "metadata": {},
     "output_type": "execute_result"
    }
   ],
   "source": [
    "np.allclose(proj_1.toarray().reshape(-1), csr1.toarray().astype(np.float32), atol = 1e-3)"
   ]
  },
  {
   "cell_type": "code",
   "execution_count": 185,
   "id": "b918006a",
   "metadata": {},
   "outputs": [
    {
     "data": {
      "text/plain": [
       "True"
      ]
     },
     "execution_count": 185,
     "metadata": {},
     "output_type": "execute_result"
    }
   ],
   "source": [
    "np.allclose(proj = vT3_csc.T @ inv_csc @ vT3_csc, csr2.toarray().astype(np.float32), atol = 1e-3)"
   ]
  },
  {
   "cell_type": "code",
   "execution_count": null,
   "id": "df408774",
   "metadata": {},
   "outputs": [],
   "source": []
  },
  {
   "cell_type": "markdown",
   "id": "af0ba212",
   "metadata": {},
   "source": [
    "# 3. Example with 4 binary variables"
   ]
  },
  {
   "cell_type": "markdown",
   "id": "1885de1d",
   "metadata": {},
   "source": [
    "Suppose we have a CluserRegression() estimator that generated the following segmentation:\n",
    "\n",
    "| segment id | barcode_id |\n",
    "|:---:|:---:|\n",
    "|1    | 0, 3, 2, 11, 15|\n",
    "|2    | 1, 5, 8, 9, 13, 14|\n",
    "|3    | 4, 6, 7, 10, 12|"
   ]
  },
  {
   "cell_type": "code",
   "execution_count": 208,
   "id": "601bb016",
   "metadata": {},
   "outputs": [],
   "source": [
    "import pandas as pd\n",
    "segment_id = [1 for _ in range(5)] + [2 for _ in range(6)] + [3 for _ in range(5)]\n",
    "barcode_id = [0,3,2,11,15]         + [1, 5, 8, 9, 13, 14]  + [4, 6, 7, 10, 12]\n",
    "df = pd.DataFrame(zip(segment_id, barcode_id), columns = ['segment_id','barcode_id'])"
   ]
  },
  {
   "cell_type": "code",
   "execution_count": 215,
   "id": "122fa84f",
   "metadata": {},
   "outputs": [],
   "source": [
    "def return_sequence(i:int, length:int)->list:\n",
    "    binary = bin(i)[2:]\n",
    "    while len(binary) < length:\n",
    "        binary = '0' + binary\n",
    "    return [int(x) for x in list(binary)]\n",
    "\n",
    "from functools import partial\n",
    "\n",
    "lambda_1 = partial(return_sequence, length = 4)"
   ]
  },
  {
   "cell_type": "code",
   "execution_count": 221,
   "id": "cb507ee9",
   "metadata": {},
   "outputs": [],
   "source": [
    "result = df.barcode_id.apply(lambda_1)"
   ]
  },
  {
   "cell_type": "code",
   "execution_count": 252,
   "id": "ceb945f4",
   "metadata": {},
   "outputs": [],
   "source": [
    "def simulation_sim(sample_array):\n",
    "    sample_array = np.array(sample_array, dtype = np.byte)\n",
    "    result = sample_array.copy()\n",
    "    n = sample_array.shape[0] + 1\n",
    "    for i in range(2, n):\n",
    "        m = starmap(prod, combinations(sample_array.tolist(), i))\n",
    "        result = np.hstack((result, np.array(list(m), dtype = np.byte)))\n",
    "    simple_result = np.insert(result, 0, 1)\n",
    "    return simple_result"
   ]
  },
  {
   "cell_type": "code",
   "execution_count": 254,
   "id": "0c3747f7",
   "metadata": {},
   "outputs": [],
   "source": [
    "result_expand = result.apply(simulation_sim)"
   ]
  },
  {
   "cell_type": "code",
   "execution_count": 429,
   "id": "6cb24b08",
   "metadata": {},
   "outputs": [],
   "source": [
    "def pairwise_distance(array)-> np.ndarray:\n",
    "    p = len(array.reset_index(drop = True)[0])\n",
    "    combinations_result = list(combinations(array, 2))\n",
    "    result = []\n",
    "    for t in combinations_result:\n",
    "        result.append([(x-y) for x,y in zip(t[0],t[1])])\n",
    "    return csc_matrix(np.array(result))"
   ]
  },
  {
   "cell_type": "code",
   "execution_count": 430,
   "id": "78d35d3a",
   "metadata": {},
   "outputs": [],
   "source": [
    "csc1 = pairwise_distance(result_expand[:5])\n",
    "csc2 = pairwise_distance(result_expand[5:11])\n",
    "csc3 = pairwise_distance(result_expand[11:])"
   ]
  },
  {
   "cell_type": "code",
   "execution_count": 431,
   "id": "d15dce19",
   "metadata": {},
   "outputs": [],
   "source": [
    "csc = vstack([csc1, csc2, csc3, csc3]).astype(np.float32)"
   ]
  },
  {
   "cell_type": "code",
   "execution_count": 432,
   "id": "3d2e3665",
   "metadata": {},
   "outputs": [],
   "source": [
    "# parameter space is 13 (16 -3)\n",
    "u3, s3, vT3 = svds(csc, k = 13, which  = 'LM')"
   ]
  },
  {
   "cell_type": "code",
   "execution_count": 433,
   "id": "14578f96",
   "metadata": {},
   "outputs": [],
   "source": [
    "A3 = u3 @ np.diag(s3) @ vT3"
   ]
  },
  {
   "cell_type": "code",
   "execution_count": 454,
   "id": "1fb5d5af",
   "metadata": {},
   "outputs": [
    {
     "data": {
      "text/plain": [
       "True"
      ]
     },
     "execution_count": 454,
     "metadata": {},
     "output_type": "execute_result"
    }
   ],
   "source": [
    "np.allclose(A3, csc.toarray(), atol = 1e-4)"
   ]
  },
  {
   "cell_type": "markdown",
   "id": "e9b2c3c9",
   "metadata": {},
   "source": [
    "Projection with each unit vectors to see if they are in the parameter space"
   ]
  },
  {
   "cell_type": "code",
   "execution_count": 440,
   "id": "b1dc1542",
   "metadata": {},
   "outputs": [],
   "source": [
    "vT3_csc = csc_matrix(vT3)\n",
    "inv_csc = csc_matrix(inv(vT3 @ vT3.T))\n",
    "proj = vT3_csc.T @ inv_csc @ vT3_csc"
   ]
  },
  {
   "cell_type": "code",
   "execution_count": 448,
   "id": "211fa05e",
   "metadata": {},
   "outputs": [
    {
     "data": {
      "text/plain": [
       "array([-0., -0.,  0.,  0., -0.,  0.,  0.,  0.,  1., -0.,  0., -0., -0.,\n",
       "       -0.,  0.,  0.], dtype=float32)"
      ]
     },
     "execution_count": 448,
     "metadata": {},
     "output_type": "execute_result"
    }
   ],
   "source": [
    "np.round(proj.getcol(8).toarray().reshape(-1), 3)"
   ]
  },
  {
   "cell_type": "code",
   "execution_count": 428,
   "id": "891bb59b",
   "metadata": {},
   "outputs": [
    {
     "data": {
      "text/plain": [
       "array([1, 0, 0, 1, 1, 0, 0, 0, 0, 0, 1, 0, 0, 0, 0, 0], dtype=int8)"
      ]
     },
     "execution_count": 428,
     "metadata": {},
     "output_type": "execute_result"
    }
   ],
   "source": [
    "sample(result_expand[1]"
   ]
  },
  {
   "cell_type": "code",
   "execution_count": null,
   "id": "7ee6a60c",
   "metadata": {},
   "outputs": [],
   "source": []
  }
 ],
 "metadata": {
  "kernelspec": {
   "display_name": "Python 3 (ipykernel)",
   "language": "python",
   "name": "python3"
  },
  "language_info": {
   "codemirror_mode": {
    "name": "ipython",
    "version": 3
   },
   "file_extension": ".py",
   "mimetype": "text/x-python",
   "name": "python",
   "nbconvert_exporter": "python",
   "pygments_lexer": "ipython3",
   "version": "3.9.13"
  }
 },
 "nbformat": 4,
 "nbformat_minor": 5
}
