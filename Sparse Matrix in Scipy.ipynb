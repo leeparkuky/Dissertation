{
 "cells": [
  {
   "cell_type": "code",
   "execution_count": 9,
   "id": "729bf6cd",
   "metadata": {},
   "outputs": [],
   "source": [
    "import numpy as np\n",
    "from scipy.sparse import csr_array\n",
    "from itertools import combinations, starmap"
   ]
  },
  {
   "cell_type": "markdown",
   "id": "a2bc8b69",
   "metadata": {},
   "source": [
    "#### Objective 1\n",
    "* We first want to represent p binary variables into 2^p sequence of 0 and 1\n",
    "* Example: \n",
    "\\[0,1,0,1\\] $\\rightarrow$ \\[0,1,0,1,0,0,0,0,1,0,0,0,0,0\\]"
   ]
  },
  {
   "cell_type": "code",
   "execution_count": 74,
   "id": "200ab6f4",
   "metadata": {},
   "outputs": [],
   "source": [
    "def prod(*args):\n",
    "    return np.prod(args)"
   ]
  },
  {
   "cell_type": "code",
   "execution_count": 94,
   "id": "70e49a4b",
   "metadata": {},
   "outputs": [],
   "source": [
    "from tqdm.notebook import trange"
   ]
  },
  {
   "cell_type": "code",
   "execution_count": 252,
   "id": "7945d543",
   "metadata": {},
   "outputs": [
    {
     "data": {
      "application/vnd.jupyter.widget-view+json": {
       "model_id": "2ff176e144c149a48c2fb29a5edaac62",
       "version_major": 2,
       "version_minor": 0
      },
      "text/plain": [
       "  0%|          | 0/15 [00:00<?, ?it/s]"
      ]
     },
     "metadata": {},
     "output_type": "display_data"
    }
   ],
   "source": [
    "# simple way\n",
    "sample_array = np.array([0,1,0,1,0, 1,0,1,1,1,1,1, 0, 1, 0, 1], dtype = np.byte)\n",
    "result = sample_array.copy()\n",
    "n = sample_array.shape[0] + 1\n",
    "for i in trange(2, n):\n",
    "    m = starmap(prod, combinations(sample_array.tolist(), i))\n",
    "    result = np.hstack((result, np.array(list(m), dtype = np.byte)))\n",
    "simple_result = np.insert(result, 0, 1)"
   ]
  },
  {
   "cell_type": "code",
   "execution_count": 246,
   "id": "9a1f1eb4",
   "metadata": {},
   "outputs": [],
   "source": [
    "# time the process\n",
    "def simulation_sim():\n",
    "    sample_array = np.array([0,1,0,1,0, 1,0,1,1,1,1,1, 0, 1, 0, 1], dtype = np.byte)\n",
    "    result = sample_array.copy()\n",
    "    n = sample_array.shape[0] + 1\n",
    "    for i in trange(2, n):\n",
    "        m = starmap(prod, combinations(sample_array.tolist(), i))\n",
    "        result = np.hstack((result, np.array(list(m), dtype = np.byte)))\n",
    "    simple_result = np.insert(result, 0, 1)\n",
    "    return simple_result"
   ]
  },
  {
   "cell_type": "code",
   "execution_count": 231,
   "id": "b890e68a",
   "metadata": {},
   "outputs": [
    {
     "name": "stdout",
     "output_type": "stream",
     "text": [
      "19.7 ns ± 0.0803 ns per loop (mean ± std. dev. of 7 runs, 10000000 loops each)\n"
     ]
    }
   ],
   "source": [
    "%timeit simulation_sim"
   ]
  },
  {
   "cell_type": "code",
   "execution_count": null,
   "id": "91a0c47f",
   "metadata": {},
   "outputs": [],
   "source": []
  },
  {
   "cell_type": "code",
   "execution_count": null,
   "id": "46381400",
   "metadata": {},
   "outputs": [],
   "source": []
  },
  {
   "cell_type": "code",
   "execution_count": 163,
   "id": "311a5d1c",
   "metadata": {},
   "outputs": [],
   "source": [
    "def sum_string(*args):\n",
    "    string = args[0]\n",
    "    for i in range(1, len(args)):\n",
    "        string = '*'.join([string, args[i]])\n",
    "    return string"
   ]
  },
  {
   "cell_type": "code",
   "execution_count": 247,
   "id": "46ae63f9",
   "metadata": {},
   "outputs": [
    {
     "data": {
      "application/vnd.jupyter.widget-view+json": {
       "model_id": "af2d0c4769eb4f69bf08f0d5032b41a1",
       "version_major": 2,
       "version_minor": 0
      },
      "text/plain": [
       "  0%|          | 0/15 [00:00<?, ?it/s]"
      ]
     },
     "metadata": {},
     "output_type": "display_data"
    }
   ],
   "source": [
    "# Hard way of expanding it using sparse matrix\n",
    "sample_array = np.array([0,1,0,1,0, 1,0,1,1,1,1,1, 0, 1, 0, 1], dtype = np.byte)\n",
    "result = sample_array.copy()\n",
    "main_list = [f\"X{i}\" for i in range(len(sample_array))]\n",
    "index_list = main_list.copy()\n",
    "n = len(main_list) + 1\n",
    "for i in trange(2, n):\n",
    "    m = starmap(sum_string, combinations(main_list, i))\n",
    "    index_list = index_list + list(m)"
   ]
  },
  {
   "cell_type": "code",
   "execution_count": 248,
   "id": "36d750c9",
   "metadata": {},
   "outputs": [
    {
     "data": {
      "text/plain": [
       "16"
      ]
     },
     "execution_count": 248,
     "metadata": {},
     "output_type": "execute_result"
    }
   ],
   "source": [
    "len(sample_array)"
   ]
  },
  {
   "cell_type": "code",
   "execution_count": 259,
   "id": "52812da4",
   "metadata": {},
   "outputs": [
    {
     "data": {
      "application/vnd.jupyter.widget-view+json": {
       "model_id": "901b48d9e114437489e70894e4f99ef6",
       "version_major": 2,
       "version_minor": 0
      },
      "text/plain": [
       "  0%|          | 0/9 [00:00<?, ?it/s]"
      ]
     },
     "metadata": {},
     "output_type": "display_data"
    }
   ],
   "source": [
    "ones_index_main = [f\"X{i}\" for i in np.where(sample_array == 1)[0]]\n",
    "ones_index = ones_index_main.copy()\n",
    "n = len(ones_index_main)+1\n",
    "for i in trange(2, n):\n",
    "    m = starmap(sum_string, combinations(ones_index_main, i))\n",
    "    ones_index = ones_index + list(m)\n",
    "col = np.array([index_list.index(index)+1 for index in ones_index])\n",
    "col = np.insert(col, 0, 0)\n",
    "row = np.zeros((len(col),), dtype = np.byte)\n",
    "data = np.ones((len(col),), dtype = np.byte)\n",
    "csr_result = csr_array((data, (row, col)), shape=(1, 2**16))"
   ]
  },
  {
   "cell_type": "markdown",
   "id": "00412e7e",
   "metadata": {},
   "source": [
    "## Point 1: Why we use the sparse matrix: MEMORY!"
   ]
  },
  {
   "cell_type": "code",
   "execution_count": 262,
   "id": "727e258b",
   "metadata": {},
   "outputs": [],
   "source": [
    "import sys"
   ]
  },
  {
   "cell_type": "code",
   "execution_count": 266,
   "id": "d2693d40",
   "metadata": {},
   "outputs": [
    {
     "data": {
      "text/plain": [
       "(65640, 48)"
      ]
     },
     "execution_count": 266,
     "metadata": {},
     "output_type": "execute_result"
    }
   ],
   "source": [
    "sys.getsizeof(simple_result), sys.getsizeof(csr_result)"
   ]
  },
  {
   "cell_type": "code",
   "execution_count": 256,
   "id": "1842ca4a",
   "metadata": {},
   "outputs": [],
   "source": [
    "def simulation_diff(index_list = index_list):\n",
    "    ones_index_main = [f\"X{i}\" for i in np.where(sample_array == 1)[0]]\n",
    "    ones_index = ones_index_main.copy()\n",
    "    n = len(ones_index_main)+1\n",
    "    for i in trange(2, n):\n",
    "        m = starmap(sum_string, combinations(ones_index_main, i))\n",
    "        ones_index = ones_index + list(m)\n",
    "    col = np.array([index_list.index(index)+1 for index in ones_index])\n",
    "    col = np.insert(col, 0, 0)\n",
    "    row = np.zeros((len(col),), dtype = np.byte)\n",
    "    data = np.ones((len(col),), dtype = np.byte)\n",
    "    csr_result = csr_array((data, (row, col)), shape=(1, 2**16))"
   ]
  },
  {
   "cell_type": "markdown",
   "id": "c0334d1e",
   "metadata": {},
   "source": [
    "## Point 2: Why we use the sparse matrix: Speed!"
   ]
  },
  {
   "cell_type": "code",
   "execution_count": 257,
   "id": "017938c0",
   "metadata": {
    "scrolled": true
   },
   "outputs": [
    {
     "name": "stdout",
     "output_type": "stream",
     "text": [
      "19.8 ns ± 0.0825 ns per loop (mean ± std. dev. of 7 runs, 10000000 loops each)\n"
     ]
    }
   ],
   "source": [
    "%timeit simulation_sim"
   ]
  },
  {
   "cell_type": "code",
   "execution_count": 258,
   "id": "9dbf3222",
   "metadata": {},
   "outputs": [
    {
     "name": "stdout",
     "output_type": "stream",
     "text": [
      "18.8 ns ± 0.0568 ns per loop (mean ± std. dev. of 7 runs, 10000000 loops each)\n"
     ]
    }
   ],
   "source": [
    "%timeit simulation_diff"
   ]
  }
 ],
 "metadata": {
  "kernelspec": {
   "display_name": "Python 3 (ipykernel)",
   "language": "python",
   "name": "python3"
  },
  "language_info": {
   "codemirror_mode": {
    "name": "ipython",
    "version": 3
   },
   "file_extension": ".py",
   "mimetype": "text/x-python",
   "name": "python",
   "nbconvert_exporter": "python",
   "pygments_lexer": "ipython3",
   "version": "3.9.13"
  }
 },
 "nbformat": 4,
 "nbformat_minor": 5
}
