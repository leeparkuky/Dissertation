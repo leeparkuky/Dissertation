{
 "cells": [
  {
   "cell_type": "code",
   "execution_count": 1,
   "id": "8f84ed92",
   "metadata": {},
   "outputs": [],
   "source": [
    "import numpy as np\n",
    "import pandas as pd\n",
    "# plotting\n",
    "import matplotlib.pyplot as plt\n",
    "import seaborn as sns\n",
    "# custom packages\n",
    "from Dissertation import RandomGenerator, convert_to_int, get_order_index\n",
    "from utils import *\n",
    "from estimators import ClusteredSegmentation\n",
    "from BarcodeScanner import barcodeScanner\n",
    "# scipy\n",
    "import scipy\n",
    "from scipy.sparse import vstack, identity, csr_array, vstack, csc_matrix\n",
    "from scipy.sparse.linalg import svds, inv\n",
    "from scipy.stats import f, ncf\n",
    "from scipy.spatial.distance import mahalanobis, euclidean\n",
    "# sklearn\n",
    "from sklearn.metrics import r2_score\n",
    "from sklearn.model_selection import train_test_split\n",
    "# others\n",
    "from tqdm.notebook import trange\n",
    "from itertools import combinations, starmap\n",
    "from functools import partial"
   ]
  },
  {
   "cell_type": "code",
   "execution_count": 2,
   "id": "6aa5c868",
   "metadata": {},
   "outputs": [
    {
     "data": {
      "text/plain": [
       "(0.698257768900144,\n",
       " 0.6818997226460326,\n",
       " 0.6872395759336448,\n",
       " 0.05421198814128879,\n",
       " 0.0398415817561444)"
      ]
     },
     "execution_count": 2,
     "metadata": {},
     "output_type": "execute_result"
    }
   ],
   "source": [
    "rg = RandomGenerator(4, 5_000, order_by = 'var', use_dask = False, verbose= False)\n",
    "X = rg._X.loc[:,rg._X.columns.str.contains('X')].apply(convert_to_int, axis = 1).to_numpy().reshape(-1,1)\n",
    "y = rg()['y'].to_numpy().reshape(-1,1)\n",
    "X_train, X_test, y_train, y_test = train_test_split(X, y, test_size =  .20, random_state = 1)\n",
    "cluster = ClusteredSegmentation(n_clusters = 4)\n",
    "cluster.fit(X_train, y_train)\n",
    "tau = cluster.tau_metric\n",
    "y_pred_exist = []\n",
    "y_test_exist = []\n",
    "for i, x in enumerate(X_test.reshape(-1)):\n",
    "    try:\n",
    "        y_pred_exist.append(cluster.predict(x))\n",
    "        y_test_exist.append(y_test[i][0])\n",
    "    except:\n",
    "        pass\n",
    "test_r2 = r2_score(y_test_exist, y_pred = y_pred_exist)\n",
    "tau.r_sqf, tau.r_sqr, test_r2, tau.tau_est, tau.tau_LB"
   ]
  },
  {
   "cell_type": "code",
   "execution_count": 3,
   "id": "62dca0e2",
   "metadata": {},
   "outputs": [
    {
     "data": {
      "text/plain": [
       "array([[   0,   41],\n",
       "       [   1,    2],\n",
       "       [   3, 4001],\n",
       "       ...,\n",
       "       [7989, 7995],\n",
       "       [7994, 7996],\n",
       "       [7993, 7997]])"
      ]
     },
     "execution_count": 3,
     "metadata": {},
     "output_type": "execute_result"
    }
   ],
   "source": [
    "cluster.clusterer_.children_"
   ]
  },
  {
   "cell_type": "code",
   "execution_count": 4,
   "id": "3c54e09f",
   "metadata": {},
   "outputs": [
    {
     "ename": "IndexError",
     "evalue": "index 4003 is out of bounds for axis 0 with size 4000",
     "output_type": "error",
     "traceback": [
      "\u001b[0;31m---------------------------------------------------------------------------\u001b[0m",
      "\u001b[0;31mIndexError\u001b[0m                                Traceback (most recent call last)",
      "\u001b[0;32m/var/folders/xj/07knx1_11gl5w1nv4tg4xr000000gn/T/ipykernel_14118/1450432651.py\u001b[0m in \u001b[0;36m<module>\u001b[0;34m\u001b[0m\n\u001b[0;32m----> 1\u001b[0;31m \u001b[0my_train\u001b[0m\u001b[0;34m[\u001b[0m\u001b[0mcluster\u001b[0m\u001b[0;34m.\u001b[0m\u001b[0mclusterer_\u001b[0m\u001b[0;34m.\u001b[0m\u001b[0mchildren_\u001b[0m\u001b[0;34m[\u001b[0m\u001b[0;36m5\u001b[0m\u001b[0;34m]\u001b[0m\u001b[0;34m,\u001b[0m\u001b[0;34m:\u001b[0m\u001b[0;34m]\u001b[0m\u001b[0;34m\u001b[0m\u001b[0;34m\u001b[0m\u001b[0m\n\u001b[0m",
      "\u001b[0;31mIndexError\u001b[0m: index 4003 is out of bounds for axis 0 with size 4000"
     ]
    }
   ],
   "source": [
    "y_train[cluster.clusterer_.children_[5],:]"
   ]
  },
  {
   "cell_type": "code",
   "execution_count": null,
   "id": "d772b419",
   "metadata": {},
   "outputs": [],
   "source": [
    "cluster.clusterer_.compute_full_tree()"
   ]
  },
  {
   "cell_type": "markdown",
   "id": "1e5cf15f",
   "metadata": {},
   "source": [
    "C space -> C^T (CC^T)-1 C <- proj_C    P LAmb PT"
   ]
  },
  {
   "cell_type": "markdown",
   "id": "c5497de1",
   "metadata": {},
   "source": [
    "# Barcode"
   ]
  },
  {
   "cell_type": "code",
   "execution_count": 5,
   "id": "1bbcab5d",
   "metadata": {},
   "outputs": [],
   "source": [
    "from scipy.linalg import qr"
   ]
  },
  {
   "cell_type": "code",
   "execution_count": 6,
   "id": "14057ead",
   "metadata": {},
   "outputs": [
    {
     "data": {
      "text/plain": [
       "(<12x16 sparse matrix of type '<class 'numpy.int8'>'\n",
       " \twith 50 stored elements in Compressed Sparse Row format>,\n",
       " None)"
      ]
     },
     "execution_count": 6,
     "metadata": {},
     "output_type": "execute_result"
    }
   ],
   "source": [
    "scanner = barcodeScanner(estimator = cluster, config = rg.config)\n",
    "scanner.raw_contrast, scanner.missingPairsMLE()"
   ]
  },
  {
   "cell_type": "code",
   "execution_count": 7,
   "id": "3d969d11",
   "metadata": {},
   "outputs": [],
   "source": [
    "count_non_zero = []\n",
    "for i in range(scanner.raw_contrast.shape[0]):\n",
    "    c = scanner.raw_contrast.getrow(i).count_nonzero()\n",
    "    count_non_zero.append(c)"
   ]
  },
  {
   "cell_type": "code",
   "execution_count": 8,
   "id": "7fa10fc8",
   "metadata": {},
   "outputs": [
    {
     "name": "stderr",
     "output_type": "stream",
     "text": [
      "/Users/gradcheckout/opt/anaconda3/lib/python3.9/site-packages/seaborn/_decorators.py:36: FutureWarning: Pass the following variable as a keyword arg: x. From version 0.12, the only valid positional argument will be `data`, and passing other arguments without an explicit keyword will result in an error or misinterpretation.\n",
      "  warnings.warn(\n"
     ]
    },
    {
     "data": {
      "image/png": "[encoded data removed]",
      "text/plain": [
       "<Figure size 1500x500 with 2 Axes>"
      ]
     },
     "metadata": {},
     "output_type": "display_data"
    }
   ],
   "source": [
    "fig, (ax1, ax2) = plt.subplots(1, 2, figsize = (15, 5))\n",
    "sns.histplot(count_non_zero, ax = ax1)\n",
    "sns.boxplot(count_non_zero, ax = ax2)\n",
    "plt.show()"
   ]
  },
  {
   "cell_type": "code",
   "execution_count": 9,
   "id": "1a5c47e6",
   "metadata": {},
   "outputs": [],
   "source": [
    "contrasts = vstack([scanner.raw_contrast, scanner.missingPairsMLE()]).astype(np.float64)\n",
    "q, r = qr(contrasts.T.toarray()) # QR decomposition of 1024 x 1014\n",
    "NULL = q[:, :12]\n",
    "PARAM = q[:,12:] # selection of orthonormal basis spanning null space\n",
    "P_p = PARAM@PARAM.T # projection matrix to the parameter space\n",
    "P_n = NULL @ NULL.T # projection matrix to the null space\n",
    "identity_csc = identity(2**4) # defining identity matrix\n",
    "VI_p =  (identity_csc - P_p)\n",
    "VI_n = (identity_csc - P_n)"
   ]
  },
  {
   "cell_type": "markdown",
   "id": "3b7929ed",
   "metadata": {},
   "source": [
    "## Method 1: Forward Selection"
   ]
  },
  {
   "cell_type": "code",
   "execution_count": 10,
   "id": "0acae9a5",
   "metadata": {},
   "outputs": [],
   "source": [
    "def find_max_index(selected, sign, size = 4, return_plot = True):\n",
    "    tested_index  = []\n",
    "    tested_sign   = []\n",
    "    p_distance    = []\n",
    "    null_distance = []\n",
    "    array = np.zeros(2**size, dtype = np.byte)\n",
    "    positive_selected = [x for x, y in zip(selected, sign) if y == 1]\n",
    "    negative_selected = [x for x, y in zip(selected, sign) if y == -1]\n",
    "    array[positive_selected] = 1\n",
    "    array[negative_selected] = -1\n",
    "\n",
    "    for i in range(2**size):\n",
    "        if i in selected:\n",
    "            pass\n",
    "        else:\n",
    "            test_array = array.copy()\n",
    "            tested_sign.append(1)\n",
    "            tested_index.append(i)\n",
    "            test_array[i] = 1\n",
    "            l2_norm = np.sqrt(sum([abs(x) for x in test_array]))\n",
    "            normed_test_array = test_array/l2_norm\n",
    "\n",
    "            p_distance.append((normed_test_array @ VI_p @ normed_test_array.T)[0,0])\n",
    "            null_distance.append((normed_test_array @ VI_n @ normed_test_array.T)[0,0])\n",
    "\n",
    "            tested_sign.append(-1)\n",
    "            tested_index.append(i)\n",
    "            test_array[i] = -1\n",
    "            normed_test_array = test_array/l2_norm\n",
    "            p_distance.append((normed_test_array @ VI_p @ normed_test_array.T)[0,0])\n",
    "            null_distance.append((normed_test_array @ VI_n @ normed_test_array.T)[0,0])\n",
    "    df = pd.DataFrame(zip(tested_index, tested_sign, p_distance, null_distance), columns = ['var_selected', 'sign','p_distance','null_distance'])\n",
    "    if return_plot:\n",
    "        sns.scatterplot(data = df, x = 'p_distance',y = 'null_distance', hue = 'sign')\n",
    "        plt.show()\n",
    "    return df.sort_values('null_distance').reset_index(drop = True)"
   ]
  },
  {
   "cell_type": "code",
   "execution_count": 11,
   "id": "b274e7ea",
   "metadata": {},
   "outputs": [],
   "source": [
    "# selected = [x for x in range(11)]\n",
    "# sign     = [1 for x in range(11)]\n",
    "selected = [0]\n",
    "sign = [1]"
   ]
  },
  {
   "cell_type": "code",
   "execution_count": 12,
   "id": "a3069c57",
   "metadata": {},
   "outputs": [],
   "source": [
    "# result = find_max_index(selected, sign, return_plot = False)\n",
    "# result"
   ]
  },
  {
   "cell_type": "code",
   "execution_count": 13,
   "id": "2f2cdda9",
   "metadata": {},
   "outputs": [],
   "source": [
    "# selected += [1, 2, 3, 4]\n",
    "# sign += [-1, 1, 1, 1]"
   ]
  },
  {
   "cell_type": "code",
   "execution_count": 14,
   "id": "27285708",
   "metadata": {},
   "outputs": [],
   "source": [
    "for _ in range(6):\n",
    "    result = find_max_index(selected, sign, return_plot = False).tail(1).values[0]\n",
    "    selected += [int(result[0])]\n",
    "    sign += [result[1]]"
   ]
  },
  {
   "cell_type": "code",
   "execution_count": 15,
   "id": "5218a277",
   "metadata": {},
   "outputs": [
    {
     "data": {
      "text/plain": [
       "[0, 10, 4, 14, 15, 8, 2]"
      ]
     },
     "execution_count": 15,
     "metadata": {},
     "output_type": "execute_result"
    }
   ],
   "source": [
    "selected"
   ]
  },
  {
   "cell_type": "code",
   "execution_count": 16,
   "id": "e9002252",
   "metadata": {},
   "outputs": [],
   "source": [
    "p_distance_forward = result[2]\n",
    "null_distance_forward = result[3]"
   ]
  },
  {
   "cell_type": "code",
   "execution_count": 17,
   "id": "c9021882",
   "metadata": {},
   "outputs": [
    {
     "data": {
      "text/plain": [
       "(0.11520737327188948, 0.8847926267281105)"
      ]
     },
     "execution_count": 17,
     "metadata": {},
     "output_type": "execute_result"
    }
   ],
   "source": [
    "p_distance_forward, null_distance_forward"
   ]
  },
  {
   "cell_type": "code",
   "execution_count": null,
   "id": "6f9774dd",
   "metadata": {},
   "outputs": [],
   "source": []
  },
  {
   "cell_type": "code",
   "execution_count": null,
   "id": "e32551f9",
   "metadata": {},
   "outputs": [],
   "source": []
  },
  {
   "cell_type": "markdown",
   "id": "46f07175",
   "metadata": {},
   "source": [
    "#### True model vs Variable Selection by ClusterEstimator"
   ]
  },
  {
   "cell_type": "code",
   "execution_count": 18,
   "id": "4d1495b9",
   "metadata": {},
   "outputs": [],
   "source": [
    "df = rg._X.copy()"
   ]
  },
  {
   "cell_type": "markdown",
   "id": "c64fa42d",
   "metadata": {},
   "source": [
    "#### 1. True Model"
   ]
  },
  {
   "cell_type": "code",
   "execution_count": 19,
   "id": "fda029b3",
   "metadata": {},
   "outputs": [
    {
     "data": {
      "text/plain": [
       "{'X_0': -1.6745377957339609,\n",
       " 'X_1': 6.1393880960682825,\n",
       " 'X_2': 6.198902629282587,\n",
       " 'X_3': -7.086017900547954,\n",
       " 'X_1X_2': 10.854550295034176,\n",
       " 'X_1X_3': -6.895957043885426,\n",
       " 'X_2X_3': 4.106749285630218,\n",
       " 'X_0X_1X_2': 1.9547654475934753,\n",
       " 'X_0X_2X_3': 9.403922374360903,\n",
       " 'X_0X_1X_3': -2.83689264827225,\n",
       " 'intercept': 8.386934961526222}"
      ]
     },
     "execution_count": 19,
     "metadata": {},
     "output_type": "execute_result"
    }
   ],
   "source": [
    "rg.config.coefficients"
   ]
  },
  {
   "cell_type": "code",
   "execution_count": 20,
   "id": "1ad50e35",
   "metadata": {},
   "outputs": [],
   "source": [
    "selected = [0] + [scanner.var_names_all.index(key)+ 1 for key, val in rg.config.coefficients.items() if key != 'intercept']\n",
    "sign = [1, 1, 1, 1, 1, 1, 1]\n",
    "array = np.zeros(2**4, dtype = np.byte)\n",
    "positive_selected = [x for x, y in zip(selected, sign) if y == 1]\n",
    "negative_selected = [x for x, y in zip(selected, sign) if y == -1]\n",
    "array[positive_selected] = 1\n",
    "array[negative_selected] = -1\n"
   ]
  },
  {
   "cell_type": "code",
   "execution_count": 21,
   "id": "efaf17d4",
   "metadata": {},
   "outputs": [
    {
     "data": {
      "text/plain": [
       "[0, 1, 2, 3, 4, 8, 9, 10, 11, 13, 12]"
      ]
     },
     "execution_count": 21,
     "metadata": {},
     "output_type": "execute_result"
    }
   ],
   "source": [
    "selected"
   ]
  },
  {
   "cell_type": "code",
   "execution_count": 22,
   "id": "24e7ea8f",
   "metadata": {},
   "outputs": [],
   "source": [
    "norm_array = array/np.sqrt(len(selected))"
   ]
  },
  {
   "cell_type": "code",
   "execution_count": 23,
   "id": "e52330e9",
   "metadata": {},
   "outputs": [],
   "source": [
    "p_distance_true = (norm_array @ VI_p @ norm_array.T)[0,0]\n",
    "null_distance_true = (norm_array @ VI_n @ norm_array.T)[0,0]"
   ]
  },
  {
   "cell_type": "code",
   "execution_count": 24,
   "id": "83e92760",
   "metadata": {
    "scrolled": true
   },
   "outputs": [
    {
     "data": {
      "text/plain": [
       "(0.4574780058651027, 0.1788856304985338)"
      ]
     },
     "execution_count": 24,
     "metadata": {},
     "output_type": "execute_result"
    }
   ],
   "source": [
    "p_distance_true, null_distance_true"
   ]
  },
  {
   "cell_type": "code",
   "execution_count": 25,
   "id": "c1ce6e4e",
   "metadata": {},
   "outputs": [],
   "source": [
    "df['X_1X_2'] = df.X_1 * df.X_2\n",
    "df['X_0X_1X_3'] = df.X_0 * df.X_1 * df.X_3"
   ]
  },
  {
   "cell_type": "code",
   "execution_count": 26,
   "id": "4a44e2dc",
   "metadata": {},
   "outputs": [
    {
     "ename": "AttributeError",
     "evalue": "'numpy.ndarray' object has no attribute 'index'",
     "output_type": "error",
     "traceback": [
      "\u001b[0;31m---------------------------------------------------------------------------\u001b[0m",
      "\u001b[0;31mAttributeError\u001b[0m                            Traceback (most recent call last)",
      "\u001b[0;32m/var/folders/xj/07knx1_11gl5w1nv4tg4xr000000gn/T/ipykernel_14118/291111572.py\u001b[0m in \u001b[0;36m<module>\u001b[0;34m\u001b[0m\n\u001b[0;32m----> 1\u001b[0;31m \u001b[0mX\u001b[0m \u001b[0;34m=\u001b[0m \u001b[0mdf\u001b[0m\u001b[0;34m.\u001b[0m\u001b[0mloc\u001b[0m\u001b[0;34m[\u001b[0m\u001b[0mX_train\u001b[0m\u001b[0;34m.\u001b[0m\u001b[0mindex\u001b[0m\u001b[0;34m,\u001b[0m \u001b[0mdf\u001b[0m\u001b[0;34m.\u001b[0m\u001b[0mcolumns\u001b[0m\u001b[0;34m.\u001b[0m\u001b[0mstr\u001b[0m\u001b[0;34m.\u001b[0m\u001b[0mcontains\u001b[0m\u001b[0;34m(\u001b[0m\u001b[0;34m'X'\u001b[0m\u001b[0;34m)\u001b[0m\u001b[0;34m]\u001b[0m\u001b[0;34m\u001b[0m\u001b[0;34m\u001b[0m\u001b[0m\n\u001b[0m",
      "\u001b[0;31mAttributeError\u001b[0m: 'numpy.ndarray' object has no attribute 'index'"
     ]
    }
   ],
   "source": [
    "X = df.loc[X_train.index, df.columns.str.contains('X')]"
   ]
  },
  {
   "cell_type": "code",
   "execution_count": 27,
   "id": "5f90efdd",
   "metadata": {},
   "outputs": [
    {
     "ename": "ValueError",
     "evalue": "Found input variables with inconsistent numbers of samples: [5000, 4000]",
     "output_type": "error",
     "traceback": [
      "\u001b[0;31m---------------------------------------------------------------------------\u001b[0m",
      "\u001b[0;31mValueError\u001b[0m                                Traceback (most recent call last)",
      "\u001b[0;32m/var/folders/xj/07knx1_11gl5w1nv4tg4xr000000gn/T/ipykernel_14118/2802448593.py\u001b[0m in \u001b[0;36m<module>\u001b[0;34m\u001b[0m\n\u001b[1;32m      1\u001b[0m \u001b[0;32mfrom\u001b[0m \u001b[0msklearn\u001b[0m\u001b[0;34m.\u001b[0m\u001b[0mlinear_model\u001b[0m \u001b[0;32mimport\u001b[0m \u001b[0mLinearRegression\u001b[0m\u001b[0;34m\u001b[0m\u001b[0;34m\u001b[0m\u001b[0m\n\u001b[1;32m      2\u001b[0m \u001b[0mreg\u001b[0m \u001b[0;34m=\u001b[0m \u001b[0mLinearRegression\u001b[0m\u001b[0;34m(\u001b[0m\u001b[0;34m)\u001b[0m\u001b[0;34m\u001b[0m\u001b[0;34m\u001b[0m\u001b[0m\n\u001b[0;32m----> 3\u001b[0;31m \u001b[0mreg\u001b[0m\u001b[0;34m.\u001b[0m\u001b[0mfit\u001b[0m\u001b[0;34m(\u001b[0m\u001b[0mX\u001b[0m\u001b[0;34m,\u001b[0m \u001b[0my_train\u001b[0m\u001b[0;34m)\u001b[0m\u001b[0;34m\u001b[0m\u001b[0;34m\u001b[0m\u001b[0m\n\u001b[0m",
      "\u001b[0;32m~/opt/anaconda3/lib/python3.9/site-packages/sklearn/linear_model/_base.py\u001b[0m in \u001b[0;36mfit\u001b[0;34m(self, X, y, sample_weight)\u001b[0m\n\u001b[1;32m    682\u001b[0m         \u001b[0maccept_sparse\u001b[0m \u001b[0;34m=\u001b[0m \u001b[0;32mFalse\u001b[0m \u001b[0;32mif\u001b[0m \u001b[0mself\u001b[0m\u001b[0;34m.\u001b[0m\u001b[0mpositive\u001b[0m \u001b[0;32melse\u001b[0m \u001b[0;34m[\u001b[0m\u001b[0;34m\"csr\"\u001b[0m\u001b[0;34m,\u001b[0m \u001b[0;34m\"csc\"\u001b[0m\u001b[0;34m,\u001b[0m \u001b[0;34m\"coo\"\u001b[0m\u001b[0;34m]\u001b[0m\u001b[0;34m\u001b[0m\u001b[0;34m\u001b[0m\u001b[0m\n\u001b[1;32m    683\u001b[0m \u001b[0;34m\u001b[0m\u001b[0m\n\u001b[0;32m--> 684\u001b[0;31m         X, y = self._validate_data(\n\u001b[0m\u001b[1;32m    685\u001b[0m             \u001b[0mX\u001b[0m\u001b[0;34m,\u001b[0m \u001b[0my\u001b[0m\u001b[0;34m,\u001b[0m \u001b[0maccept_sparse\u001b[0m\u001b[0;34m=\u001b[0m\u001b[0maccept_sparse\u001b[0m\u001b[0;34m,\u001b[0m \u001b[0my_numeric\u001b[0m\u001b[0;34m=\u001b[0m\u001b[0;32mTrue\u001b[0m\u001b[0;34m,\u001b[0m \u001b[0mmulti_output\u001b[0m\u001b[0;34m=\u001b[0m\u001b[0;32mTrue\u001b[0m\u001b[0;34m\u001b[0m\u001b[0;34m\u001b[0m\u001b[0m\n\u001b[1;32m    686\u001b[0m         )\n",
      "\u001b[0;32m~/opt/anaconda3/lib/python3.9/site-packages/sklearn/base.py\u001b[0m in \u001b[0;36m_validate_data\u001b[0;34m(self, X, y, reset, validate_separately, **check_params)\u001b[0m\n\u001b[1;32m    594\u001b[0m                 \u001b[0my\u001b[0m \u001b[0;34m=\u001b[0m \u001b[0mcheck_array\u001b[0m\u001b[0;34m(\u001b[0m\u001b[0my\u001b[0m\u001b[0;34m,\u001b[0m \u001b[0minput_name\u001b[0m\u001b[0;34m=\u001b[0m\u001b[0;34m\"y\"\u001b[0m\u001b[0;34m,\u001b[0m \u001b[0;34m**\u001b[0m\u001b[0mcheck_y_params\u001b[0m\u001b[0;34m)\u001b[0m\u001b[0;34m\u001b[0m\u001b[0;34m\u001b[0m\u001b[0m\n\u001b[1;32m    595\u001b[0m             \u001b[0;32melse\u001b[0m\u001b[0;34m:\u001b[0m\u001b[0;34m\u001b[0m\u001b[0;34m\u001b[0m\u001b[0m\n\u001b[0;32m--> 596\u001b[0;31m                 \u001b[0mX\u001b[0m\u001b[0;34m,\u001b[0m \u001b[0my\u001b[0m \u001b[0;34m=\u001b[0m \u001b[0mcheck_X_y\u001b[0m\u001b[0;34m(\u001b[0m\u001b[0mX\u001b[0m\u001b[0;34m,\u001b[0m \u001b[0my\u001b[0m\u001b[0;34m,\u001b[0m \u001b[0;34m**\u001b[0m\u001b[0mcheck_params\u001b[0m\u001b[0;34m)\u001b[0m\u001b[0;34m\u001b[0m\u001b[0;34m\u001b[0m\u001b[0m\n\u001b[0m\u001b[1;32m    597\u001b[0m             \u001b[0mout\u001b[0m \u001b[0;34m=\u001b[0m \u001b[0mX\u001b[0m\u001b[0;34m,\u001b[0m \u001b[0my\u001b[0m\u001b[0;34m\u001b[0m\u001b[0;34m\u001b[0m\u001b[0m\n\u001b[1;32m    598\u001b[0m \u001b[0;34m\u001b[0m\u001b[0m\n",
      "\u001b[0;32m~/opt/anaconda3/lib/python3.9/site-packages/sklearn/utils/validation.py\u001b[0m in \u001b[0;36mcheck_X_y\u001b[0;34m(X, y, accept_sparse, accept_large_sparse, dtype, order, copy, force_all_finite, ensure_2d, allow_nd, multi_output, ensure_min_samples, ensure_min_features, y_numeric, estimator)\u001b[0m\n\u001b[1;32m   1090\u001b[0m     \u001b[0my\u001b[0m \u001b[0;34m=\u001b[0m \u001b[0m_check_y\u001b[0m\u001b[0;34m(\u001b[0m\u001b[0my\u001b[0m\u001b[0;34m,\u001b[0m \u001b[0mmulti_output\u001b[0m\u001b[0;34m=\u001b[0m\u001b[0mmulti_output\u001b[0m\u001b[0;34m,\u001b[0m \u001b[0my_numeric\u001b[0m\u001b[0;34m=\u001b[0m\u001b[0my_numeric\u001b[0m\u001b[0;34m,\u001b[0m \u001b[0mestimator\u001b[0m\u001b[0;34m=\u001b[0m\u001b[0mestimator\u001b[0m\u001b[0;34m)\u001b[0m\u001b[0;34m\u001b[0m\u001b[0;34m\u001b[0m\u001b[0m\n\u001b[1;32m   1091\u001b[0m \u001b[0;34m\u001b[0m\u001b[0m\n\u001b[0;32m-> 1092\u001b[0;31m     \u001b[0mcheck_consistent_length\u001b[0m\u001b[0;34m(\u001b[0m\u001b[0mX\u001b[0m\u001b[0;34m,\u001b[0m \u001b[0my\u001b[0m\u001b[0;34m)\u001b[0m\u001b[0;34m\u001b[0m\u001b[0;34m\u001b[0m\u001b[0m\n\u001b[0m\u001b[1;32m   1093\u001b[0m \u001b[0;34m\u001b[0m\u001b[0m\n\u001b[1;32m   1094\u001b[0m     \u001b[0;32mreturn\u001b[0m \u001b[0mX\u001b[0m\u001b[0;34m,\u001b[0m \u001b[0my\u001b[0m\u001b[0;34m\u001b[0m\u001b[0;34m\u001b[0m\u001b[0m\n",
      "\u001b[0;32m~/opt/anaconda3/lib/python3.9/site-packages/sklearn/utils/validation.py\u001b[0m in \u001b[0;36mcheck_consistent_length\u001b[0;34m(*arrays)\u001b[0m\n\u001b[1;32m    385\u001b[0m     \u001b[0muniques\u001b[0m \u001b[0;34m=\u001b[0m \u001b[0mnp\u001b[0m\u001b[0;34m.\u001b[0m\u001b[0munique\u001b[0m\u001b[0;34m(\u001b[0m\u001b[0mlengths\u001b[0m\u001b[0;34m)\u001b[0m\u001b[0;34m\u001b[0m\u001b[0;34m\u001b[0m\u001b[0m\n\u001b[1;32m    386\u001b[0m     \u001b[0;32mif\u001b[0m \u001b[0mlen\u001b[0m\u001b[0;34m(\u001b[0m\u001b[0muniques\u001b[0m\u001b[0;34m)\u001b[0m \u001b[0;34m>\u001b[0m \u001b[0;36m1\u001b[0m\u001b[0;34m:\u001b[0m\u001b[0;34m\u001b[0m\u001b[0;34m\u001b[0m\u001b[0m\n\u001b[0;32m--> 387\u001b[0;31m         raise ValueError(\n\u001b[0m\u001b[1;32m    388\u001b[0m             \u001b[0;34m\"Found input variables with inconsistent numbers of samples: %r\"\u001b[0m\u001b[0;34m\u001b[0m\u001b[0;34m\u001b[0m\u001b[0m\n\u001b[1;32m    389\u001b[0m             \u001b[0;34m%\u001b[0m \u001b[0;34m[\u001b[0m\u001b[0mint\u001b[0m\u001b[0;34m(\u001b[0m\u001b[0ml\u001b[0m\u001b[0;34m)\u001b[0m \u001b[0;32mfor\u001b[0m \u001b[0ml\u001b[0m \u001b[0;32min\u001b[0m \u001b[0mlengths\u001b[0m\u001b[0;34m]\u001b[0m\u001b[0;34m\u001b[0m\u001b[0;34m\u001b[0m\u001b[0m\n",
      "\u001b[0;31mValueError\u001b[0m: Found input variables with inconsistent numbers of samples: [5000, 4000]"
     ]
    }
   ],
   "source": [
    "from sklearn.linear_model import LinearRegression\n",
    "reg = LinearRegression()\n",
    "reg.fit(X, y_train)"
   ]
  },
  {
   "cell_type": "code",
   "execution_count": 619,
   "id": "7286ce98",
   "metadata": {},
   "outputs": [
    {
     "data": {
      "text/plain": [
       "(3.5904399293820894,\n",
       " array([13.68156597,  8.76797477,  8.4742376 ,  3.11516569, 11.89542357,\n",
       "         6.57897322]))"
      ]
     },
     "execution_count": 619,
     "metadata": {},
     "output_type": "execute_result"
    }
   ],
   "source": [
    "reg.intercept_, reg.coef_"
   ]
  },
  {
   "cell_type": "code",
   "execution_count": 620,
   "id": "58fd09e4",
   "metadata": {},
   "outputs": [
    {
     "data": {
      "text/plain": [
       "{'X_0': 13.80846513238334,\n",
       " 'X_1': 9.002660155592665,\n",
       " 'X_2': 8.511688459948779,\n",
       " 'X_3': 3.8099117917375045,\n",
       " 'X_1X_2': 11.751434349909433,\n",
       " 'X_0X_1X_3': 5.447608269998005,\n",
       " 'intercept': 3.3385569246056956}"
      ]
     },
     "execution_count": 620,
     "metadata": {},
     "output_type": "execute_result"
    }
   ],
   "source": [
    "rg.config.coefficients"
   ]
  },
  {
   "cell_type": "markdown",
   "id": "3a745157",
   "metadata": {},
   "source": [
    "#### Variable Selection Model"
   ]
  },
  {
   "cell_type": "code",
   "execution_count": null,
   "id": "4e383e73",
   "metadata": {},
   "outputs": [],
   "source": []
  }
 ],
 "metadata": {
  "kernelspec": {
   "display_name": "Python 3 (ipykernel)",
   "language": "python",
   "name": "python3"
  },
  "language_info": {
   "codemirror_mode": {
    "name": "ipython",
    "version": 3
   },
   "file_extension": ".py",
   "mimetype": "text/x-python",
   "name": "python",
   "nbconvert_exporter": "python",
   "pygments_lexer": "ipython3",
   "version": "3.9.13"
  }
 },
 "nbformat": 4,
 "nbformat_minor": 5
}
