{
 "cells": [
  {
   "cell_type": "markdown",
   "id": "10cd1967",
   "metadata": {},
   "source": [
    "# Creating a Dataset"
   ]
  },
  {
   "cell_type": "markdown",
   "id": "27696801",
   "metadata": {},
   "source": [
    "#### Option 1 : rank by cov, var, and none\n",
    "\n",
    "#### Option 2 : Using dask (for a large dataset)"
   ]
  },
  {
   "cell_type": "code",
   "execution_count": 1,
   "id": "947e125a",
   "metadata": {},
   "outputs": [
    {
     "name": "stdout",
     "output_type": "stream",
     "text": [
      "dataset is ordered by var\n"
     ]
    },
    {
     "name": "stderr",
     "output_type": "stream",
     "text": [
      "/Users/gradcheckout/opt/anaconda3/lib/python3.9/site-packages/distributed/node.py:179: UserWarning: Port 8787 is already in use.\n",
      "Perhaps you already have a cluster running?\n",
      "Hosting the HTTP server on port 53660 instead\n",
      "  warnings.warn(\n"
     ]
    },
    {
     "data": {
      "application/vnd.jupyter.widget-view+json": {
       "model_id": "",
       "version_major": 2,
       "version_minor": 0
      },
      "text/plain": [
       "  0%|          | 0/9 [00:00<?, ?it/s]"
      ]
     },
     "metadata": {},
     "output_type": "display_data"
    },
    {
     "data": {
      "application/vnd.jupyter.widget-view+json": {
       "model_id": "",
       "version_major": 2,
       "version_minor": 0
      },
      "text/plain": [
       "  0%|          | 0/1 [00:00<?, ?it/s]"
      ]
     },
     "metadata": {},
     "output_type": "display_data"
    },
    {
     "data": {
      "application/vnd.jupyter.widget-view+json": {
       "model_id": "",
       "version_major": 2,
       "version_minor": 0
      },
      "text/plain": [
       "  0%|          | 0/1 [00:00<?, ?it/s]"
      ]
     },
     "metadata": {},
     "output_type": "display_data"
    },
    {
     "data": {
      "application/vnd.jupyter.widget-view+json": {
       "model_id": "",
       "version_major": 2,
       "version_minor": 0
      },
      "text/plain": [
       "  0%|          | 0/28 [00:00<?, ?it/s]"
      ]
     },
     "metadata": {},
     "output_type": "display_data"
    },
    {
     "data": {
      "application/vnd.jupyter.widget-view+json": {
       "model_id": "",
       "version_major": 2,
       "version_minor": 0
      },
      "text/plain": [
       "  0%|          | 0/57 [00:00<?, ?it/s]"
      ]
     },
     "metadata": {},
     "output_type": "display_data"
    },
    {
     "data": {
      "application/vnd.jupyter.widget-view+json": {
       "model_id": "",
       "version_major": 2,
       "version_minor": 0
      },
      "text/plain": [
       "  0%|          | 0/47 [00:00<?, ?it/s]"
      ]
     },
     "metadata": {},
     "output_type": "display_data"
    },
    {
     "data": {
      "application/vnd.jupyter.widget-view+json": {
       "model_id": "",
       "version_major": 2,
       "version_minor": 0
      },
      "text/plain": [
       "  0%|          | 0/32 [00:00<?, ?it/s]"
      ]
     },
     "metadata": {},
     "output_type": "display_data"
    },
    {
     "data": {
      "application/vnd.jupyter.widget-view+json": {
       "model_id": "",
       "version_major": 2,
       "version_minor": 0
      },
      "text/plain": [
       "  0%|          | 0/1 [00:00<?, ?it/s]"
      ]
     },
     "metadata": {},
     "output_type": "display_data"
    },
    {
     "data": {
      "application/vnd.jupyter.widget-view+json": {
       "model_id": "",
       "version_major": 2,
       "version_minor": 0
      },
      "text/plain": [
       "  0%|          | 0/2 [00:00<?, ?it/s]"
      ]
     },
     "metadata": {},
     "output_type": "display_data"
    },
    {
     "data": {
      "application/vnd.jupyter.widget-view+json": {
       "model_id": "",
       "version_major": 2,
       "version_minor": 0
      },
      "text/plain": [
       "  0%|          | 0/1 [00:00<?, ?it/s]"
      ]
     },
     "metadata": {},
     "output_type": "display_data"
    }
   ],
   "source": [
    "from Dissertation import RandomGenerator, convert_to_int, get_order_index\n",
    "rg = RandomGenerator(10, 10_000_000, order_by = 'var', use_dask = True)"
   ]
  },
  {
   "cell_type": "code",
   "execution_count": 2,
   "id": "5b9baf17",
   "metadata": {},
   "outputs": [],
   "source": [
    "config = rg._config"
   ]
  },
  {
   "cell_type": "code",
   "execution_count": 3,
   "id": "7b09363e",
   "metadata": {},
   "outputs": [
    {
     "name": "stdout",
     "output_type": "stream",
     "text": [
      "http://127.0.0.1:53660/status\n"
     ]
    }
   ],
   "source": [
    "rg(\"sample_data\")"
   ]
  },
  {
   "cell_type": "code",
   "execution_count": 4,
   "id": "0c3f3270",
   "metadata": {},
   "outputs": [],
   "source": [
    "del rg"
   ]
  },
  {
   "cell_type": "markdown",
   "id": "4d80ac36",
   "metadata": {},
   "source": [
    "# Run a Tree Model"
   ]
  },
  {
   "cell_type": "code",
   "execution_count": 6,
   "id": "3e1430fd",
   "metadata": {},
   "outputs": [],
   "source": [
    "# open the file\n",
    "import numpy as np\n",
    "import pandas as pd\n",
    "df = pd.read_parquet(\"sample_data\")"
   ]
  },
  {
   "cell_type": "code",
   "execution_count": 7,
   "id": "0b6a3932",
   "metadata": {},
   "outputs": [
    {
     "data": {
      "text/html": [
       "<div>\n",
       "<style scoped>\n",
       "    .dataframe tbody tr th:only-of-type {\n",
       "        vertical-align: middle;\n",
       "    }\n",
       "\n",
       "    .dataframe tbody tr th {\n",
       "        vertical-align: top;\n",
       "    }\n",
       "\n",
       "    .dataframe thead th {\n",
       "        text-align: right;\n",
       "    }\n",
       "</style>\n",
       "<table border=\"1\" class=\"dataframe\">\n",
       "  <thead>\n",
       "    <tr style=\"text-align: right;\">\n",
       "      <th></th>\n",
       "      <th>X_0</th>\n",
       "      <th>X_1</th>\n",
       "      <th>X_2</th>\n",
       "      <th>X_3</th>\n",
       "      <th>X_4</th>\n",
       "      <th>X_5</th>\n",
       "      <th>X_6</th>\n",
       "      <th>X_7</th>\n",
       "      <th>X_8</th>\n",
       "      <th>X_9</th>\n",
       "      <th>y</th>\n",
       "    </tr>\n",
       "  </thead>\n",
       "  <tbody>\n",
       "    <tr>\n",
       "      <th>0</th>\n",
       "      <td>1</td>\n",
       "      <td>1</td>\n",
       "      <td>1</td>\n",
       "      <td>1</td>\n",
       "      <td>1</td>\n",
       "      <td>1</td>\n",
       "      <td>1</td>\n",
       "      <td>1</td>\n",
       "      <td>1</td>\n",
       "      <td>0</td>\n",
       "      <td>-5.346832</td>\n",
       "    </tr>\n",
       "    <tr>\n",
       "      <th>1</th>\n",
       "      <td>1</td>\n",
       "      <td>1</td>\n",
       "      <td>1</td>\n",
       "      <td>1</td>\n",
       "      <td>0</td>\n",
       "      <td>1</td>\n",
       "      <td>1</td>\n",
       "      <td>0</td>\n",
       "      <td>0</td>\n",
       "      <td>0</td>\n",
       "      <td>-8.258515</td>\n",
       "    </tr>\n",
       "    <tr>\n",
       "      <th>2</th>\n",
       "      <td>0</td>\n",
       "      <td>1</td>\n",
       "      <td>1</td>\n",
       "      <td>1</td>\n",
       "      <td>0</td>\n",
       "      <td>0</td>\n",
       "      <td>0</td>\n",
       "      <td>0</td>\n",
       "      <td>0</td>\n",
       "      <td>0</td>\n",
       "      <td>-3.212571</td>\n",
       "    </tr>\n",
       "    <tr>\n",
       "      <th>3</th>\n",
       "      <td>1</td>\n",
       "      <td>0</td>\n",
       "      <td>1</td>\n",
       "      <td>1</td>\n",
       "      <td>1</td>\n",
       "      <td>1</td>\n",
       "      <td>1</td>\n",
       "      <td>0</td>\n",
       "      <td>1</td>\n",
       "      <td>0</td>\n",
       "      <td>-15.814381</td>\n",
       "    </tr>\n",
       "    <tr>\n",
       "      <th>4</th>\n",
       "      <td>1</td>\n",
       "      <td>1</td>\n",
       "      <td>1</td>\n",
       "      <td>1</td>\n",
       "      <td>1</td>\n",
       "      <td>0</td>\n",
       "      <td>0</td>\n",
       "      <td>1</td>\n",
       "      <td>0</td>\n",
       "      <td>0</td>\n",
       "      <td>-11.325643</td>\n",
       "    </tr>\n",
       "    <tr>\n",
       "      <th>...</th>\n",
       "      <td>...</td>\n",
       "      <td>...</td>\n",
       "      <td>...</td>\n",
       "      <td>...</td>\n",
       "      <td>...</td>\n",
       "      <td>...</td>\n",
       "      <td>...</td>\n",
       "      <td>...</td>\n",
       "      <td>...</td>\n",
       "      <td>...</td>\n",
       "      <td>...</td>\n",
       "    </tr>\n",
       "    <tr>\n",
       "      <th>9999995</th>\n",
       "      <td>1</td>\n",
       "      <td>1</td>\n",
       "      <td>1</td>\n",
       "      <td>1</td>\n",
       "      <td>1</td>\n",
       "      <td>1</td>\n",
       "      <td>1</td>\n",
       "      <td>1</td>\n",
       "      <td>1</td>\n",
       "      <td>0</td>\n",
       "      <td>0.745949</td>\n",
       "    </tr>\n",
       "    <tr>\n",
       "      <th>9999996</th>\n",
       "      <td>0</td>\n",
       "      <td>0</td>\n",
       "      <td>1</td>\n",
       "      <td>1</td>\n",
       "      <td>1</td>\n",
       "      <td>0</td>\n",
       "      <td>0</td>\n",
       "      <td>0</td>\n",
       "      <td>0</td>\n",
       "      <td>0</td>\n",
       "      <td>-8.981431</td>\n",
       "    </tr>\n",
       "    <tr>\n",
       "      <th>9999997</th>\n",
       "      <td>1</td>\n",
       "      <td>1</td>\n",
       "      <td>1</td>\n",
       "      <td>1</td>\n",
       "      <td>1</td>\n",
       "      <td>0</td>\n",
       "      <td>1</td>\n",
       "      <td>1</td>\n",
       "      <td>0</td>\n",
       "      <td>1</td>\n",
       "      <td>-4.051083</td>\n",
       "    </tr>\n",
       "    <tr>\n",
       "      <th>9999998</th>\n",
       "      <td>1</td>\n",
       "      <td>0</td>\n",
       "      <td>1</td>\n",
       "      <td>0</td>\n",
       "      <td>1</td>\n",
       "      <td>0</td>\n",
       "      <td>0</td>\n",
       "      <td>0</td>\n",
       "      <td>0</td>\n",
       "      <td>0</td>\n",
       "      <td>-2.792445</td>\n",
       "    </tr>\n",
       "    <tr>\n",
       "      <th>9999999</th>\n",
       "      <td>0</td>\n",
       "      <td>1</td>\n",
       "      <td>0</td>\n",
       "      <td>1</td>\n",
       "      <td>1</td>\n",
       "      <td>1</td>\n",
       "      <td>0</td>\n",
       "      <td>1</td>\n",
       "      <td>1</td>\n",
       "      <td>0</td>\n",
       "      <td>-10.545798</td>\n",
       "    </tr>\n",
       "  </tbody>\n",
       "</table>\n",
       "<p>10000000 rows × 11 columns</p>\n",
       "</div>"
      ],
      "text/plain": [
       "         X_0  X_1  X_2  X_3  X_4  X_5  X_6  X_7  X_8  X_9          y\n",
       "0          1    1    1    1    1    1    1    1    1    0  -5.346832\n",
       "1          1    1    1    1    0    1    1    0    0    0  -8.258515\n",
       "2          0    1    1    1    0    0    0    0    0    0  -3.212571\n",
       "3          1    0    1    1    1    1    1    0    1    0 -15.814381\n",
       "4          1    1    1    1    1    0    0    1    0    0 -11.325643\n",
       "...      ...  ...  ...  ...  ...  ...  ...  ...  ...  ...        ...\n",
       "9999995    1    1    1    1    1    1    1    1    1    0   0.745949\n",
       "9999996    0    0    1    1    1    0    0    0    0    0  -8.981431\n",
       "9999997    1    1    1    1    1    0    1    1    0    1  -4.051083\n",
       "9999998    1    0    1    0    1    0    0    0    0    0  -2.792445\n",
       "9999999    0    1    0    1    1    1    0    1    1    0 -10.545798\n",
       "\n",
       "[10000000 rows x 11 columns]"
      ]
     },
     "execution_count": 7,
     "metadata": {},
     "output_type": "execute_result"
    }
   ],
   "source": [
    "df.index.name = None\n",
    "df"
   ]
  },
  {
   "cell_type": "code",
   "execution_count": 15,
   "id": "ba724715",
   "metadata": {},
   "outputs": [],
   "source": [
    "df['int'] = df.iloc[:, :10].apply(convert_to_int, axis = 1)"
   ]
  },
  {
   "cell_type": "code",
   "execution_count": 16,
   "id": "1b655132",
   "metadata": {},
   "outputs": [
    {
     "data": {
      "text/plain": [
       "<AxesSubplot:ylabel='Frequency'>"
      ]
     },
     "execution_count": 16,
     "metadata": {},
     "output_type": "execute_result"
    },
    {
     "data": {
      "image/png": "[encoded data removed]",
      "text/plain": [
       "<Figure size 640x480 with 1 Axes>"
      ]
     },
     "metadata": {},
     "output_type": "display_data"
    }
   ],
   "source": [
    "df['int'].plot.hist(bins = 30)"
   ]
  },
  {
   "cell_type": "code",
   "execution_count": 19,
   "id": "505beaea",
   "metadata": {},
   "outputs": [],
   "source": [
    "num_unique = df['int'].unique().shape[0]"
   ]
  },
  {
   "cell_type": "code",
   "execution_count": 20,
   "id": "03921527",
   "metadata": {},
   "outputs": [
    {
     "data": {
      "text/plain": [
       "1024"
      ]
     },
     "execution_count": 20,
     "metadata": {},
     "output_type": "execute_result"
    }
   ],
   "source": [
    "num_unique"
   ]
  },
  {
   "cell_type": "code",
   "execution_count": 21,
   "id": "098f9e60",
   "metadata": {
    "scrolled": true
   },
   "outputs": [
    {
     "data": {
      "text/plain": [
       "1024"
      ]
     },
     "execution_count": 21,
     "metadata": {},
     "output_type": "execute_result"
    }
   ],
   "source": [
    "2**10"
   ]
  },
  {
   "cell_type": "code",
   "execution_count": 157,
   "id": "f2788dac",
   "metadata": {},
   "outputs": [],
   "source": [
    "q = .5\n",
    "count_statistics = (df.groupby('int')['y'].count().quantile([.25,.3,.4,.5,.55,.6,.65, .7,.8,.9])//1).astype(int)"
   ]
  },
  {
   "cell_type": "code",
   "execution_count": 158,
   "id": "a016b059",
   "metadata": {},
   "outputs": [
    {
     "data": {
      "text/plain": [
       "0.25     2276\n",
       "0.30     2593\n",
       "0.40     3327\n",
       "0.50     4938\n",
       "0.55     6222\n",
       "0.60     7228\n",
       "0.65     8201\n",
       "0.70     9246\n",
       "0.80    13182\n",
       "0.90    24336\n",
       "Name: y, dtype: int64"
      ]
     },
     "execution_count": 158,
     "metadata": {},
     "output_type": "execute_result"
    }
   ],
   "source": [
    "count_statistics"
   ]
  },
  {
   "cell_type": "code",
   "execution_count": 173,
   "id": "306a06f6",
   "metadata": {},
   "outputs": [],
   "source": [
    "?np.arange"
   ]
  },
  {
   "cell_type": "code",
   "execution_count": 175,
   "id": "1c830c38",
   "metadata": {
    "scrolled": true
   },
   "outputs": [
    {
     "data": {
      "text/plain": [
       "array([0.  , 0.05, 0.1 , 0.15, 0.2 , 0.25, 0.3 ])"
      ]
     },
     "execution_count": 175,
     "metadata": {},
     "output_type": "execute_result"
    }
   ],
   "source": []
  },
  {
   "cell_type": "code",
   "execution_count": 198,
   "id": "123788f3",
   "metadata": {},
   "outputs": [],
   "source": [
    "from sklearn.model_selection import GridSearchCV\n",
    "from sklearn.tree import DecisionTreeRegressor\n",
    "from sklearn.model_selection import cross_val_score\n",
    "\n",
    "# parameters = {'min_samples_split':count_statistics.tolist(),\n",
    "#              'ccp_alpha': np.arange(0,.35, .05)}\n",
    "\n",
    "parameters = {'ccp_alpha': np.arange(0,.05, .005)}\n",
    "reg= DecisionTreeRegressor()\n",
    "clf = GridSearchCV(reg, parameters, verbose = 3, n_jobs = -1)\n",
    "# clf.fit(iris.data, iris.target)\n",
    "\n",
    "\n",
    "# sorted(clf.cv_results_.keys())"
   ]
  },
  {
   "cell_type": "code",
   "execution_count": 200,
   "id": "0518c40f",
   "metadata": {},
   "outputs": [
    {
     "data": {
      "text/plain": [
       "GridSearchCV(estimator=DecisionTreeRegressor(), n_jobs=-1,\n",
       "             param_grid={'ccp_alpha': array([0.   , 0.005, 0.01 , 0.015, 0.02 , 0.025, 0.03 , 0.035, 0.04 ,\n",
       "       0.045])},\n",
       "             verbose=3)"
      ]
     },
     "execution_count": 200,
     "metadata": {},
     "output_type": "execute_result"
    }
   ],
   "source": [
    "clf"
   ]
  },
  {
   "cell_type": "code",
   "execution_count": 201,
   "id": "14e9864a",
   "metadata": {},
   "outputs": [],
   "source": [
    "X = df[['int']]\n",
    "y = df[['y']]"
   ]
  },
  {
   "cell_type": "code",
   "execution_count": 202,
   "id": "73f6f87f",
   "metadata": {},
   "outputs": [
    {
     "name": "stdout",
     "output_type": "stream",
     "text": [
      "Fitting 5 folds for each of 10 candidates, totalling 50 fits\n"
     ]
    },
    {
     "data": {
      "text/plain": [
       "GridSearchCV(estimator=DecisionTreeRegressor(), n_jobs=-1,\n",
       "             param_grid={'ccp_alpha': array([0.   , 0.005, 0.01 , 0.015, 0.02 , 0.025, 0.03 , 0.035, 0.04 ,\n",
       "       0.045])},\n",
       "             verbose=3)"
      ]
     },
     "execution_count": 202,
     "metadata": {},
     "output_type": "execute_result"
    }
   ],
   "source": [
    "clf.fit(X, y)"
   ]
  },
  {
   "cell_type": "code",
   "execution_count": 203,
   "id": "373d48a0",
   "metadata": {},
   "outputs": [
    {
     "data": {
      "text/plain": [
       "array([0.69093044, 0.68307475, 0.67444493, 0.66755453, 0.66107797,\n",
       "       0.65515194, 0.6495817 , 0.64208041, 0.63475838, 0.63073381])"
      ]
     },
     "execution_count": 203,
     "metadata": {},
     "output_type": "execute_result"
    }
   ],
   "source": [
    "clf.cv_results_['mean_test_score']"
   ]
  },
  {
   "cell_type": "code",
   "execution_count": 229,
   "id": "afee87d3",
   "metadata": {},
   "outputs": [],
   "source": [
    "from itertools import product\n",
    "n = 10\n",
    "lst = list(product([0, 1], repeat=n))\n",
    "test = np.arange(2**10).reshape(-1,1)"
   ]
  },
  {
   "cell_type": "code",
   "execution_count": 262,
   "id": "cde461c1",
   "metadata": {},
   "outputs": [],
   "source": [
    "def find_n_groups(ccp_alpha, X, y, test):\n",
    "    reg = DecisionTreeRegressor(ccp_alpha = ccp_alpha)\n",
    "    reg.fit(X, y)\n",
    "    r_sq = reg.score(X, y)\n",
    "    result = reg.predict(test)\n",
    "    num_groups = len(np.unique(result))\n",
    "    return r_sq, num_groups"
   ]
  },
  {
   "cell_type": "code",
   "execution_count": 263,
   "id": "e4639437",
   "metadata": {},
   "outputs": [],
   "source": [
    "from functools import partial\n",
    "find_n_groups_by_ccp_alpha = partial(find_n_groups, X = X.to_numpy(), y = y, test = test)"
   ]
  },
  {
   "cell_type": "code",
   "execution_count": 264,
   "id": "63a09295",
   "metadata": {},
   "outputs": [],
   "source": [
    "parameters = np.arange(0, .05, .005)"
   ]
  },
  {
   "cell_type": "code",
   "execution_count": 265,
   "id": "fa5d0016",
   "metadata": {},
   "outputs": [],
   "source": [
    "r2, n = find_n_groups_by_ccp_alpha(0.05)"
   ]
  },
  {
   "cell_type": "code",
   "execution_count": 268,
   "id": "0a046b2a",
   "metadata": {
    "scrolled": true
   },
   "outputs": [
    {
     "name": "stdout",
     "output_type": "stream",
     "text": [
      "ccp_alpha is 0.0\n",
      "ccp_alpha is 0.005\n",
      "ccp_alpha is 0.01\n",
      "ccp_alpha is 0.015\n",
      "ccp_alpha is 0.02\n",
      "ccp_alpha is 0.025\n",
      "ccp_alpha is 0.03\n",
      "ccp_alpha is 0.035\n",
      "ccp_alpha is 0.04\n",
      "ccp_alpha is 0.045\n"
     ]
    }
   ],
   "source": [
    "r_sq = []\n",
    "n_groups = []\n",
    "for i in parameters:\n",
    "    print(f\"ccp_alpha is {i}\")\n",
    "    r2, n = find_n_groups_by_ccp_alpha(i)\n",
    "    r_sq.append(r2); n_groups.append(n)\n"
   ]
  },
  {
   "cell_type": "code",
   "execution_count": 290,
   "id": "44250cce",
   "metadata": {},
   "outputs": [],
   "source": [
    "F = (r_sq[0]-r_sq[1])/(1-r_sq[0])*(X.shape[0]-n_groups[0])/(n_groups[0]-n_groups[1])"
   ]
  },
  {
   "cell_type": "code",
   "execution_count": 309,
   "id": "0b89bfb5",
   "metadata": {},
   "outputs": [
    {
     "data": {
      "text/plain": [
       "[0.6910021457389746,\n",
       " 0.683072514244302,\n",
       " 0.6740931958923755,\n",
       " 0.6676447273751747,\n",
       " 0.6611791246989169,\n",
       " 0.6552237922806954,\n",
       " 0.6496959137534006,\n",
       " 0.6416992285063086,\n",
       " 0.6349342730060381,\n",
       " 0.6307109261168593]"
      ]
     },
     "execution_count": 309,
     "metadata": {},
     "output_type": "execute_result"
    }
   ],
   "source": [
    "r_sq"
   ]
  },
  {
   "cell_type": "code",
   "execution_count": 279,
   "id": "e1945dc1",
   "metadata": {},
   "outputs": [
    {
     "data": {
      "text/plain": [
       "[1024, 381, 282, 240, 210, 189, 172, 152, 137, 129]"
      ]
     },
     "execution_count": 279,
     "metadata": {},
     "output_type": "execute_result"
    }
   ],
   "source": [
    "n_groups"
   ]
  },
  {
   "cell_type": "code",
   "execution_count": 301,
   "id": "11f4a8ee",
   "metadata": {},
   "outputs": [
    {
     "data": {
      "text/plain": [
       "0.6552237922806954"
      ]
     },
     "execution_count": 301,
     "metadata": {},
     "output_type": "execute_result"
    }
   ],
   "source": [
    "r_sq[n_groups.index(189)]"
   ]
  },
  {
   "cell_type": "code",
   "execution_count": 304,
   "id": "0b6bef2b",
   "metadata": {},
   "outputs": [
    {
     "data": {
      "text/plain": [
       "dict_keys(['p', 'sample size', 'interactions', 'bernoulli parameters', 'coefficients'])"
      ]
     },
     "execution_count": 304,
     "metadata": {},
     "output_type": "execute_result"
    }
   ],
   "source": [
    "config.keys()"
   ]
  },
  {
   "cell_type": "code",
   "execution_count": 302,
   "id": "b5c47625",
   "metadata": {},
   "outputs": [
    {
     "data": {
      "text/plain": [
       "0.025662416050222712"
      ]
     },
     "execution_count": 302,
     "metadata": {},
     "output_type": "execute_result"
    }
   ],
   "source": [
    "(r_sq[0]-r_sq[1])/(1-r_sq[0])"
   ]
  },
  {
   "cell_type": "code",
   "execution_count": 291,
   "id": "3d52dca8",
   "metadata": {},
   "outputs": [],
   "source": [
    "from scipy.stats import f\n",
    "dfn, dfd = (X.shape[0]-n_groups[0]), (n_groups[0]-n_groups[1])"
   ]
  },
  {
   "cell_type": "code",
   "execution_count": 292,
   "id": "f3413d16",
   "metadata": {},
   "outputs": [
    {
     "data": {
      "text/plain": [
       "(9998976, 643)"
      ]
     },
     "execution_count": 292,
     "metadata": {},
     "output_type": "execute_result"
    }
   ],
   "source": [
    "dfn, dfd"
   ]
  },
  {
   "cell_type": "code",
   "execution_count": 294,
   "id": "f772deb2",
   "metadata": {},
   "outputs": [
    {
     "data": {
      "text/plain": [
       "1.1102230246251565e-16"
      ]
     },
     "execution_count": 294,
     "metadata": {},
     "output_type": "execute_result"
    }
   ],
   "source": [
    "1- f.cdf(F, dfn, dfd)"
   ]
  },
  {
   "cell_type": "code",
   "execution_count": 297,
   "id": "8f3b610b",
   "metadata": {},
   "outputs": [
    {
     "data": {
      "text/plain": [
       "180"
      ]
     },
     "execution_count": 297,
     "metadata": {},
     "output_type": "execute_result"
    }
   ],
   "source": [
    "len(config['coefficients'])"
   ]
  },
  {
   "cell_type": "code",
   "execution_count": 234,
   "id": "6eb80146",
   "metadata": {},
   "outputs": [
    {
     "ename": "TypeError",
     "evalue": "__init__() got an unexpected keyword argument 'n_jobs'",
     "output_type": "error",
     "traceback": [
      "\u001b[0;31m---------------------------------------------------------------------------\u001b[0m",
      "\u001b[0;31mTypeError\u001b[0m                                 Traceback (most recent call last)",
      "\u001b[0;32m/var/folders/xj/07knx1_11gl5w1nv4tg4xr000000gn/T/ipykernel_31104/4172093140.py\u001b[0m in \u001b[0;36m<module>\u001b[0;34m\u001b[0m\n\u001b[1;32m      1\u001b[0m \u001b[0mnum_groups\u001b[0m \u001b[0;34m=\u001b[0m \u001b[0;34m[\u001b[0m\u001b[0;34m]\u001b[0m\u001b[0;34m\u001b[0m\u001b[0;34m\u001b[0m\u001b[0m\n\u001b[1;32m      2\u001b[0m \u001b[0;32mfor\u001b[0m \u001b[0mccp_alpha\u001b[0m \u001b[0;32min\u001b[0m \u001b[0mnp\u001b[0m\u001b[0;34m.\u001b[0m\u001b[0marange\u001b[0m\u001b[0;34m(\u001b[0m\u001b[0;36m0\u001b[0m\u001b[0;34m,\u001b[0m\u001b[0;36m.05\u001b[0m\u001b[0;34m,\u001b[0m \u001b[0;36m.005\u001b[0m\u001b[0;34m)\u001b[0m\u001b[0;34m:\u001b[0m\u001b[0;34m\u001b[0m\u001b[0;34m\u001b[0m\u001b[0m\n\u001b[0;32m----> 3\u001b[0;31m     \u001b[0mreg\u001b[0m \u001b[0;34m=\u001b[0m \u001b[0mDecisionTreeRegressor\u001b[0m\u001b[0;34m(\u001b[0m\u001b[0mccp_alpha\u001b[0m \u001b[0;34m=\u001b[0m \u001b[0mccp_alpha\u001b[0m\u001b[0;34m,\u001b[0m \u001b[0mn_jobs\u001b[0m \u001b[0;34m=\u001b[0m \u001b[0;34m-\u001b[0m\u001b[0;36m1\u001b[0m\u001b[0;34m)\u001b[0m\u001b[0;34m\u001b[0m\u001b[0;34m\u001b[0m\u001b[0m\n\u001b[0m\u001b[1;32m      4\u001b[0m     \u001b[0mreg\u001b[0m\u001b[0;34m.\u001b[0m\u001b[0mfit\u001b[0m\u001b[0;34m(\u001b[0m\u001b[0mX\u001b[0m\u001b[0;34m,\u001b[0m \u001b[0my\u001b[0m\u001b[0;34m)\u001b[0m\u001b[0;34m\u001b[0m\u001b[0;34m\u001b[0m\u001b[0m\n\u001b[1;32m      5\u001b[0m     \u001b[0mresult\u001b[0m \u001b[0;34m=\u001b[0m \u001b[0mreg\u001b[0m\u001b[0;34m.\u001b[0m\u001b[0mpredict\u001b[0m\u001b[0;34m(\u001b[0m\u001b[0mtest\u001b[0m\u001b[0;34m)\u001b[0m\u001b[0;34m\u001b[0m\u001b[0;34m\u001b[0m\u001b[0m\n",
      "\u001b[0;31mTypeError\u001b[0m: __init__() got an unexpected keyword argument 'n_jobs'"
     ]
    }
   ],
   "source": [
    "num_groups = []\n",
    "for ccp_alpha in np.arange(0,.05, .005):\n",
    "    reg = DecisionTreeRegressor(ccp_alpha = ccp_alpha)\n",
    "    reg.fit(X, y)\n",
    "    result = reg.predict(test)\n",
    "    num_groups.append(len(np.unique(result)))"
   ]
  },
  {
   "cell_type": "code",
   "execution_count": 231,
   "id": "dd0315c1",
   "metadata": {},
   "outputs": [
    {
     "name": "stderr",
     "output_type": "stream",
     "text": [
      "/Users/gradcheckout/opt/anaconda3/lib/python3.9/site-packages/sklearn/base.py:450: UserWarning: X does not have valid feature names, but DecisionTreeRegressor was fitted with feature names\n",
      "  warnings.warn(\n"
     ]
    }
   ],
   "source": [
    "reg = DecisionTreeRegressor(ccp_alpha = .3)\n",
    "reg.fit(X, y)\n",
    "result = reg.predict(test)\n"
   ]
  },
  {
   "cell_type": "code",
   "execution_count": 233,
   "id": "729ea123",
   "metadata": {},
   "outputs": [
    {
     "data": {
      "text/plain": [
       "25"
      ]
     },
     "execution_count": 233,
     "metadata": {},
     "output_type": "execute_result"
    }
   ],
   "source": [
    "len(np.unique(result))"
   ]
  },
  {
   "cell_type": "code",
   "execution_count": null,
   "id": "1b6147a5",
   "metadata": {},
   "outputs": [],
   "source": []
  },
  {
   "cell_type": "code",
   "execution_count": 204,
   "id": "64141c6d",
   "metadata": {},
   "outputs": [
    {
     "data": {
      "text/plain": [
       "array([0.00026513, 0.00034555, 0.00047058, 0.00023911, 0.00045846,\n",
       "       0.00026175, 0.00056715, 0.00086697, 0.00120578, 0.00044969])"
      ]
     },
     "execution_count": 204,
     "metadata": {},
     "output_type": "execute_result"
    },
    {
     "name": "stdout",
     "output_type": "stream",
     "text": [
      "[CV 1/5] END .....................ccp_alpha=0.0;, score=0.691 total time=  12.8s\n",
      "[CV 2/5] END .....................ccp_alpha=0.1;, score=0.587 total time=  13.7s\n",
      "[CV 2/5] END .....................ccp_alpha=0.2;, score=0.534 total time=  13.7s\n",
      "[CV 2/5] END .....ccp_alpha=0.30000000000000004;, score=0.469 total time=   8.7s\n",
      "[CV 5/5] END .....................ccp_alpha=0.0;, score=0.691 total time=  13.7s\n",
      "[CV 1/5] END ....................ccp_alpha=0.01;, score=0.674 total time=  13.6s\n",
      "[CV 1/5] END ....................ccp_alpha=0.02;, score=0.661 total time=  13.7s\n",
      "[CV 1/5] END ....................ccp_alpha=0.03;, score=0.649 total time=  13.9s\n",
      "[CV 1/5] END ....................ccp_alpha=0.04;, score=0.634 total time=  13.0s\n",
      "[CV 4/5] END .....................ccp_alpha=0.0;, score=0.691 total time=  12.8s\n",
      "[CV 3/5] END .....................ccp_alpha=0.1;, score=0.589 total time=  14.1s\n",
      "[CV 3/5] END .....................ccp_alpha=0.2;, score=0.534 total time=  13.7s\n",
      "[CV 3/5] END .....ccp_alpha=0.30000000000000004;, score=0.472 total time=   8.5s\n",
      "[CV 2/5] END .....................ccp_alpha=0.0;, score=0.691 total time=  14.0s\n",
      "[CV 4/5] END ....................ccp_alpha=0.01;, score=0.675 total time=  13.7s\n",
      "[CV 2/5] END ....................ccp_alpha=0.02;, score=0.661 total time=  13.9s\n",
      "[CV 4/5] END ....................ccp_alpha=0.03;, score=0.650 total time=  13.9s\n",
      "[CV 3/5] END ....................ccp_alpha=0.04;, score=0.634 total time=  13.1s\n",
      "[CV 1/5] END ....................ccp_alpha=0.05;, score=0.628 total time=  13.0s\n",
      "[CV 2/5] END .....ccp_alpha=0.15000000000000002;, score=0.565 total time=  14.1s\n",
      "[CV 4/5] END .....................ccp_alpha=0.2;, score=0.535 total time=  13.7s\n",
      "[CV 4/5] END .....ccp_alpha=0.30000000000000004;, score=0.470 total time=   8.5s\n",
      "[CV 3/5] END ...................ccp_alpha=0.005;, score=0.683 total time=  14.0s\n",
      "[CV 2/5] END ...................ccp_alpha=0.015;, score=0.668 total time=  13.7s\n",
      "[CV 5/5] END ....................ccp_alpha=0.02;, score=0.660 total time=  13.5s\n",
      "[CV 3/5] END ....................ccp_alpha=0.03;, score=0.650 total time=  13.9s\n",
      "[CV 2/5] END ....................ccp_alpha=0.04;, score=0.636 total time=  13.4s\n",
      "[CV 5/5] END ....................ccp_alpha=0.05;, score=0.627 total time=  13.0s\n",
      "[CV 4/5] END .....ccp_alpha=0.15000000000000002;, score=0.566 total time=  14.2s\n",
      "[CV 5/5] END .....................ccp_alpha=0.2;, score=0.534 total time=  14.0s\n",
      "[CV 1/5] END .....................ccp_alpha=0.0;, score=0.691 total time=  14.0s\n",
      "[CV 3/5] END ....................ccp_alpha=0.01;, score=0.674 total time=  13.8s\n",
      "[CV 3/5] END ....................ccp_alpha=0.02;, score=0.661 total time=  13.6s\n",
      "[CV 2/5] END ....................ccp_alpha=0.03;, score=0.650 total time=  14.4s\n",
      "[CV 4/5] END ....................ccp_alpha=0.04;, score=0.636 total time=  13.2s\n",
      "[CV 2/5] END .....................ccp_alpha=0.0;, score=0.691 total time=  13.5s\n",
      "[CV 5/5] END .....ccp_alpha=0.15000000000000002;, score=0.564 total time=  13.8s\n",
      "[CV 1/5] END ....................ccp_alpha=0.25;, score=0.489 total time=  14.0s\n",
      "[CV 1/5] END ...................ccp_alpha=0.005;, score=0.683 total time=  14.0s\n",
      "[CV 4/5] END ...................ccp_alpha=0.015;, score=0.668 total time=  13.7s\n",
      "[CV 3/5] END ...................ccp_alpha=0.025;, score=0.655 total time=  14.3s\n",
      "[CV 4/5] END ...................ccp_alpha=0.035;, score=0.643 total time=  14.1s\n",
      "[CV 5/5] END ....................ccp_alpha=0.04;, score=0.633 total time=  12.7s\n",
      "[CV 3/5] END ....................ccp_alpha=0.05;, score=0.628 total time=  13.0s\n",
      "[CV 1/5] END .....ccp_alpha=0.15000000000000002;, score=0.565 total time=  14.5s\n",
      "[CV 4/5] END ....................ccp_alpha=0.25;, score=0.490 total time=  13.9s\n",
      "[CV 4/5] END ...................ccp_alpha=0.005;, score=0.683 total time=  13.8s\n",
      "[CV 5/5] END ....................ccp_alpha=0.01;, score=0.675 total time=  13.9s\n",
      "[CV 2/5] END ...................ccp_alpha=0.025;, score=0.655 total time=  14.3s\n",
      "[CV 3/5] END ...................ccp_alpha=0.035;, score=0.642 total time=  14.4s\n",
      "[CV 3/5] END ...................ccp_alpha=0.045;, score=0.631 total time=  12.6s\n",
      "[CV 5/5] END .....................ccp_alpha=0.0;, score=0.691 total time=  13.0s\n",
      "[CV 5/5] END .....................ccp_alpha=0.1;, score=0.589 total time=  14.6s\n",
      "[CV 5/5] END ....................ccp_alpha=0.25;, score=0.488 total time=  13.7s\n",
      "[CV 5/5] END ...................ccp_alpha=0.005;, score=0.683 total time=  14.0s\n",
      "[CV 1/5] END ...................ccp_alpha=0.015;, score=0.667 total time=  13.5s\n",
      "[CV 4/5] END ....................ccp_alpha=0.02;, score=0.662 total time=  14.0s\n",
      "[CV 5/5] END ....................ccp_alpha=0.03;, score=0.649 total time=  14.7s\n",
      "[CV 1/5] END ...................ccp_alpha=0.045;, score=0.631 total time=  12.9s\n",
      "[CV 2/5] END ....................ccp_alpha=0.05;, score=0.628 total time=  13.0s\n",
      "[CV 4/5] END .....................ccp_alpha=0.1;, score=0.590 total time=  14.5s\n",
      "[CV 2/5] END ....................ccp_alpha=0.25;, score=0.489 total time=  13.9s\n",
      "[CV 3/5] END .....................ccp_alpha=0.0;, score=0.691 total time=  13.9s\n",
      "[CV 2/5] END ....................ccp_alpha=0.01;, score=0.675 total time=  13.9s\n",
      "[CV 1/5] END ...................ccp_alpha=0.025;, score=0.655 total time=  14.1s\n",
      "[CV 2/5] END ...................ccp_alpha=0.035;, score=0.642 total time=  14.8s\n",
      "[CV 4/5] END ...................ccp_alpha=0.045;, score=0.631 total time=  12.6s\n",
      "[CV 3/5] END .....................ccp_alpha=0.0;, score=0.691 total time=  13.0s\n",
      "[CV 3/5] END .....ccp_alpha=0.15000000000000002;, score=0.565 total time=  14.5s\n",
      "[CV 3/5] END ....................ccp_alpha=0.25;, score=0.489 total time=  13.6s\n",
      "[CV 5/5] END .....ccp_alpha=0.30000000000000004;, score=0.469 total time=   8.4s\n",
      "[CV 4/5] END .....................ccp_alpha=0.0;, score=0.691 total time=  14.0s\n",
      "[CV 5/5] END ...................ccp_alpha=0.015;, score=0.668 total time=  14.1s\n",
      "[CV 5/5] END ...................ccp_alpha=0.025;, score=0.655 total time=  13.9s\n",
      "[CV 5/5] END ...................ccp_alpha=0.035;, score=0.641 total time=  14.5s\n",
      "[CV 5/5] END ...................ccp_alpha=0.045;, score=0.630 total time=  12.6s\n",
      "[CV 4/5] END ....................ccp_alpha=0.05;, score=0.628 total time=  12.7s\n",
      "[CV 1/5] END .....................ccp_alpha=0.1;, score=0.589 total time=  13.6s\n",
      "[CV 1/5] END .....................ccp_alpha=0.2;, score=0.534 total time=  13.2s\n",
      "[CV 1/5] END .....ccp_alpha=0.30000000000000004;, score=0.469 total time=   8.9s\n",
      "[CV 2/5] END ...................ccp_alpha=0.005;, score=0.684 total time=  14.0s\n",
      "[CV 3/5] END ...................ccp_alpha=0.015;, score=0.667 total time=  14.1s\n",
      "[CV 4/5] END ...................ccp_alpha=0.025;, score=0.655 total time=  13.6s\n",
      "[CV 1/5] END ...................ccp_alpha=0.035;, score=0.642 total time=  14.6s\n",
      "[CV 2/5] END ...................ccp_alpha=0.045;, score=0.631 total time=  12.9s\n"
     ]
    }
   ],
   "source": [
    "clf.cv_results_['std_test_score']"
   ]
  },
  {
   "cell_type": "code",
   "execution_count": 187,
   "id": "04f9e5fb",
   "metadata": {},
   "outputs": [
    {
     "data": {
      "text/plain": [
       "DecisionTreeRegressor(ccp_alpha=0.05)"
      ]
     },
     "execution_count": 187,
     "metadata": {},
     "output_type": "execute_result"
    }
   ],
   "source": [
    "# reg= DecisionTreeRegressor(min_samples_split= 24336)\n",
    "reg = DecisionTreeRegressor(ccp_alpha = .05)\n",
    "reg.fit(X, y)"
   ]
  },
  {
   "cell_type": "code",
   "execution_count": 188,
   "id": "49354b1e",
   "metadata": {},
   "outputs": [],
   "source": [
    "df['pred_tree'] = reg.predict(X)"
   ]
  },
  {
   "cell_type": "code",
   "execution_count": 189,
   "id": "65e06796",
   "metadata": {},
   "outputs": [],
   "source": [
    "group_map = dict(zip(np.sort(df.pred_tree.unique()), range(df.pred_tree.unique().shape[0])))\n",
    "df['tree_group'] = df.pred_tree.apply(lambda x: group_map[x])"
   ]
  },
  {
   "cell_type": "code",
   "execution_count": 190,
   "id": "50785010",
   "metadata": {},
   "outputs": [
    {
     "data": {
      "text/html": [
       "<div>\n",
       "<style scoped>\n",
       "    .dataframe tbody tr th:only-of-type {\n",
       "        vertical-align: middle;\n",
       "    }\n",
       "\n",
       "    .dataframe tbody tr th {\n",
       "        vertical-align: top;\n",
       "    }\n",
       "\n",
       "    .dataframe thead th {\n",
       "        text-align: right;\n",
       "    }\n",
       "</style>\n",
       "<table border=\"1\" class=\"dataframe\">\n",
       "  <thead>\n",
       "    <tr style=\"text-align: right;\">\n",
       "      <th></th>\n",
       "      <th>X_0</th>\n",
       "      <th>X_1</th>\n",
       "      <th>X_2</th>\n",
       "      <th>X_3</th>\n",
       "      <th>X_4</th>\n",
       "      <th>X_5</th>\n",
       "      <th>X_6</th>\n",
       "      <th>X_7</th>\n",
       "      <th>X_8</th>\n",
       "      <th>X_9</th>\n",
       "      <th>y</th>\n",
       "      <th>int</th>\n",
       "      <th>pred_tree</th>\n",
       "      <th>tree_group</th>\n",
       "    </tr>\n",
       "  </thead>\n",
       "  <tbody>\n",
       "    <tr>\n",
       "      <th>0</th>\n",
       "      <td>1</td>\n",
       "      <td>1</td>\n",
       "      <td>1</td>\n",
       "      <td>1</td>\n",
       "      <td>1</td>\n",
       "      <td>1</td>\n",
       "      <td>1</td>\n",
       "      <td>1</td>\n",
       "      <td>1</td>\n",
       "      <td>0</td>\n",
       "      <td>-5.346832</td>\n",
       "      <td>1022</td>\n",
       "      <td>-1.734549</td>\n",
       "      <td>88</td>\n",
       "    </tr>\n",
       "    <tr>\n",
       "      <th>1</th>\n",
       "      <td>1</td>\n",
       "      <td>1</td>\n",
       "      <td>1</td>\n",
       "      <td>1</td>\n",
       "      <td>0</td>\n",
       "      <td>1</td>\n",
       "      <td>1</td>\n",
       "      <td>0</td>\n",
       "      <td>0</td>\n",
       "      <td>0</td>\n",
       "      <td>-8.258515</td>\n",
       "      <td>984</td>\n",
       "      <td>-9.223353</td>\n",
       "      <td>46</td>\n",
       "    </tr>\n",
       "    <tr>\n",
       "      <th>2</th>\n",
       "      <td>0</td>\n",
       "      <td>1</td>\n",
       "      <td>1</td>\n",
       "      <td>1</td>\n",
       "      <td>0</td>\n",
       "      <td>0</td>\n",
       "      <td>0</td>\n",
       "      <td>0</td>\n",
       "      <td>0</td>\n",
       "      <td>0</td>\n",
       "      <td>-3.212571</td>\n",
       "      <td>448</td>\n",
       "      <td>-2.148693</td>\n",
       "      <td>85</td>\n",
       "    </tr>\n",
       "    <tr>\n",
       "      <th>3</th>\n",
       "      <td>1</td>\n",
       "      <td>0</td>\n",
       "      <td>1</td>\n",
       "      <td>1</td>\n",
       "      <td>1</td>\n",
       "      <td>1</td>\n",
       "      <td>1</td>\n",
       "      <td>0</td>\n",
       "      <td>1</td>\n",
       "      <td>0</td>\n",
       "      <td>-15.814381</td>\n",
       "      <td>762</td>\n",
       "      <td>-16.738607</td>\n",
       "      <td>19</td>\n",
       "    </tr>\n",
       "    <tr>\n",
       "      <th>4</th>\n",
       "      <td>1</td>\n",
       "      <td>1</td>\n",
       "      <td>1</td>\n",
       "      <td>1</td>\n",
       "      <td>1</td>\n",
       "      <td>0</td>\n",
       "      <td>0</td>\n",
       "      <td>1</td>\n",
       "      <td>0</td>\n",
       "      <td>0</td>\n",
       "      <td>-11.325643</td>\n",
       "      <td>996</td>\n",
       "      <td>-6.414577</td>\n",
       "      <td>57</td>\n",
       "    </tr>\n",
       "  </tbody>\n",
       "</table>\n",
       "</div>"
      ],
      "text/plain": [
       "   X_0  X_1  X_2  X_3  X_4  X_5  X_6  X_7  X_8  X_9          y   int  \\\n",
       "0    1    1    1    1    1    1    1    1    1    0  -5.346832  1022   \n",
       "1    1    1    1    1    0    1    1    0    0    0  -8.258515   984   \n",
       "2    0    1    1    1    0    0    0    0    0    0  -3.212571   448   \n",
       "3    1    0    1    1    1    1    1    0    1    0 -15.814381   762   \n",
       "4    1    1    1    1    1    0    0    1    0    0 -11.325643   996   \n",
       "\n",
       "   pred_tree  tree_group  \n",
       "0  -1.734549          88  \n",
       "1  -9.223353          46  \n",
       "2  -2.148693          85  \n",
       "3 -16.738607          19  \n",
       "4  -6.414577          57  "
      ]
     },
     "execution_count": 190,
     "metadata": {},
     "output_type": "execute_result"
    }
   ],
   "source": [
    "df.head()"
   ]
  },
  {
   "cell_type": "code",
   "execution_count": 191,
   "id": "82611db7",
   "metadata": {},
   "outputs": [
    {
     "data": {
      "text/plain": [
       "<AxesSubplot:ylabel='Frequency'>"
      ]
     },
     "execution_count": 191,
     "metadata": {},
     "output_type": "execute_result"
    },
    {
     "data": {
      "image/png": "[encoded data removed]",
      "text/plain": [
       "<Figure size 640x480 with 1 Axes>"
      ]
     },
     "metadata": {},
     "output_type": "display_data"
    }
   ],
   "source": [
    "df.tree_group.plot.hist(bins = 30)"
   ]
  },
  {
   "cell_type": "code",
   "execution_count": 192,
   "id": "4086cde8",
   "metadata": {},
   "outputs": [
    {
     "data": {
      "text/plain": [
       "123"
      ]
     },
     "execution_count": 192,
     "metadata": {},
     "output_type": "execute_result"
    }
   ],
   "source": [
    "df.tree_group.max()"
   ]
  },
  {
   "cell_type": "code",
   "execution_count": 193,
   "id": "03231ad1",
   "metadata": {},
   "outputs": [
    {
     "data": {
      "text/plain": [
       "0.1201171875"
      ]
     },
     "execution_count": 193,
     "metadata": {},
     "output_type": "execute_result"
    }
   ],
   "source": [
    "df.tree_group.max()/2**10"
   ]
  },
  {
   "cell_type": "code",
   "execution_count": 8,
   "id": "a3895a9b",
   "metadata": {},
   "outputs": [],
   "source": [
    "class modelConfig:\n",
    "    def __init__(self, **kwargs):\n",
    "        self.hello = kwargs['hello']\n"
   ]
  },
  {
   "cell_type": "code",
   "execution_count": 9,
   "id": "6f35389c",
   "metadata": {},
   "outputs": [
    {
     "ename": "TypeError",
     "evalue": "__init__() takes 1 positional argument but 2 were given",
     "output_type": "error",
     "traceback": [
      "\u001b[0;31m---------------------------------------------------------------------------\u001b[0m",
      "\u001b[0;31mTypeError\u001b[0m                                 Traceback (most recent call last)",
      "\u001b[0;32m/var/folders/xj/07knx1_11gl5w1nv4tg4xr000000gn/T/ipykernel_7868/4191671719.py\u001b[0m in \u001b[0;36m<module>\u001b[0;34m\u001b[0m\n\u001b[0;32m----> 1\u001b[0;31m \u001b[0mmodelConfig\u001b[0m\u001b[0;34m(\u001b[0m\u001b[0;34m{\u001b[0m\u001b[0;34m'hello'\u001b[0m\u001b[0;34m:\u001b[0m\u001b[0;36m0\u001b[0m\u001b[0;34m}\u001b[0m\u001b[0;34m)\u001b[0m\u001b[0;34m\u001b[0m\u001b[0;34m\u001b[0m\u001b[0m\n\u001b[0m",
      "\u001b[0;31mTypeError\u001b[0m: __init__() takes 1 positional argument but 2 were given"
     ]
    }
   ],
   "source": [
    "modelConfig({'hello':0})"
   ]
  },
  {
   "cell_type": "code",
   "execution_count": null,
   "id": "fba1d98d",
   "metadata": {},
   "outputs": [],
   "source": []
  }
 ],
 "metadata": {
  "kernelspec": {
   "display_name": "Python 3 (ipykernel)",
   "language": "python",
   "name": "python3"
  },
  "language_info": {
   "codemirror_mode": {
    "name": "ipython",
    "version": 3
   },
   "file_extension": ".py",
   "mimetype": "text/x-python",
   "name": "python",
   "nbconvert_exporter": "python",
   "pygments_lexer": "ipython3",
   "version": "3.9.13"
  }
 },
 "nbformat": 4,
 "nbformat_minor": 5
}
