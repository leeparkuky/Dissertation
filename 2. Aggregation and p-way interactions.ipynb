{
 "cells": [
  {
   "cell_type": "code",
   "execution_count": 66,
   "id": "bd01ba03",
   "metadata": {},
   "outputs": [
    {
     "name": "stdout",
     "output_type": "stream",
     "text": [
      "dataset is ordered by var\n"
     ]
    },
    {
     "data": {
      "application/vnd.jupyter.widget-view+json": {
       "model_id": "",
       "version_major": 2,
       "version_minor": 0
      },
      "text/plain": [
       "  0%|          | 0/3 [00:00<?, ?it/s]"
      ]
     },
     "metadata": {},
     "output_type": "display_data"
    },
    {
     "data": {
      "application/vnd.jupyter.widget-view+json": {
       "model_id": "",
       "version_major": 2,
       "version_minor": 0
      },
      "text/plain": [
       "  0%|          | 0/1 [00:00<?, ?it/s]"
      ]
     },
     "metadata": {},
     "output_type": "display_data"
    },
    {
     "data": {
      "application/vnd.jupyter.widget-view+json": {
       "model_id": "",
       "version_major": 2,
       "version_minor": 0
      },
      "text/plain": [
       "  0%|          | 0/2 [00:00<?, ?it/s]"
      ]
     },
     "metadata": {},
     "output_type": "display_data"
    },
    {
     "data": {
      "application/vnd.jupyter.widget-view+json": {
       "model_id": "",
       "version_major": 2,
       "version_minor": 0
      },
      "text/plain": [
       "  0%|          | 0/1 [00:00<?, ?it/s]"
      ]
     },
     "metadata": {},
     "output_type": "display_data"
    }
   ],
   "source": [
    "import numpy as np\n",
    "import pandas as pd\n",
    "import scipy\n",
    "\n",
    "\n",
    "\n",
    "from Dissertation import RandomGenerator, convert_to_int, get_order_index\n",
    "rg = RandomGenerator(5, 100, order_by = 'var', use_dask = False)"
   ]
  },
  {
   "cell_type": "code",
   "execution_count": 67,
   "id": "b011e9fa",
   "metadata": {},
   "outputs": [],
   "source": [
    "df = rg()"
   ]
  },
  {
   "cell_type": "markdown",
   "id": "d53623a9",
   "metadata": {},
   "source": [
    "#### Brief look at the data"
   ]
  },
  {
   "cell_type": "code",
   "execution_count": 68,
   "id": "f9b89926",
   "metadata": {
    "scrolled": true
   },
   "outputs": [
    {
     "data": {
      "text/html": [
       "<div>\n",
       "<style scoped>\n",
       "    .dataframe tbody tr th:only-of-type {\n",
       "        vertical-align: middle;\n",
       "    }\n",
       "\n",
       "    .dataframe tbody tr th {\n",
       "        vertical-align: top;\n",
       "    }\n",
       "\n",
       "    .dataframe thead th {\n",
       "        text-align: right;\n",
       "    }\n",
       "</style>\n",
       "<table border=\"1\" class=\"dataframe\">\n",
       "  <thead>\n",
       "    <tr style=\"text-align: right;\">\n",
       "      <th></th>\n",
       "      <th>X_0</th>\n",
       "      <th>X_1</th>\n",
       "      <th>X_2</th>\n",
       "      <th>X_3</th>\n",
       "      <th>X_4</th>\n",
       "      <th>X_1X_4</th>\n",
       "      <th>X_0X_2X_4</th>\n",
       "      <th>X_0X_1X_3</th>\n",
       "      <th>X_0X_1X_2X_4</th>\n",
       "      <th>y</th>\n",
       "    </tr>\n",
       "  </thead>\n",
       "  <tbody>\n",
       "    <tr>\n",
       "      <th>0</th>\n",
       "      <td>0</td>\n",
       "      <td>1</td>\n",
       "      <td>0</td>\n",
       "      <td>1</td>\n",
       "      <td>1</td>\n",
       "      <td>1</td>\n",
       "      <td>0</td>\n",
       "      <td>0</td>\n",
       "      <td>0</td>\n",
       "      <td>4.783196</td>\n",
       "    </tr>\n",
       "    <tr>\n",
       "      <th>1</th>\n",
       "      <td>1</td>\n",
       "      <td>1</td>\n",
       "      <td>1</td>\n",
       "      <td>1</td>\n",
       "      <td>0</td>\n",
       "      <td>0</td>\n",
       "      <td>0</td>\n",
       "      <td>1</td>\n",
       "      <td>0</td>\n",
       "      <td>4.199899</td>\n",
       "    </tr>\n",
       "    <tr>\n",
       "      <th>2</th>\n",
       "      <td>0</td>\n",
       "      <td>1</td>\n",
       "      <td>0</td>\n",
       "      <td>1</td>\n",
       "      <td>0</td>\n",
       "      <td>0</td>\n",
       "      <td>0</td>\n",
       "      <td>0</td>\n",
       "      <td>0</td>\n",
       "      <td>9.655961</td>\n",
       "    </tr>\n",
       "    <tr>\n",
       "      <th>3</th>\n",
       "      <td>0</td>\n",
       "      <td>0</td>\n",
       "      <td>1</td>\n",
       "      <td>0</td>\n",
       "      <td>0</td>\n",
       "      <td>0</td>\n",
       "      <td>0</td>\n",
       "      <td>0</td>\n",
       "      <td>0</td>\n",
       "      <td>-2.625972</td>\n",
       "    </tr>\n",
       "    <tr>\n",
       "      <th>4</th>\n",
       "      <td>1</td>\n",
       "      <td>0</td>\n",
       "      <td>0</td>\n",
       "      <td>0</td>\n",
       "      <td>0</td>\n",
       "      <td>0</td>\n",
       "      <td>0</td>\n",
       "      <td>0</td>\n",
       "      <td>0</td>\n",
       "      <td>3.217509</td>\n",
       "    </tr>\n",
       "  </tbody>\n",
       "</table>\n",
       "</div>"
      ],
      "text/plain": [
       "   X_0  X_1  X_2  X_3  X_4  X_1X_4  X_0X_2X_4  X_0X_1X_3  X_0X_1X_2X_4  \\\n",
       "0    0    1    0    1    1       1          0          0             0   \n",
       "1    1    1    1    1    0       0          0          1             0   \n",
       "2    0    1    0    1    0       0          0          0             0   \n",
       "3    0    0    1    0    0       0          0          0             0   \n",
       "4    1    0    0    0    0       0          0          0             0   \n",
       "\n",
       "          y  \n",
       "0  4.783196  \n",
       "1  4.199899  \n",
       "2  9.655961  \n",
       "3 -2.625972  \n",
       "4  3.217509  "
      ]
     },
     "execution_count": 68,
     "metadata": {},
     "output_type": "execute_result"
    }
   ],
   "source": [
    "df.head()"
   ]
  },
  {
   "cell_type": "markdown",
   "id": "0fe41aad",
   "metadata": {},
   "source": [
    "### How to find the full model"
   ]
  },
  {
   "cell_type": "code",
   "execution_count": 69,
   "id": "af7d2953",
   "metadata": {},
   "outputs": [],
   "source": [
    "df['X_int'] = df.iloc[:,:5].apply(convert_to_int, axis = 1)"
   ]
  },
  {
   "cell_type": "code",
   "execution_count": 70,
   "id": "e1364fd6",
   "metadata": {},
   "outputs": [],
   "source": [
    "prediction = df.groupby('X_int')['y'].agg(np.mean)\n",
    "df['pred'] = df.X_int.apply(lambda x: prediction[x])"
   ]
  },
  {
   "cell_type": "code",
   "execution_count": 71,
   "id": "f6be3142",
   "metadata": {},
   "outputs": [
    {
     "data": {
      "text/plain": [
       "X_int\n",
       "0     -2.778951\n",
       "2     -1.672351\n",
       "4      0.525211\n",
       "6      2.286356\n",
       "7     -7.444686\n",
       "8      8.728226\n",
       "10     9.655961\n",
       "11     4.183016\n",
       "12     7.620110\n",
       "14     4.016774\n",
       "15     3.947661\n",
       "16     3.217509\n",
       "17     0.871730\n",
       "18     8.766128\n",
       "19     4.500237\n",
       "20     6.250312\n",
       "21     7.238610\n",
       "22     5.840614\n",
       "23     0.310708\n",
       "24     6.922149\n",
       "25     8.492836\n",
       "26     7.006050\n",
       "27     2.374025\n",
       "28     8.367708\n",
       "29    14.967918\n",
       "30     3.369157\n",
       "31    11.328444\n",
       "Name: y, dtype: float64"
      ]
     },
     "execution_count": 71,
     "metadata": {},
     "output_type": "execute_result"
    }
   ],
   "source": [
    "prediction"
   ]
  },
  {
   "cell_type": "code",
   "execution_count": 76,
   "id": "f11d7893",
   "metadata": {},
   "outputs": [],
   "source": [
    "SSTO = np.sum((df.y - df.y.mean())**2)\n",
    "SSE = np.sum((df.y - df.pred)**2)\n",
    "R_sqf = (SSTO - SSE)/SSTO"
   ]
  },
  {
   "cell_type": "code",
   "execution_count": 77,
   "id": "d8e0afb7",
   "metadata": {},
   "outputs": [
    {
     "data": {
      "text/plain": [
       "0.4607977754866765"
      ]
     },
     "execution_count": 77,
     "metadata": {},
     "output_type": "execute_result"
    }
   ],
   "source": [
    "R_sqf"
   ]
  },
  {
   "cell_type": "markdown",
   "id": "b288ecbd",
   "metadata": {},
   "source": [
    "### Aggregation / P-way interaction"
   ]
  },
  {
   "cell_type": "code",
   "execution_count": 80,
   "id": "f4bebb73",
   "metadata": {},
   "outputs": [],
   "source": [
    "aggregation = df.iloc[:, :5].apply(np.sum, axis = 1)"
   ]
  },
  {
   "cell_type": "code",
   "execution_count": 81,
   "id": "6a0672b5",
   "metadata": {},
   "outputs": [
    {
     "data": {
      "text/plain": [
       "0     3\n",
       "1     4\n",
       "2     2\n",
       "3     1\n",
       "4     1\n",
       "     ..\n",
       "95    0\n",
       "96    4\n",
       "97    4\n",
       "98    2\n",
       "99    1\n",
       "Length: 100, dtype: int64"
      ]
     },
     "execution_count": 81,
     "metadata": {},
     "output_type": "execute_result"
    }
   ],
   "source": [
    "aggregation"
   ]
  },
  {
   "cell_type": "code",
   "execution_count": 82,
   "id": "9dc72351",
   "metadata": {},
   "outputs": [],
   "source": [
    "# Treating aggregation as a categorical variable"
   ]
  },
  {
   "cell_type": "code",
   "execution_count": 87,
   "id": "5adef5f3",
   "metadata": {},
   "outputs": [],
   "source": [
    "pred2 = df.groupby(aggregation)['y'].agg(np.mean)"
   ]
  },
  {
   "cell_type": "code",
   "execution_count": 89,
   "id": "29c16c11",
   "metadata": {},
   "outputs": [],
   "source": [
    "df['pred2'] = aggregation.apply(lambda x: pred2[x])"
   ]
  },
  {
   "cell_type": "code",
   "execution_count": 92,
   "id": "4c2404f0",
   "metadata": {},
   "outputs": [],
   "source": [
    "SSTO = np.sum((df.y - df.y.mean())**2)\n",
    "SSE = np.sum((df.y - df.pred2)**2)\n",
    "R_sqa = (SSTO - SSE)/SSTO"
   ]
  },
  {
   "cell_type": "code",
   "execution_count": 94,
   "id": "e282aef2",
   "metadata": {},
   "outputs": [
    {
     "data": {
      "text/plain": [
       "0.6619202525553443"
      ]
     },
     "execution_count": 94,
     "metadata": {},
     "output_type": "execute_result"
    }
   ],
   "source": [
    "(R_sqf-R_sqa)/(1-R_sqf) #tau"
   ]
  },
  {
   "cell_type": "code",
   "execution_count": 99,
   "id": "0c70ff81",
   "metadata": {},
   "outputs": [],
   "source": [
    "# Treating aggregation as numeric variable\n",
    "from sklearn.linear_model import LinearRegression\n",
    "reg = LinearRegression()"
   ]
  },
  {
   "cell_type": "code",
   "execution_count": 104,
   "id": "fb66cd2b",
   "metadata": {},
   "outputs": [
    {
     "data": {
      "text/plain": [
       "LinearRegression()"
      ]
     },
     "execution_count": 104,
     "metadata": {},
     "output_type": "execute_result"
    }
   ],
   "source": [
    "reg.fit(aggregation.to_numpy().reshape(-1,1), df.y)"
   ]
  },
  {
   "cell_type": "code",
   "execution_count": 108,
   "id": "7a1c0e19",
   "metadata": {},
   "outputs": [],
   "source": [
    "df['pred3'] = reg.predict(aggregation.to_numpy().reshape(-1,1))"
   ]
  },
  {
   "cell_type": "code",
   "execution_count": 109,
   "id": "ab1fb7d2",
   "metadata": {},
   "outputs": [
    {
     "data": {
      "text/plain": [
       "0.8138574115951377"
      ]
     },
     "execution_count": 109,
     "metadata": {},
     "output_type": "execute_result"
    }
   ],
   "source": [
    "SSTO = np.sum((df.y - df.y.mean())**2)\n",
    "SSE = np.sum((df.y - df.pred3)**2)\n",
    "R_sqa2 = (SSTO - SSE)/SSTO\n",
    "(R_sqf-R_sqa2)/(1-R_sqf) #tau"
   ]
  },
  {
   "cell_type": "markdown",
   "id": "fccbcffa",
   "metadata": {},
   "source": [
    "### p-way interaction"
   ]
  },
  {
   "cell_type": "code",
   "execution_count": 113,
   "id": "4a919c4c",
   "metadata": {},
   "outputs": [],
   "source": [
    "df['pint'] = df.iloc[:, :5].apply(lambda x: 1 if np.sum(x) > 0 else 0, axis = 1)"
   ]
  },
  {
   "cell_type": "code",
   "execution_count": 116,
   "id": "52a9d167",
   "metadata": {},
   "outputs": [
    {
     "data": {
      "text/plain": [
       "LinearRegression()"
      ]
     },
     "execution_count": 116,
     "metadata": {},
     "output_type": "execute_result"
    }
   ],
   "source": [
    "reg.fit(df.pint.to_numpy().reshape(-1,1), df.y)"
   ]
  },
  {
   "cell_type": "code",
   "execution_count": 118,
   "id": "d002c369",
   "metadata": {},
   "outputs": [],
   "source": [
    "df['pred4'] = reg.predict(df.pint.to_numpy().reshape(-1,1))"
   ]
  },
  {
   "cell_type": "code",
   "execution_count": 120,
   "id": "25805c9e",
   "metadata": {},
   "outputs": [
    {
     "data": {
      "text/plain": [
       "0.8153847520892585"
      ]
     },
     "execution_count": 120,
     "metadata": {},
     "output_type": "execute_result"
    }
   ],
   "source": [
    "SSTO = np.sum((df.y - df.y.mean())**2)\n",
    "SSE = np.sum((df.y - df.pred4)**2)\n",
    "R_sqpint = (SSTO - SSE)/SSTO\n",
    "(R_sqf-R_sqpint)/(1-R_sqf) #tau"
   ]
  }
 ],
 "metadata": {
  "kernelspec": {
   "display_name": "Python 3 (ipykernel)",
   "language": "python",
   "name": "python3"
  },
  "language_info": {
   "codemirror_mode": {
    "name": "ipython",
    "version": 3
   },
   "file_extension": ".py",
   "mimetype": "text/x-python",
   "name": "python",
   "nbconvert_exporter": "python",
   "pygments_lexer": "ipython3",
   "version": "3.9.13"
  }
 },
 "nbformat": 4,
 "nbformat_minor": 5
}
