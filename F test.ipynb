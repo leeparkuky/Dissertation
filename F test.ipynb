{
 "cells": [
  {
   "cell_type": "code",
   "execution_count": 1,
   "id": "1dbe1afd",
   "metadata": {},
   "outputs": [],
   "source": [
    "from scipy.stats import f, ncf"
   ]
  },
  {
   "cell_type": "markdown",
   "id": "904ab13a",
   "metadata": {},
   "source": [
    "### Hypothesis test\n",
    "\n",
    "$$H_0 : \\frac{\\rho^2_{Full} - \\rho^2_{Reduced}}{1-\\rho^2_{Full}} \\le \\tau_0$$\n",
    "$$H_A : \\frac{\\rho^2_{Full} - \\rho^2_{Reduced}}{1-\\rho^2_{Full}} \\gt \\tau_0$$"
   ]
  },
  {
   "cell_type": "markdown",
   "id": "23e89038",
   "metadata": {},
   "source": [
    "### Test Statistic $F^*$\n",
    "\n",
    "$$F^* = \\frac{R^2_{Full}-R^2_{Reduced}}{1-R^2_{Full}} \\frac{n-p}{p-q} > F_{1-\\alpha, p-q, n-p, n\\tau_0}$$"
   ]
  },
  {
   "cell_type": "markdown",
   "id": "e49e1be1",
   "metadata": {},
   "source": [
    "### Confidence Interval for $\\tau$\n",
    "\n",
    "$$\\tau \\in (LB, \\infty)$$\n",
    "where\n",
    "$$LB = argmin_{\\tau} \\{\\tau | F_{p-q,n-p,n*\\tau} (F^*) \\ge 1-\\alpha\\}$$"
   ]
  },
  {
   "cell_type": "code",
   "execution_count": 85,
   "id": "f8dd9047",
   "metadata": {},
   "outputs": [],
   "source": [
    "dfn, dfd, lamb = 29, 18, 2"
   ]
  },
  {
   "cell_type": "markdown",
   "id": "5480c1fc",
   "metadata": {},
   "source": [
    "### Getting the critical point of the test"
   ]
  },
  {
   "cell_type": "code",
   "execution_count": 86,
   "id": "9fa346ab",
   "metadata": {
    "scrolled": true
   },
   "outputs": [
    {
     "data": {
      "text/plain": [
       "2.258030326550582"
      ]
     },
     "execution_count": 86,
     "metadata": {},
     "output_type": "execute_result"
    }
   ],
   "source": [
    "ncf.ppf(.95, dfn, dfd, lamb)"
   ]
  },
  {
   "cell_type": "markdown",
   "id": "fc5a3b08",
   "metadata": {},
   "source": [
    "### Getting the p-value"
   ]
  },
  {
   "cell_type": "code",
   "execution_count": 87,
   "id": "5a5f62b1",
   "metadata": {},
   "outputs": [
    {
     "data": {
      "text/plain": [
       "0.9988236594978004"
      ]
     },
     "execution_count": 87,
     "metadata": {},
     "output_type": "execute_result"
    }
   ],
   "source": [
    "ncf.cdf(4.5, dfn, dfd, lamb)"
   ]
  },
  {
   "cell_type": "code",
   "execution_count": 88,
   "id": "5901a1b5",
   "metadata": {},
   "outputs": [
    {
     "data": {
      "text/plain": [
       "0.022756679811801163"
      ]
     },
     "execution_count": 88,
     "metadata": {},
     "output_type": "execute_result"
    }
   ],
   "source": [
    "f.sf(4.5, dfn, dfd,lamb)"
   ]
  },
  {
   "cell_type": "markdown",
   "id": "f821ab15",
   "metadata": {},
   "source": [
    "### Getting confidence interval"
   ]
  },
  {
   "cell_type": "code",
   "execution_count": 17,
   "id": "c4bc2596",
   "metadata": {},
   "outputs": [],
   "source": [
    "r_sqf = .78\n",
    "r_sqr = .72\n",
    "n = 100000\n",
    "p = 10\n",
    "q = 5\n",
    "dfn = p-q\n",
    "dfd = n-p\n",
    "tau_est = (r_sqf - r_sqr)/(1-r_sqf)\n",
    "# f_test = (r_sqf - r_sqr)/(1-r_sqf)*(n-p)/(p-q)\n",
    "f_test = tau_est*dfd/dfn"
   ]
  },
  {
   "cell_type": "code",
   "execution_count": 18,
   "id": "e37b2f3e",
   "metadata": {},
   "outputs": [
    {
     "data": {
      "text/plain": [
       "(5454.0000000000055, 0.272727272727273)"
      ]
     },
     "execution_count": 18,
     "metadata": {},
     "output_type": "execute_result"
    }
   ],
   "source": [
    "f_test, tau_est"
   ]
  },
  {
   "cell_type": "code",
   "execution_count": 25,
   "id": "f02475cd",
   "metadata": {},
   "outputs": [
    {
     "name": "stdout",
     "output_type": "stream",
     "text": [
      "loc is 26552.399999999998\n"
     ]
    },
    {
     "data": {
      "text/plain": [
       "0.02067394852150683"
      ]
     },
     "execution_count": 25,
     "metadata": {},
     "output_type": "execute_result"
    }
   ],
   "source": [
    "tau = .265524\n",
    "print(f\"loc is {tau*n}\")\n",
    "ncf.sf(f_test, dfn, dfd, tau*n)"
   ]
  },
  {
   "cell_type": "code",
   "execution_count": 26,
   "id": "d61fd4a3",
   "metadata": {},
   "outputs": [
    {
     "data": {
      "text/plain": [
       "(5318.4234014272115, 5594.4812263787735)"
      ]
     },
     "execution_count": 26,
     "metadata": {},
     "output_type": "execute_result"
    }
   ],
   "source": [
    "ncf.interval(.95, dfn, dfd, tau_est*n)"
   ]
  },
  {
   "cell_type": "code",
   "execution_count": 27,
   "id": "b1418db5",
   "metadata": {},
   "outputs": [
    {
     "data": {
      "text/plain": [
       "[0.2659477648478454, 0.27975203652259095]"
      ]
     },
     "execution_count": 27,
     "metadata": {},
     "output_type": "execute_result"
    }
   ],
   "source": [
    "[x*dfn/dfd for x in ncf.interval(.95, dfn, dfd, tau_est*n)]"
   ]
  },
  {
   "cell_type": "code",
   "execution_count": null,
   "id": "fe90fa0e",
   "metadata": {},
   "outputs": [],
   "source": []
  }
 ],
 "metadata": {
  "kernelspec": {
   "display_name": "Python 3 (ipykernel)",
   "language": "python",
   "name": "python3"
  },
  "language_info": {
   "codemirror_mode": {
    "name": "ipython",
    "version": 3
   },
   "file_extension": ".py",
   "mimetype": "text/x-python",
   "name": "python",
   "nbconvert_exporter": "python",
   "pygments_lexer": "ipython3",
   "version": "3.9.13"
  }
 },
 "nbformat": 4,
 "nbformat_minor": 5
}
