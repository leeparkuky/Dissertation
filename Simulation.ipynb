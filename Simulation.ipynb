{
 "cells": [
  {
   "cell_type": "code",
   "execution_count": 35,
   "id": "3adb487e",
   "metadata": {},
   "outputs": [],
   "source": [
    "from sample import sample_generator\n",
    "from estimators import ClusteredSegmentation\n",
    "from BarcodeScanner import cluster_barcode_scanner\n",
    "\n",
    "import numpy as np"
   ]
  },
  {
   "cell_type": "code",
   "execution_count": 2,
   "id": "73080b55",
   "metadata": {},
   "outputs": [
    {
     "ename": "NameError",
     "evalue": "name 'sample_generator' is not defined",
     "output_type": "error",
     "traceback": [
      "\u001b[0;31m---------------------------------------------------------------------------\u001b[0m",
      "\u001b[0;31mNameError\u001b[0m                                 Traceback (most recent call last)",
      "\u001b[0;32m/var/folders/xj/07knx1_11gl5w1nv4tg4xr000000gn/T/ipykernel_24802/3910772911.py\u001b[0m in \u001b[0;36m<module>\u001b[0;34m\u001b[0m\n\u001b[0;32m----> 1\u001b[0;31m \u001b[0mrng\u001b[0m \u001b[0;34m=\u001b[0m \u001b[0msample_generator\u001b[0m\u001b[0;34m(\u001b[0m\u001b[0;36m3\u001b[0m\u001b[0;34m,\u001b[0m \u001b[0;36m10\u001b[0m\u001b[0;34m,\u001b[0m \u001b[0;36m1\u001b[0m\u001b[0;34m)\u001b[0m\u001b[0;34m\u001b[0m\u001b[0;34m\u001b[0m\u001b[0m\n\u001b[0m",
      "\u001b[0;31mNameError\u001b[0m: name 'sample_generator' is not defined"
     ]
    }
   ],
   "source": [
    "rng = sample_generator(3, 10, 1)"
   ]
  },
  {
   "cell_type": "code",
   "execution_count": 57,
   "id": "6087e163",
   "metadata": {
    "scrolled": true
   },
   "outputs": [
    {
     "data": {
      "text/plain": [
       "{'X2*X3': -5.2561668097854675}"
      ]
     },
     "execution_count": 57,
     "metadata": {},
     "output_type": "execute_result"
    }
   ],
   "source": [
    "rng.interactions"
   ]
  },
  {
   "cell_type": "code",
   "execution_count": 58,
   "id": "e791bc67",
   "metadata": {},
   "outputs": [
    {
     "data": {
      "text/html": [
       "<style>#sk-container-id-4 {color: black;background-color: white;}#sk-container-id-4 pre{padding: 0;}#sk-container-id-4 div.sk-toggleable {background-color: white;}#sk-container-id-4 label.sk-toggleable__label {cursor: pointer;display: block;width: 100%;margin-bottom: 0;padding: 0.3em;box-sizing: border-box;text-align: center;}#sk-container-id-4 label.sk-toggleable__label-arrow:before {content: \"▸\";float: left;margin-right: 0.25em;color: #696969;}#sk-container-id-4 label.sk-toggleable__label-arrow:hover:before {color: black;}#sk-container-id-4 div.sk-estimator:hover label.sk-toggleable__label-arrow:before {color: black;}#sk-container-id-4 div.sk-toggleable__content {max-height: 0;max-width: 0;overflow: hidden;text-align: left;background-color: #f0f8ff;}#sk-container-id-4 div.sk-toggleable__content pre {margin: 0.2em;color: black;border-radius: 0.25em;background-color: #f0f8ff;}#sk-container-id-4 input.sk-toggleable__control:checked~div.sk-toggleable__content {max-height: 200px;max-width: 100%;overflow: auto;}#sk-container-id-4 input.sk-toggleable__control:checked~label.sk-toggleable__label-arrow:before {content: \"▾\";}#sk-container-id-4 div.sk-estimator input.sk-toggleable__control:checked~label.sk-toggleable__label {background-color: #d4ebff;}#sk-container-id-4 div.sk-label input.sk-toggleable__control:checked~label.sk-toggleable__label {background-color: #d4ebff;}#sk-container-id-4 input.sk-hidden--visually {border: 0;clip: rect(1px 1px 1px 1px);clip: rect(1px, 1px, 1px, 1px);height: 1px;margin: -1px;overflow: hidden;padding: 0;position: absolute;width: 1px;}#sk-container-id-4 div.sk-estimator {font-family: monospace;background-color: #f0f8ff;border: 1px dotted black;border-radius: 0.25em;box-sizing: border-box;margin-bottom: 0.5em;}#sk-container-id-4 div.sk-estimator:hover {background-color: #d4ebff;}#sk-container-id-4 div.sk-parallel-item::after {content: \"\";width: 100%;border-bottom: 1px solid gray;flex-grow: 1;}#sk-container-id-4 div.sk-label:hover label.sk-toggleable__label {background-color: #d4ebff;}#sk-container-id-4 div.sk-serial::before {content: \"\";position: absolute;border-left: 1px solid gray;box-sizing: border-box;top: 0;bottom: 0;left: 50%;z-index: 0;}#sk-container-id-4 div.sk-serial {display: flex;flex-direction: column;align-items: center;background-color: white;padding-right: 0.2em;padding-left: 0.2em;position: relative;}#sk-container-id-4 div.sk-item {position: relative;z-index: 1;}#sk-container-id-4 div.sk-parallel {display: flex;align-items: stretch;justify-content: center;background-color: white;position: relative;}#sk-container-id-4 div.sk-item::before, #sk-container-id-4 div.sk-parallel-item::before {content: \"\";position: absolute;border-left: 1px solid gray;box-sizing: border-box;top: 0;bottom: 0;left: 50%;z-index: -1;}#sk-container-id-4 div.sk-parallel-item {display: flex;flex-direction: column;z-index: 1;position: relative;background-color: white;}#sk-container-id-4 div.sk-parallel-item:first-child::after {align-self: flex-end;width: 50%;}#sk-container-id-4 div.sk-parallel-item:last-child::after {align-self: flex-start;width: 50%;}#sk-container-id-4 div.sk-parallel-item:only-child::after {width: 0;}#sk-container-id-4 div.sk-dashed-wrapped {border: 1px dashed gray;margin: 0 0.4em 0.5em 0.4em;box-sizing: border-box;padding-bottom: 0.4em;background-color: white;}#sk-container-id-4 div.sk-label label {font-family: monospace;font-weight: bold;display: inline-block;line-height: 1.2em;}#sk-container-id-4 div.sk-label-container {text-align: center;}#sk-container-id-4 div.sk-container {/* jupyter's `normalize.less` sets `[hidden] { display: none; }` but bootstrap.min.css set `[hidden] { display: none !important; }` so we also need the `!important` here to be able to override the default hidden behavior on the sphinx rendered scikit-learn.org. See: https://github.com/scikit-learn/scikit-learn/issues/21755 */display: inline-block !important;position: relative;}#sk-container-id-4 div.sk-text-repr-fallback {display: none;}</style><div id=\"sk-container-id-4\" class=\"sk-top-container\"><div class=\"sk-text-repr-fallback\"><pre>ClusteredSegmentation(n_clusters=3)</pre><b>In a Jupyter environment, please rerun this cell to show the HTML representation or trust the notebook. <br />On GitHub, the HTML representation is unable to render, please try loading this page with nbviewer.org.</b></div><div class=\"sk-container\" hidden><div class=\"sk-item\"><div class=\"sk-estimator sk-toggleable\"><input class=\"sk-toggleable__control sk-hidden--visually\" id=\"sk-estimator-id-4\" type=\"checkbox\" checked><label for=\"sk-estimator-id-4\" class=\"sk-toggleable__label sk-toggleable__label-arrow\">ClusteredSegmentation</label><div class=\"sk-toggleable__content\"><pre>ClusteredSegmentation(n_clusters=3)</pre></div></div></div></div></div>"
      ],
      "text/plain": [
       "ClusteredSegmentation(n_clusters=3)"
      ]
     },
     "execution_count": 58,
     "metadata": {},
     "output_type": "execute_result"
    }
   ],
   "source": [
    "cluster = ClusteredSegmentation(n_clusters = 3)\n",
    "cluster.fit(rng.barcode.reshape(-1,1), rng.y)\n"
   ]
  },
  {
   "cell_type": "code",
   "execution_count": 59,
   "id": "585af50c",
   "metadata": {},
   "outputs": [
    {
     "data": {
      "text/plain": [
       "5.530222569555147"
      ]
     },
     "execution_count": 59,
     "metadata": {},
     "output_type": "execute_result"
    }
   ],
   "source": [
    "cluster.MSE"
   ]
  },
  {
   "cell_type": "code",
   "execution_count": 60,
   "id": "468c4240",
   "metadata": {},
   "outputs": [
    {
     "data": {
      "text/plain": [
       "(tau(n=1000, p=8, q=3, r_sqf=0.5319423843689808, r_sqr=0.5018961448274717, alpha=0.05),\n",
       " 0.06419346366365983)"
      ]
     },
     "execution_count": 60,
     "metadata": {},
     "output_type": "execute_result"
    }
   ],
   "source": [
    "cluster.tau_metric, cluster.tau_metric.tau_est"
   ]
  },
  {
   "cell_type": "code",
   "execution_count": 61,
   "id": "4c5f2603",
   "metadata": {},
   "outputs": [
    {
     "data": {
      "text/html": [
       "<div>\n",
       "<style scoped>\n",
       "    .dataframe tbody tr th:only-of-type {\n",
       "        vertical-align: middle;\n",
       "    }\n",
       "\n",
       "    .dataframe tbody tr th {\n",
       "        vertical-align: top;\n",
       "    }\n",
       "\n",
       "    .dataframe thead th {\n",
       "        text-align: right;\n",
       "    }\n",
       "</style>\n",
       "<table border=\"1\" class=\"dataframe\">\n",
       "  <thead>\n",
       "    <tr style=\"text-align: right;\">\n",
       "      <th></th>\n",
       "      <th>full</th>\n",
       "      <th>reduced</th>\n",
       "      <th>counts</th>\n",
       "    </tr>\n",
       "  </thead>\n",
       "  <tbody>\n",
       "    <tr>\n",
       "      <th>0</th>\n",
       "      <td>0</td>\n",
       "      <td>0</td>\n",
       "      <td>25</td>\n",
       "    </tr>\n",
       "    <tr>\n",
       "      <th>1</th>\n",
       "      <td>1</td>\n",
       "      <td>1</td>\n",
       "      <td>68</td>\n",
       "    </tr>\n",
       "    <tr>\n",
       "      <th>2</th>\n",
       "      <td>2</td>\n",
       "      <td>1</td>\n",
       "      <td>66</td>\n",
       "    </tr>\n",
       "    <tr>\n",
       "      <th>3</th>\n",
       "      <td>3</td>\n",
       "      <td>1</td>\n",
       "      <td>116</td>\n",
       "    </tr>\n",
       "    <tr>\n",
       "      <th>4</th>\n",
       "      <td>4</td>\n",
       "      <td>1</td>\n",
       "      <td>81</td>\n",
       "    </tr>\n",
       "    <tr>\n",
       "      <th>5</th>\n",
       "      <td>5</td>\n",
       "      <td>2</td>\n",
       "      <td>185</td>\n",
       "    </tr>\n",
       "    <tr>\n",
       "      <th>6</th>\n",
       "      <td>6</td>\n",
       "      <td>2</td>\n",
       "      <td>153</td>\n",
       "    </tr>\n",
       "    <tr>\n",
       "      <th>7</th>\n",
       "      <td>7</td>\n",
       "      <td>2</td>\n",
       "      <td>306</td>\n",
       "    </tr>\n",
       "  </tbody>\n",
       "</table>\n",
       "</div>"
      ],
      "text/plain": [
       "   full  reduced  counts\n",
       "0     0        0      25\n",
       "1     1        1      68\n",
       "2     2        1      66\n",
       "3     3        1     116\n",
       "4     4        1      81\n",
       "5     5        2     185\n",
       "6     6        2     153\n",
       "7     7        2     306"
      ]
     },
     "execution_count": 61,
     "metadata": {},
     "output_type": "execute_result"
    }
   ],
   "source": [
    "cluster.full_to_reduced_with_counts"
   ]
  },
  {
   "cell_type": "code",
   "execution_count": 62,
   "id": "177ccaed",
   "metadata": {},
   "outputs": [],
   "source": [
    "scanner = cluster_barcode_scanner(rng, cluster)\n",
    "\n"
   ]
  },
  {
   "cell_type": "code",
   "execution_count": 63,
   "id": "bb87dfce",
   "metadata": {},
   "outputs": [],
   "source": [
    "df = scanner.distance_table\n",
    "\n"
   ]
  },
  {
   "cell_type": "code",
   "execution_count": 64,
   "id": "8a1bc556",
   "metadata": {},
   "outputs": [
    {
     "data": {
      "text/html": [
       "<div>\n",
       "<style scoped>\n",
       "    .dataframe tbody tr th:only-of-type {\n",
       "        vertical-align: middle;\n",
       "    }\n",
       "\n",
       "    .dataframe tbody tr th {\n",
       "        vertical-align: top;\n",
       "    }\n",
       "\n",
       "    .dataframe thead th {\n",
       "        text-align: right;\n",
       "    }\n",
       "</style>\n",
       "<table border=\"1\" class=\"dataframe\">\n",
       "  <thead>\n",
       "    <tr style=\"text-align: right;\">\n",
       "      <th></th>\n",
       "      <th>beta1*beta2</th>\n",
       "      <th>beta1*beta3</th>\n",
       "      <th>beta2*beta3</th>\n",
       "      <th>beta1*beta2*beta3</th>\n",
       "      <th>distance</th>\n",
       "    </tr>\n",
       "  </thead>\n",
       "  <tbody>\n",
       "    <tr>\n",
       "      <th>0</th>\n",
       "      <td>0</td>\n",
       "      <td>1</td>\n",
       "      <td>0</td>\n",
       "      <td>0</td>\n",
       "      <td>0.583333</td>\n",
       "    </tr>\n",
       "    <tr>\n",
       "      <th>1</th>\n",
       "      <td>1</td>\n",
       "      <td>0</td>\n",
       "      <td>0</td>\n",
       "      <td>0</td>\n",
       "      <td>0.583333</td>\n",
       "    </tr>\n",
       "    <tr>\n",
       "      <th>2</th>\n",
       "      <td>0</td>\n",
       "      <td>1</td>\n",
       "      <td>0</td>\n",
       "      <td>1</td>\n",
       "      <td>0.525000</td>\n",
       "    </tr>\n",
       "    <tr>\n",
       "      <th>3</th>\n",
       "      <td>1</td>\n",
       "      <td>0</td>\n",
       "      <td>0</td>\n",
       "      <td>1</td>\n",
       "      <td>0.525000</td>\n",
       "    </tr>\n",
       "    <tr>\n",
       "      <th>4</th>\n",
       "      <td>0</td>\n",
       "      <td>1</td>\n",
       "      <td>1</td>\n",
       "      <td>1</td>\n",
       "      <td>0.400794</td>\n",
       "    </tr>\n",
       "    <tr>\n",
       "      <th>5</th>\n",
       "      <td>1</td>\n",
       "      <td>0</td>\n",
       "      <td>1</td>\n",
       "      <td>1</td>\n",
       "      <td>0.400794</td>\n",
       "    </tr>\n",
       "    <tr>\n",
       "      <th>6</th>\n",
       "      <td>0</td>\n",
       "      <td>1</td>\n",
       "      <td>1</td>\n",
       "      <td>0</td>\n",
       "      <td>0.364583</td>\n",
       "    </tr>\n",
       "    <tr>\n",
       "      <th>7</th>\n",
       "      <td>1</td>\n",
       "      <td>0</td>\n",
       "      <td>1</td>\n",
       "      <td>0</td>\n",
       "      <td>0.364583</td>\n",
       "    </tr>\n",
       "    <tr>\n",
       "      <th>8</th>\n",
       "      <td>0</td>\n",
       "      <td>0</td>\n",
       "      <td>1</td>\n",
       "      <td>1</td>\n",
       "      <td>0.320833</td>\n",
       "    </tr>\n",
       "    <tr>\n",
       "      <th>9</th>\n",
       "      <td>0</td>\n",
       "      <td>0</td>\n",
       "      <td>1</td>\n",
       "      <td>0</td>\n",
       "      <td>0.312500</td>\n",
       "    </tr>\n",
       "    <tr>\n",
       "      <th>10</th>\n",
       "      <td>1</td>\n",
       "      <td>1</td>\n",
       "      <td>0</td>\n",
       "      <td>1</td>\n",
       "      <td>0.305556</td>\n",
       "    </tr>\n",
       "    <tr>\n",
       "      <th>11</th>\n",
       "      <td>0</td>\n",
       "      <td>0</td>\n",
       "      <td>0</td>\n",
       "      <td>1</td>\n",
       "      <td>0.291667</td>\n",
       "    </tr>\n",
       "    <tr>\n",
       "      <th>12</th>\n",
       "      <td>1</td>\n",
       "      <td>1</td>\n",
       "      <td>0</td>\n",
       "      <td>0</td>\n",
       "      <td>0.291667</td>\n",
       "    </tr>\n",
       "    <tr>\n",
       "      <th>13</th>\n",
       "      <td>1</td>\n",
       "      <td>1</td>\n",
       "      <td>1</td>\n",
       "      <td>1</td>\n",
       "      <td>0.240799</td>\n",
       "    </tr>\n",
       "    <tr>\n",
       "      <th>14</th>\n",
       "      <td>1</td>\n",
       "      <td>1</td>\n",
       "      <td>1</td>\n",
       "      <td>0</td>\n",
       "      <td>0.210648</td>\n",
       "    </tr>\n",
       "  </tbody>\n",
       "</table>\n",
       "</div>"
      ],
      "text/plain": [
       "    beta1*beta2  beta1*beta3  beta2*beta3  beta1*beta2*beta3  distance\n",
       "0             0            1            0                  0  0.583333\n",
       "1             1            0            0                  0  0.583333\n",
       "2             0            1            0                  1  0.525000\n",
       "3             1            0            0                  1  0.525000\n",
       "4             0            1            1                  1  0.400794\n",
       "5             1            0            1                  1  0.400794\n",
       "6             0            1            1                  0  0.364583\n",
       "7             1            0            1                  0  0.364583\n",
       "8             0            0            1                  1  0.320833\n",
       "9             0            0            1                  0  0.312500\n",
       "10            1            1            0                  1  0.305556\n",
       "11            0            0            0                  1  0.291667\n",
       "12            1            1            0                  0  0.291667\n",
       "13            1            1            1                  1  0.240799\n",
       "14            1            1            1                  0  0.210648"
      ]
     },
     "execution_count": 64,
     "metadata": {},
     "output_type": "execute_result"
    }
   ],
   "source": [
    "df"
   ]
  },
  {
   "cell_type": "code",
   "execution_count": 72,
   "id": "cd6c8dc9",
   "metadata": {},
   "outputs": [
    {
     "data": {
      "text/html": [
       "<div>\n",
       "<style scoped>\n",
       "    .dataframe tbody tr th:only-of-type {\n",
       "        vertical-align: middle;\n",
       "    }\n",
       "\n",
       "    .dataframe tbody tr th {\n",
       "        vertical-align: top;\n",
       "    }\n",
       "\n",
       "    .dataframe thead th {\n",
       "        text-align: right;\n",
       "    }\n",
       "</style>\n",
       "<table border=\"1\" class=\"dataframe\">\n",
       "  <thead>\n",
       "    <tr style=\"text-align: right;\">\n",
       "      <th></th>\n",
       "      <th>coefficients</th>\n",
       "      <th>proportion</th>\n",
       "      <th>ranking</th>\n",
       "    </tr>\n",
       "  </thead>\n",
       "  <tbody>\n",
       "    <tr>\n",
       "      <th>0</th>\n",
       "      <td>beta1*beta3</td>\n",
       "      <td>0.504178</td>\n",
       "      <td>1.0</td>\n",
       "    </tr>\n",
       "    <tr>\n",
       "      <th>1</th>\n",
       "      <td>beta1*beta2</td>\n",
       "      <td>0.495822</td>\n",
       "      <td>2.0</td>\n",
       "    </tr>\n",
       "    <tr>\n",
       "      <th>2</th>\n",
       "      <td>beta1*beta2*beta3</td>\n",
       "      <td>0.008357</td>\n",
       "      <td>3.0</td>\n",
       "    </tr>\n",
       "    <tr>\n",
       "      <th>3</th>\n",
       "      <td>beta2*beta3</td>\n",
       "      <td>0.000000</td>\n",
       "      <td>4.0</td>\n",
       "    </tr>\n",
       "  </tbody>\n",
       "</table>\n",
       "</div>"
      ],
      "text/plain": [
       "        coefficients  proportion  ranking\n",
       "0        beta1*beta3    0.504178      1.0\n",
       "1        beta1*beta2    0.495822      2.0\n",
       "2  beta1*beta2*beta3    0.008357      3.0\n",
       "3        beta2*beta3    0.000000      4.0"
      ]
     },
     "execution_count": 72,
     "metadata": {},
     "output_type": "execute_result"
    }
   ],
   "source": [
    "ranking = scanner.get_ranking(percentile = .75, normalize = True)\n",
    "ranking"
   ]
  },
  {
   "cell_type": "code",
   "execution_count": 73,
   "id": "505d9e54",
   "metadata": {},
   "outputs": [
    {
     "data": {
      "text/plain": [
       "{'X2*X3': -5.2561668097854675}"
      ]
     },
     "execution_count": 73,
     "metadata": {},
     "output_type": "execute_result"
    }
   ],
   "source": [
    "rng.interactions"
   ]
  },
  {
   "cell_type": "code",
   "execution_count": 74,
   "id": "ad40a539",
   "metadata": {},
   "outputs": [
    {
     "data": {
      "text/html": [
       "<div>\n",
       "<style scoped>\n",
       "    .dataframe tbody tr th:only-of-type {\n",
       "        vertical-align: middle;\n",
       "    }\n",
       "\n",
       "    .dataframe tbody tr th {\n",
       "        vertical-align: top;\n",
       "    }\n",
       "\n",
       "    .dataframe thead th {\n",
       "        text-align: right;\n",
       "    }\n",
       "</style>\n",
       "<table border=\"1\" class=\"dataframe\">\n",
       "  <thead>\n",
       "    <tr style=\"text-align: right;\">\n",
       "      <th></th>\n",
       "      <th>coefficients</th>\n",
       "      <th>proportion</th>\n",
       "      <th>ranking</th>\n",
       "    </tr>\n",
       "  </thead>\n",
       "  <tbody>\n",
       "    <tr>\n",
       "      <th>0</th>\n",
       "      <td>beta1*beta3</td>\n",
       "      <td>0.655172</td>\n",
       "      <td>1.0</td>\n",
       "    </tr>\n",
       "    <tr>\n",
       "      <th>1</th>\n",
       "      <td>beta1*beta2</td>\n",
       "      <td>0.344828</td>\n",
       "      <td>2.0</td>\n",
       "    </tr>\n",
       "    <tr>\n",
       "      <th>2</th>\n",
       "      <td>beta1*beta2*beta3</td>\n",
       "      <td>0.310345</td>\n",
       "      <td>3.0</td>\n",
       "    </tr>\n",
       "    <tr>\n",
       "      <th>3</th>\n",
       "      <td>beta2*beta3</td>\n",
       "      <td>0.000000</td>\n",
       "      <td>4.0</td>\n",
       "    </tr>\n",
       "  </tbody>\n",
       "</table>\n",
       "</div>"
      ],
      "text/plain": [
       "        coefficients  proportion  ranking\n",
       "0        beta1*beta3    0.655172      1.0\n",
       "1        beta1*beta2    0.344828      2.0\n",
       "2  beta1*beta2*beta3    0.310345      3.0\n",
       "3        beta2*beta3    0.000000      4.0"
      ]
     },
     "execution_count": 74,
     "metadata": {},
     "output_type": "execute_result"
    }
   ],
   "source": [
    "ranking = scanner.get_ranking(percentile = .75, normalize = False)\n",
    "ranking"
   ]
  },
  {
   "cell_type": "code",
   "execution_count": 75,
   "id": "90d4304e",
   "metadata": {},
   "outputs": [
    {
     "data": {
      "text/html": [
       "<div>\n",
       "<style scoped>\n",
       "    .dataframe tbody tr th:only-of-type {\n",
       "        vertical-align: middle;\n",
       "    }\n",
       "\n",
       "    .dataframe tbody tr th {\n",
       "        vertical-align: top;\n",
       "    }\n",
       "\n",
       "    .dataframe thead th {\n",
       "        text-align: right;\n",
       "    }\n",
       "</style>\n",
       "<table border=\"1\" class=\"dataframe\">\n",
       "  <thead>\n",
       "    <tr style=\"text-align: right;\">\n",
       "      <th></th>\n",
       "      <th>beta1*beta2</th>\n",
       "      <th>beta1*beta3</th>\n",
       "      <th>beta2*beta3</th>\n",
       "      <th>beta1*beta2*beta3</th>\n",
       "      <th>distance</th>\n",
       "    </tr>\n",
       "  </thead>\n",
       "  <tbody>\n",
       "    <tr>\n",
       "      <th>0</th>\n",
       "      <td>0</td>\n",
       "      <td>1</td>\n",
       "      <td>0</td>\n",
       "      <td>0</td>\n",
       "      <td>0.583333</td>\n",
       "    </tr>\n",
       "    <tr>\n",
       "      <th>1</th>\n",
       "      <td>1</td>\n",
       "      <td>0</td>\n",
       "      <td>0</td>\n",
       "      <td>0</td>\n",
       "      <td>0.583333</td>\n",
       "    </tr>\n",
       "    <tr>\n",
       "      <th>2</th>\n",
       "      <td>0</td>\n",
       "      <td>1</td>\n",
       "      <td>0</td>\n",
       "      <td>1</td>\n",
       "      <td>0.525000</td>\n",
       "    </tr>\n",
       "    <tr>\n",
       "      <th>3</th>\n",
       "      <td>1</td>\n",
       "      <td>0</td>\n",
       "      <td>0</td>\n",
       "      <td>1</td>\n",
       "      <td>0.525000</td>\n",
       "    </tr>\n",
       "    <tr>\n",
       "      <th>4</th>\n",
       "      <td>0</td>\n",
       "      <td>1</td>\n",
       "      <td>1</td>\n",
       "      <td>1</td>\n",
       "      <td>0.400794</td>\n",
       "    </tr>\n",
       "    <tr>\n",
       "      <th>5</th>\n",
       "      <td>1</td>\n",
       "      <td>0</td>\n",
       "      <td>1</td>\n",
       "      <td>1</td>\n",
       "      <td>0.400794</td>\n",
       "    </tr>\n",
       "    <tr>\n",
       "      <th>6</th>\n",
       "      <td>0</td>\n",
       "      <td>1</td>\n",
       "      <td>1</td>\n",
       "      <td>0</td>\n",
       "      <td>0.364583</td>\n",
       "    </tr>\n",
       "    <tr>\n",
       "      <th>7</th>\n",
       "      <td>1</td>\n",
       "      <td>0</td>\n",
       "      <td>1</td>\n",
       "      <td>0</td>\n",
       "      <td>0.364583</td>\n",
       "    </tr>\n",
       "    <tr>\n",
       "      <th>8</th>\n",
       "      <td>0</td>\n",
       "      <td>0</td>\n",
       "      <td>1</td>\n",
       "      <td>1</td>\n",
       "      <td>0.320833</td>\n",
       "    </tr>\n",
       "    <tr>\n",
       "      <th>9</th>\n",
       "      <td>0</td>\n",
       "      <td>0</td>\n",
       "      <td>1</td>\n",
       "      <td>0</td>\n",
       "      <td>0.312500</td>\n",
       "    </tr>\n",
       "    <tr>\n",
       "      <th>10</th>\n",
       "      <td>1</td>\n",
       "      <td>1</td>\n",
       "      <td>0</td>\n",
       "      <td>1</td>\n",
       "      <td>0.305556</td>\n",
       "    </tr>\n",
       "    <tr>\n",
       "      <th>11</th>\n",
       "      <td>0</td>\n",
       "      <td>0</td>\n",
       "      <td>0</td>\n",
       "      <td>1</td>\n",
       "      <td>0.291667</td>\n",
       "    </tr>\n",
       "    <tr>\n",
       "      <th>12</th>\n",
       "      <td>1</td>\n",
       "      <td>1</td>\n",
       "      <td>0</td>\n",
       "      <td>0</td>\n",
       "      <td>0.291667</td>\n",
       "    </tr>\n",
       "    <tr>\n",
       "      <th>13</th>\n",
       "      <td>1</td>\n",
       "      <td>1</td>\n",
       "      <td>1</td>\n",
       "      <td>1</td>\n",
       "      <td>0.240799</td>\n",
       "    </tr>\n",
       "    <tr>\n",
       "      <th>14</th>\n",
       "      <td>1</td>\n",
       "      <td>1</td>\n",
       "      <td>1</td>\n",
       "      <td>0</td>\n",
       "      <td>0.210648</td>\n",
       "    </tr>\n",
       "  </tbody>\n",
       "</table>\n",
       "</div>"
      ],
      "text/plain": [
       "    beta1*beta2  beta1*beta3  beta2*beta3  beta1*beta2*beta3  distance\n",
       "0             0            1            0                  0  0.583333\n",
       "1             1            0            0                  0  0.583333\n",
       "2             0            1            0                  1  0.525000\n",
       "3             1            0            0                  1  0.525000\n",
       "4             0            1            1                  1  0.400794\n",
       "5             1            0            1                  1  0.400794\n",
       "6             0            1            1                  0  0.364583\n",
       "7             1            0            1                  0  0.364583\n",
       "8             0            0            1                  1  0.320833\n",
       "9             0            0            1                  0  0.312500\n",
       "10            1            1            0                  1  0.305556\n",
       "11            0            0            0                  1  0.291667\n",
       "12            1            1            0                  0  0.291667\n",
       "13            1            1            1                  1  0.240799\n",
       "14            1            1            1                  0  0.210648"
      ]
     },
     "execution_count": 75,
     "metadata": {},
     "output_type": "execute_result"
    }
   ],
   "source": [
    "df"
   ]
  },
  {
   "cell_type": "code",
   "execution_count": 76,
   "id": "efe5da39",
   "metadata": {},
   "outputs": [],
   "source": [
    "def simulate(num_x =3, sample_size = 10_000, start_cluster_size = 4, percentile = .75, normalize = False):\n",
    "    rng = sample_generator(num_x, sample_size, 1)\n",
    "    cluster_size= start_cluster_size-1\n",
    "    tau_est = .2\n",
    "    while tau_est > .1:\n",
    "        cluster_size += 1\n",
    "        cluster = ClusteredSegmentation(n_clusters = cluster_size)\n",
    "        cluster.fit(rng.barcode.reshape(-1,1), rng.y)\n",
    "        tau_est = cluster.tau_metric.tau_est\n",
    "    scanner = cluster_barcode_scanner(rng, cluster, False)\n",
    "    ranking = scanner.get_ranking(percentile = percentile, normalize = normalize)\n",
    "    true_interaction = list(rng.interactions.keys())[0]\n",
    "    return ranking.loc[ranking.coefficients.eq(true_interaction.replace('X','beta')),'ranking'].values[0]"
   ]
  },
  {
   "cell_type": "code",
   "execution_count": 77,
   "id": "e403a0a6",
   "metadata": {
    "scrolled": true
   },
   "outputs": [],
   "source": [
    "from joblib import Parallel, delayed\n",
    "\n",
    "small_sample = [5000 for _ in range(200)]\n",
    "med_sample = [10_000 for _ in range(200)]\n",
    "large_sample = [25_000 for _ in range(200)]\n"
   ]
  },
  {
   "cell_type": "code",
   "execution_count": 78,
   "id": "bf5f9d19",
   "metadata": {
    "scrolled": true
   },
   "outputs": [
    {
     "name": "stdout",
     "output_type": "stream",
     "text": [
      "[Parallel(n_jobs=-1)]: Using backend LokyBackend with 10 concurrent workers.\n",
      "[Parallel(n_jobs=-1)]: Done   1 tasks      | elapsed:    4.3s\n",
      "[Parallel(n_jobs=-1)]: Done   2 tasks      | elapsed:    4.3s\n",
      "[Parallel(n_jobs=-1)]: Done   3 tasks      | elapsed:    4.4s\n",
      "[Parallel(n_jobs=-1)]: Done   4 tasks      | elapsed:    4.5s\n",
      "[Parallel(n_jobs=-1)]: Done   5 tasks      | elapsed:    4.6s\n",
      "[Parallel(n_jobs=-1)]: Done   6 tasks      | elapsed:    4.7s\n",
      "[Parallel(n_jobs=-1)]: Done   7 tasks      | elapsed:    4.7s\n",
      "[Parallel(n_jobs=-1)]: Done   8 tasks      | elapsed:    4.8s\n",
      "[Parallel(n_jobs=-1)]: Done   9 tasks      | elapsed:    4.9s\n",
      "[Parallel(n_jobs=-1)]: Done  10 tasks      | elapsed:    5.0s\n",
      "[Parallel(n_jobs=-1)]: Done  11 tasks      | elapsed:    6.5s\n",
      "[Parallel(n_jobs=-1)]: Done  12 tasks      | elapsed:    6.6s\n",
      "[Parallel(n_jobs=-1)]: Done  13 tasks      | elapsed:    6.6s\n",
      "[Parallel(n_jobs=-1)]: Done  14 tasks      | elapsed:    6.7s\n",
      "[Parallel(n_jobs=-1)]: Done  15 tasks      | elapsed:    6.7s\n",
      "[Parallel(n_jobs=-1)]: Done  16 tasks      | elapsed:    7.1s\n",
      "[Parallel(n_jobs=-1)]: Done  17 tasks      | elapsed:    7.2s\n",
      "[Parallel(n_jobs=-1)]: Done  18 tasks      | elapsed:    7.4s\n",
      "[Parallel(n_jobs=-1)]: Done  19 tasks      | elapsed:    7.4s\n",
      "[Parallel(n_jobs=-1)]: Done  20 tasks      | elapsed:    7.8s\n",
      "[Parallel(n_jobs=-1)]: Done  21 tasks      | elapsed:    8.5s\n",
      "[Parallel(n_jobs=-1)]: Done  22 tasks      | elapsed:    8.5s\n",
      "[Parallel(n_jobs=-1)]: Done  23 tasks      | elapsed:    8.7s\n",
      "[Parallel(n_jobs=-1)]: Done  24 tasks      | elapsed:    9.0s\n",
      "[Parallel(n_jobs=-1)]: Done  25 tasks      | elapsed:    9.1s\n",
      "[Parallel(n_jobs=-1)]: Done  26 tasks      | elapsed:    9.3s\n",
      "[Parallel(n_jobs=-1)]: Done  27 tasks      | elapsed:    9.3s\n",
      "[Parallel(n_jobs=-1)]: Done  28 tasks      | elapsed:    9.6s\n",
      "[Parallel(n_jobs=-1)]: Done  29 tasks      | elapsed:    9.6s\n",
      "[Parallel(n_jobs=-1)]: Done  30 tasks      | elapsed:   10.2s\n",
      "[Parallel(n_jobs=-1)]: Done  31 tasks      | elapsed:   10.7s\n",
      "[Parallel(n_jobs=-1)]: Done  32 tasks      | elapsed:   10.9s\n",
      "[Parallel(n_jobs=-1)]: Done  33 tasks      | elapsed:   10.9s\n",
      "[Parallel(n_jobs=-1)]: Done  34 tasks      | elapsed:   11.0s\n",
      "[Parallel(n_jobs=-1)]: Done  35 tasks      | elapsed:   11.3s\n",
      "[Parallel(n_jobs=-1)]: Done  36 tasks      | elapsed:   11.5s\n",
      "[Parallel(n_jobs=-1)]: Done  37 tasks      | elapsed:   11.7s\n",
      "[Parallel(n_jobs=-1)]: Done  38 tasks      | elapsed:   12.0s\n",
      "[Parallel(n_jobs=-1)]: Done  39 tasks      | elapsed:   12.4s\n",
      "[Parallel(n_jobs=-1)]: Done  40 tasks      | elapsed:   12.8s\n",
      "[Parallel(n_jobs=-1)]: Done  41 tasks      | elapsed:   13.0s\n",
      "[Parallel(n_jobs=-1)]: Done  42 tasks      | elapsed:   13.1s\n",
      "[Parallel(n_jobs=-1)]: Done  43 tasks      | elapsed:   13.2s\n",
      "[Parallel(n_jobs=-1)]: Done  44 tasks      | elapsed:   13.2s\n",
      "[Parallel(n_jobs=-1)]: Done  45 tasks      | elapsed:   13.6s\n",
      "[Parallel(n_jobs=-1)]: Done  46 tasks      | elapsed:   13.6s\n",
      "[Parallel(n_jobs=-1)]: Done  47 tasks      | elapsed:   13.8s\n",
      "[Parallel(n_jobs=-1)]: Done  48 tasks      | elapsed:   14.8s\n",
      "[Parallel(n_jobs=-1)]: Done  49 tasks      | elapsed:   15.0s\n",
      "[Parallel(n_jobs=-1)]: Done  50 tasks      | elapsed:   15.0s\n",
      "[Parallel(n_jobs=-1)]: Done  51 tasks      | elapsed:   15.1s\n",
      "[Parallel(n_jobs=-1)]: Done  52 tasks      | elapsed:   15.2s\n",
      "[Parallel(n_jobs=-1)]: Done  53 tasks      | elapsed:   15.3s\n",
      "[Parallel(n_jobs=-1)]: Done  54 tasks      | elapsed:   15.5s\n",
      "[Parallel(n_jobs=-1)]: Done  55 tasks      | elapsed:   15.5s\n",
      "[Parallel(n_jobs=-1)]: Done  56 tasks      | elapsed:   15.9s\n",
      "[Parallel(n_jobs=-1)]: Done  57 tasks      | elapsed:   16.3s\n",
      "[Parallel(n_jobs=-1)]: Done  58 tasks      | elapsed:   16.8s\n",
      "[Parallel(n_jobs=-1)]: Done  59 tasks      | elapsed:   17.2s\n",
      "[Parallel(n_jobs=-1)]: Done  60 tasks      | elapsed:   17.3s\n",
      "[Parallel(n_jobs=-1)]: Done  61 tasks      | elapsed:   17.4s\n",
      "[Parallel(n_jobs=-1)]: Done  62 tasks      | elapsed:   17.4s\n",
      "[Parallel(n_jobs=-1)]: Done  63 tasks      | elapsed:   17.5s\n",
      "[Parallel(n_jobs=-1)]: Done  64 tasks      | elapsed:   17.6s\n",
      "[Parallel(n_jobs=-1)]: Done  65 tasks      | elapsed:   17.7s\n",
      "[Parallel(n_jobs=-1)]: Done  66 tasks      | elapsed:   18.2s\n",
      "[Parallel(n_jobs=-1)]: Done  67 tasks      | elapsed:   18.5s\n",
      "[Parallel(n_jobs=-1)]: Done  68 tasks      | elapsed:   19.0s\n",
      "[Parallel(n_jobs=-1)]: Done  69 tasks      | elapsed:   19.4s\n",
      "[Parallel(n_jobs=-1)]: Done  70 tasks      | elapsed:   19.5s\n",
      "[Parallel(n_jobs=-1)]: Done  71 tasks      | elapsed:   19.5s\n",
      "[Parallel(n_jobs=-1)]: Done  72 tasks      | elapsed:   19.5s\n",
      "[Parallel(n_jobs=-1)]: Done  73 tasks      | elapsed:   19.7s\n",
      "[Parallel(n_jobs=-1)]: Done  74 tasks      | elapsed:   19.8s\n",
      "[Parallel(n_jobs=-1)]: Done  75 tasks      | elapsed:   20.2s\n",
      "[Parallel(n_jobs=-1)]: Done  76 tasks      | elapsed:   20.7s\n",
      "[Parallel(n_jobs=-1)]: Done  77 tasks      | elapsed:   21.3s\n",
      "[Parallel(n_jobs=-1)]: Done  78 tasks      | elapsed:   21.4s\n",
      "[Parallel(n_jobs=-1)]: Done  79 tasks      | elapsed:   21.6s\n",
      "[Parallel(n_jobs=-1)]: Done  80 tasks      | elapsed:   21.8s\n",
      "[Parallel(n_jobs=-1)]: Done  81 tasks      | elapsed:   21.8s\n",
      "[Parallel(n_jobs=-1)]: Done  82 tasks      | elapsed:   21.9s\n",
      "[Parallel(n_jobs=-1)]: Done  83 tasks      | elapsed:   22.0s\n",
      "[Parallel(n_jobs=-1)]: Done  84 tasks      | elapsed:   22.0s\n",
      "[Parallel(n_jobs=-1)]: Done  85 tasks      | elapsed:   22.3s\n",
      "[Parallel(n_jobs=-1)]: Done  86 tasks      | elapsed:   23.1s\n",
      "[Parallel(n_jobs=-1)]: Done  87 tasks      | elapsed:   23.6s\n",
      "[Parallel(n_jobs=-1)]: Done  88 tasks      | elapsed:   23.7s\n",
      "[Parallel(n_jobs=-1)]: Done  89 tasks      | elapsed:   23.8s\n",
      "[Parallel(n_jobs=-1)]: Done  90 tasks      | elapsed:   23.9s\n",
      "[Parallel(n_jobs=-1)]: Done  91 tasks      | elapsed:   23.9s\n",
      "[Parallel(n_jobs=-1)]: Done  92 tasks      | elapsed:   24.3s\n",
      "[Parallel(n_jobs=-1)]: Done  93 tasks      | elapsed:   24.3s\n",
      "[Parallel(n_jobs=-1)]: Done  94 tasks      | elapsed:   24.4s\n",
      "[Parallel(n_jobs=-1)]: Done  95 tasks      | elapsed:   24.4s\n",
      "[Parallel(n_jobs=-1)]: Done  96 tasks      | elapsed:   25.7s\n",
      "[Parallel(n_jobs=-1)]: Done  97 tasks      | elapsed:   25.8s\n",
      "[Parallel(n_jobs=-1)]: Done  98 tasks      | elapsed:   25.9s\n",
      "[Parallel(n_jobs=-1)]: Done  99 tasks      | elapsed:   26.0s\n",
      "[Parallel(n_jobs=-1)]: Done 100 tasks      | elapsed:   26.0s\n",
      "[Parallel(n_jobs=-1)]: Done 101 tasks      | elapsed:   26.3s\n",
      "[Parallel(n_jobs=-1)]: Done 102 tasks      | elapsed:   26.6s\n",
      "[Parallel(n_jobs=-1)]: Done 103 tasks      | elapsed:   26.6s\n",
      "[Parallel(n_jobs=-1)]: Done 104 tasks      | elapsed:   26.7s\n",
      "[Parallel(n_jobs=-1)]: Done 105 tasks      | elapsed:   27.1s\n",
      "[Parallel(n_jobs=-1)]: Done 106 tasks      | elapsed:   27.8s\n",
      "[Parallel(n_jobs=-1)]: Done 107 tasks      | elapsed:   28.1s\n",
      "[Parallel(n_jobs=-1)]: Done 108 tasks      | elapsed:   28.3s\n",
      "[Parallel(n_jobs=-1)]: Done 109 tasks      | elapsed:   28.4s\n",
      "[Parallel(n_jobs=-1)]: Done 110 tasks      | elapsed:   28.4s\n",
      "[Parallel(n_jobs=-1)]: Done 111 tasks      | elapsed:   28.5s\n",
      "[Parallel(n_jobs=-1)]: Done 112 tasks      | elapsed:   28.7s\n",
      "[Parallel(n_jobs=-1)]: Done 113 tasks      | elapsed:   29.0s\n",
      "[Parallel(n_jobs=-1)]: Done 114 tasks      | elapsed:   29.1s\n",
      "[Parallel(n_jobs=-1)]: Done 115 tasks      | elapsed:   29.8s\n",
      "[Parallel(n_jobs=-1)]: Done 116 tasks      | elapsed:   30.4s\n",
      "[Parallel(n_jobs=-1)]: Done 117 tasks      | elapsed:   30.5s\n",
      "[Parallel(n_jobs=-1)]: Done 118 tasks      | elapsed:   30.6s\n",
      "[Parallel(n_jobs=-1)]: Done 119 tasks      | elapsed:   30.7s\n",
      "[Parallel(n_jobs=-1)]: Done 120 tasks      | elapsed:   30.8s\n",
      "[Parallel(n_jobs=-1)]: Done 121 tasks      | elapsed:   30.8s\n",
      "[Parallel(n_jobs=-1)]: Done 122 tasks      | elapsed:   30.9s\n",
      "[Parallel(n_jobs=-1)]: Done 123 tasks      | elapsed:   31.4s\n",
      "[Parallel(n_jobs=-1)]: Done 124 tasks      | elapsed:   31.5s\n",
      "[Parallel(n_jobs=-1)]: Done 125 tasks      | elapsed:   32.5s\n",
      "[Parallel(n_jobs=-1)]: Done 126 tasks      | elapsed:   32.5s\n",
      "[Parallel(n_jobs=-1)]: Done 127 tasks      | elapsed:   32.6s\n",
      "[Parallel(n_jobs=-1)]: Done 128 tasks      | elapsed:   32.6s\n",
      "[Parallel(n_jobs=-1)]: Done 129 tasks      | elapsed:   32.9s\n",
      "[Parallel(n_jobs=-1)]: Done 130 tasks      | elapsed:   33.0s\n",
      "[Parallel(n_jobs=-1)]: Done 131 tasks      | elapsed:   33.2s\n",
      "[Parallel(n_jobs=-1)]: Done 132 tasks      | elapsed:   33.4s\n"
     ]
    },
    {
     "name": "stdout",
     "output_type": "stream",
     "text": [
      "[Parallel(n_jobs=-1)]: Done 133 tasks      | elapsed:   33.5s\n",
      "[Parallel(n_jobs=-1)]: Done 134 tasks      | elapsed:   33.8s\n",
      "[Parallel(n_jobs=-1)]: Done 135 tasks      | elapsed:   34.5s\n",
      "[Parallel(n_jobs=-1)]: Done 136 tasks      | elapsed:   34.9s\n",
      "[Parallel(n_jobs=-1)]: Done 137 tasks      | elapsed:   35.0s\n",
      "[Parallel(n_jobs=-1)]: Done 138 tasks      | elapsed:   35.1s\n",
      "[Parallel(n_jobs=-1)]: Done 139 tasks      | elapsed:   35.2s\n",
      "[Parallel(n_jobs=-1)]: Done 140 tasks      | elapsed:   35.2s\n",
      "[Parallel(n_jobs=-1)]: Done 141 tasks      | elapsed:   35.5s\n",
      "[Parallel(n_jobs=-1)]: Done 142 tasks      | elapsed:   35.5s\n",
      "[Parallel(n_jobs=-1)]: Done 143 tasks      | elapsed:   35.6s\n",
      "[Parallel(n_jobs=-1)]: Done 144 tasks      | elapsed:   35.9s\n",
      "[Parallel(n_jobs=-1)]: Done 145 tasks      | elapsed:   37.0s\n",
      "[Parallel(n_jobs=-1)]: Done 146 tasks      | elapsed:   37.1s\n",
      "[Parallel(n_jobs=-1)]: Done 147 tasks      | elapsed:   37.2s\n",
      "[Parallel(n_jobs=-1)]: Done 148 tasks      | elapsed:   37.2s\n",
      "[Parallel(n_jobs=-1)]: Done 149 tasks      | elapsed:   37.4s\n",
      "[Parallel(n_jobs=-1)]: Done 150 tasks      | elapsed:   37.5s\n",
      "[Parallel(n_jobs=-1)]: Done 151 tasks      | elapsed:   37.6s\n",
      "[Parallel(n_jobs=-1)]: Done 152 tasks      | elapsed:   37.7s\n",
      "[Parallel(n_jobs=-1)]: Done 153 tasks      | elapsed:   38.0s\n",
      "[Parallel(n_jobs=-1)]: Done 154 tasks      | elapsed:   38.3s\n",
      "[Parallel(n_jobs=-1)]: Done 155 tasks      | elapsed:   39.0s\n",
      "[Parallel(n_jobs=-1)]: Done 156 tasks      | elapsed:   39.5s\n",
      "[Parallel(n_jobs=-1)]: Done 157 tasks      | elapsed:   39.6s\n",
      "[Parallel(n_jobs=-1)]: Done 158 tasks      | elapsed:   39.7s\n",
      "[Parallel(n_jobs=-1)]: Done 159 tasks      | elapsed:   39.7s\n",
      "[Parallel(n_jobs=-1)]: Done 160 tasks      | elapsed:   39.9s\n",
      "[Parallel(n_jobs=-1)]: Done 161 tasks      | elapsed:   40.0s\n",
      "[Parallel(n_jobs=-1)]: Done 162 tasks      | elapsed:   40.2s\n",
      "[Parallel(n_jobs=-1)]: Done 163 tasks      | elapsed:   40.3s\n",
      "[Parallel(n_jobs=-1)]: Done 164 tasks      | elapsed:   41.0s\n",
      "[Parallel(n_jobs=-1)]: Done 165 tasks      | elapsed:   41.6s\n",
      "[Parallel(n_jobs=-1)]: Done 166 tasks      | elapsed:   41.7s\n",
      "[Parallel(n_jobs=-1)]: Done 167 tasks      | elapsed:   41.8s\n",
      "[Parallel(n_jobs=-1)]: Done 168 tasks      | elapsed:   41.9s\n",
      "[Parallel(n_jobs=-1)]: Done 169 tasks      | elapsed:   42.1s\n",
      "[Parallel(n_jobs=-1)]: Done 170 tasks      | elapsed:   42.1s\n",
      "[Parallel(n_jobs=-1)]: Done 171 tasks      | elapsed:   42.2s\n",
      "[Parallel(n_jobs=-1)]: Done 172 tasks      | elapsed:   42.5s\n",
      "[Parallel(n_jobs=-1)]: Done 173 tasks      | elapsed:   42.6s\n",
      "[Parallel(n_jobs=-1)]: Done 174 tasks      | elapsed:   43.1s\n",
      "[Parallel(n_jobs=-1)]: Done 175 tasks      | elapsed:   43.5s\n",
      "[Parallel(n_jobs=-1)]: Done 176 tasks      | elapsed:   44.0s\n",
      "[Parallel(n_jobs=-1)]: Done 177 tasks      | elapsed:   44.4s\n",
      "[Parallel(n_jobs=-1)]: Done 178 tasks      | elapsed:   44.5s\n",
      "[Parallel(n_jobs=-1)]: Done 179 tasks      | elapsed:   44.5s\n",
      "[Parallel(n_jobs=-1)]: Done 180 tasks      | elapsed:   44.5s\n",
      "[Parallel(n_jobs=-1)]: Done 181 tasks      | elapsed:   44.7s\n",
      "[Parallel(n_jobs=-1)]: Done 184 out of 200 | elapsed:   45.6s remaining:    4.0s\n",
      "[Parallel(n_jobs=-1)]: Done 187 out of 200 | elapsed:   46.5s remaining:    3.2s\n",
      "[Parallel(n_jobs=-1)]: Done 190 out of 200 | elapsed:   46.8s remaining:    2.5s\n",
      "[Parallel(n_jobs=-1)]: Done 193 out of 200 | elapsed:   47.2s remaining:    1.7s\n",
      "[Parallel(n_jobs=-1)]: Done 196 out of 200 | elapsed:   48.2s remaining:    1.0s\n",
      "[Parallel(n_jobs=-1)]: Done 200 out of 200 | elapsed:   48.8s finished\n"
     ]
    }
   ],
   "source": [
    "res_percentile_no_norm_small = Parallel(n_jobs=-1,  verbose = 100)(delayed(simulate)(sample_size = s) for s in small_sample) "
   ]
  },
  {
   "cell_type": "code",
   "execution_count": 79,
   "id": "15daa32a",
   "metadata": {},
   "outputs": [
    {
     "name": "stdout",
     "output_type": "stream",
     "text": [
      "[Parallel(n_jobs=-1)]: Using backend LokyBackend with 10 concurrent workers.\n",
      "[Parallel(n_jobs=-1)]: Done   1 tasks      | elapsed:    2.1s\n",
      "[Parallel(n_jobs=-1)]: Done   2 tasks      | elapsed:    2.1s\n",
      "[Parallel(n_jobs=-1)]: Done   3 tasks      | elapsed:    2.1s\n",
      "[Parallel(n_jobs=-1)]: Done   4 tasks      | elapsed:    2.1s\n",
      "[Parallel(n_jobs=-1)]: Done   5 tasks      | elapsed:    2.2s\n",
      "[Parallel(n_jobs=-1)]: Done   6 tasks      | elapsed:    2.2s\n",
      "[Parallel(n_jobs=-1)]: Done   7 tasks      | elapsed:    2.3s\n",
      "[Parallel(n_jobs=-1)]: Done   8 tasks      | elapsed:    2.4s\n",
      "[Parallel(n_jobs=-1)]: Done   9 tasks      | elapsed:    2.5s\n",
      "[Parallel(n_jobs=-1)]: Done  10 tasks      | elapsed:    2.7s\n",
      "[Parallel(n_jobs=-1)]: Done  11 tasks      | elapsed:    4.1s\n",
      "[Parallel(n_jobs=-1)]: Done  12 tasks      | elapsed:    4.1s\n"
     ]
    },
    {
     "name": "stderr",
     "output_type": "stream",
     "text": [
      "/Users/gradcheckout/opt/anaconda3/lib/python3.9/site-packages/numpy/lib/function_base.py:412: RuntimeWarning: invalid value encountered in multiply\n",
      "  avg = np.multiply(a, wgt, dtype=result_dtype).sum(axis)/scl\n",
      "/Users/gradcheckout/opt/anaconda3/lib/python3.9/site-packages/numpy/lib/function_base.py:412: RuntimeWarning: invalid value encountered in double_scalars\n",
      "  avg = np.multiply(a, wgt, dtype=result_dtype).sum(axis)/scl\n"
     ]
    },
    {
     "name": "stdout",
     "output_type": "stream",
     "text": [
      "[Parallel(n_jobs=-1)]: Done  13 tasks      | elapsed:    4.4s\n",
      "[Parallel(n_jobs=-1)]: Done  14 tasks      | elapsed:    4.4s\n",
      "[Parallel(n_jobs=-1)]: Done  15 tasks      | elapsed:    4.5s\n",
      "[Parallel(n_jobs=-1)]: Done  16 tasks      | elapsed:    4.6s\n",
      "[Parallel(n_jobs=-1)]: Done  17 tasks      | elapsed:    4.6s\n",
      "[Parallel(n_jobs=-1)]: Done  18 tasks      | elapsed:    4.6s\n",
      "[Parallel(n_jobs=-1)]: Done  19 tasks      | elapsed:    4.6s\n",
      "[Parallel(n_jobs=-1)]: Done  20 tasks      | elapsed:    5.4s\n",
      "[Parallel(n_jobs=-1)]: Done  21 tasks      | elapsed:    6.1s\n",
      "[Parallel(n_jobs=-1)]: Done  22 tasks      | elapsed:    6.2s\n",
      "[Parallel(n_jobs=-1)]: Done  23 tasks      | elapsed:    6.7s\n",
      "[Parallel(n_jobs=-1)]: Done  24 tasks      | elapsed:    6.7s\n"
     ]
    },
    {
     "name": "stderr",
     "output_type": "stream",
     "text": [
      "/Users/gradcheckout/opt/anaconda3/lib/python3.9/site-packages/numpy/lib/function_base.py:412: RuntimeWarning: invalid value encountered in multiply\n",
      "  avg = np.multiply(a, wgt, dtype=result_dtype).sum(axis)/scl\n",
      "/Users/gradcheckout/opt/anaconda3/lib/python3.9/site-packages/numpy/lib/function_base.py:412: RuntimeWarning: invalid value encountered in double_scalars\n",
      "  avg = np.multiply(a, wgt, dtype=result_dtype).sum(axis)/scl\n",
      "/Users/gradcheckout/opt/anaconda3/lib/python3.9/site-packages/numpy/lib/function_base.py:412: RuntimeWarning: invalid value encountered in multiply\n",
      "  avg = np.multiply(a, wgt, dtype=result_dtype).sum(axis)/scl\n",
      "/Users/gradcheckout/opt/anaconda3/lib/python3.9/site-packages/numpy/lib/function_base.py:412: RuntimeWarning: invalid value encountered in double_scalars\n",
      "  avg = np.multiply(a, wgt, dtype=result_dtype).sum(axis)/scl\n"
     ]
    },
    {
     "name": "stdout",
     "output_type": "stream",
     "text": [
      "[Parallel(n_jobs=-1)]: Done  25 tasks      | elapsed:    6.9s\n",
      "[Parallel(n_jobs=-1)]: Done  26 tasks      | elapsed:    7.0s\n",
      "[Parallel(n_jobs=-1)]: Done  27 tasks      | elapsed:    7.0s\n",
      "[Parallel(n_jobs=-1)]: Done  28 tasks      | elapsed:    7.1s\n",
      "[Parallel(n_jobs=-1)]: Done  29 tasks      | elapsed:    7.3s\n",
      "[Parallel(n_jobs=-1)]: Done  30 tasks      | elapsed:    7.8s\n",
      "[Parallel(n_jobs=-1)]: Done  31 tasks      | elapsed:    8.1s\n"
     ]
    },
    {
     "name": "stderr",
     "output_type": "stream",
     "text": [
      "/Users/gradcheckout/opt/anaconda3/lib/python3.9/site-packages/numpy/lib/function_base.py:412: RuntimeWarning: invalid value encountered in multiply\n",
      "  avg = np.multiply(a, wgt, dtype=result_dtype).sum(axis)/scl\n",
      "/Users/gradcheckout/opt/anaconda3/lib/python3.9/site-packages/numpy/lib/function_base.py:412: RuntimeWarning: invalid value encountered in double_scalars\n",
      "  avg = np.multiply(a, wgt, dtype=result_dtype).sum(axis)/scl\n"
     ]
    },
    {
     "name": "stdout",
     "output_type": "stream",
     "text": [
      "[Parallel(n_jobs=-1)]: Done  32 tasks      | elapsed:    8.7s\n",
      "[Parallel(n_jobs=-1)]: Done  33 tasks      | elapsed:    9.0s\n",
      "[Parallel(n_jobs=-1)]: Done  34 tasks      | elapsed:    9.1s\n",
      "[Parallel(n_jobs=-1)]: Done  35 tasks      | elapsed:    9.1s\n",
      "[Parallel(n_jobs=-1)]: Done  36 tasks      | elapsed:    9.1s\n",
      "[Parallel(n_jobs=-1)]: Done  37 tasks      | elapsed:    9.2s\n",
      "[Parallel(n_jobs=-1)]: Done  38 tasks      | elapsed:    9.4s\n",
      "[Parallel(n_jobs=-1)]: Done  39 tasks      | elapsed:    9.5s\n",
      "[Parallel(n_jobs=-1)]: Done  40 tasks      | elapsed:    9.9s\n",
      "[Parallel(n_jobs=-1)]: Done  41 tasks      | elapsed:    9.9s\n",
      "[Parallel(n_jobs=-1)]: Done  42 tasks      | elapsed:   11.1s\n",
      "[Parallel(n_jobs=-1)]: Done  43 tasks      | elapsed:   11.2s\n",
      "[Parallel(n_jobs=-1)]: Done  44 tasks      | elapsed:   11.4s\n",
      "[Parallel(n_jobs=-1)]: Done  45 tasks      | elapsed:   11.5s\n",
      "[Parallel(n_jobs=-1)]: Done  46 tasks      | elapsed:   11.6s\n",
      "[Parallel(n_jobs=-1)]: Done  47 tasks      | elapsed:   11.7s\n",
      "[Parallel(n_jobs=-1)]: Done  48 tasks      | elapsed:   11.7s\n",
      "[Parallel(n_jobs=-1)]: Done  49 tasks      | elapsed:   12.0s\n",
      "[Parallel(n_jobs=-1)]: Done  50 tasks      | elapsed:   12.1s\n",
      "[Parallel(n_jobs=-1)]: Done  51 tasks      | elapsed:   12.2s\n",
      "[Parallel(n_jobs=-1)]: Done  52 tasks      | elapsed:   13.2s\n",
      "[Parallel(n_jobs=-1)]: Done  53 tasks      | elapsed:   13.3s\n",
      "[Parallel(n_jobs=-1)]: Done  54 tasks      | elapsed:   13.4s\n",
      "[Parallel(n_jobs=-1)]: Done  55 tasks      | elapsed:   13.4s\n",
      "[Parallel(n_jobs=-1)]: Done  56 tasks      | elapsed:   13.8s\n",
      "[Parallel(n_jobs=-1)]: Done  57 tasks      | elapsed:   13.8s\n",
      "[Parallel(n_jobs=-1)]: Done  58 tasks      | elapsed:   13.9s\n",
      "[Parallel(n_jobs=-1)]: Done  59 tasks      | elapsed:   13.9s\n",
      "[Parallel(n_jobs=-1)]: Done  60 tasks      | elapsed:   14.3s\n",
      "[Parallel(n_jobs=-1)]: Done  61 tasks      | elapsed:   14.5s\n",
      "[Parallel(n_jobs=-1)]: Done  62 tasks      | elapsed:   15.2s\n",
      "[Parallel(n_jobs=-1)]: Done  63 tasks      | elapsed:   15.3s\n",
      "[Parallel(n_jobs=-1)]: Done  64 tasks      | elapsed:   15.4s\n",
      "[Parallel(n_jobs=-1)]: Done  65 tasks      | elapsed:   15.8s\n",
      "[Parallel(n_jobs=-1)]: Done  66 tasks      | elapsed:   15.9s\n",
      "[Parallel(n_jobs=-1)]: Done  67 tasks      | elapsed:   16.0s\n",
      "[Parallel(n_jobs=-1)]: Done  68 tasks      | elapsed:   16.1s\n",
      "[Parallel(n_jobs=-1)]: Done  69 tasks      | elapsed:   16.2s\n",
      "[Parallel(n_jobs=-1)]: Done  70 tasks      | elapsed:   16.6s\n",
      "[Parallel(n_jobs=-1)]: Done  71 tasks      | elapsed:   17.0s\n",
      "[Parallel(n_jobs=-1)]: Done  72 tasks      | elapsed:   17.6s\n",
      "[Parallel(n_jobs=-1)]: Done  73 tasks      | elapsed:   17.7s\n",
      "[Parallel(n_jobs=-1)]: Done  74 tasks      | elapsed:   17.8s\n",
      "[Parallel(n_jobs=-1)]: Done  75 tasks      | elapsed:   17.9s\n",
      "[Parallel(n_jobs=-1)]: Done  76 tasks      | elapsed:   18.0s\n",
      "[Parallel(n_jobs=-1)]: Done  77 tasks      | elapsed:   18.2s\n",
      "[Parallel(n_jobs=-1)]: Done  78 tasks      | elapsed:   18.5s\n",
      "[Parallel(n_jobs=-1)]: Done  79 tasks      | elapsed:   18.7s\n",
      "[Parallel(n_jobs=-1)]: Done  80 tasks      | elapsed:   18.7s\n",
      "[Parallel(n_jobs=-1)]: Done  81 tasks      | elapsed:   18.9s\n",
      "[Parallel(n_jobs=-1)]: Done  82 tasks      | elapsed:   19.7s\n",
      "[Parallel(n_jobs=-1)]: Done  83 tasks      | elapsed:   19.9s\n",
      "[Parallel(n_jobs=-1)]: Done  84 tasks      | elapsed:   20.0s\n",
      "[Parallel(n_jobs=-1)]: Done  85 tasks      | elapsed:   20.0s\n",
      "[Parallel(n_jobs=-1)]: Done  86 tasks      | elapsed:   20.1s\n",
      "[Parallel(n_jobs=-1)]: Done  87 tasks      | elapsed:   20.5s\n",
      "[Parallel(n_jobs=-1)]: Done  88 tasks      | elapsed:   20.6s\n",
      "[Parallel(n_jobs=-1)]: Done  89 tasks      | elapsed:   20.8s\n",
      "[Parallel(n_jobs=-1)]: Done  90 tasks      | elapsed:   21.1s\n",
      "[Parallel(n_jobs=-1)]: Done  91 tasks      | elapsed:   21.4s\n",
      "[Parallel(n_jobs=-1)]: Done  92 tasks      | elapsed:   22.1s\n",
      "[Parallel(n_jobs=-1)]: Done  93 tasks      | elapsed:   22.1s\n",
      "[Parallel(n_jobs=-1)]: Done  94 tasks      | elapsed:   22.2s\n",
      "[Parallel(n_jobs=-1)]: Done  95 tasks      | elapsed:   22.5s\n",
      "[Parallel(n_jobs=-1)]: Done  96 tasks      | elapsed:   22.6s\n"
     ]
    },
    {
     "name": "stderr",
     "output_type": "stream",
     "text": [
      "/Users/gradcheckout/opt/anaconda3/lib/python3.9/site-packages/numpy/lib/function_base.py:412: RuntimeWarning: invalid value encountered in multiply\n",
      "  avg = np.multiply(a, wgt, dtype=result_dtype).sum(axis)/scl\n",
      "/Users/gradcheckout/opt/anaconda3/lib/python3.9/site-packages/numpy/lib/function_base.py:412: RuntimeWarning: invalid value encountered in double_scalars\n",
      "  avg = np.multiply(a, wgt, dtype=result_dtype).sum(axis)/scl\n"
     ]
    },
    {
     "name": "stdout",
     "output_type": "stream",
     "text": [
      "[Parallel(n_jobs=-1)]: Done  97 tasks      | elapsed:   22.9s\n",
      "[Parallel(n_jobs=-1)]: Done  98 tasks      | elapsed:   23.0s\n",
      "[Parallel(n_jobs=-1)]: Done  99 tasks      | elapsed:   23.1s\n",
      "[Parallel(n_jobs=-1)]: Done 100 tasks      | elapsed:   23.7s\n",
      "[Parallel(n_jobs=-1)]: Done 101 tasks      | elapsed:   23.9s\n",
      "[Parallel(n_jobs=-1)]: Done 102 tasks      | elapsed:   24.4s\n",
      "[Parallel(n_jobs=-1)]: Done 103 tasks      | elapsed:   24.5s\n",
      "[Parallel(n_jobs=-1)]: Done 104 tasks      | elapsed:   24.7s\n",
      "[Parallel(n_jobs=-1)]: Done 105 tasks      | elapsed:   24.7s\n",
      "[Parallel(n_jobs=-1)]: Done 106 tasks      | elapsed:   24.8s\n",
      "[Parallel(n_jobs=-1)]: Done 107 tasks      | elapsed:   25.1s\n",
      "[Parallel(n_jobs=-1)]: Done 108 tasks      | elapsed:   25.5s\n",
      "[Parallel(n_jobs=-1)]: Done 109 tasks      | elapsed:   25.6s\n",
      "[Parallel(n_jobs=-1)]: Done 110 tasks      | elapsed:   26.0s\n",
      "[Parallel(n_jobs=-1)]: Done 111 tasks      | elapsed:   26.2s\n",
      "[Parallel(n_jobs=-1)]: Done 112 tasks      | elapsed:   26.8s\n",
      "[Parallel(n_jobs=-1)]: Done 113 tasks      | elapsed:   26.8s\n",
      "[Parallel(n_jobs=-1)]: Done 114 tasks      | elapsed:   27.2s\n",
      "[Parallel(n_jobs=-1)]: Done 115 tasks      | elapsed:   27.3s\n",
      "[Parallel(n_jobs=-1)]: Done 116 tasks      | elapsed:   27.3s\n",
      "[Parallel(n_jobs=-1)]: Done 117 tasks      | elapsed:   27.7s\n",
      "[Parallel(n_jobs=-1)]: Done 118 tasks      | elapsed:   27.8s\n",
      "[Parallel(n_jobs=-1)]: Done 119 tasks      | elapsed:   28.0s\n",
      "[Parallel(n_jobs=-1)]: Done 120 tasks      | elapsed:   28.4s\n",
      "[Parallel(n_jobs=-1)]: Done 121 tasks      | elapsed:   28.8s\n",
      "[Parallel(n_jobs=-1)]: Done 122 tasks      | elapsed:   29.1s\n",
      "[Parallel(n_jobs=-1)]: Done 123 tasks      | elapsed:   29.2s\n",
      "[Parallel(n_jobs=-1)]: Done 124 tasks      | elapsed:   29.4s\n",
      "[Parallel(n_jobs=-1)]: Done 125 tasks      | elapsed:   29.5s\n",
      "[Parallel(n_jobs=-1)]: Done 126 tasks      | elapsed:   29.8s\n",
      "[Parallel(n_jobs=-1)]: Done 127 tasks      | elapsed:   30.1s\n",
      "[Parallel(n_jobs=-1)]: Done 128 tasks      | elapsed:   30.2s\n",
      "[Parallel(n_jobs=-1)]: Done 129 tasks      | elapsed:   30.4s\n",
      "[Parallel(n_jobs=-1)]: Done 130 tasks      | elapsed:   30.7s\n"
     ]
    },
    {
     "name": "stderr",
     "output_type": "stream",
     "text": [
      "/Users/gradcheckout/opt/anaconda3/lib/python3.9/site-packages/numpy/lib/function_base.py:412: RuntimeWarning: invalid value encountered in multiply\n",
      "  avg = np.multiply(a, wgt, dtype=result_dtype).sum(axis)/scl\n",
      "/Users/gradcheckout/opt/anaconda3/lib/python3.9/site-packages/numpy/lib/function_base.py:412: RuntimeWarning: invalid value encountered in double_scalars\n",
      "  avg = np.multiply(a, wgt, dtype=result_dtype).sum(axis)/scl\n"
     ]
    },
    {
     "name": "stdout",
     "output_type": "stream",
     "text": [
      "[Parallel(n_jobs=-1)]: Done 131 tasks      | elapsed:   31.0s\n",
      "[Parallel(n_jobs=-1)]: Done 132 tasks      | elapsed:   31.2s\n",
      "[Parallel(n_jobs=-1)]: Done 133 tasks      | elapsed:   31.7s\n",
      "[Parallel(n_jobs=-1)]: Done 134 tasks      | elapsed:   31.8s\n",
      "[Parallel(n_jobs=-1)]: Done 135 tasks      | elapsed:   32.2s\n",
      "[Parallel(n_jobs=-1)]: Done 136 tasks      | elapsed:   32.2s\n",
      "[Parallel(n_jobs=-1)]: Done 137 tasks      | elapsed:   32.3s\n",
      "[Parallel(n_jobs=-1)]: Done 138 tasks      | elapsed:   32.3s\n",
      "[Parallel(n_jobs=-1)]: Done 139 tasks      | elapsed:   32.4s\n",
      "[Parallel(n_jobs=-1)]: Done 140 tasks      | elapsed:   33.1s\n",
      "[Parallel(n_jobs=-1)]: Done 141 tasks      | elapsed:   33.2s\n",
      "[Parallel(n_jobs=-1)]: Done 142 tasks      | elapsed:   33.8s\n",
      "[Parallel(n_jobs=-1)]: Done 143 tasks      | elapsed:   33.9s\n"
     ]
    },
    {
     "name": "stderr",
     "output_type": "stream",
     "text": [
      "/Users/gradcheckout/opt/anaconda3/lib/python3.9/site-packages/numpy/lib/function_base.py:412: RuntimeWarning: invalid value encountered in multiply\n",
      "  avg = np.multiply(a, wgt, dtype=result_dtype).sum(axis)/scl\n",
      "/Users/gradcheckout/opt/anaconda3/lib/python3.9/site-packages/numpy/lib/function_base.py:412: RuntimeWarning: invalid value encountered in double_scalars\n",
      "  avg = np.multiply(a, wgt, dtype=result_dtype).sum(axis)/scl\n"
     ]
    },
    {
     "name": "stdout",
     "output_type": "stream",
     "text": [
      "[Parallel(n_jobs=-1)]: Done 144 tasks      | elapsed:   34.0s\n",
      "[Parallel(n_jobs=-1)]: Done 145 tasks      | elapsed:   34.3s\n",
      "[Parallel(n_jobs=-1)]: Done 146 tasks      | elapsed:   34.3s\n",
      "[Parallel(n_jobs=-1)]: Done 147 tasks      | elapsed:   34.5s\n",
      "[Parallel(n_jobs=-1)]: Done 148 tasks      | elapsed:   34.6s\n",
      "[Parallel(n_jobs=-1)]: Done 149 tasks      | elapsed:   34.9s\n",
      "[Parallel(n_jobs=-1)]: Done 150 tasks      | elapsed:   35.3s\n",
      "[Parallel(n_jobs=-1)]: Done 151 tasks      | elapsed:   35.5s\n",
      "[Parallel(n_jobs=-1)]: Done 152 tasks      | elapsed:   35.9s\n"
     ]
    },
    {
     "name": "stderr",
     "output_type": "stream",
     "text": [
      "/Users/gradcheckout/opt/anaconda3/lib/python3.9/site-packages/numpy/lib/function_base.py:412: RuntimeWarning: invalid value encountered in multiply\n",
      "  avg = np.multiply(a, wgt, dtype=result_dtype).sum(axis)/scl\n",
      "/Users/gradcheckout/opt/anaconda3/lib/python3.9/site-packages/numpy/lib/function_base.py:412: RuntimeWarning: invalid value encountered in double_scalars\n",
      "  avg = np.multiply(a, wgt, dtype=result_dtype).sum(axis)/scl\n"
     ]
    },
    {
     "name": "stdout",
     "output_type": "stream",
     "text": [
      "[Parallel(n_jobs=-1)]: Done 153 tasks      | elapsed:   36.2s\n",
      "[Parallel(n_jobs=-1)]: Done 154 tasks      | elapsed:   36.4s\n",
      "[Parallel(n_jobs=-1)]: Done 155 tasks      | elapsed:   36.4s\n",
      "[Parallel(n_jobs=-1)]: Done 156 tasks      | elapsed:   36.6s\n",
      "[Parallel(n_jobs=-1)]: Done 157 tasks      | elapsed:   36.7s\n",
      "[Parallel(n_jobs=-1)]: Done 158 tasks      | elapsed:   36.9s\n",
      "[Parallel(n_jobs=-1)]: Done 159 tasks      | elapsed:   37.3s\n",
      "[Parallel(n_jobs=-1)]: Done 160 tasks      | elapsed:   37.5s\n",
      "[Parallel(n_jobs=-1)]: Done 161 tasks      | elapsed:   37.6s\n",
      "[Parallel(n_jobs=-1)]: Done 162 tasks      | elapsed:   37.9s\n",
      "[Parallel(n_jobs=-1)]: Done 163 tasks      | elapsed:   38.2s\n",
      "[Parallel(n_jobs=-1)]: Done 164 tasks      | elapsed:   38.8s\n",
      "[Parallel(n_jobs=-1)]: Done 165 tasks      | elapsed:   38.8s\n",
      "[Parallel(n_jobs=-1)]: Done 166 tasks      | elapsed:   39.1s\n",
      "[Parallel(n_jobs=-1)]: Done 167 tasks      | elapsed:   39.1s\n",
      "[Parallel(n_jobs=-1)]: Done 168 tasks      | elapsed:   39.2s\n",
      "[Parallel(n_jobs=-1)]: Done 169 tasks      | elapsed:   39.2s\n"
     ]
    },
    {
     "name": "stderr",
     "output_type": "stream",
     "text": [
      "/Users/gradcheckout/opt/anaconda3/lib/python3.9/site-packages/numpy/lib/function_base.py:412: RuntimeWarning: invalid value encountered in multiply\n",
      "  avg = np.multiply(a, wgt, dtype=result_dtype).sum(axis)/scl\n",
      "/Users/gradcheckout/opt/anaconda3/lib/python3.9/site-packages/numpy/lib/function_base.py:412: RuntimeWarning: invalid value encountered in double_scalars\n",
      "  avg = np.multiply(a, wgt, dtype=result_dtype).sum(axis)/scl\n"
     ]
    },
    {
     "name": "stdout",
     "output_type": "stream",
     "text": [
      "[Parallel(n_jobs=-1)]: Done 170 tasks      | elapsed:   39.7s\n",
      "[Parallel(n_jobs=-1)]: Done 171 tasks      | elapsed:   40.1s\n",
      "[Parallel(n_jobs=-1)]: Done 172 tasks      | elapsed:   40.2s\n",
      "[Parallel(n_jobs=-1)]: Done 173 tasks      | elapsed:   40.2s\n"
     ]
    },
    {
     "name": "stderr",
     "output_type": "stream",
     "text": [
      "/Users/gradcheckout/opt/anaconda3/lib/python3.9/site-packages/numpy/lib/function_base.py:412: RuntimeWarning: invalid value encountered in multiply\n",
      "  avg = np.multiply(a, wgt, dtype=result_dtype).sum(axis)/scl\n",
      "/Users/gradcheckout/opt/anaconda3/lib/python3.9/site-packages/numpy/lib/function_base.py:412: RuntimeWarning: invalid value encountered in double_scalars\n",
      "  avg = np.multiply(a, wgt, dtype=result_dtype).sum(axis)/scl\n"
     ]
    },
    {
     "name": "stdout",
     "output_type": "stream",
     "text": [
      "[Parallel(n_jobs=-1)]: Done 174 tasks      | elapsed:   40.7s\n",
      "[Parallel(n_jobs=-1)]: Done 175 tasks      | elapsed:   40.8s\n",
      "[Parallel(n_jobs=-1)]: Done 176 tasks      | elapsed:   41.2s\n",
      "[Parallel(n_jobs=-1)]: Done 177 tasks      | elapsed:   41.4s\n",
      "[Parallel(n_jobs=-1)]: Done 178 tasks      | elapsed:   41.6s\n",
      "[Parallel(n_jobs=-1)]: Done 179 tasks      | elapsed:   41.7s\n",
      "[Parallel(n_jobs=-1)]: Done 180 tasks      | elapsed:   42.0s\n",
      "[Parallel(n_jobs=-1)]: Done 181 tasks      | elapsed:   42.3s\n",
      "[Parallel(n_jobs=-1)]: Done 184 out of 200 | elapsed:   43.1s remaining:    3.7s\n",
      "[Parallel(n_jobs=-1)]: Done 187 out of 200 | elapsed:   44.0s remaining:    3.1s\n"
     ]
    },
    {
     "name": "stderr",
     "output_type": "stream",
     "text": [
      "/Users/gradcheckout/opt/anaconda3/lib/python3.9/site-packages/numpy/lib/function_base.py:412: RuntimeWarning: invalid value encountered in multiply\n",
      "  avg = np.multiply(a, wgt, dtype=result_dtype).sum(axis)/scl\n",
      "/Users/gradcheckout/opt/anaconda3/lib/python3.9/site-packages/numpy/lib/function_base.py:412: RuntimeWarning: invalid value encountered in double_scalars\n",
      "  avg = np.multiply(a, wgt, dtype=result_dtype).sum(axis)/scl\n"
     ]
    },
    {
     "name": "stdout",
     "output_type": "stream",
     "text": [
      "[Parallel(n_jobs=-1)]: Done 190 out of 200 | elapsed:   44.4s remaining:    2.3s\n"
     ]
    },
    {
     "name": "stderr",
     "output_type": "stream",
     "text": [
      "/Users/gradcheckout/opt/anaconda3/lib/python3.9/site-packages/numpy/lib/function_base.py:412: RuntimeWarning: invalid value encountered in multiply\n",
      "  avg = np.multiply(a, wgt, dtype=result_dtype).sum(axis)/scl\n",
      "/Users/gradcheckout/opt/anaconda3/lib/python3.9/site-packages/numpy/lib/function_base.py:412: RuntimeWarning: invalid value encountered in double_scalars\n",
      "  avg = np.multiply(a, wgt, dtype=result_dtype).sum(axis)/scl\n"
     ]
    },
    {
     "name": "stdout",
     "output_type": "stream",
     "text": [
      "[Parallel(n_jobs=-1)]: Done 193 out of 200 | elapsed:   45.1s remaining:    1.6s\n",
      "[Parallel(n_jobs=-1)]: Done 196 out of 200 | elapsed:   45.9s remaining:    0.9s\n",
      "[Parallel(n_jobs=-1)]: Done 200 out of 200 | elapsed:   46.4s finished\n"
     ]
    }
   ],
   "source": [
    "res_percentile_norm_small = Parallel(n_jobs=-1,  verbose = 100)(delayed(simulate)(sample_size = s, normalize = True) for s in small_sample) "
   ]
  },
  {
   "cell_type": "code",
   "execution_count": 80,
   "id": "87cbcaf1",
   "metadata": {},
   "outputs": [
    {
     "name": "stdout",
     "output_type": "stream",
     "text": [
      "[Parallel(n_jobs=-1)]: Using backend LokyBackend with 10 concurrent workers.\n",
      "[Parallel(n_jobs=-1)]: Done   1 tasks      | elapsed:    5.2s\n",
      "[Parallel(n_jobs=-1)]: Done   2 tasks      | elapsed:    5.3s\n",
      "[Parallel(n_jobs=-1)]: Done   3 tasks      | elapsed:    5.3s\n",
      "[Parallel(n_jobs=-1)]: Done   4 tasks      | elapsed:    5.4s\n",
      "[Parallel(n_jobs=-1)]: Done   5 tasks      | elapsed:    6.1s\n",
      "[Parallel(n_jobs=-1)]: Done   6 tasks      | elapsed:    6.5s\n",
      "[Parallel(n_jobs=-1)]: Done   7 tasks      | elapsed:    6.5s\n",
      "[Parallel(n_jobs=-1)]: Done   8 tasks      | elapsed:    6.7s\n",
      "[Parallel(n_jobs=-1)]: Done   9 tasks      | elapsed:    7.4s\n",
      "[Parallel(n_jobs=-1)]: Done  10 tasks      | elapsed:    7.9s\n",
      "[Parallel(n_jobs=-1)]: Done  11 tasks      | elapsed:   10.9s\n",
      "[Parallel(n_jobs=-1)]: Done  12 tasks      | elapsed:   11.0s\n",
      "[Parallel(n_jobs=-1)]: Done  13 tasks      | elapsed:   11.0s\n",
      "[Parallel(n_jobs=-1)]: Done  14 tasks      | elapsed:   11.2s\n",
      "[Parallel(n_jobs=-1)]: Done  15 tasks      | elapsed:   11.4s\n",
      "[Parallel(n_jobs=-1)]: Done  16 tasks      | elapsed:   11.5s\n",
      "[Parallel(n_jobs=-1)]: Done  17 tasks      | elapsed:   11.9s\n",
      "[Parallel(n_jobs=-1)]: Done  18 tasks      | elapsed:   12.1s\n",
      "[Parallel(n_jobs=-1)]: Done  19 tasks      | elapsed:   13.4s\n",
      "[Parallel(n_jobs=-1)]: Done  20 tasks      | elapsed:   13.8s\n",
      "[Parallel(n_jobs=-1)]: Done  21 tasks      | elapsed:   15.6s\n",
      "[Parallel(n_jobs=-1)]: Done  22 tasks      | elapsed:   15.9s\n",
      "[Parallel(n_jobs=-1)]: Done  23 tasks      | elapsed:   16.1s\n",
      "[Parallel(n_jobs=-1)]: Done  24 tasks      | elapsed:   16.2s\n",
      "[Parallel(n_jobs=-1)]: Done  25 tasks      | elapsed:   17.2s\n",
      "[Parallel(n_jobs=-1)]: Done  26 tasks      | elapsed:   18.1s\n",
      "[Parallel(n_jobs=-1)]: Done  27 tasks      | elapsed:   18.2s\n",
      "[Parallel(n_jobs=-1)]: Done  28 tasks      | elapsed:   19.0s\n",
      "[Parallel(n_jobs=-1)]: Done  29 tasks      | elapsed:   19.6s\n",
      "[Parallel(n_jobs=-1)]: Done  30 tasks      | elapsed:   19.9s\n",
      "[Parallel(n_jobs=-1)]: Done  31 tasks      | elapsed:   20.2s\n",
      "[Parallel(n_jobs=-1)]: Done  32 tasks      | elapsed:   20.7s\n",
      "[Parallel(n_jobs=-1)]: Done  33 tasks      | elapsed:   21.8s\n",
      "[Parallel(n_jobs=-1)]: Done  34 tasks      | elapsed:   22.0s\n",
      "[Parallel(n_jobs=-1)]: Done  35 tasks      | elapsed:   23.0s\n",
      "[Parallel(n_jobs=-1)]: Done  36 tasks      | elapsed:   23.6s\n",
      "[Parallel(n_jobs=-1)]: Done  37 tasks      | elapsed:   23.9s\n",
      "[Parallel(n_jobs=-1)]: Done  38 tasks      | elapsed:   24.5s\n",
      "[Parallel(n_jobs=-1)]: Done  39 tasks      | elapsed:   24.5s\n",
      "[Parallel(n_jobs=-1)]: Done  40 tasks      | elapsed:   25.0s\n",
      "[Parallel(n_jobs=-1)]: Done  41 tasks      | elapsed:   25.3s\n",
      "[Parallel(n_jobs=-1)]: Done  42 tasks      | elapsed:   26.2s\n",
      "[Parallel(n_jobs=-1)]: Done  43 tasks      | elapsed:   26.3s\n",
      "[Parallel(n_jobs=-1)]: Done  44 tasks      | elapsed:   27.4s\n",
      "[Parallel(n_jobs=-1)]: Done  45 tasks      | elapsed:   28.4s\n",
      "[Parallel(n_jobs=-1)]: Done  46 tasks      | elapsed:   28.8s\n",
      "[Parallel(n_jobs=-1)]: Done  47 tasks      | elapsed:   29.5s\n",
      "[Parallel(n_jobs=-1)]: Done  48 tasks      | elapsed:   30.4s\n",
      "[Parallel(n_jobs=-1)]: Done  49 tasks      | elapsed:   31.1s\n",
      "[Parallel(n_jobs=-1)]: Done  50 tasks      | elapsed:   31.2s\n",
      "[Parallel(n_jobs=-1)]: Done  51 tasks      | elapsed:   31.3s\n",
      "[Parallel(n_jobs=-1)]: Done  52 tasks      | elapsed:   31.8s\n",
      "[Parallel(n_jobs=-1)]: Done  53 tasks      | elapsed:   32.0s\n",
      "[Parallel(n_jobs=-1)]: Done  54 tasks      | elapsed:   33.4s\n",
      "[Parallel(n_jobs=-1)]: Done  55 tasks      | elapsed:   34.3s\n",
      "[Parallel(n_jobs=-1)]: Done  56 tasks      | elapsed:   34.7s\n",
      "[Parallel(n_jobs=-1)]: Done  57 tasks      | elapsed:   36.1s\n",
      "[Parallel(n_jobs=-1)]: Done  58 tasks      | elapsed:   36.1s\n",
      "[Parallel(n_jobs=-1)]: Done  59 tasks      | elapsed:   36.4s\n",
      "[Parallel(n_jobs=-1)]: Done  60 tasks      | elapsed:   37.7s\n",
      "[Parallel(n_jobs=-1)]: Done  61 tasks      | elapsed:   38.2s\n",
      "[Parallel(n_jobs=-1)]: Done  62 tasks      | elapsed:   38.6s\n",
      "[Parallel(n_jobs=-1)]: Done  63 tasks      | elapsed:   38.9s\n",
      "[Parallel(n_jobs=-1)]: Done  64 tasks      | elapsed:   39.4s\n",
      "[Parallel(n_jobs=-1)]: Done  65 tasks      | elapsed:   39.7s\n",
      "[Parallel(n_jobs=-1)]: Done  66 tasks      | elapsed:   40.6s\n",
      "[Parallel(n_jobs=-1)]: Done  67 tasks      | elapsed:   42.0s\n",
      "[Parallel(n_jobs=-1)]: Done  68 tasks      | elapsed:   42.3s\n",
      "[Parallel(n_jobs=-1)]: Done  69 tasks      | elapsed:   42.6s\n",
      "[Parallel(n_jobs=-1)]: Done  70 tasks      | elapsed:   43.3s\n",
      "[Parallel(n_jobs=-1)]: Done  71 tasks      | elapsed:   43.5s\n",
      "[Parallel(n_jobs=-1)]: Done  72 tasks      | elapsed:   43.9s\n",
      "[Parallel(n_jobs=-1)]: Done  73 tasks      | elapsed:   44.3s\n",
      "[Parallel(n_jobs=-1)]: Done  74 tasks      | elapsed:   44.4s\n",
      "[Parallel(n_jobs=-1)]: Done  75 tasks      | elapsed:   45.2s\n",
      "[Parallel(n_jobs=-1)]: Done  76 tasks      | elapsed:   45.3s\n",
      "[Parallel(n_jobs=-1)]: Done  77 tasks      | elapsed:   46.8s\n",
      "[Parallel(n_jobs=-1)]: Done  78 tasks      | elapsed:   48.4s\n",
      "[Parallel(n_jobs=-1)]: Done  79 tasks      | elapsed:   49.2s\n",
      "[Parallel(n_jobs=-1)]: Done  80 tasks      | elapsed:   49.2s\n",
      "[Parallel(n_jobs=-1)]: Done  81 tasks      | elapsed:   49.3s\n",
      "[Parallel(n_jobs=-1)]: Done  82 tasks      | elapsed:   49.5s\n",
      "[Parallel(n_jobs=-1)]: Done  83 tasks      | elapsed:   49.9s\n",
      "[Parallel(n_jobs=-1)]: Done  84 tasks      | elapsed:   50.3s\n",
      "[Parallel(n_jobs=-1)]: Done  85 tasks      | elapsed:   50.7s\n",
      "[Parallel(n_jobs=-1)]: Done  86 tasks      | elapsed:   51.2s\n",
      "[Parallel(n_jobs=-1)]: Done  87 tasks      | elapsed:   51.6s\n",
      "[Parallel(n_jobs=-1)]: Done  88 tasks      | elapsed:   54.4s\n",
      "[Parallel(n_jobs=-1)]: Done  89 tasks      | elapsed:   54.7s\n",
      "[Parallel(n_jobs=-1)]: Done  90 tasks      | elapsed:   54.8s\n",
      "[Parallel(n_jobs=-1)]: Done  91 tasks      | elapsed:   55.1s\n",
      "[Parallel(n_jobs=-1)]: Done  92 tasks      | elapsed:   55.3s\n",
      "[Parallel(n_jobs=-1)]: Done  93 tasks      | elapsed:   55.4s\n",
      "[Parallel(n_jobs=-1)]: Done  94 tasks      | elapsed:   55.5s\n",
      "[Parallel(n_jobs=-1)]: Done  95 tasks      | elapsed:   56.2s\n",
      "[Parallel(n_jobs=-1)]: Done  96 tasks      | elapsed:   57.7s\n",
      "[Parallel(n_jobs=-1)]: Done  97 tasks      | elapsed:   58.5s\n",
      "[Parallel(n_jobs=-1)]: Done  98 tasks      | elapsed:   59.5s\n",
      "[Parallel(n_jobs=-1)]: Done  99 tasks      | elapsed:  1.0min\n",
      "[Parallel(n_jobs=-1)]: Done 100 tasks      | elapsed:  1.0min\n",
      "[Parallel(n_jobs=-1)]: Done 101 tasks      | elapsed:  1.0min\n",
      "[Parallel(n_jobs=-1)]: Done 102 tasks      | elapsed:  1.0min\n",
      "[Parallel(n_jobs=-1)]: Done 103 tasks      | elapsed:  1.0min\n",
      "[Parallel(n_jobs=-1)]: Done 104 tasks      | elapsed:  1.0min\n",
      "[Parallel(n_jobs=-1)]: Done 105 tasks      | elapsed:  1.0min\n",
      "[Parallel(n_jobs=-1)]: Done 106 tasks      | elapsed:  1.1min\n",
      "[Parallel(n_jobs=-1)]: Done 107 tasks      | elapsed:  1.1min\n",
      "[Parallel(n_jobs=-1)]: Done 108 tasks      | elapsed:  1.1min\n",
      "[Parallel(n_jobs=-1)]: Done 109 tasks      | elapsed:  1.1min\n",
      "[Parallel(n_jobs=-1)]: Done 110 tasks      | elapsed:  1.1min\n",
      "[Parallel(n_jobs=-1)]: Done 111 tasks      | elapsed:  1.1min\n",
      "[Parallel(n_jobs=-1)]: Done 112 tasks      | elapsed:  1.1min\n",
      "[Parallel(n_jobs=-1)]: Done 113 tasks      | elapsed:  1.1min\n",
      "[Parallel(n_jobs=-1)]: Done 114 tasks      | elapsed:  1.1min\n",
      "[Parallel(n_jobs=-1)]: Done 115 tasks      | elapsed:  1.1min\n",
      "[Parallel(n_jobs=-1)]: Done 116 tasks      | elapsed:  1.2min\n",
      "[Parallel(n_jobs=-1)]: Done 117 tasks      | elapsed:  1.2min\n",
      "[Parallel(n_jobs=-1)]: Done 118 tasks      | elapsed:  1.2min\n",
      "[Parallel(n_jobs=-1)]: Done 119 tasks      | elapsed:  1.2min\n",
      "[Parallel(n_jobs=-1)]: Done 120 tasks      | elapsed:  1.2min\n",
      "[Parallel(n_jobs=-1)]: Done 121 tasks      | elapsed:  1.2min\n",
      "[Parallel(n_jobs=-1)]: Done 122 tasks      | elapsed:  1.2min\n",
      "[Parallel(n_jobs=-1)]: Done 123 tasks      | elapsed:  1.2min\n",
      "[Parallel(n_jobs=-1)]: Done 124 tasks      | elapsed:  1.2min\n",
      "[Parallel(n_jobs=-1)]: Done 125 tasks      | elapsed:  1.2min\n",
      "[Parallel(n_jobs=-1)]: Done 126 tasks      | elapsed:  1.2min\n",
      "[Parallel(n_jobs=-1)]: Done 127 tasks      | elapsed:  1.2min\n",
      "[Parallel(n_jobs=-1)]: Done 128 tasks      | elapsed:  1.3min\n",
      "[Parallel(n_jobs=-1)]: Done 129 tasks      | elapsed:  1.3min\n",
      "[Parallel(n_jobs=-1)]: Done 130 tasks      | elapsed:  1.3min\n",
      "[Parallel(n_jobs=-1)]: Done 131 tasks      | elapsed:  1.3min\n"
     ]
    },
    {
     "name": "stdout",
     "output_type": "stream",
     "text": [
      "[Parallel(n_jobs=-1)]: Done 132 tasks      | elapsed:  1.3min\n",
      "[Parallel(n_jobs=-1)]: Done 133 tasks      | elapsed:  1.3min\n",
      "[Parallel(n_jobs=-1)]: Done 134 tasks      | elapsed:  1.3min\n",
      "[Parallel(n_jobs=-1)]: Done 135 tasks      | elapsed:  1.3min\n",
      "[Parallel(n_jobs=-1)]: Done 136 tasks      | elapsed:  1.3min\n",
      "[Parallel(n_jobs=-1)]: Done 137 tasks      | elapsed:  1.3min\n",
      "[Parallel(n_jobs=-1)]: Done 138 tasks      | elapsed:  1.3min\n",
      "[Parallel(n_jobs=-1)]: Done 139 tasks      | elapsed:  1.4min\n",
      "[Parallel(n_jobs=-1)]: Done 140 tasks      | elapsed:  1.4min\n",
      "[Parallel(n_jobs=-1)]: Done 141 tasks      | elapsed:  1.4min\n",
      "[Parallel(n_jobs=-1)]: Done 142 tasks      | elapsed:  1.4min\n",
      "[Parallel(n_jobs=-1)]: Done 143 tasks      | elapsed:  1.4min\n",
      "[Parallel(n_jobs=-1)]: Done 144 tasks      | elapsed:  1.4min\n",
      "[Parallel(n_jobs=-1)]: Done 145 tasks      | elapsed:  1.4min\n",
      "[Parallel(n_jobs=-1)]: Done 146 tasks      | elapsed:  1.4min\n",
      "[Parallel(n_jobs=-1)]: Done 147 tasks      | elapsed:  1.4min\n",
      "[Parallel(n_jobs=-1)]: Done 148 tasks      | elapsed:  1.4min\n",
      "[Parallel(n_jobs=-1)]: Done 149 tasks      | elapsed:  1.4min\n",
      "[Parallel(n_jobs=-1)]: Done 150 tasks      | elapsed:  1.5min\n",
      "[Parallel(n_jobs=-1)]: Done 151 tasks      | elapsed:  1.5min\n",
      "[Parallel(n_jobs=-1)]: Done 152 tasks      | elapsed:  1.5min\n",
      "[Parallel(n_jobs=-1)]: Done 153 tasks      | elapsed:  1.5min\n",
      "[Parallel(n_jobs=-1)]: Done 154 tasks      | elapsed:  1.5min\n",
      "[Parallel(n_jobs=-1)]: Done 155 tasks      | elapsed:  1.5min\n",
      "[Parallel(n_jobs=-1)]: Done 156 tasks      | elapsed:  1.5min\n",
      "[Parallel(n_jobs=-1)]: Done 157 tasks      | elapsed:  1.5min\n",
      "[Parallel(n_jobs=-1)]: Done 158 tasks      | elapsed:  1.5min\n",
      "[Parallel(n_jobs=-1)]: Done 159 tasks      | elapsed:  1.5min\n",
      "[Parallel(n_jobs=-1)]: Done 160 tasks      | elapsed:  1.5min\n",
      "[Parallel(n_jobs=-1)]: Done 161 tasks      | elapsed:  1.5min\n",
      "[Parallel(n_jobs=-1)]: Done 162 tasks      | elapsed:  1.6min\n",
      "[Parallel(n_jobs=-1)]: Done 163 tasks      | elapsed:  1.6min\n",
      "[Parallel(n_jobs=-1)]: Done 164 tasks      | elapsed:  1.6min\n",
      "[Parallel(n_jobs=-1)]: Done 165 tasks      | elapsed:  1.6min\n",
      "[Parallel(n_jobs=-1)]: Done 166 tasks      | elapsed:  1.6min\n",
      "[Parallel(n_jobs=-1)]: Done 167 tasks      | elapsed:  1.6min\n",
      "[Parallel(n_jobs=-1)]: Done 168 tasks      | elapsed:  1.6min\n",
      "[Parallel(n_jobs=-1)]: Done 169 tasks      | elapsed:  1.6min\n",
      "[Parallel(n_jobs=-1)]: Done 170 tasks      | elapsed:  1.6min\n",
      "[Parallel(n_jobs=-1)]: Done 171 tasks      | elapsed:  1.7min\n",
      "[Parallel(n_jobs=-1)]: Done 172 tasks      | elapsed:  1.7min\n",
      "[Parallel(n_jobs=-1)]: Done 173 tasks      | elapsed:  1.7min\n",
      "[Parallel(n_jobs=-1)]: Done 174 tasks      | elapsed:  1.7min\n",
      "[Parallel(n_jobs=-1)]: Done 175 tasks      | elapsed:  1.7min\n",
      "[Parallel(n_jobs=-1)]: Done 176 tasks      | elapsed:  1.7min\n",
      "[Parallel(n_jobs=-1)]: Done 177 tasks      | elapsed:  1.7min\n",
      "[Parallel(n_jobs=-1)]: Done 178 tasks      | elapsed:  1.7min\n",
      "[Parallel(n_jobs=-1)]: Done 179 tasks      | elapsed:  1.7min\n",
      "[Parallel(n_jobs=-1)]: Done 180 tasks      | elapsed:  1.7min\n",
      "[Parallel(n_jobs=-1)]: Done 181 tasks      | elapsed:  1.7min\n",
      "[Parallel(n_jobs=-1)]: Done 184 out of 200 | elapsed:  1.8min remaining:    9.3s\n",
      "[Parallel(n_jobs=-1)]: Done 187 out of 200 | elapsed:  1.8min remaining:    7.5s\n",
      "[Parallel(n_jobs=-1)]: Done 190 out of 200 | elapsed:  1.8min remaining:    5.8s\n",
      "[Parallel(n_jobs=-1)]: Done 193 out of 200 | elapsed:  1.9min remaining:    4.0s\n",
      "[Parallel(n_jobs=-1)]: Done 196 out of 200 | elapsed:  1.9min remaining:    2.3s\n",
      "[Parallel(n_jobs=-1)]: Done 200 out of 200 | elapsed:  1.9min finished\n"
     ]
    }
   ],
   "source": [
    "res_percentile_no_norm_med = Parallel(n_jobs=-1,  verbose = 100)(delayed(simulate)(sample_size = s) for s in med_sample) "
   ]
  },
  {
   "cell_type": "code",
   "execution_count": 7,
   "id": "c2ee3eee",
   "metadata": {},
   "outputs": [
    {
     "name": "stdout",
     "output_type": "stream",
     "text": [
      "[Parallel(n_jobs=-1)]: Using backend LokyBackend with 10 concurrent workers.\n",
      "[Parallel(n_jobs=-1)]: Done   1 tasks      | elapsed:  1.1min\n",
      "[Parallel(n_jobs=-1)]: Done   2 tasks      | elapsed:  1.1min\n",
      "[Parallel(n_jobs=-1)]: Done   3 tasks      | elapsed:  1.2min\n",
      "[Parallel(n_jobs=-1)]: Done   4 tasks      | elapsed:  1.2min\n",
      "[Parallel(n_jobs=-1)]: Done   5 tasks      | elapsed:  1.2min\n",
      "[Parallel(n_jobs=-1)]: Done   6 tasks      | elapsed:  1.5min\n",
      "[Parallel(n_jobs=-1)]: Done   7 tasks      | elapsed:  1.6min\n",
      "[Parallel(n_jobs=-1)]: Done   8 tasks      | elapsed:  1.7min\n",
      "[Parallel(n_jobs=-1)]: Done   9 tasks      | elapsed:  1.7min\n",
      "[Parallel(n_jobs=-1)]: Done  10 tasks      | elapsed:  1.8min\n",
      "[Parallel(n_jobs=-1)]: Done  11 tasks      | elapsed:  1.9min\n",
      "[Parallel(n_jobs=-1)]: Done  12 tasks      | elapsed:  2.1min\n",
      "[Parallel(n_jobs=-1)]: Done  13 tasks      | elapsed:  2.5min\n",
      "[Parallel(n_jobs=-1)]: Done  14 tasks      | elapsed:  2.5min\n",
      "[Parallel(n_jobs=-1)]: Done  15 tasks      | elapsed:  2.9min\n",
      "[Parallel(n_jobs=-1)]: Done  16 tasks      | elapsed:  3.1min\n",
      "[Parallel(n_jobs=-1)]: Done  17 tasks      | elapsed:  3.1min\n",
      "[Parallel(n_jobs=-1)]: Done  18 tasks      | elapsed:  3.2min\n",
      "[Parallel(n_jobs=-1)]: Done  19 tasks      | elapsed:  3.3min\n",
      "[Parallel(n_jobs=-1)]: Done  20 tasks      | elapsed:  3.5min\n",
      "[Parallel(n_jobs=-1)]: Done  21 tasks      | elapsed:  3.6min\n",
      "[Parallel(n_jobs=-1)]: Done  22 tasks      | elapsed:  3.6min\n",
      "[Parallel(n_jobs=-1)]: Done  23 tasks      | elapsed:  3.6min\n",
      "[Parallel(n_jobs=-1)]: Done  24 tasks      | elapsed:  4.2min\n",
      "[Parallel(n_jobs=-1)]: Done  25 tasks      | elapsed:  4.2min\n",
      "[Parallel(n_jobs=-1)]: Done  26 tasks      | elapsed:  4.4min\n",
      "[Parallel(n_jobs=-1)]: Done  27 tasks      | elapsed:  4.5min\n",
      "[Parallel(n_jobs=-1)]: Done  28 tasks      | elapsed:  4.5min\n",
      "[Parallel(n_jobs=-1)]: Done  29 tasks      | elapsed:  4.5min\n",
      "[Parallel(n_jobs=-1)]: Done  30 tasks      | elapsed:  4.5min\n",
      "[Parallel(n_jobs=-1)]: Done  31 tasks      | elapsed:  5.0min\n",
      "[Parallel(n_jobs=-1)]: Done  32 tasks      | elapsed:  5.2min\n",
      "[Parallel(n_jobs=-1)]: Done  33 tasks      | elapsed:  5.3min\n",
      "[Parallel(n_jobs=-1)]: Done  34 tasks      | elapsed:  5.5min\n",
      "[Parallel(n_jobs=-1)]: Done  35 tasks      | elapsed:  6.0min\n",
      "[Parallel(n_jobs=-1)]: Done  36 tasks      | elapsed:  6.0min\n",
      "[Parallel(n_jobs=-1)]: Done  37 tasks      | elapsed:  6.0min\n",
      "[Parallel(n_jobs=-1)]: Done  38 tasks      | elapsed:  6.1min\n",
      "[Parallel(n_jobs=-1)]: Done  39 tasks      | elapsed:  6.1min\n",
      "[Parallel(n_jobs=-1)]: Done  40 tasks      | elapsed:  6.1min\n",
      "[Parallel(n_jobs=-1)]: Done  41 tasks      | elapsed:  6.7min\n",
      "[Parallel(n_jobs=-1)]: Done  42 tasks      | elapsed:  6.7min\n",
      "[Parallel(n_jobs=-1)]: Done  43 tasks      | elapsed:  6.8min\n",
      "[Parallel(n_jobs=-1)]: Done  44 tasks      | elapsed:  7.1min\n",
      "[Parallel(n_jobs=-1)]: Done  45 tasks      | elapsed:  7.1min\n",
      "[Parallel(n_jobs=-1)]: Done  46 tasks      | elapsed:  7.4min\n",
      "[Parallel(n_jobs=-1)]: Done  47 tasks      | elapsed:  7.4min\n",
      "[Parallel(n_jobs=-1)]: Done  48 tasks      | elapsed:  7.6min\n",
      "[Parallel(n_jobs=-1)]: Done  49 tasks      | elapsed:  7.7min\n",
      "[Parallel(n_jobs=-1)]: Done  50 tasks      | elapsed:  7.7min\n",
      "[Parallel(n_jobs=-1)]: Done  51 tasks      | elapsed:  7.8min\n",
      "[Parallel(n_jobs=-1)]: Done  52 tasks      | elapsed:  8.1min\n",
      "[Parallel(n_jobs=-1)]: Done  53 tasks      | elapsed:  8.1min\n",
      "[Parallel(n_jobs=-1)]: Done  54 tasks      | elapsed:  8.1min\n",
      "[Parallel(n_jobs=-1)]: Done  55 tasks      | elapsed:  8.1min\n",
      "[Parallel(n_jobs=-1)]: Done  56 tasks      | elapsed:  8.3min\n",
      "[Parallel(n_jobs=-1)]: Done  57 tasks      | elapsed:  8.4min\n",
      "[Parallel(n_jobs=-1)]: Done  58 tasks      | elapsed:  8.6min\n",
      "[Parallel(n_jobs=-1)]: Done  59 tasks      | elapsed:  8.8min\n",
      "[Parallel(n_jobs=-1)]: Done  60 tasks      | elapsed:  8.9min\n",
      "[Parallel(n_jobs=-1)]: Done  61 tasks      | elapsed:  8.9min\n",
      "[Parallel(n_jobs=-1)]: Done  62 tasks      | elapsed:  8.9min\n",
      "[Parallel(n_jobs=-1)]: Done  63 tasks      | elapsed:  9.0min\n",
      "[Parallel(n_jobs=-1)]: Done  64 tasks      | elapsed:  9.0min\n",
      "[Parallel(n_jobs=-1)]: Done  65 tasks      | elapsed:  9.4min\n",
      "[Parallel(n_jobs=-1)]: Done  66 tasks      | elapsed:  9.5min\n",
      "[Parallel(n_jobs=-1)]: Done  67 tasks      | elapsed:  9.6min\n",
      "[Parallel(n_jobs=-1)]: Done  68 tasks      | elapsed:  9.6min\n",
      "[Parallel(n_jobs=-1)]: Done  69 tasks      | elapsed:  9.6min\n",
      "[Parallel(n_jobs=-1)]: Done  70 tasks      | elapsed:  9.6min\n",
      "[Parallel(n_jobs=-1)]: Done  71 tasks      | elapsed:  9.6min\n",
      "[Parallel(n_jobs=-1)]: Done  72 tasks      | elapsed:  9.9min\n",
      "[Parallel(n_jobs=-1)]: Done  73 tasks      | elapsed: 10.0min\n",
      "[Parallel(n_jobs=-1)]: Done  74 tasks      | elapsed: 10.0min\n",
      "[Parallel(n_jobs=-1)]: Done  75 tasks      | elapsed: 10.5min\n",
      "[Parallel(n_jobs=-1)]: Done  76 tasks      | elapsed: 10.5min\n",
      "[Parallel(n_jobs=-1)]: Done  77 tasks      | elapsed: 10.5min\n",
      "[Parallel(n_jobs=-1)]: Done  78 tasks      | elapsed: 10.5min\n",
      "[Parallel(n_jobs=-1)]: Done  79 tasks      | elapsed: 10.5min\n",
      "[Parallel(n_jobs=-1)]: Done  80 tasks      | elapsed: 10.5min\n",
      "[Parallel(n_jobs=-1)]: Done  81 tasks      | elapsed: 10.5min\n",
      "[Parallel(n_jobs=-1)]: Done  82 tasks      | elapsed: 10.5min\n",
      "[Parallel(n_jobs=-1)]: Done  83 tasks      | elapsed: 10.6min\n",
      "[Parallel(n_jobs=-1)]: Done  84 tasks      | elapsed: 11.1min\n",
      "[Parallel(n_jobs=-1)]: Done  85 tasks      | elapsed: 11.2min\n",
      "[Parallel(n_jobs=-1)]: Done  86 tasks      | elapsed: 11.4min\n",
      "[Parallel(n_jobs=-1)]: Done  87 tasks      | elapsed: 11.7min\n",
      "[Parallel(n_jobs=-1)]: Done  88 tasks      | elapsed: 11.7min\n",
      "[Parallel(n_jobs=-1)]: Done  89 tasks      | elapsed: 11.9min\n",
      "[Parallel(n_jobs=-1)]: Done  90 tasks      | elapsed: 12.0min\n",
      "[Parallel(n_jobs=-1)]: Done  91 tasks      | elapsed: 12.1min\n",
      "[Parallel(n_jobs=-1)]: Done  92 tasks      | elapsed: 12.2min\n",
      "[Parallel(n_jobs=-1)]: Done  93 tasks      | elapsed: 12.5min\n",
      "[Parallel(n_jobs=-1)]: Done  94 tasks      | elapsed: 12.5min\n",
      "[Parallel(n_jobs=-1)]: Done  95 tasks      | elapsed: 12.5min\n",
      "[Parallel(n_jobs=-1)]: Done  96 tasks      | elapsed: 12.6min\n",
      "[Parallel(n_jobs=-1)]: Done  97 tasks      | elapsed: 12.6min\n",
      "[Parallel(n_jobs=-1)]: Done  98 tasks      | elapsed: 12.6min\n",
      "[Parallel(n_jobs=-1)]: Done  99 tasks      | elapsed: 13.0min\n",
      "[Parallel(n_jobs=-1)]: Done 100 tasks      | elapsed: 13.2min\n",
      "[Parallel(n_jobs=-1)]: Done 101 tasks      | elapsed: 13.2min\n",
      "[Parallel(n_jobs=-1)]: Done 102 tasks      | elapsed: 13.3min\n",
      "[Parallel(n_jobs=-1)]: Done 103 tasks      | elapsed: 13.3min\n",
      "[Parallel(n_jobs=-1)]: Done 104 tasks      | elapsed: 13.6min\n",
      "[Parallel(n_jobs=-1)]: Done 105 tasks      | elapsed: 13.7min\n",
      "[Parallel(n_jobs=-1)]: Done 106 tasks      | elapsed: 13.7min\n",
      "[Parallel(n_jobs=-1)]: Done 107 tasks      | elapsed: 14.1min\n",
      "[Parallel(n_jobs=-1)]: Done 108 tasks      | elapsed: 14.1min\n",
      "[Parallel(n_jobs=-1)]: Done 109 tasks      | elapsed: 14.1min\n",
      "[Parallel(n_jobs=-1)]: Done 110 tasks      | elapsed: 14.3min\n",
      "[Parallel(n_jobs=-1)]: Done 111 tasks      | elapsed: 14.3min\n",
      "[Parallel(n_jobs=-1)]: Done 112 tasks      | elapsed: 14.3min\n",
      "[Parallel(n_jobs=-1)]: Done 113 tasks      | elapsed: 14.5min\n",
      "[Parallel(n_jobs=-1)]: Done 114 tasks      | elapsed: 14.5min\n",
      "[Parallel(n_jobs=-1)]: Done 115 tasks      | elapsed: 14.6min\n",
      "[Parallel(n_jobs=-1)]: Done 116 tasks      | elapsed: 14.8min\n",
      "[Parallel(n_jobs=-1)]: Done 117 tasks      | elapsed: 14.9min\n",
      "[Parallel(n_jobs=-1)]: Done 118 tasks      | elapsed: 15.1min\n",
      "[Parallel(n_jobs=-1)]: Done 119 tasks      | elapsed: 15.4min\n",
      "[Parallel(n_jobs=-1)]: Done 120 tasks      | elapsed: 15.4min\n",
      "[Parallel(n_jobs=-1)]: Done 121 tasks      | elapsed: 15.4min\n",
      "[Parallel(n_jobs=-1)]: Done 122 tasks      | elapsed: 15.5min\n",
      "[Parallel(n_jobs=-1)]: Done 123 tasks      | elapsed: 15.5min\n",
      "[Parallel(n_jobs=-1)]: Done 124 tasks      | elapsed: 15.5min\n",
      "[Parallel(n_jobs=-1)]: Done 125 tasks      | elapsed: 15.8min\n",
      "[Parallel(n_jobs=-1)]: Done 126 tasks      | elapsed: 15.9min\n",
      "[Parallel(n_jobs=-1)]: Done 127 tasks      | elapsed: 16.0min\n",
      "[Parallel(n_jobs=-1)]: Done 128 tasks      | elapsed: 16.2min\n",
      "[Parallel(n_jobs=-1)]: Done 129 tasks      | elapsed: 16.2min\n",
      "[Parallel(n_jobs=-1)]: Done 130 tasks      | elapsed: 16.3min\n",
      "[Parallel(n_jobs=-1)]: Done 131 tasks      | elapsed: 16.3min\n"
     ]
    },
    {
     "name": "stdout",
     "output_type": "stream",
     "text": [
      "[Parallel(n_jobs=-1)]: Done 132 tasks      | elapsed: 16.3min\n",
      "[Parallel(n_jobs=-1)]: Done 133 tasks      | elapsed: 16.7min\n",
      "[Parallel(n_jobs=-1)]: Done 134 tasks      | elapsed: 16.8min\n",
      "[Parallel(n_jobs=-1)]: Done 135 tasks      | elapsed: 17.1min\n",
      "[Parallel(n_jobs=-1)]: Done 136 tasks      | elapsed: 17.3min\n",
      "[Parallel(n_jobs=-1)]: Done 137 tasks      | elapsed: 17.3min\n",
      "[Parallel(n_jobs=-1)]: Done 138 tasks      | elapsed: 17.4min\n",
      "[Parallel(n_jobs=-1)]: Done 139 tasks      | elapsed: 17.4min\n",
      "[Parallel(n_jobs=-1)]: Done 140 tasks      | elapsed: 17.4min\n",
      "[Parallel(n_jobs=-1)]: Done 141 tasks      | elapsed: 17.6min\n",
      "[Parallel(n_jobs=-1)]: Done 142 tasks      | elapsed: 17.8min\n",
      "[Parallel(n_jobs=-1)]: Done 143 tasks      | elapsed: 17.9min\n",
      "[Parallel(n_jobs=-1)]: Done 144 tasks      | elapsed: 17.9min\n",
      "[Parallel(n_jobs=-1)]: Done 145 tasks      | elapsed: 17.9min\n",
      "[Parallel(n_jobs=-1)]: Done 146 tasks      | elapsed: 18.0min\n",
      "[Parallel(n_jobs=-1)]: Done 147 tasks      | elapsed: 18.0min\n",
      "[Parallel(n_jobs=-1)]: Done 148 tasks      | elapsed: 18.3min\n",
      "[Parallel(n_jobs=-1)]: Done 149 tasks      | elapsed: 18.4min\n",
      "[Parallel(n_jobs=-1)]: Done 150 tasks      | elapsed: 18.5min\n",
      "[Parallel(n_jobs=-1)]: Done 151 tasks      | elapsed: 18.6min\n",
      "[Parallel(n_jobs=-1)]: Done 152 tasks      | elapsed: 18.6min\n",
      "[Parallel(n_jobs=-1)]: Done 153 tasks      | elapsed: 18.7min\n",
      "[Parallel(n_jobs=-1)]: Done 154 tasks      | elapsed: 19.1min\n",
      "[Parallel(n_jobs=-1)]: Done 155 tasks      | elapsed: 19.1min\n",
      "[Parallel(n_jobs=-1)]: Done 156 tasks      | elapsed: 19.1min\n",
      "[Parallel(n_jobs=-1)]: Done 157 tasks      | elapsed: 19.1min\n",
      "[Parallel(n_jobs=-1)]: Done 158 tasks      | elapsed: 19.1min\n",
      "[Parallel(n_jobs=-1)]: Done 159 tasks      | elapsed: 19.1min\n",
      "[Parallel(n_jobs=-1)]: Done 160 tasks      | elapsed: 19.1min\n",
      "[Parallel(n_jobs=-1)]: Done 161 tasks      | elapsed: 19.4min\n",
      "[Parallel(n_jobs=-1)]: Done 162 tasks      | elapsed: 19.5min\n",
      "[Parallel(n_jobs=-1)]: Done 163 tasks      | elapsed: 19.9min\n",
      "[Parallel(n_jobs=-1)]: Done 164 tasks      | elapsed: 20.2min\n",
      "[Parallel(n_jobs=-1)]: Done 165 tasks      | elapsed: 20.3min\n",
      "[Parallel(n_jobs=-1)]: Done 166 tasks      | elapsed: 20.5min\n",
      "[Parallel(n_jobs=-1)]: Done 167 tasks      | elapsed: 20.9min\n",
      "[Parallel(n_jobs=-1)]: Done 168 tasks      | elapsed: 20.9min\n",
      "[Parallel(n_jobs=-1)]: Done 169 tasks      | elapsed: 20.9min\n",
      "[Parallel(n_jobs=-1)]: Done 170 tasks      | elapsed: 20.9min\n",
      "[Parallel(n_jobs=-1)]: Done 171 tasks      | elapsed: 20.9min\n",
      "[Parallel(n_jobs=-1)]: Done 172 tasks      | elapsed: 20.9min\n",
      "[Parallel(n_jobs=-1)]: Done 173 tasks      | elapsed: 21.0min\n",
      "[Parallel(n_jobs=-1)]: Done 174 tasks      | elapsed: 21.0min\n",
      "[Parallel(n_jobs=-1)]: Done 175 tasks      | elapsed: 21.2min\n",
      "[Parallel(n_jobs=-1)]: Done 176 tasks      | elapsed: 21.3min\n",
      "[Parallel(n_jobs=-1)]: Done 177 tasks      | elapsed: 21.5min\n",
      "[Parallel(n_jobs=-1)]: Done 178 tasks      | elapsed: 21.9min\n",
      "[Parallel(n_jobs=-1)]: Done 179 tasks      | elapsed: 21.9min\n",
      "[Parallel(n_jobs=-1)]: Done 180 tasks      | elapsed: 22.5min\n",
      "[Parallel(n_jobs=-1)]: Done 181 tasks      | elapsed: 22.5min\n",
      "[Parallel(n_jobs=-1)]: Done 184 out of 200 | elapsed: 22.6min remaining:  2.0min\n",
      "[Parallel(n_jobs=-1)]: Done 187 out of 200 | elapsed: 22.8min remaining:  1.6min\n",
      "[Parallel(n_jobs=-1)]: Done 190 out of 200 | elapsed: 23.3min remaining:  1.2min\n",
      "[Parallel(n_jobs=-1)]: Done 193 out of 200 | elapsed: 23.3min remaining:   50.7s\n",
      "[Parallel(n_jobs=-1)]: Done 196 out of 200 | elapsed: 23.5min remaining:   28.8s\n",
      "[Parallel(n_jobs=-1)]: Done 200 out of 200 | elapsed: 23.9min finished\n"
     ]
    }
   ],
   "source": [
    "res_percentile_no_norm_large = Parallel(n_jobs=-1,  verbose = 100)(delayed(simulate)(sample_size = s) for s in large_sample) "
   ]
  },
  {
   "cell_type": "markdown",
   "id": "4c1573c9",
   "metadata": {},
   "source": [
    "#### Small (5000)"
   ]
  },
  {
   "cell_type": "code",
   "execution_count": 81,
   "id": "b124d7e4",
   "metadata": {},
   "outputs": [],
   "source": [
    "import pandas as pd\n",
    "df = pd.DataFrame(zip(res_percentile_no_norm_small, [1 for _ in range(200)]), columns = ['ranking','count'])\n",
    "\n"
   ]
  },
  {
   "cell_type": "code",
   "execution_count": 82,
   "id": "b67d98e3",
   "metadata": {},
   "outputs": [],
   "source": [
    "df = df.groupby('ranking', as_index = False).agg('count')"
   ]
  },
  {
   "cell_type": "code",
   "execution_count": 83,
   "id": "fa7d091e",
   "metadata": {
    "scrolled": false
   },
   "outputs": [
    {
     "data": {
      "text/plain": [
       "<AxesSubplot:xlabel='ranking', ylabel='count'>"
      ]
     },
     "execution_count": 83,
     "metadata": {},
     "output_type": "execute_result"
    },
    {
     "data": {
      "image/png": "[encoded data removed]",
      "text/plain": [
       "<Figure size 640x480 with 1 Axes>"
      ]
     },
     "metadata": {},
     "output_type": "display_data"
    }
   ],
   "source": [
    "import seaborn as sns\n",
    "sns.barplot(data = df, x = 'ranking', y = 'count')"
   ]
  },
  {
   "cell_type": "code",
   "execution_count": 84,
   "id": "7e07ca59",
   "metadata": {},
   "outputs": [
    {
     "data": {
      "text/plain": [
       "<AxesSubplot:xlabel='ranking', ylabel='count'>"
      ]
     },
     "execution_count": 84,
     "metadata": {},
     "output_type": "execute_result"
    },
    {
     "data": {
      "image/png": "[encoded data removed]",
      "text/plain": [
       "<Figure size 640x480 with 1 Axes>"
      ]
     },
     "metadata": {},
     "output_type": "display_data"
    }
   ],
   "source": [
    "df = pd.DataFrame(zip(res_percentile_norm_small, [1 for _ in range(200)]), columns = ['ranking','count'])\n",
    "df = df.groupby('ranking', as_index = False).agg('count')\n",
    "sns.barplot(data = df, x = 'ranking', y = 'count')"
   ]
  },
  {
   "cell_type": "code",
   "execution_count": null,
   "id": "264631bb",
   "metadata": {},
   "outputs": [],
   "source": []
  },
  {
   "cell_type": "markdown",
   "id": "cad7dbc6",
   "metadata": {},
   "source": [
    "#### Medium 10,000"
   ]
  },
  {
   "cell_type": "code",
   "execution_count": 85,
   "id": "bdb4391a",
   "metadata": {},
   "outputs": [
    {
     "data": {
      "text/plain": [
       "<AxesSubplot:xlabel='ranking', ylabel='count'>"
      ]
     },
     "execution_count": 85,
     "metadata": {},
     "output_type": "execute_result"
    },
    {
     "data": {
      "image/png": "[encoded data removed]",
      "text/plain": [
       "<Figure size 640x480 with 1 Axes>"
      ]
     },
     "metadata": {},
     "output_type": "display_data"
    }
   ],
   "source": [
    "df = pd.DataFrame(zip(res_percentile_no_norm_med, [1 for _ in range(200)]), columns = ['ranking','count'])\n",
    "df = df.groupby('ranking', as_index = False).agg('count')\n",
    "sns.barplot(data = df, x = 'ranking', y = 'count')"
   ]
  },
  {
   "cell_type": "markdown",
   "id": "1fa35db2",
   "metadata": {},
   "source": [
    "#### Large 25,000"
   ]
  },
  {
   "cell_type": "code",
   "execution_count": 13,
   "id": "535968b6",
   "metadata": {},
   "outputs": [
    {
     "data": {
      "text/plain": [
       "<AxesSubplot:xlabel='ranking', ylabel='count'>"
      ]
     },
     "execution_count": 13,
     "metadata": {},
     "output_type": "execute_result"
    },
    {
     "data": {
      "image/png": "[encoded data removed]",
      "text/plain": [
       "<Figure size 640x480 with 1 Axes>"
      ]
     },
     "metadata": {},
     "output_type": "display_data"
    }
   ],
   "source": [
    "df = pd.DataFrame(zip(res_percentile_no_norm_large, [1 for _ in range(200)]), columns = ['ranking','count'])\n",
    "df = df.groupby('ranking', as_index = False).agg('count')\n",
    "sns.barplot(data = df, x = 'ranking', y = 'count')"
   ]
  },
  {
   "cell_type": "code",
   "execution_count": null,
   "id": "313dddc1",
   "metadata": {},
   "outputs": [],
   "source": []
  }
 ],
 "metadata": {
  "kernelspec": {
   "display_name": "Python 3 (ipykernel)",
   "language": "python",
   "name": "python3"
  },
  "language_info": {
   "codemirror_mode": {
    "name": "ipython",
    "version": 3
   },
   "file_extension": ".py",
   "mimetype": "text/x-python",
   "name": "python",
   "nbconvert_exporter": "python",
   "pygments_lexer": "ipython3",
   "version": "3.9.13"
  }
 },
 "nbformat": 4,
 "nbformat_minor": 5
}
