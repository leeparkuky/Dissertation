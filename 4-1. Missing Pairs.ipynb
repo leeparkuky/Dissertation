{
 "cells": [
  {
   "cell_type": "code",
   "execution_count": 1,
   "id": "a01379b9",
   "metadata": {},
   "outputs": [],
   "source": [
    "import numpy as np\n",
    "import pandas as pd\n",
    "import scipy\n",
    "import matplotlib.pyplot as plt\n",
    "import seaborn as sns\n",
    "from Dissertation import RandomGenerator, convert_to_int, get_order_index\n",
    "from functools import partial\n",
    "from scipy.stats import f, ncf\n",
    "from sklearn.metrics import r2_score\n",
    "from tqdm.notebook import trange\n",
    "from utils import *\n",
    "from estimators import ClusteredSegmentation"
   ]
  },
  {
   "cell_type": "code",
   "execution_count": 2,
   "id": "c269daf0",
   "metadata": {},
   "outputs": [
    {
     "data": {
      "text/plain": [
       "(tau(n=15000, p=1024, q=40, r_sqf=0.9452067821225649, r_sqr=0.9438502416046506, alpha=0.05),\n",
       " 0.024757453029109096,\n",
       " 1.1377093190091492e-16)"
      ]
     },
     "execution_count": 2,
     "metadata": {},
     "output_type": "execute_result"
    }
   ],
   "source": [
    "p, n = 10, 15_000\n",
    "rg = RandomGenerator(p, n, order_by = 'var', use_dask = False, verbose= False)\n",
    "X = rg._X.loc[:,rg._X.columns.str.contains('X')].apply(convert_to_int, axis = 1).to_numpy().reshape(-1,1)\n",
    "y = rg()['y'].to_numpy().reshape(-1,1)\n",
    "cluster = ClusteredSegmentation(n_clusters = 40)\n",
    "cluster.fit(X, y)\n",
    "tau = cluster.tau_metric\n",
    "tau, tau.tau_est, tau.tau_LB"
   ]
  },
  {
   "cell_type": "code",
   "execution_count": 3,
   "id": "e7345f8a",
   "metadata": {},
   "outputs": [
    {
     "data": {
      "text/plain": [
       "{'distribution': 'Gauss',\n",
       " 'mean': 4.737194728452003,\n",
       " 'error': 6.208691011757847}"
      ]
     },
     "execution_count": 3,
     "metadata": {},
     "output_type": "execute_result"
    }
   ],
   "source": [
    "rg.config.coefficient_generator_config"
   ]
  },
  {
   "cell_type": "code",
   "execution_count": 4,
   "id": "f9f66d19",
   "metadata": {},
   "outputs": [
    {
     "data": {
      "text/plain": [
       "(43.72785850069325, 45.895396799670074)"
      ]
     },
     "execution_count": 4,
     "metadata": {},
     "output_type": "execute_result"
    }
   ],
   "source": [
    "cluster.MSE, rg.config.sigma**2"
   ]
  },
  {
   "cell_type": "code",
   "execution_count": 5,
   "id": "c51fddd9",
   "metadata": {},
   "outputs": [
    {
     "data": {
      "text/plain": [
       "(<946x1024 sparse matrix of type '<class 'numpy.int8'>'\n",
       " \twith 57947 stored elements in Compressed Sparse Row format>,\n",
       " <38x1024 sparse matrix of type '<class 'numpy.int8'>'\n",
       " \twith 38 stored elements in Compressed Sparse Column format>)"
      ]
     },
     "execution_count": 5,
     "metadata": {},
     "output_type": "execute_result"
    }
   ],
   "source": [
    "from BarcodeScanner import barcodeScanner\n",
    "\n",
    "scanner = barcodeScanner(estimator = cluster, config = rg.config)\n",
    "scanner.raw_contrast, scanner.missingPairsMLE()"
   ]
  },
  {
   "cell_type": "code",
   "execution_count": 6,
   "id": "aa061ad6",
   "metadata": {},
   "outputs": [
    {
     "data": {
      "text/plain": [
       "0     [1.0, 0.7037037037037037, 1.0, 0.7037037037037...\n",
       "1     [1.0, 0.15, 1.0, 0.5333333333333333, 0.9333333...\n",
       "2     [1.0, 0.15294117647058825, 1.0, 0.764705882352...\n",
       "3     [1.0, 0.3669064748201439, 1.0, 0.1438848920863...\n",
       "4     [1.0, 0.5130434782608696, 0.7043478260869566, ...\n",
       "5     [1.0, 0.0, 1.0, 0.23008849557522124, 1.0, 0.59...\n",
       "6     [0.6770833333333334, 0.23958333333333334, 0.94...\n",
       "7     [0.8804347826086957, 0.3695652173913043, 0.887...\n",
       "8     [0.8247422680412371, 0.48109965635738833, 0.80...\n",
       "9     [0.903137789904502, 0.18417462482946795, 0.817...\n",
       "10    [0.8576271186440678, 0.31864406779661014, 0.71...\n",
       "11    [0.637478108581436, 0.22416812609457093, 0.660...\n",
       "12    [0.7168539325842697, 0.4898876404494382, 0.566...\n",
       "13    [0.802547770700637, 0.5138004246284501, 0.5987...\n",
       "14    [0.7472527472527473, 0.5384615384615384, 0.534...\n",
       "15    [0.7896678966789668, 0.7398523985239852, 0.551...\n",
       "16    [0.702846975088968, 0.7135231316725978, 0.5195...\n",
       "17    [0.740880503144654, 0.6855345911949685, 0.6201...\n",
       "18    [0.7388268156424581, 0.590782122905028, 0.4776...\n",
       "19    [0.7533632286995515, 0.6995515695067265, 0.432...\n",
       "20    [0.7064439140811456, 0.9594272076372315, 0.348...\n",
       "21    [0.6446280991735537, 0.7975206611570248, 0.446...\n",
       "22    [0.7077720207253886, 0.8487046632124352, 0.604...\n",
       "23    [0.6747638326585695, 0.8758434547908233, 0.315...\n",
       "24    [0.7396504139834407, 0.9135234590616376, 0.221...\n",
       "25    [0.7583333333333333, 0.7208333333333333, 0.384...\n",
       "26    [0.5737051792828686, 0.7450199203187251, 0.247...\n",
       "27    [0.6118881118881119, 0.8636363636363636, 0.178...\n",
       "28    [0.6916221033868093, 0.928698752228164, 0.5329...\n",
       "29    [0.7420212765957447, 0.9095744680851063, 0.265...\n",
       "30    [0.8614718614718615, 0.7445887445887446, 0.281...\n",
       "31    [0.8674033149171271, 0.8950276243093923, 0.546...\n",
       "32    [0.76875, 0.9125, 0.6375, 0.91875, 0.80625, 0....\n",
       "33    [0.8347107438016529, 0.9297520661157025, 0.404...\n",
       "34    [0.9019607843137255, 0.9738562091503268, 0.326...\n",
       "35    [0.9482758620689655, 0.8620689655172413, 0.534...\n",
       "36    [0.9078947368421053, 0.881578947368421, 0.9210...\n",
       "37    [0.8421052631578947, 1.0, 1.0, 0.1578947368421...\n",
       "38    [1.0, 0.8095238095238095, 0.19047619047619047,...\n",
       "39    [1.0, 1.0, 1.0, 1.0, 1.0, 1.0, 0.0, 1.0, 0.294...\n",
       "dtype: object"
      ]
     },
     "execution_count": 6,
     "metadata": {},
     "output_type": "execute_result"
    }
   ],
   "source": [
    "scanner.weighted_segment_means"
   ]
  },
  {
   "cell_type": "markdown",
   "id": "9b4584e9",
   "metadata": {},
   "source": [
    "#### This is where to begin next time"
   ]
  },
  {
   "cell_type": "code",
   "execution_count": 7,
   "id": "c5c98180",
   "metadata": {},
   "outputs": [
    {
     "data": {
      "text/plain": [
       "[array([0, 0, 0, 0, 0, 0, 0, 1, 1, 1], dtype=int8),\n",
       " array([0, 0, 0, 0, 0, 0, 1, 0, 1, 1], dtype=int8),\n",
       " array([0, 0, 0, 0, 0, 0, 1, 1, 0, 0], dtype=int8),\n",
       " array([0, 0, 0, 0, 0, 0, 1, 1, 1, 1], dtype=int8),\n",
       " array([0, 0, 0, 0, 0, 1, 0, 1, 0, 1], dtype=int8)]"
      ]
     },
     "execution_count": 7,
     "metadata": {},
     "output_type": "execute_result"
    }
   ],
   "source": [
    "scanner.missing_arrays[:5]"
   ]
  },
  {
   "cell_type": "code",
   "execution_count": 8,
   "id": "af0c6434",
   "metadata": {},
   "outputs": [
    {
     "data": {
      "text/plain": [
       "(986, 1)"
      ]
     },
     "execution_count": 8,
     "metadata": {},
     "output_type": "execute_result"
    }
   ],
   "source": [
    "cluster.full_to_reduced.shape"
   ]
  },
  {
   "cell_type": "code",
   "execution_count": 9,
   "id": "337b0e05",
   "metadata": {},
   "outputs": [
    {
     "data": {
      "text/plain": [
       "38"
      ]
     },
     "execution_count": 9,
     "metadata": {},
     "output_type": "execute_result"
    }
   ],
   "source": [
    "len(scanner.missing_arrays)"
   ]
  },
  {
   "cell_type": "markdown",
   "id": "c45c26d4",
   "metadata": {},
   "source": [
    "### Euclidean Distance"
   ]
  },
  {
   "cell_type": "code",
   "execution_count": 10,
   "id": "7347b4b1",
   "metadata": {},
   "outputs": [
    {
     "data": {
      "text/html": [
       "<div>\n",
       "<style scoped>\n",
       "    .dataframe tbody tr th:only-of-type {\n",
       "        vertical-align: middle;\n",
       "    }\n",
       "\n",
       "    .dataframe tbody tr th {\n",
       "        vertical-align: top;\n",
       "    }\n",
       "\n",
       "    .dataframe thead th {\n",
       "        text-align: right;\n",
       "    }\n",
       "</style>\n",
       "<table border=\"1\" class=\"dataframe\">\n",
       "  <thead>\n",
       "    <tr style=\"text-align: right;\">\n",
       "      <th></th>\n",
       "      <th>full</th>\n",
       "      <th>reduced</th>\n",
       "    </tr>\n",
       "  </thead>\n",
       "  <tbody>\n",
       "    <tr>\n",
       "      <th>0</th>\n",
       "      <td>0</td>\n",
       "      <td>18</td>\n",
       "    </tr>\n",
       "    <tr>\n",
       "      <th>1</th>\n",
       "      <td>1</td>\n",
       "      <td>19</td>\n",
       "    </tr>\n",
       "    <tr>\n",
       "      <th>2</th>\n",
       "      <td>2</td>\n",
       "      <td>15</td>\n",
       "    </tr>\n",
       "    <tr>\n",
       "      <th>3</th>\n",
       "      <td>3</td>\n",
       "      <td>16</td>\n",
       "    </tr>\n",
       "    <tr>\n",
       "      <th>4</th>\n",
       "      <td>4</td>\n",
       "      <td>17</td>\n",
       "    </tr>\n",
       "    <tr>\n",
       "      <th>...</th>\n",
       "      <td>...</td>\n",
       "      <td>...</td>\n",
       "    </tr>\n",
       "    <tr>\n",
       "      <th>1019</th>\n",
       "      <td>1019</td>\n",
       "      <td>1</td>\n",
       "    </tr>\n",
       "    <tr>\n",
       "      <th>1020</th>\n",
       "      <td>1020</td>\n",
       "      <td>8</td>\n",
       "    </tr>\n",
       "    <tr>\n",
       "      <th>1021</th>\n",
       "      <td>1021</td>\n",
       "      <td>24</td>\n",
       "    </tr>\n",
       "    <tr>\n",
       "      <th>1022</th>\n",
       "      <td>1022</td>\n",
       "      <td>4</td>\n",
       "    </tr>\n",
       "    <tr>\n",
       "      <th>1023</th>\n",
       "      <td>1023</td>\n",
       "      <td>9</td>\n",
       "    </tr>\n",
       "  </tbody>\n",
       "</table>\n",
       "<p>1024 rows × 2 columns</p>\n",
       "</div>"
      ],
      "text/plain": [
       "      full  reduced\n",
       "0        0       18\n",
       "1        1       19\n",
       "2        2       15\n",
       "3        3       16\n",
       "4        4       17\n",
       "...    ...      ...\n",
       "1019  1019        1\n",
       "1020  1020        8\n",
       "1021  1021       24\n",
       "1022  1022        4\n",
       "1023  1023        9\n",
       "\n",
       "[1024 rows x 2 columns]"
      ]
     },
     "execution_count": 10,
     "metadata": {},
     "output_type": "execute_result"
    }
   ],
   "source": [
    "scanner.assign_missing_euclidean.sort_values('full')"
   ]
  },
  {
   "cell_type": "markdown",
   "id": "46f2085e",
   "metadata": {},
   "source": [
    "### Mahalanobis Distance"
   ]
  },
  {
   "cell_type": "code",
   "execution_count": 11,
   "id": "10dabb7b",
   "metadata": {},
   "outputs": [],
   "source": [
    "from sklearn.covariance import EmpiricalCovariance"
   ]
  },
  {
   "cell_type": "markdown",
   "id": "dde81912",
   "metadata": {},
   "source": [
    "#### Case 1: Mahalanobis distance with covariance of each segment"
   ]
  },
  {
   "cell_type": "code",
   "execution_count": 12,
   "id": "13e63f6a",
   "metadata": {},
   "outputs": [],
   "source": [
    "table = scanner.segmentation_table.copy()\n",
    "table['barcode'] = table.apply(lambda x: scanner.num_to_barcode(x['full'], 10).toarray()[0], axis = 1)"
   ]
  },
  {
   "cell_type": "code",
   "execution_count": 13,
   "id": "93b2b446",
   "metadata": {},
   "outputs": [
    {
     "data": {
      "text/html": [
       "<div>\n",
       "<style scoped>\n",
       "    .dataframe tbody tr th:only-of-type {\n",
       "        vertical-align: middle;\n",
       "    }\n",
       "\n",
       "    .dataframe tbody tr th {\n",
       "        vertical-align: top;\n",
       "    }\n",
       "\n",
       "    .dataframe thead th {\n",
       "        text-align: right;\n",
       "    }\n",
       "</style>\n",
       "<table border=\"1\" class=\"dataframe\">\n",
       "  <thead>\n",
       "    <tr style=\"text-align: right;\">\n",
       "      <th></th>\n",
       "      <th>full</th>\n",
       "      <th>reduced</th>\n",
       "      <th>counts</th>\n",
       "      <th>barcode</th>\n",
       "    </tr>\n",
       "  </thead>\n",
       "  <tbody>\n",
       "    <tr>\n",
       "      <th>0</th>\n",
       "      <td>0</td>\n",
       "      <td>18</td>\n",
       "      <td>8</td>\n",
       "      <td>[0, 0, 0, 0, 0, 0, 0, 0, 0, 0]</td>\n",
       "    </tr>\n",
       "    <tr>\n",
       "      <th>1</th>\n",
       "      <td>1</td>\n",
       "      <td>19</td>\n",
       "      <td>8</td>\n",
       "      <td>[0, 0, 0, 0, 0, 0, 0, 0, 0, 1]</td>\n",
       "    </tr>\n",
       "    <tr>\n",
       "      <th>2</th>\n",
       "      <td>2</td>\n",
       "      <td>15</td>\n",
       "      <td>8</td>\n",
       "      <td>[0, 0, 0, 0, 0, 0, 0, 0, 1, 0]</td>\n",
       "    </tr>\n",
       "    <tr>\n",
       "      <th>3</th>\n",
       "      <td>3</td>\n",
       "      <td>16</td>\n",
       "      <td>1</td>\n",
       "      <td>[0, 0, 0, 0, 0, 0, 0, 0, 1, 1]</td>\n",
       "    </tr>\n",
       "    <tr>\n",
       "      <th>4</th>\n",
       "      <td>4</td>\n",
       "      <td>17</td>\n",
       "      <td>11</td>\n",
       "      <td>[0, 0, 0, 0, 0, 0, 0, 1, 0, 0]</td>\n",
       "    </tr>\n",
       "    <tr>\n",
       "      <th>...</th>\n",
       "      <td>...</td>\n",
       "      <td>...</td>\n",
       "      <td>...</td>\n",
       "      <td>...</td>\n",
       "    </tr>\n",
       "    <tr>\n",
       "      <th>981</th>\n",
       "      <td>1019</td>\n",
       "      <td>1</td>\n",
       "      <td>9</td>\n",
       "      <td>[1, 1, 1, 1, 1, 1, 1, 0, 1, 1]</td>\n",
       "    </tr>\n",
       "    <tr>\n",
       "      <th>982</th>\n",
       "      <td>1020</td>\n",
       "      <td>8</td>\n",
       "      <td>53</td>\n",
       "      <td>[1, 1, 1, 1, 1, 1, 1, 1, 0, 0]</td>\n",
       "    </tr>\n",
       "    <tr>\n",
       "      <th>983</th>\n",
       "      <td>1021</td>\n",
       "      <td>24</td>\n",
       "      <td>14</td>\n",
       "      <td>[1, 1, 1, 1, 1, 1, 1, 1, 0, 1]</td>\n",
       "    </tr>\n",
       "    <tr>\n",
       "      <th>984</th>\n",
       "      <td>1022</td>\n",
       "      <td>4</td>\n",
       "      <td>16</td>\n",
       "      <td>[1, 1, 1, 1, 1, 1, 1, 1, 1, 0]</td>\n",
       "    </tr>\n",
       "    <tr>\n",
       "      <th>985</th>\n",
       "      <td>1023</td>\n",
       "      <td>9</td>\n",
       "      <td>7</td>\n",
       "      <td>[1, 1, 1, 1, 1, 1, 1, 1, 1, 1]</td>\n",
       "    </tr>\n",
       "  </tbody>\n",
       "</table>\n",
       "<p>986 rows × 4 columns</p>\n",
       "</div>"
      ],
      "text/plain": [
       "     full  reduced  counts                         barcode\n",
       "0       0       18       8  [0, 0, 0, 0, 0, 0, 0, 0, 0, 0]\n",
       "1       1       19       8  [0, 0, 0, 0, 0, 0, 0, 0, 0, 1]\n",
       "2       2       15       8  [0, 0, 0, 0, 0, 0, 0, 0, 1, 0]\n",
       "3       3       16       1  [0, 0, 0, 0, 0, 0, 0, 0, 1, 1]\n",
       "4       4       17      11  [0, 0, 0, 0, 0, 0, 0, 1, 0, 0]\n",
       "..    ...      ...     ...                             ...\n",
       "981  1019        1       9  [1, 1, 1, 1, 1, 1, 1, 0, 1, 1]\n",
       "982  1020        8      53  [1, 1, 1, 1, 1, 1, 1, 1, 0, 0]\n",
       "983  1021       24      14  [1, 1, 1, 1, 1, 1, 1, 1, 0, 1]\n",
       "984  1022        4      16  [1, 1, 1, 1, 1, 1, 1, 1, 1, 0]\n",
       "985  1023        9       7  [1, 1, 1, 1, 1, 1, 1, 1, 1, 1]\n",
       "\n",
       "[986 rows x 4 columns]"
      ]
     },
     "execution_count": 13,
     "metadata": {},
     "output_type": "execute_result"
    }
   ],
   "source": [
    "table"
   ]
  },
  {
   "cell_type": "code",
   "execution_count": 14,
   "id": "dbac6414",
   "metadata": {},
   "outputs": [],
   "source": [
    "reduced = np.sort(table.reduced.unique())\n",
    "covs = []\n",
    "for r in reduced:\n",
    "    barcodes = []\n",
    "    r_table = table.loc[table.reduced.eq(r), ['barcode','counts']]\n",
    "    for b, c in zip(r_table.barcode, r_table['counts']):\n",
    "        barcodes += [b for _ in range(c)]\n",
    "    barcodes = np.concatenate(barcodes).reshape(-1, 10)\n",
    "    cov = EmpiricalCovariance()\n",
    "    cov.fit(barcodes)\n",
    "    covs.append(cov)"
   ]
  },
  {
   "cell_type": "markdown",
   "id": "2c64cc6f",
   "metadata": {},
   "source": [
    "#### What we need : covs and table with the variable `barcode`"
   ]
  },
  {
   "cell_type": "code",
   "execution_count": 15,
   "id": "0ead2220",
   "metadata": {
    "scrolled": false
   },
   "outputs": [
    {
     "data": {
      "text/html": [
       "<div>\n",
       "<style scoped>\n",
       "    .dataframe tbody tr th:only-of-type {\n",
       "        vertical-align: middle;\n",
       "    }\n",
       "\n",
       "    .dataframe tbody tr th {\n",
       "        vertical-align: top;\n",
       "    }\n",
       "\n",
       "    .dataframe thead th {\n",
       "        text-align: right;\n",
       "    }\n",
       "</style>\n",
       "<table border=\"1\" class=\"dataframe\">\n",
       "  <thead>\n",
       "    <tr style=\"text-align: right;\">\n",
       "      <th></th>\n",
       "      <th>full</th>\n",
       "      <th>reduced</th>\n",
       "    </tr>\n",
       "  </thead>\n",
       "  <tbody>\n",
       "    <tr>\n",
       "      <th>0</th>\n",
       "      <td>0</td>\n",
       "      <td>18</td>\n",
       "    </tr>\n",
       "    <tr>\n",
       "      <th>1</th>\n",
       "      <td>1</td>\n",
       "      <td>19</td>\n",
       "    </tr>\n",
       "    <tr>\n",
       "      <th>2</th>\n",
       "      <td>2</td>\n",
       "      <td>15</td>\n",
       "    </tr>\n",
       "    <tr>\n",
       "      <th>3</th>\n",
       "      <td>3</td>\n",
       "      <td>16</td>\n",
       "    </tr>\n",
       "    <tr>\n",
       "      <th>4</th>\n",
       "      <td>4</td>\n",
       "      <td>17</td>\n",
       "    </tr>\n",
       "    <tr>\n",
       "      <th>...</th>\n",
       "      <td>...</td>\n",
       "      <td>...</td>\n",
       "    </tr>\n",
       "    <tr>\n",
       "      <th>1019</th>\n",
       "      <td>1019</td>\n",
       "      <td>1</td>\n",
       "    </tr>\n",
       "    <tr>\n",
       "      <th>1020</th>\n",
       "      <td>1020</td>\n",
       "      <td>8</td>\n",
       "    </tr>\n",
       "    <tr>\n",
       "      <th>1021</th>\n",
       "      <td>1021</td>\n",
       "      <td>24</td>\n",
       "    </tr>\n",
       "    <tr>\n",
       "      <th>1022</th>\n",
       "      <td>1022</td>\n",
       "      <td>4</td>\n",
       "    </tr>\n",
       "    <tr>\n",
       "      <th>1023</th>\n",
       "      <td>1023</td>\n",
       "      <td>9</td>\n",
       "    </tr>\n",
       "  </tbody>\n",
       "</table>\n",
       "<p>1024 rows × 2 columns</p>\n",
       "</div>"
      ],
      "text/plain": [
       "      full  reduced\n",
       "0        0       18\n",
       "1        1       19\n",
       "2        2       15\n",
       "3        3       16\n",
       "4        4       17\n",
       "...    ...      ...\n",
       "1019  1019        1\n",
       "1020  1020        8\n",
       "1021  1021       24\n",
       "1022  1022        4\n",
       "1023  1023        9\n",
       "\n",
       "[1024 rows x 2 columns]"
      ]
     },
     "execution_count": 15,
     "metadata": {},
     "output_type": "execute_result"
    }
   ],
   "source": [
    "scanner.assign_missing_mahalanobis(pooled = False)"
   ]
  },
  {
   "cell_type": "code",
   "execution_count": 16,
   "id": "f094a8b0",
   "metadata": {},
   "outputs": [
    {
     "data": {
      "text/plain": [
       "[]"
      ]
     },
     "execution_count": 16,
     "metadata": {},
     "output_type": "execute_result"
    },
    {
     "data": {
      "image/png": "[encoded data removed]",
      "text/plain": [
       "<Figure size 640x480 with 1 Axes>"
      ]
     },
     "metadata": {},
     "output_type": "display_data"
    }
   ],
   "source": [
    "fig, ax = plt.subplots(1, 1)\n",
    "euclidean_assignment = scanner.assign_missing_euclidean.loc[scanner.missing_pairs_decimal_repr,:].reduced\n",
    "mahalanobis_assignment = scanner.assign_missing_mahalanobis(pooled = False).loc[scanner.missing_pairs_decimal_repr,:].reduced\n",
    "df = pd.DataFrame(zip(euclidean_assignment, mahalanobis_assignment), columns = ['euclidean','mahalanobis'])\n",
    "sns.scatterplot(data = df, x = 'euclidean', y = 'mahalanobis', ax = ax)\n",
    "plt.plot()"
   ]
  },
  {
   "cell_type": "markdown",
   "id": "02127997",
   "metadata": {},
   "source": [
    "#### Case 2: Mahalanobis distance with pooled covariance"
   ]
  },
  {
   "cell_type": "code",
   "execution_count": 26,
   "id": "0fb4f2fa",
   "metadata": {
    "scrolled": false
   },
   "outputs": [
    {
     "data": {
      "text/html": [
       "<div>\n",
       "<style scoped>\n",
       "    .dataframe tbody tr th:only-of-type {\n",
       "        vertical-align: middle;\n",
       "    }\n",
       "\n",
       "    .dataframe tbody tr th {\n",
       "        vertical-align: top;\n",
       "    }\n",
       "\n",
       "    .dataframe thead th {\n",
       "        text-align: right;\n",
       "    }\n",
       "</style>\n",
       "<table border=\"1\" class=\"dataframe\">\n",
       "  <thead>\n",
       "    <tr style=\"text-align: right;\">\n",
       "      <th></th>\n",
       "      <th>full</th>\n",
       "      <th>reduced</th>\n",
       "    </tr>\n",
       "  </thead>\n",
       "  <tbody>\n",
       "    <tr>\n",
       "      <th>0</th>\n",
       "      <td>0</td>\n",
       "      <td>18</td>\n",
       "    </tr>\n",
       "    <tr>\n",
       "      <th>1</th>\n",
       "      <td>1</td>\n",
       "      <td>19</td>\n",
       "    </tr>\n",
       "    <tr>\n",
       "      <th>2</th>\n",
       "      <td>2</td>\n",
       "      <td>15</td>\n",
       "    </tr>\n",
       "    <tr>\n",
       "      <th>3</th>\n",
       "      <td>3</td>\n",
       "      <td>16</td>\n",
       "    </tr>\n",
       "    <tr>\n",
       "      <th>4</th>\n",
       "      <td>4</td>\n",
       "      <td>17</td>\n",
       "    </tr>\n",
       "    <tr>\n",
       "      <th>...</th>\n",
       "      <td>...</td>\n",
       "      <td>...</td>\n",
       "    </tr>\n",
       "    <tr>\n",
       "      <th>1019</th>\n",
       "      <td>1019</td>\n",
       "      <td>1</td>\n",
       "    </tr>\n",
       "    <tr>\n",
       "      <th>1020</th>\n",
       "      <td>1020</td>\n",
       "      <td>8</td>\n",
       "    </tr>\n",
       "    <tr>\n",
       "      <th>1021</th>\n",
       "      <td>1021</td>\n",
       "      <td>24</td>\n",
       "    </tr>\n",
       "    <tr>\n",
       "      <th>1022</th>\n",
       "      <td>1022</td>\n",
       "      <td>4</td>\n",
       "    </tr>\n",
       "    <tr>\n",
       "      <th>1023</th>\n",
       "      <td>1023</td>\n",
       "      <td>9</td>\n",
       "    </tr>\n",
       "  </tbody>\n",
       "</table>\n",
       "<p>1024 rows × 2 columns</p>\n",
       "</div>"
      ],
      "text/plain": [
       "      full  reduced\n",
       "0        0       18\n",
       "1        1       19\n",
       "2        2       15\n",
       "3        3       16\n",
       "4        4       17\n",
       "...    ...      ...\n",
       "1019  1019        1\n",
       "1020  1020        8\n",
       "1021  1021       24\n",
       "1022  1022        4\n",
       "1023  1023        9\n",
       "\n",
       "[1024 rows x 2 columns]"
      ]
     },
     "execution_count": 26,
     "metadata": {},
     "output_type": "execute_result"
    }
   ],
   "source": [
    "scanner.assign_missing_mahalanobis(pooled = True)"
   ]
  },
  {
   "cell_type": "code",
   "execution_count": 28,
   "id": "1c09dca9",
   "metadata": {},
   "outputs": [
    {
     "data": {
      "text/plain": [
       "[]"
      ]
     },
     "execution_count": 28,
     "metadata": {},
     "output_type": "execute_result"
    },
    {
     "data": {
      "image/png": "[encoded data removed]",
      "text/plain": [
       "<Figure size 640x480 with 1 Axes>"
      ]
     },
     "metadata": {},
     "output_type": "display_data"
    }
   ],
   "source": [
    "fig, ax = plt.subplots(1, 1)\n",
    "euclidean_assignment = scanner.assign_missing_euclidean.loc[scanner.missing_pairs_decimal_repr,:].reduced\n",
    "mahalanobis_assignment = scanner.assign_missing_mahalanobis(pooled = True).loc[scanner.missing_pairs_decimal_repr,:].reduced\n",
    "df = pd.DataFrame(zip(euclidean_assignment, mahalanobis_assignment), columns = ['euclidean','mahalanobis'])\n",
    "sns.scatterplot(data = df, x = 'euclidean', y = 'mahalanobis', ax = ax)\n",
    "plt.plot()"
   ]
  },
  {
   "cell_type": "markdown",
   "id": "9aec57b8",
   "metadata": {},
   "source": [
    "## Jensen-Shannon  distance"
   ]
  },
  {
   "cell_type": "markdown",
   "id": "976e1b6b",
   "metadata": {},
   "source": [
    "Need more time"
   ]
  },
  {
   "cell_type": "code",
   "execution_count": null,
   "id": "6fd2f7c6",
   "metadata": {},
   "outputs": [],
   "source": []
  }
 ],
 "metadata": {
  "kernelspec": {
   "display_name": "Python 3 (ipykernel)",
   "language": "python",
   "name": "python3"
  },
  "language_info": {
   "codemirror_mode": {
    "name": "ipython",
    "version": 3
   },
   "file_extension": ".py",
   "mimetype": "text/x-python",
   "name": "python",
   "nbconvert_exporter": "python",
   "pygments_lexer": "ipython3",
   "version": "3.9.13"
  }
 },
 "nbformat": 4,
 "nbformat_minor": 5
}
