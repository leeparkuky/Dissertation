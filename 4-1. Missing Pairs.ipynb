{
 "cells": [
  {
   "cell_type": "code",
   "execution_count": 1,
   "id": "a01379b9",
   "metadata": {},
   "outputs": [],
   "source": [
    "import numpy as np\n",
    "import pandas as pd\n",
    "import scipy\n",
    "import matplotlib.pyplot as plt\n",
    "import seaborn as sns\n",
    "from Dissertation import RandomGenerator, convert_to_int, get_order_index\n",
    "from functools import partial\n",
    "from scipy.stats import f, ncf\n",
    "from sklearn.metrics import r2_score\n",
    "from tqdm.notebook import trange\n",
    "from utils import *\n",
    "from estimators import ClusteredSegmentation"
   ]
  },
  {
   "cell_type": "markdown",
   "id": "395fc319",
   "metadata": {},
   "source": [
    "In this example, there are ten binary variables (X_0 ... X_9) and the sample size is 15,000.  \n",
    "When we use the cluster method with 40 groups/segments, tau estimate is .0247 and its lower bound is near 0"
   ]
  },
  {
   "cell_type": "code",
   "execution_count": 2,
   "id": "c269daf0",
   "metadata": {},
   "outputs": [
    {
     "data": {
      "text/plain": [
       "(tau(n=15000, p=1024, q=40, r_sqf=0.9806885897974638, r_sqr=0.9795112458166321, alpha=0.05),\n",
       " 0.0609662354268186,\n",
       " 1.1779091429207284e-16)"
      ]
     },
     "execution_count": 2,
     "metadata": {},
     "output_type": "execute_result"
    }
   ],
   "source": [
    "p, n = 10, 15_000\n",
    "rg = RandomGenerator(p, n, order_by = 'var', use_dask = False, verbose= False)\n",
    "X = rg._X.loc[:,rg._X.columns.str.contains('X')].apply(convert_to_int, axis = 1).to_numpy().reshape(-1,1)\n",
    "y = rg()['y'].to_numpy().reshape(-1,1)\n",
    "cluster = ClusteredSegmentation(n_clusters = 40)\n",
    "cluster.fit(X, y)\n",
    "tau = cluster.tau_metric\n",
    "tau, tau.tau_est, tau.tau_LB"
   ]
  },
  {
   "cell_type": "markdown",
   "id": "fb9911a8",
   "metadata": {},
   "source": [
    "The intercept parameter of the linear model, the random sample generator based on, is 4.737, and the standard deviation of the error term is 6.2 and it follows a normal distribution."
   ]
  },
  {
   "cell_type": "code",
   "execution_count": 3,
   "id": "e7345f8a",
   "metadata": {
    "scrolled": true
   },
   "outputs": [
    {
     "data": {
      "text/plain": [
       "{'distribution': 'Gauss',\n",
       " 'mean': 3.666322324459763,\n",
       " 'error': 3.787637434409163}"
      ]
     },
     "execution_count": 3,
     "metadata": {},
     "output_type": "execute_result"
    }
   ],
   "source": [
    "rg.config.coefficient_generator_config"
   ]
  },
  {
   "cell_type": "markdown",
   "id": "5a3cbaa7",
   "metadata": {},
   "source": [
    "The estimate of the variance of the errors is quite similar to the true value"
   ]
  },
  {
   "cell_type": "code",
   "execution_count": 4,
   "id": "f9f66d19",
   "metadata": {
    "scrolled": true
   },
   "outputs": [
    {
     "data": {
      "text/plain": [
       "(18.29805500448615, 18.779539510921275)"
      ]
     },
     "execution_count": 4,
     "metadata": {},
     "output_type": "execute_result"
    }
   ],
   "source": [
    "cluster.MSE, rg.config.sigma**2"
   ]
  },
  {
   "cell_type": "markdown",
   "id": "588a618d",
   "metadata": {},
   "source": [
    "We have 38 missing or unseen pairs.   \n",
    "The unseen pairs are particular set of $x_i = (x_{i0}, ..., x_{i9})$ we have no observation on in our dataset/sample"
   ]
  },
  {
   "cell_type": "code",
   "execution_count": 5,
   "id": "c51fddd9",
   "metadata": {},
   "outputs": [
    {
     "data": {
      "text/plain": [
       "(<881x1024 sparse matrix of type '<class 'numpy.int8'>'\n",
       " \twith 60510 stored elements in COOrdinate format>,\n",
       " <103x1024 sparse matrix of type '<class 'numpy.int8'>'\n",
       " \twith 103 stored elements in Compressed Sparse Column format>)"
      ]
     },
     "execution_count": 5,
     "metadata": {},
     "output_type": "execute_result"
    }
   ],
   "source": [
    "from BarcodeScanner import barcodeScanner\n",
    "\n",
    "scanner = barcodeScanner(estimator = cluster, config = rg.config)\n",
    "scanner.raw_contrast, scanner.missingPairsMLE()"
   ]
  },
  {
   "cell_type": "markdown",
   "id": "c8441daa",
   "metadata": {},
   "source": [
    "First, we get the weighted mean of each segment/group"
   ]
  },
  {
   "cell_type": "code",
   "execution_count": 6,
   "id": "aa061ad6",
   "metadata": {},
   "outputs": [
    {
     "data": {
      "text/plain": [
       "0     [1.0, 1.0, 0.0, 0.42857142857142855, 1.0, 0.57...\n",
       "1     [1.0, 1.0, 0.0, 0.0, 1.0, 1.0, 1.0, 1.0, 1.0, ...\n",
       "2     [0.9565217391304348, 1.0, 0.7391304347826086, ...\n",
       "3     [1.0, 0.9444444444444444, 0.9444444444444444, ...\n",
       "4     [0.851063829787234, 0.9574468085106383, 0.6170...\n",
       "5     [0.7796610169491526, 0.8813559322033898, 0.279...\n",
       "6     [0.9664804469273743, 0.8435754189944135, 0.821...\n",
       "7     [0.861271676300578, 0.6069364161849711, 0.5086...\n",
       "8     [0.885, 0.64, 0.5125, 0.2875, 0.38, 0.82, 0.82...\n",
       "9     [0.6718346253229974, 0.6408268733850129, 0.498...\n",
       "10    [0.9425675675675675, 0.5540540540540541, 0.253...\n",
       "11    [0.7944785276073619, 0.4938650306748466, 0.677...\n",
       "12    [0.7788697788697788, 0.6707616707616708, 0.599...\n",
       "13    [0.816923076923077, 0.6015384615384616, 0.6430...\n",
       "14    [0.6741424802110818, 0.7216358839050132, 0.532...\n",
       "15    [0.6035911602209945, 0.7776243093922652, 0.566...\n",
       "16    [0.7242744063324539, 0.8654353562005277, 0.770...\n",
       "17    [0.7276908923643054, 0.796688132474701, 0.7249...\n",
       "18    [0.8436974789915966, 0.9260504201680673, 0.8, ...\n",
       "19    [0.7600596125186289, 0.736214605067064, 0.8345...\n",
       "20    [0.7494456762749445, 0.7450110864745011, 0.915...\n",
       "21    [0.5046296296296297, 0.8263888888888888, 0.756...\n",
       "22    [0.6938775510204082, 0.8894557823129252, 0.894...\n",
       "23    [0.8568665377176016, 0.8307543520309478, 0.995...\n",
       "24    [0.7002801120448179, 0.8263305322128851, 0.988...\n",
       "25    [0.7433862433862434, 0.6957671957671958, 0.997...\n",
       "26    [0.875219683655536, 0.8154657293497364, 0.9929...\n",
       "27    [0.9558823529411765, 0.9544117647058824, 0.998...\n",
       "28    [0.9888392857142857, 0.9665178571428571, 0.995...\n",
       "29    [0.7735849056603774, 0.6981132075471698, 1.0, ...\n",
       "30    [0.9902439024390244, 0.7024390243902439, 0.843...\n",
       "31    [0.9589442815249267, 0.8211143695014663, 1.0, ...\n",
       "32    [0.9278846153846154, 0.75, 1.0, 0.961538461538...\n",
       "33    [1.0, 1.0, 0.9813084112149533, 1.0, 0.98130841...\n",
       "34    [1.0, 0.9421052631578948, 1.0, 0.9157894736842...\n",
       "35    [1.0, 0.9629629629629629, 1.0, 0.8333333333333...\n",
       "36    [1.0, 0.6119402985074627, 1.0, 1.0, 1.0, 1.0, ...\n",
       "37    [0.0, 1.0, 1.0, 1.0, 0.0, 1.0, 1.0, 1.0, 1.0, ...\n",
       "38    [1.0, 1.0, 1.0, 1.0, 0.0, 1.0, 0.0, 1.0, 1.0, ...\n",
       "39    [1.0, 1.0, 1.0, 1.0, 0.0, 1.0, 1.0, 1.0, 1.0, ...\n",
       "dtype: object"
      ]
     },
     "execution_count": 6,
     "metadata": {},
     "output_type": "execute_result"
    }
   ],
   "source": [
    "scanner.weighted_segment_means"
   ]
  },
  {
   "cell_type": "markdown",
   "id": "9b4584e9",
   "metadata": {},
   "source": [
    "Below is the first 5 examples of the missing pairs"
   ]
  },
  {
   "cell_type": "code",
   "execution_count": 7,
   "id": "c5c98180",
   "metadata": {},
   "outputs": [
    {
     "data": {
      "text/plain": [
       "[array([0, 0, 0, 0, 0, 0, 0, 0, 0, 0], dtype=int8),\n",
       " array([0, 0, 0, 0, 0, 0, 0, 0, 0, 1], dtype=int8),\n",
       " array([0, 0, 0, 0, 0, 0, 0, 0, 1, 0], dtype=int8),\n",
       " array([0, 0, 0, 0, 0, 0, 0, 0, 1, 1], dtype=int8),\n",
       " array([0, 0, 0, 0, 0, 0, 0, 1, 0, 1], dtype=int8)]"
      ]
     },
     "execution_count": 7,
     "metadata": {},
     "output_type": "execute_result"
    }
   ],
   "source": [
    "scanner.missing_arrays[:5]"
   ]
  },
  {
   "cell_type": "markdown",
   "id": "d09d690c",
   "metadata": {},
   "source": [
    "We double check the size of unique pairs in the sample and the missing pairs. When you sum the two, it should be $2^10 = 1024$$"
   ]
  },
  {
   "cell_type": "code",
   "execution_count": 8,
   "id": "af0c6434",
   "metadata": {},
   "outputs": [
    {
     "data": {
      "text/plain": [
       "(921, 1)"
      ]
     },
     "execution_count": 8,
     "metadata": {},
     "output_type": "execute_result"
    }
   ],
   "source": [
    "cluster.full_to_reduced.shape"
   ]
  },
  {
   "cell_type": "code",
   "execution_count": 9,
   "id": "337b0e05",
   "metadata": {},
   "outputs": [
    {
     "data": {
      "text/plain": [
       "103"
      ]
     },
     "execution_count": 9,
     "metadata": {},
     "output_type": "execute_result"
    }
   ],
   "source": [
    "len(scanner.missing_arrays)"
   ]
  },
  {
   "cell_type": "markdown",
   "id": "895a93a2",
   "metadata": {},
   "source": [
    "# Assigning missing pairs to segments\n",
    "\n",
    "When fitting the cluster method, unseen/missing pairs are not assigned to any of the segments/groupgs.   \n",
    "In this section, I would like to discuss three methods to assign missing pairs to segments.   \n",
    "The **first** method is to get the euclidean distance between weighted mean of each segment and a missing pair.   \n",
    "Then, we assign the missing pair to the segment where the euclidean distance is the lowest.\n",
    "\n",
    "The **second** method is to use the mahalanobis distance between each segment and a missing pair.   \n",
    "When finding the distance, we should choose between the pooled covariance and a covariance for each segment.   \n",
    "\n",
    "The **third** method is to use the jesenshannon distance, which relies on the KL divergence.   \n",
    "(discuss later)"
   ]
  },
  {
   "cell_type": "markdown",
   "id": "c45c26d4",
   "metadata": {},
   "source": [
    "### Euclidean Distance"
   ]
  },
  {
   "cell_type": "code",
   "execution_count": 10,
   "id": "7347b4b1",
   "metadata": {},
   "outputs": [
    {
     "data": {
      "text/html": [
       "<div>\n",
       "<style scoped>\n",
       "    .dataframe tbody tr th:only-of-type {\n",
       "        vertical-align: middle;\n",
       "    }\n",
       "\n",
       "    .dataframe tbody tr th {\n",
       "        vertical-align: top;\n",
       "    }\n",
       "\n",
       "    .dataframe thead th {\n",
       "        text-align: right;\n",
       "    }\n",
       "</style>\n",
       "<table border=\"1\" class=\"dataframe\">\n",
       "  <thead>\n",
       "    <tr style=\"text-align: right;\">\n",
       "      <th></th>\n",
       "      <th>full</th>\n",
       "      <th>reduced</th>\n",
       "    </tr>\n",
       "  </thead>\n",
       "  <tbody>\n",
       "    <tr>\n",
       "      <th>0</th>\n",
       "      <td>0</td>\n",
       "      <td>14</td>\n",
       "    </tr>\n",
       "    <tr>\n",
       "      <th>1</th>\n",
       "      <td>1</td>\n",
       "      <td>11</td>\n",
       "    </tr>\n",
       "    <tr>\n",
       "      <th>2</th>\n",
       "      <td>2</td>\n",
       "      <td>10</td>\n",
       "    </tr>\n",
       "    <tr>\n",
       "      <th>3</th>\n",
       "      <td>3</td>\n",
       "      <td>11</td>\n",
       "    </tr>\n",
       "    <tr>\n",
       "      <th>4</th>\n",
       "      <td>4</td>\n",
       "      <td>10</td>\n",
       "    </tr>\n",
       "    <tr>\n",
       "      <th>...</th>\n",
       "      <td>...</td>\n",
       "      <td>...</td>\n",
       "    </tr>\n",
       "    <tr>\n",
       "      <th>1019</th>\n",
       "      <td>1019</td>\n",
       "      <td>32</td>\n",
       "    </tr>\n",
       "    <tr>\n",
       "      <th>1020</th>\n",
       "      <td>1020</td>\n",
       "      <td>33</td>\n",
       "    </tr>\n",
       "    <tr>\n",
       "      <th>1021</th>\n",
       "      <td>1021</td>\n",
       "      <td>33</td>\n",
       "    </tr>\n",
       "    <tr>\n",
       "      <th>1022</th>\n",
       "      <td>1022</td>\n",
       "      <td>32</td>\n",
       "    </tr>\n",
       "    <tr>\n",
       "      <th>1023</th>\n",
       "      <td>1023</td>\n",
       "      <td>35</td>\n",
       "    </tr>\n",
       "  </tbody>\n",
       "</table>\n",
       "<p>1024 rows × 2 columns</p>\n",
       "</div>"
      ],
      "text/plain": [
       "      full  reduced\n",
       "0        0       14\n",
       "1        1       11\n",
       "2        2       10\n",
       "3        3       11\n",
       "4        4       10\n",
       "...    ...      ...\n",
       "1019  1019       32\n",
       "1020  1020       33\n",
       "1021  1021       33\n",
       "1022  1022       32\n",
       "1023  1023       35\n",
       "\n",
       "[1024 rows x 2 columns]"
      ]
     },
     "execution_count": 10,
     "metadata": {},
     "output_type": "execute_result"
    }
   ],
   "source": [
    "scanner.assign_missing_euclidean.sort_values('full')"
   ]
  },
  {
   "cell_type": "markdown",
   "id": "46f2085e",
   "metadata": {},
   "source": [
    "### Mahalanobis Distance"
   ]
  },
  {
   "cell_type": "code",
   "execution_count": 11,
   "id": "10dabb7b",
   "metadata": {},
   "outputs": [],
   "source": [
    "from sklearn.covariance import EmpiricalCovariance"
   ]
  },
  {
   "cell_type": "markdown",
   "id": "dde81912",
   "metadata": {},
   "source": [
    "#### Case 1: Mahalanobis distance with covariance of each segment"
   ]
  },
  {
   "cell_type": "code",
   "execution_count": 12,
   "id": "13e63f6a",
   "metadata": {},
   "outputs": [],
   "source": [
    "table = scanner.segmentation_table.copy()\n",
    "table['barcode'] = table.apply(lambda x: scanner.num_to_barcode(x['full'], 10).toarray()[0], axis = 1)"
   ]
  },
  {
   "cell_type": "code",
   "execution_count": 13,
   "id": "93b2b446",
   "metadata": {},
   "outputs": [
    {
     "data": {
      "text/html": [
       "<div>\n",
       "<style scoped>\n",
       "    .dataframe tbody tr th:only-of-type {\n",
       "        vertical-align: middle;\n",
       "    }\n",
       "\n",
       "    .dataframe tbody tr th {\n",
       "        vertical-align: top;\n",
       "    }\n",
       "\n",
       "    .dataframe thead th {\n",
       "        text-align: right;\n",
       "    }\n",
       "</style>\n",
       "<table border=\"1\" class=\"dataframe\">\n",
       "  <thead>\n",
       "    <tr style=\"text-align: right;\">\n",
       "      <th></th>\n",
       "      <th>full</th>\n",
       "      <th>reduced</th>\n",
       "      <th>counts</th>\n",
       "      <th>barcode</th>\n",
       "    </tr>\n",
       "  </thead>\n",
       "  <tbody>\n",
       "    <tr>\n",
       "      <th>0</th>\n",
       "      <td>4</td>\n",
       "      <td>10</td>\n",
       "      <td>2</td>\n",
       "      <td>[0, 0, 0, 0, 0, 0, 0, 1, 0, 0]</td>\n",
       "    </tr>\n",
       "    <tr>\n",
       "      <th>1</th>\n",
       "      <td>8</td>\n",
       "      <td>9</td>\n",
       "      <td>1</td>\n",
       "      <td>[0, 0, 0, 0, 0, 0, 1, 0, 0, 0]</td>\n",
       "    </tr>\n",
       "    <tr>\n",
       "      <th>2</th>\n",
       "      <td>12</td>\n",
       "      <td>10</td>\n",
       "      <td>1</td>\n",
       "      <td>[0, 0, 0, 0, 0, 0, 1, 1, 0, 0]</td>\n",
       "    </tr>\n",
       "    <tr>\n",
       "      <th>3</th>\n",
       "      <td>15</td>\n",
       "      <td>13</td>\n",
       "      <td>1</td>\n",
       "      <td>[0, 0, 0, 0, 0, 0, 1, 1, 1, 1]</td>\n",
       "    </tr>\n",
       "    <tr>\n",
       "      <th>4</th>\n",
       "      <td>16</td>\n",
       "      <td>8</td>\n",
       "      <td>1</td>\n",
       "      <td>[0, 0, 0, 0, 0, 1, 0, 0, 0, 0]</td>\n",
       "    </tr>\n",
       "    <tr>\n",
       "      <th>...</th>\n",
       "      <td>...</td>\n",
       "      <td>...</td>\n",
       "      <td>...</td>\n",
       "      <td>...</td>\n",
       "    </tr>\n",
       "    <tr>\n",
       "      <th>916</th>\n",
       "      <td>1019</td>\n",
       "      <td>32</td>\n",
       "      <td>60</td>\n",
       "      <td>[1, 1, 1, 1, 1, 1, 1, 0, 1, 1]</td>\n",
       "    </tr>\n",
       "    <tr>\n",
       "      <th>917</th>\n",
       "      <td>1020</td>\n",
       "      <td>33</td>\n",
       "      <td>154</td>\n",
       "      <td>[1, 1, 1, 1, 1, 1, 1, 1, 0, 0]</td>\n",
       "    </tr>\n",
       "    <tr>\n",
       "      <th>918</th>\n",
       "      <td>1021</td>\n",
       "      <td>33</td>\n",
       "      <td>56</td>\n",
       "      <td>[1, 1, 1, 1, 1, 1, 1, 1, 0, 1]</td>\n",
       "    </tr>\n",
       "    <tr>\n",
       "      <th>919</th>\n",
       "      <td>1022</td>\n",
       "      <td>32</td>\n",
       "      <td>81</td>\n",
       "      <td>[1, 1, 1, 1, 1, 1, 1, 1, 1, 0]</td>\n",
       "    </tr>\n",
       "    <tr>\n",
       "      <th>920</th>\n",
       "      <td>1023</td>\n",
       "      <td>35</td>\n",
       "      <td>43</td>\n",
       "      <td>[1, 1, 1, 1, 1, 1, 1, 1, 1, 1]</td>\n",
       "    </tr>\n",
       "  </tbody>\n",
       "</table>\n",
       "<p>921 rows × 4 columns</p>\n",
       "</div>"
      ],
      "text/plain": [
       "     full  reduced  counts                         barcode\n",
       "0       4       10       2  [0, 0, 0, 0, 0, 0, 0, 1, 0, 0]\n",
       "1       8        9       1  [0, 0, 0, 0, 0, 0, 1, 0, 0, 0]\n",
       "2      12       10       1  [0, 0, 0, 0, 0, 0, 1, 1, 0, 0]\n",
       "3      15       13       1  [0, 0, 0, 0, 0, 0, 1, 1, 1, 1]\n",
       "4      16        8       1  [0, 0, 0, 0, 0, 1, 0, 0, 0, 0]\n",
       "..    ...      ...     ...                             ...\n",
       "916  1019       32      60  [1, 1, 1, 1, 1, 1, 1, 0, 1, 1]\n",
       "917  1020       33     154  [1, 1, 1, 1, 1, 1, 1, 1, 0, 0]\n",
       "918  1021       33      56  [1, 1, 1, 1, 1, 1, 1, 1, 0, 1]\n",
       "919  1022       32      81  [1, 1, 1, 1, 1, 1, 1, 1, 1, 0]\n",
       "920  1023       35      43  [1, 1, 1, 1, 1, 1, 1, 1, 1, 1]\n",
       "\n",
       "[921 rows x 4 columns]"
      ]
     },
     "execution_count": 13,
     "metadata": {},
     "output_type": "execute_result"
    }
   ],
   "source": [
    "table"
   ]
  },
  {
   "cell_type": "code",
   "execution_count": 14,
   "id": "dbac6414",
   "metadata": {},
   "outputs": [],
   "source": [
    "reduced = np.sort(table.reduced.unique())\n",
    "covs = []\n",
    "for r in reduced:\n",
    "    barcodes = []\n",
    "    r_table = table.loc[table.reduced.eq(r), ['barcode','counts']]\n",
    "    for b, c in zip(r_table.barcode, r_table['counts']):\n",
    "        barcodes += [b for _ in range(c)]\n",
    "    barcodes = np.concatenate(barcodes).reshape(-1, 10)\n",
    "    cov = EmpiricalCovariance()\n",
    "    cov.fit(barcodes)\n",
    "    covs.append(cov)"
   ]
  },
  {
   "cell_type": "markdown",
   "id": "2c64cc6f",
   "metadata": {},
   "source": [
    "#### What we need : covs and table with the variable `barcode`"
   ]
  },
  {
   "cell_type": "code",
   "execution_count": 15,
   "id": "0ead2220",
   "metadata": {
    "scrolled": false
   },
   "outputs": [
    {
     "data": {
      "text/html": [
       "<div>\n",
       "<style scoped>\n",
       "    .dataframe tbody tr th:only-of-type {\n",
       "        vertical-align: middle;\n",
       "    }\n",
       "\n",
       "    .dataframe tbody tr th {\n",
       "        vertical-align: top;\n",
       "    }\n",
       "\n",
       "    .dataframe thead th {\n",
       "        text-align: right;\n",
       "    }\n",
       "</style>\n",
       "<table border=\"1\" class=\"dataframe\">\n",
       "  <thead>\n",
       "    <tr style=\"text-align: right;\">\n",
       "      <th></th>\n",
       "      <th>full</th>\n",
       "      <th>reduced</th>\n",
       "    </tr>\n",
       "  </thead>\n",
       "  <tbody>\n",
       "    <tr>\n",
       "      <th>0</th>\n",
       "      <td>0</td>\n",
       "      <td>0</td>\n",
       "    </tr>\n",
       "    <tr>\n",
       "      <th>1</th>\n",
       "      <td>1</td>\n",
       "      <td>0</td>\n",
       "    </tr>\n",
       "    <tr>\n",
       "      <th>2</th>\n",
       "      <td>2</td>\n",
       "      <td>0</td>\n",
       "    </tr>\n",
       "    <tr>\n",
       "      <th>3</th>\n",
       "      <td>3</td>\n",
       "      <td>0</td>\n",
       "    </tr>\n",
       "    <tr>\n",
       "      <th>4</th>\n",
       "      <td>4</td>\n",
       "      <td>10</td>\n",
       "    </tr>\n",
       "    <tr>\n",
       "      <th>...</th>\n",
       "      <td>...</td>\n",
       "      <td>...</td>\n",
       "    </tr>\n",
       "    <tr>\n",
       "      <th>1019</th>\n",
       "      <td>1019</td>\n",
       "      <td>32</td>\n",
       "    </tr>\n",
       "    <tr>\n",
       "      <th>1020</th>\n",
       "      <td>1020</td>\n",
       "      <td>33</td>\n",
       "    </tr>\n",
       "    <tr>\n",
       "      <th>1021</th>\n",
       "      <td>1021</td>\n",
       "      <td>33</td>\n",
       "    </tr>\n",
       "    <tr>\n",
       "      <th>1022</th>\n",
       "      <td>1022</td>\n",
       "      <td>32</td>\n",
       "    </tr>\n",
       "    <tr>\n",
       "      <th>1023</th>\n",
       "      <td>1023</td>\n",
       "      <td>35</td>\n",
       "    </tr>\n",
       "  </tbody>\n",
       "</table>\n",
       "<p>1024 rows × 2 columns</p>\n",
       "</div>"
      ],
      "text/plain": [
       "      full  reduced\n",
       "0        0        0\n",
       "1        1        0\n",
       "2        2        0\n",
       "3        3        0\n",
       "4        4       10\n",
       "...    ...      ...\n",
       "1019  1019       32\n",
       "1020  1020       33\n",
       "1021  1021       33\n",
       "1022  1022       32\n",
       "1023  1023       35\n",
       "\n",
       "[1024 rows x 2 columns]"
      ]
     },
     "execution_count": 15,
     "metadata": {},
     "output_type": "execute_result"
    }
   ],
   "source": [
    "scanner.assign_missing_mahalanobis(pooled = False)"
   ]
  },
  {
   "cell_type": "code",
   "execution_count": 16,
   "id": "f094a8b0",
   "metadata": {},
   "outputs": [
    {
     "data": {
      "text/plain": [
       "[]"
      ]
     },
     "execution_count": 16,
     "metadata": {},
     "output_type": "execute_result"
    },
    {
     "data": {
      "image/png": "[encoded data removed]",
      "text/plain": [
       "<Figure size 640x480 with 1 Axes>"
      ]
     },
     "metadata": {},
     "output_type": "display_data"
    }
   ],
   "source": [
    "fig, ax = plt.subplots(1, 1)\n",
    "euclidean_assignment = scanner.assign_missing_euclidean.loc[scanner.missing_pairs_decimal_repr,:].reduced\n",
    "mahalanobis_assignment = scanner.assign_missing_mahalanobis(pooled = False).loc[scanner.missing_pairs_decimal_repr,:].reduced\n",
    "df = pd.DataFrame(zip(euclidean_assignment, mahalanobis_assignment), columns = ['euclidean','mahalanobis'])\n",
    "sns.scatterplot(data = df, x = 'euclidean', y = 'mahalanobis', ax = ax)\n",
    "plt.plot()"
   ]
  },
  {
   "cell_type": "markdown",
   "id": "4076ef26",
   "metadata": {},
   "source": [
    "#### Case 1-a : Using robust covariance estimate (MCD)"
   ]
  },
  {
   "cell_type": "code",
   "execution_count": 17,
   "id": "012d27d8",
   "metadata": {},
   "outputs": [
    {
     "data": {
      "text/plain": [
       "[]"
      ]
     },
     "execution_count": 17,
     "metadata": {},
     "output_type": "execute_result"
    },
    {
     "data": {
      "image/png": "[encoded data removed]",
      "text/plain": [
       "<Figure size 640x480 with 1 Axes>"
      ]
     },
     "metadata": {},
     "output_type": "display_data"
    }
   ],
   "source": [
    "fig, ax = plt.subplots(1, 1)\n",
    "euclidean_assignment = scanner.assign_missing_euclidean.loc[scanner.missing_pairs_decimal_repr,:].reduced\n",
    "mahalanobis_assignment = scanner.assign_missing_mahalanobis(pooled = False, robust = True).loc[scanner.missing_pairs_decimal_repr,:].reduced\n",
    "df = pd.DataFrame(zip(euclidean_assignment, mahalanobis_assignment), columns = ['euclidean','mahalanobis'])\n",
    "sns.scatterplot(data = df, x = 'euclidean', y = 'mahalanobis', ax = ax)\n",
    "plt.plot()"
   ]
  },
  {
   "cell_type": "markdown",
   "id": "02127997",
   "metadata": {},
   "source": [
    "#### Case 2: Mahalanobis distance with pooled covariance"
   ]
  },
  {
   "cell_type": "code",
   "execution_count": 18,
   "id": "19f51dfd",
   "metadata": {},
   "outputs": [
    {
     "data": {
      "text/plain": [
       "0"
      ]
     },
     "execution_count": 18,
     "metadata": {},
     "output_type": "execute_result"
    }
   ],
   "source": [
    "scanner.missing_pairs_decimal_repr[0]"
   ]
  },
  {
   "cell_type": "code",
   "execution_count": 19,
   "id": "6c4d523a",
   "metadata": {},
   "outputs": [
    {
     "data": {
      "text/plain": [
       "(11, 11)"
      ]
     },
     "execution_count": 19,
     "metadata": {},
     "output_type": "execute_result"
    }
   ],
   "source": [
    "scanner.assign_missing_mahalanobis(pooled = True).loc[7,:].reduced, scanner.assign_missing_euclidean.loc[7,:].reduced"
   ]
  },
  {
   "cell_type": "code",
   "execution_count": 20,
   "id": "0fb4f2fa",
   "metadata": {
    "scrolled": false
   },
   "outputs": [
    {
     "data": {
      "text/html": [
       "<div>\n",
       "<style scoped>\n",
       "    .dataframe tbody tr th:only-of-type {\n",
       "        vertical-align: middle;\n",
       "    }\n",
       "\n",
       "    .dataframe tbody tr th {\n",
       "        vertical-align: top;\n",
       "    }\n",
       "\n",
       "    .dataframe thead th {\n",
       "        text-align: right;\n",
       "    }\n",
       "</style>\n",
       "<table border=\"1\" class=\"dataframe\">\n",
       "  <thead>\n",
       "    <tr style=\"text-align: right;\">\n",
       "      <th></th>\n",
       "      <th>full</th>\n",
       "      <th>reduced</th>\n",
       "    </tr>\n",
       "  </thead>\n",
       "  <tbody>\n",
       "    <tr>\n",
       "      <th>0</th>\n",
       "      <td>0</td>\n",
       "      <td>14</td>\n",
       "    </tr>\n",
       "    <tr>\n",
       "      <th>1</th>\n",
       "      <td>1</td>\n",
       "      <td>11</td>\n",
       "    </tr>\n",
       "    <tr>\n",
       "      <th>2</th>\n",
       "      <td>2</td>\n",
       "      <td>10</td>\n",
       "    </tr>\n",
       "    <tr>\n",
       "      <th>3</th>\n",
       "      <td>3</td>\n",
       "      <td>11</td>\n",
       "    </tr>\n",
       "    <tr>\n",
       "      <th>4</th>\n",
       "      <td>4</td>\n",
       "      <td>10</td>\n",
       "    </tr>\n",
       "    <tr>\n",
       "      <th>...</th>\n",
       "      <td>...</td>\n",
       "      <td>...</td>\n",
       "    </tr>\n",
       "    <tr>\n",
       "      <th>1019</th>\n",
       "      <td>1019</td>\n",
       "      <td>32</td>\n",
       "    </tr>\n",
       "    <tr>\n",
       "      <th>1020</th>\n",
       "      <td>1020</td>\n",
       "      <td>33</td>\n",
       "    </tr>\n",
       "    <tr>\n",
       "      <th>1021</th>\n",
       "      <td>1021</td>\n",
       "      <td>33</td>\n",
       "    </tr>\n",
       "    <tr>\n",
       "      <th>1022</th>\n",
       "      <td>1022</td>\n",
       "      <td>32</td>\n",
       "    </tr>\n",
       "    <tr>\n",
       "      <th>1023</th>\n",
       "      <td>1023</td>\n",
       "      <td>35</td>\n",
       "    </tr>\n",
       "  </tbody>\n",
       "</table>\n",
       "<p>1024 rows × 2 columns</p>\n",
       "</div>"
      ],
      "text/plain": [
       "      full  reduced\n",
       "0        0       14\n",
       "1        1       11\n",
       "2        2       10\n",
       "3        3       11\n",
       "4        4       10\n",
       "...    ...      ...\n",
       "1019  1019       32\n",
       "1020  1020       33\n",
       "1021  1021       33\n",
       "1022  1022       32\n",
       "1023  1023       35\n",
       "\n",
       "[1024 rows x 2 columns]"
      ]
     },
     "execution_count": 20,
     "metadata": {},
     "output_type": "execute_result"
    }
   ],
   "source": [
    "scanner.assign_missing_mahalanobis(pooled = True)"
   ]
  },
  {
   "cell_type": "code",
   "execution_count": 21,
   "id": "1c09dca9",
   "metadata": {},
   "outputs": [
    {
     "data": {
      "text/plain": [
       "[]"
      ]
     },
     "execution_count": 21,
     "metadata": {},
     "output_type": "execute_result"
    },
    {
     "data": {
      "image/png": "[encoded data removed]",
      "text/plain": [
       "<Figure size 640x480 with 1 Axes>"
      ]
     },
     "metadata": {},
     "output_type": "display_data"
    }
   ],
   "source": [
    "fig, ax = plt.subplots(1, 1)\n",
    "euclidean_assignment = scanner.assign_missing_euclidean.loc[scanner.missing_pairs_decimal_repr,:].reduced\n",
    "mahalanobis_assignment = scanner.assign_missing_mahalanobis(pooled = True).loc[scanner.missing_pairs_decimal_repr,:].reduced\n",
    "df = pd.DataFrame(zip(euclidean_assignment, mahalanobis_assignment), columns = ['euclidean','mahalanobis'])\n",
    "sns.scatterplot(data = df, x = 'euclidean', y = 'mahalanobis', ax = ax)\n",
    "plt.plot()"
   ]
  },
  {
   "cell_type": "markdown",
   "id": "ceaea64f",
   "metadata": {},
   "source": [
    "#### Case 2-a : Using robust covariance estimator"
   ]
  },
  {
   "cell_type": "code",
   "execution_count": 22,
   "id": "deee5038",
   "metadata": {},
   "outputs": [
    {
     "data": {
      "text/plain": [
       "[]"
      ]
     },
     "execution_count": 22,
     "metadata": {},
     "output_type": "execute_result"
    },
    {
     "data": {
      "image/png": "[encoded data removed]",
      "text/plain": [
       "<Figure size 640x480 with 1 Axes>"
      ]
     },
     "metadata": {},
     "output_type": "display_data"
    }
   ],
   "source": [
    "fig, ax = plt.subplots(1, 1)\n",
    "euclidean_assignment = scanner.assign_missing_euclidean.loc[scanner.missing_pairs_decimal_repr,:].reduced\n",
    "mahalanobis_assignment = scanner.assign_missing_mahalanobis(pooled = True, robust = True).loc[scanner.missing_pairs_decimal_repr,:].reduced\n",
    "df = pd.DataFrame(zip(euclidean_assignment, mahalanobis_assignment), columns = ['euclidean','mahalanobis'])\n",
    "sns.scatterplot(data = df, x = 'euclidean', y = 'mahalanobis', ax = ax)\n",
    "plt.plot()"
   ]
  },
  {
   "cell_type": "markdown",
   "id": "9aec57b8",
   "metadata": {},
   "source": [
    "## Jensen-Shannon  distance"
   ]
  },
  {
   "cell_type": "markdown",
   "id": "976e1b6b",
   "metadata": {},
   "source": [
    "#### Discussion 1: Assumption in independence between X's"
   ]
  },
  {
   "cell_type": "markdown",
   "id": "e5a680eb",
   "metadata": {},
   "source": [
    "To have a discussion on this topic, let's begin with an example. The below table shows the barcode in decimal numbers for the segment of its id 1.    "
   ]
  },
  {
   "cell_type": "code",
   "execution_count": 23,
   "id": "d0d41f01",
   "metadata": {},
   "outputs": [
    {
     "data": {
      "text/html": [
       "<div>\n",
       "<style scoped>\n",
       "    .dataframe tbody tr th:only-of-type {\n",
       "        vertical-align: middle;\n",
       "    }\n",
       "\n",
       "    .dataframe tbody tr th {\n",
       "        vertical-align: top;\n",
       "    }\n",
       "\n",
       "    .dataframe thead th {\n",
       "        text-align: right;\n",
       "    }\n",
       "</style>\n",
       "<table border=\"1\" class=\"dataframe\">\n",
       "  <thead>\n",
       "    <tr style=\"text-align: right;\">\n",
       "      <th></th>\n",
       "      <th>full</th>\n",
       "      <th>reduced</th>\n",
       "    </tr>\n",
       "  </thead>\n",
       "  <tbody>\n",
       "    <tr>\n",
       "      <th>0</th>\n",
       "      <td>0</td>\n",
       "      <td>30</td>\n",
       "    </tr>\n",
       "    <tr>\n",
       "      <th>1</th>\n",
       "      <td>1</td>\n",
       "      <td>30</td>\n",
       "    </tr>\n",
       "    <tr>\n",
       "      <th>2</th>\n",
       "      <td>2</td>\n",
       "      <td>30</td>\n",
       "    </tr>\n",
       "    <tr>\n",
       "      <th>3</th>\n",
       "      <td>3</td>\n",
       "      <td>30</td>\n",
       "    </tr>\n",
       "    <tr>\n",
       "      <th>4</th>\n",
       "      <td>4</td>\n",
       "      <td>10</td>\n",
       "    </tr>\n",
       "    <tr>\n",
       "      <th>...</th>\n",
       "      <td>...</td>\n",
       "      <td>...</td>\n",
       "    </tr>\n",
       "    <tr>\n",
       "      <th>1019</th>\n",
       "      <td>1019</td>\n",
       "      <td>32</td>\n",
       "    </tr>\n",
       "    <tr>\n",
       "      <th>1020</th>\n",
       "      <td>1020</td>\n",
       "      <td>33</td>\n",
       "    </tr>\n",
       "    <tr>\n",
       "      <th>1021</th>\n",
       "      <td>1021</td>\n",
       "      <td>33</td>\n",
       "    </tr>\n",
       "    <tr>\n",
       "      <th>1022</th>\n",
       "      <td>1022</td>\n",
       "      <td>32</td>\n",
       "    </tr>\n",
       "    <tr>\n",
       "      <th>1023</th>\n",
       "      <td>1023</td>\n",
       "      <td>35</td>\n",
       "    </tr>\n",
       "  </tbody>\n",
       "</table>\n",
       "<p>1024 rows × 2 columns</p>\n",
       "</div>"
      ],
      "text/plain": [
       "      full  reduced\n",
       "0        0       30\n",
       "1        1       30\n",
       "2        2       30\n",
       "3        3       30\n",
       "4        4       10\n",
       "...    ...      ...\n",
       "1019  1019       32\n",
       "1020  1020       33\n",
       "1021  1021       33\n",
       "1022  1022       32\n",
       "1023  1023       35\n",
       "\n",
       "[1024 rows x 2 columns]"
      ]
     },
     "execution_count": 23,
     "metadata": {},
     "output_type": "execute_result"
    }
   ],
   "source": [
    "scanner.assign_missing_jensenshannon()"
   ]
  },
  {
   "cell_type": "code",
   "execution_count": 25,
   "id": "ee06cbdc",
   "metadata": {},
   "outputs": [
    {
     "data": {
      "text/plain": [
       "[]"
      ]
     },
     "execution_count": 25,
     "metadata": {},
     "output_type": "execute_result"
    },
    {
     "data": {
      "image/png": "[encoded data removed]",
      "text/plain": [
       "<Figure size 640x480 with 1 Axes>"
      ]
     },
     "metadata": {},
     "output_type": "display_data"
    }
   ],
   "source": [
    "fig, ax = plt.subplots(1, 1)\n",
    "euclidean_assignment = scanner.assign_missing_euclidean.loc[scanner.missing_pairs_decimal_repr,:].reduced\n",
    "mahalanobis_assignment = scanner.assign_missing_jensenshannon().loc[scanner.missing_pairs_decimal_repr,:].reduced\n",
    "df = pd.DataFrame(zip(euclidean_assignment, mahalanobis_assignment), columns = ['euclidean','jensen_shannon'])\n",
    "sns.scatterplot(data = df, x = 'euclidean', y = 'jensen_shannon', ax = ax)\n",
    "plt.plot()"
   ]
  },
  {
   "cell_type": "code",
   "execution_count": 26,
   "id": "3a808dbe",
   "metadata": {},
   "outputs": [
    {
     "data": {
      "text/plain": [
       "[]"
      ]
     },
     "execution_count": 26,
     "metadata": {},
     "output_type": "execute_result"
    },
    {
     "data": {
      "image/png": "[encoded data removed]",
      "text/plain": [
       "<Figure size 640x480 with 1 Axes>"
      ]
     },
     "metadata": {},
     "output_type": "display_data"
    }
   ],
   "source": [
    "fig, ax = plt.subplots(1, 1)\n",
    "euclidean_assignment = scanner.assign_missing_mahalanobis(pooled = True).loc[scanner.missing_pairs_decimal_repr,:].reduced\n",
    "mahalanobis_assignment = scanner.assign_missing_jensenshannon().loc[scanner.missing_pairs_decimal_repr,:].reduced\n",
    "df = pd.DataFrame(zip(euclidean_assignment, mahalanobis_assignment), columns = ['mahalanobis_pooled','jensen_shannon'])\n",
    "sns.scatterplot(data = df, x = 'mahalanobis_pooled', y = 'jensen_shannon', ax = ax)\n",
    "plt.plot()"
   ]
  },
  {
   "cell_type": "markdown",
   "id": "befb8a4d",
   "metadata": {},
   "source": [
    "#### Question: Should I just consider one-way KL-divergence\"????"
   ]
  },
  {
   "cell_type": "code",
   "execution_count": null,
   "id": "2f3adafc",
   "metadata": {},
   "outputs": [],
   "source": []
  },
  {
   "cell_type": "code",
   "execution_count": null,
   "id": "6b328262",
   "metadata": {},
   "outputs": [],
   "source": []
  },
  {
   "cell_type": "markdown",
   "id": "93d78796",
   "metadata": {},
   "source": [
    "#### How I computed jensen-shannon"
   ]
  },
  {
   "cell_type": "code",
   "execution_count": 29,
   "id": "bb4ee06b",
   "metadata": {},
   "outputs": [
    {
     "name": "stderr",
     "output_type": "stream",
     "text": [
      "/var/folders/xj/07knx1_11gl5w1nv4tg4xr000000gn/T/ipykernel_2494/2479123770.py:2: SettingWithCopyWarning: \n",
      "A value is trying to be set on a copy of a slice from a DataFrame.\n",
      "Try using .loc[row_indexer,col_indexer] = value instead\n",
      "\n",
      "See the caveats in the documentation: https://pandas.pydata.org/pandas-docs/stable/user_guide/indexing.html#returning-a-view-versus-a-copy\n",
      "  segment_1['barcode'] = segment_1.full.apply(lambda x: scanner.num_to_barcode(x, 10).toarray().reshape(-1).tolist())\n"
     ]
    }
   ],
   "source": [
    "segment_1 = scanner.segmentation_table.loc[scanner.segmentation_table.reduced.eq(1),:]\n",
    "segment_1['barcode'] = segment_1.full.apply(lambda x: scanner.num_to_barcode(x, 10).toarray().reshape(-1).tolist())"
   ]
  },
  {
   "cell_type": "code",
   "execution_count": 30,
   "id": "9b70001e",
   "metadata": {},
   "outputs": [
    {
     "data": {
      "text/html": [
       "<div>\n",
       "<style scoped>\n",
       "    .dataframe tbody tr th:only-of-type {\n",
       "        vertical-align: middle;\n",
       "    }\n",
       "\n",
       "    .dataframe tbody tr th {\n",
       "        vertical-align: top;\n",
       "    }\n",
       "\n",
       "    .dataframe thead th {\n",
       "        text-align: right;\n",
       "    }\n",
       "</style>\n",
       "<table border=\"1\" class=\"dataframe\">\n",
       "  <thead>\n",
       "    <tr style=\"text-align: right;\">\n",
       "      <th></th>\n",
       "      <th>full</th>\n",
       "      <th>reduced</th>\n",
       "      <th>counts</th>\n",
       "      <th>barcode</th>\n",
       "    </tr>\n",
       "  </thead>\n",
       "  <tbody>\n",
       "    <tr>\n",
       "      <th>430</th>\n",
       "      <td>478</td>\n",
       "      <td>1</td>\n",
       "      <td>6</td>\n",
       "      <td>[0, 1, 1, 1, 0, 1, 1, 1, 1, 0]</td>\n",
       "    </tr>\n",
       "    <tr>\n",
       "      <th>462</th>\n",
       "      <td>510</td>\n",
       "      <td>1</td>\n",
       "      <td>10</td>\n",
       "      <td>[0, 1, 1, 1, 1, 1, 1, 1, 1, 0]</td>\n",
       "    </tr>\n",
       "    <tr>\n",
       "      <th>813</th>\n",
       "      <td>862</td>\n",
       "      <td>1</td>\n",
       "      <td>16</td>\n",
       "      <td>[1, 1, 0, 1, 0, 1, 1, 1, 1, 0]</td>\n",
       "    </tr>\n",
       "    <tr>\n",
       "      <th>845</th>\n",
       "      <td>894</td>\n",
       "      <td>1</td>\n",
       "      <td>17</td>\n",
       "      <td>[1, 1, 0, 1, 1, 1, 1, 1, 1, 0]</td>\n",
       "    </tr>\n",
       "  </tbody>\n",
       "</table>\n",
       "</div>"
      ],
      "text/plain": [
       "     full  reduced  counts                         barcode\n",
       "430   478        1       6  [0, 1, 1, 1, 0, 1, 1, 1, 1, 0]\n",
       "462   510        1      10  [0, 1, 1, 1, 1, 1, 1, 1, 1, 0]\n",
       "813   862        1      16  [1, 1, 0, 1, 0, 1, 1, 1, 1, 0]\n",
       "845   894        1      17  [1, 1, 0, 1, 1, 1, 1, 1, 1, 0]"
      ]
     },
     "execution_count": 30,
     "metadata": {},
     "output_type": "execute_result"
    }
   ],
   "source": [
    "segment_1"
   ]
  },
  {
   "cell_type": "markdown",
   "id": "d0911973",
   "metadata": {},
   "source": [
    "Suppose each X's are independent, then the probability of each sequence starting from \\[0, \\cdots, 0\\] to \\[1, \\cdots, 1\\] can be found using each element of the sequence of the weighted mean below.   \n",
    "For example, the probability of having \\[1,0,1,1,1,1,1,1,1,1\\] would be 0 because the probability of the second element being 0 is 0. "
   ]
  },
  {
   "cell_type": "code",
   "execution_count": 31,
   "id": "6952f115",
   "metadata": {},
   "outputs": [
    {
     "data": {
      "text/plain": [
       "array([0.67346939, 1.        , 0.32653061, 1.        , 0.55102041,\n",
       "       1.        , 1.        , 1.        , 1.        , 0.        ])"
      ]
     },
     "execution_count": 31,
     "metadata": {},
     "output_type": "execute_result"
    }
   ],
   "source": [
    "scanner.weighted_segment_means[1]"
   ]
  },
  {
   "cell_type": "markdown",
   "id": "3e51d709",
   "metadata": {},
   "source": [
    "On the other hand, if each X's are dependent, we may find a probability of a particular sequence by using conditional probability. Then we may have that\n",
    "\n",
    "$$ P(X = [1,0, \\cdots, 0 ]) = P(X_9 = 0 | X_0 = 1, X_1 = 0, \\cdots, X_8 = 0) \\cdots P(X_1 = 0 | X_0 = 1) \\cdot P(X_0 = 1)$$\n",
    "\n",
    "In other words, the probability of a sequence is always 0 if they are not included in the given segment; if they are in the segment, their probability would be proportional to their counts. For example, the pmf of the segment above would be as below:\n",
    "\n",
    "$P(X = [0,1,1,1,0,1,1,1,1,0]) = 6/49)$<br>\n",
    "$P(X = [0,1,1,1,1,1,1,1,1,0]) = 10/49)$<br>\n",
    "$P(X = [1,1,0,1,0,1,1,1,1,0]) = 16/49)$<br>\n",
    "$P(X = [1,1,0,1,1,1,1,1,1,0]) = 17/49)$<br>"
   ]
  },
  {
   "cell_type": "markdown",
   "id": "f471e628",
   "metadata": {},
   "source": [
    "We will consider both conditions in the following demonstration."
   ]
  },
  {
   "cell_type": "markdown",
   "id": "2a7bbe30",
   "metadata": {},
   "source": [
    "#### Under independence assumption"
   ]
  },
  {
   "cell_type": "code",
   "execution_count": 118,
   "id": "221bef60",
   "metadata": {},
   "outputs": [],
   "source": [
    "weighted_mean = scanner.weighted_segment_means[2]"
   ]
  },
  {
   "cell_type": "code",
   "execution_count": 119,
   "id": "9c826b60",
   "metadata": {},
   "outputs": [],
   "source": [
    "k = 500\n",
    "prob = 0\n",
    "while prob == 0:\n",
    "    k += 1\n",
    "    example_array = scanner.num_to_barcode(k, 10).toarray().reshape(-1)\n",
    "    prob = np.prod([1-w if e == 0 else w  for e, w in zip(example_array, weighted_mean)])"
   ]
  },
  {
   "cell_type": "code",
   "execution_count": 120,
   "id": "8a9620fc",
   "metadata": {},
   "outputs": [
    {
     "data": {
      "text/plain": [
       "502"
      ]
     },
     "execution_count": 120,
     "metadata": {},
     "output_type": "execute_result"
    }
   ],
   "source": [
    "k"
   ]
  },
  {
   "cell_type": "code",
   "execution_count": 121,
   "id": "a9026d9c",
   "metadata": {},
   "outputs": [],
   "source": [
    "example_array = scanner.num_to_barcode(510, 10).toarray().reshape(-1)"
   ]
  },
  {
   "cell_type": "code",
   "execution_count": 122,
   "id": "c3be6c0a",
   "metadata": {},
   "outputs": [
    {
     "data": {
      "text/plain": [
       "array([0, 1, 1, 1, 1, 1, 1, 1, 1, 0], dtype=int8)"
      ]
     },
     "execution_count": 122,
     "metadata": {},
     "output_type": "execute_result"
    }
   ],
   "source": [
    "example_array "
   ]
  },
  {
   "cell_type": "code",
   "execution_count": 123,
   "id": "7ab5661b",
   "metadata": {
    "scrolled": true
   },
   "outputs": [
    {
     "data": {
      "text/plain": [
       "array([0.47368421, 1.        , 0.40350877, 1.        , 0.42105263,\n",
       "       1.        , 0.59649123, 1.        , 0.10526316, 0.        ])"
      ]
     },
     "execution_count": 123,
     "metadata": {},
     "output_type": "execute_result"
    }
   ],
   "source": [
    "weighted_mean"
   ]
  },
  {
   "cell_type": "code",
   "execution_count": 124,
   "id": "91eb7cac",
   "metadata": {},
   "outputs": [],
   "source": [
    "prob_example = np.prod([1-w if e == 0 else w  for e, w in zip(example_array, weighted_mean)])"
   ]
  },
  {
   "cell_type": "code",
   "execution_count": 125,
   "id": "90ad8775",
   "metadata": {},
   "outputs": [
    {
     "data": {
      "text/plain": [
       "0.00561456638939809"
      ]
     },
     "execution_count": 125,
     "metadata": {},
     "output_type": "execute_result"
    }
   ],
   "source": [
    "prob_example"
   ]
  },
  {
   "cell_type": "code",
   "execution_count": 126,
   "id": "40298cb1",
   "metadata": {},
   "outputs": [],
   "source": [
    "all_arrays = [scanner.num_to_barcode(x, 10).toarray().reshape(-1) for x in range(2**10)]"
   ]
  },
  {
   "cell_type": "code",
   "execution_count": 136,
   "id": "5785fc7a",
   "metadata": {},
   "outputs": [],
   "source": [
    "def check_ones(seq_a, seq_b):\n",
    "    return np.all(np.isin(np.where(seq_a ==1)[0], np.where(seq_b ==1)[0]))\n",
    "\n",
    "def check_zeros(seq_a, seq_b):\n",
    "    return np.all(np.isin(np.where(seq_a ==0)[0], np.where(seq_b ==0)[0]))\n",
    "\n",
    "def check_both(seq_a, seq_b):\n",
    "    return check_ones(seq_a, seq_b)*check_zeros(seq_a, seq_b)\n",
    "\n",
    "def find_prob(missing_array, weighted_mean):\n",
    "    return np.prod([1-w if e == 0 else w  for e, w in zip(missing_array, weighted_mean)])"
   ]
  },
  {
   "cell_type": "code",
   "execution_count": 128,
   "id": "2b9503a5",
   "metadata": {},
   "outputs": [],
   "source": [
    "from functools import partial"
   ]
  },
  {
   "cell_type": "code",
   "execution_count": 129,
   "id": "f8af0194",
   "metadata": {},
   "outputs": [],
   "source": [
    "cond = partial(check_both, weighted_mean)\n",
    "\n",
    "prob = partial(find_prob, weighted_mean = weighted_mean)"
   ]
  },
  {
   "cell_type": "code",
   "execution_count": 130,
   "id": "e75aca47",
   "metadata": {},
   "outputs": [],
   "source": [
    "prob_seq = [prob(x) for x in all_arrays if cond(x)]"
   ]
  },
  {
   "cell_type": "code",
   "execution_count": 131,
   "id": "c4822169",
   "metadata": {},
   "outputs": [],
   "source": [
    "missing = scanner.missing_arrays[0]"
   ]
  },
  {
   "cell_type": "code",
   "execution_count": 132,
   "id": "0c624995",
   "metadata": {},
   "outputs": [
    {
     "data": {
      "text/plain": [
       "False"
      ]
     },
     "execution_count": 132,
     "metadata": {},
     "output_type": "execute_result"
    }
   ],
   "source": [
    "missing.tolist() in [x.tolist() for x in all_arrays if cond(x)]"
   ]
  },
  {
   "cell_type": "code",
   "execution_count": 133,
   "id": "3eb4fcd3",
   "metadata": {},
   "outputs": [],
   "source": [
    "prob_seq.append(0); prob_domain = [x.tolist() for x in all_arrays if cond(x)] if missing.tolist() in [x.tolist() for x in all_arrays if cond(x)] else  [x.tolist() for x in all_arrays if cond(x)] + [missing.tolist()]"
   ]
  },
  {
   "cell_type": "code",
   "execution_count": 134,
   "id": "d0d3463e",
   "metadata": {},
   "outputs": [],
   "source": [
    "missing_prob_seq = [0 for _ in range(len(prob_seq)-1)] + [1]"
   ]
  },
  {
   "cell_type": "code",
   "execution_count": 135,
   "id": "b2755a2e",
   "metadata": {},
   "outputs": [
    {
     "data": {
      "text/plain": [
       "0.8325546111576977"
      ]
     },
     "execution_count": 135,
     "metadata": {},
     "output_type": "execute_result"
    }
   ],
   "source": [
    "from scipy.spatial.distance import jensenshannon\n",
    "\n",
    "jensenshannon(prob_seq, missing_prob_seq)"
   ]
  },
  {
   "cell_type": "code",
   "execution_count": 146,
   "id": "f65a3aff",
   "metadata": {},
   "outputs": [],
   "source": [
    "missing = scanner.missing_arrays[0]"
   ]
  },
  {
   "cell_type": "code",
   "execution_count": 147,
   "id": "3acb8d4b",
   "metadata": {},
   "outputs": [],
   "source": [
    "distance = []\n",
    "all_arrays = [scanner.num_to_barcode(x, 10).toarray().reshape(-1) for x in range(2**10)]\n",
    "for weighted_means in scanner.weighted_segment_means:\n",
    "    cond = partial(check_both, weighted_means)\n",
    "    prob = partial(find_prob, weighted_mean = weighted_means)\n",
    "    prob_seq = [prob(x) for x in all_arrays if cond(x)]\n",
    "    prob_domain = [x.tolist() for x in all_arrays if cond(x)] if missing.tolist() in [x.tolist() for x in all_arrays if cond(x)] else  [x.tolist() for x in all_arrays if cond(x)] + [missing.tolist()]\n",
    "    if len(prob_seq) < len(prob_domain):\n",
    "        prob_seq.append(0)\n",
    "    missing_prob_seq = [0 for _ in range(len(prob_seq)-1)] + [1]\n",
    "    d = jensenshannon(prob_seq, missing_prob_seq)\n",
    "    distance.append(d)\n",
    "    "
   ]
  },
  {
   "cell_type": "code",
   "execution_count": 148,
   "id": "3d00665f",
   "metadata": {},
   "outputs": [
    {
     "data": {
      "text/plain": [
       "34"
      ]
     },
     "execution_count": 148,
     "metadata": {},
     "output_type": "execute_result"
    }
   ],
   "source": [
    "distance.index(min(distance))"
   ]
  },
  {
   "cell_type": "code",
   "execution_count": 158,
   "id": "04dd26ef",
   "metadata": {},
   "outputs": [
    {
     "data": {
      "text/plain": [
       "10"
      ]
     },
     "execution_count": 158,
     "metadata": {},
     "output_type": "execute_result"
    }
   ],
   "source": [
    "scanner.barcode_length"
   ]
  },
  {
   "cell_type": "code",
   "execution_count": 159,
   "id": "9643f4a1",
   "metadata": {},
   "outputs": [],
   "source": [
    "def find_reduced_jensenshannon(missing, all_arrays = None):\n",
    "    distance = []\n",
    "    if all_arrays:\n",
    "        pass\n",
    "    else:\n",
    "        all_arrays = [scanner.num_to_barcode(x, scanner.barcode_length).toarray().reshape(-1) for x in range(2**scanner.barcode_length)]\n",
    "    for weighted_means in scanner.weighted_segment_means:\n",
    "        cond = partial(check_both, weighted_means)\n",
    "        prob = partial(find_prob, weighted_mean = weighted_means)\n",
    "        prob_seq = [prob(x) for x in all_arrays if cond(x)]\n",
    "        prob_domain = [x.tolist() for x in all_arrays if cond(x)] if missing.tolist() in [x.tolist() for x in all_arrays if cond(x)] else  [x.tolist() for x in all_arrays if cond(x)] + [missing.tolist()]\n",
    "        if len(prob_seq) < len(prob_domain):\n",
    "            prob_seq.append(0)\n",
    "        missing_prob_seq = [0 for _ in range(len(prob_seq)-1)] + [1]\n",
    "        d = jensenshannon(prob_seq, missing_prob_seq)\n",
    "        distance.append(d)\n",
    "    return distance.index(min(distance))\n"
   ]
  },
  {
   "cell_type": "code",
   "execution_count": 160,
   "id": "751514bb",
   "metadata": {},
   "outputs": [
    {
     "data": {
      "text/plain": [
       "34"
      ]
     },
     "execution_count": 160,
     "metadata": {},
     "output_type": "execute_result"
    }
   ],
   "source": [
    "find_reduced_jensenshannon(missing)"
   ]
  },
  {
   "cell_type": "code",
   "execution_count": 180,
   "id": "a60b672d",
   "metadata": {},
   "outputs": [],
   "source": [
    "#joblib example\n",
    "from time import sleep\n",
    "from joblib import Parallel, delayed\n",
    "from tqdm.notebook import trange\n",
    "r = Parallel(n_jobs = -1, verbose=0)(delayed(sleep)(2) for _ in range(10)) "
   ]
  },
  {
   "cell_type": "code",
   "execution_count": 182,
   "id": "bea2a30d",
   "metadata": {},
   "outputs": [
    {
     "name": "stderr",
     "output_type": "stream",
     "text": [
      "[Parallel(n_jobs=-1)]: Using backend LokyBackend with 10 concurrent workers.\n",
      "[Parallel(n_jobs=-1)]: Done   5 tasks      | elapsed:   12.4s\n",
      "[Parallel(n_jobs=-1)]: Done  12 tasks      | elapsed:   21.8s\n",
      "[Parallel(n_jobs=-1)]: Done  21 tasks      | elapsed:   31.2s\n",
      "[Parallel(n_jobs=-1)]: Done  30 tasks      | elapsed:   31.8s\n",
      "[Parallel(n_jobs=-1)]: Done  35 out of  49 | elapsed:   40.8s remaining:   16.3s\n",
      "[Parallel(n_jobs=-1)]: Done  40 out of  49 | elapsed:   41.4s remaining:    9.3s\n",
      "[Parallel(n_jobs=-1)]: Done  45 out of  49 | elapsed:   49.4s remaining:    4.4s\n",
      "[Parallel(n_jobs=-1)]: Done  49 out of  49 | elapsed:   49.8s finished\n"
     ]
    }
   ],
   "source": [
    "reduced = Parallel(n_jobs = -1, verbose = 10)(delayed(find_reduced_jensenshannon)(missing, all_arrays) for missing in scanner.missing_arrays)\n",
    "full = scanner.missing_pairs_decimal_repr"
   ]
  },
  {
   "cell_type": "code",
   "execution_count": 183,
   "id": "8257bace",
   "metadata": {},
   "outputs": [],
   "source": [
    "fill_missing_df = pd.DataFrame(zip(full, reduced), columns = ['full','reduced'])"
   ]
  },
  {
   "cell_type": "code",
   "execution_count": 186,
   "id": "c9cc3fbc",
   "metadata": {},
   "outputs": [],
   "source": [
    "original_table = scanner.segmentation_table.drop('counts',axis = 1)"
   ]
  },
  {
   "cell_type": "code",
   "execution_count": 188,
   "id": "fdf321b3",
   "metadata": {},
   "outputs": [
    {
     "data": {
      "text/html": [
       "<div>\n",
       "<style scoped>\n",
       "    .dataframe tbody tr th:only-of-type {\n",
       "        vertical-align: middle;\n",
       "    }\n",
       "\n",
       "    .dataframe tbody tr th {\n",
       "        vertical-align: top;\n",
       "    }\n",
       "\n",
       "    .dataframe thead th {\n",
       "        text-align: right;\n",
       "    }\n",
       "</style>\n",
       "<table border=\"1\" class=\"dataframe\">\n",
       "  <thead>\n",
       "    <tr style=\"text-align: right;\">\n",
       "      <th></th>\n",
       "      <th>full</th>\n",
       "      <th>reduced</th>\n",
       "    </tr>\n",
       "  </thead>\n",
       "  <tbody>\n",
       "    <tr>\n",
       "      <th>0</th>\n",
       "      <td>0</td>\n",
       "      <td>16</td>\n",
       "    </tr>\n",
       "    <tr>\n",
       "      <th>1</th>\n",
       "      <td>1</td>\n",
       "      <td>28</td>\n",
       "    </tr>\n",
       "    <tr>\n",
       "      <th>2</th>\n",
       "      <td>2</td>\n",
       "      <td>21</td>\n",
       "    </tr>\n",
       "    <tr>\n",
       "      <th>3</th>\n",
       "      <td>3</td>\n",
       "      <td>29</td>\n",
       "    </tr>\n",
       "    <tr>\n",
       "      <th>4</th>\n",
       "      <td>4</td>\n",
       "      <td>21</td>\n",
       "    </tr>\n",
       "    <tr>\n",
       "      <th>...</th>\n",
       "      <td>...</td>\n",
       "      <td>...</td>\n",
       "    </tr>\n",
       "    <tr>\n",
       "      <th>1019</th>\n",
       "      <td>1019</td>\n",
       "      <td>26</td>\n",
       "    </tr>\n",
       "    <tr>\n",
       "      <th>1020</th>\n",
       "      <td>1020</td>\n",
       "      <td>5</td>\n",
       "    </tr>\n",
       "    <tr>\n",
       "      <th>1021</th>\n",
       "      <td>1021</td>\n",
       "      <td>29</td>\n",
       "    </tr>\n",
       "    <tr>\n",
       "      <th>1022</th>\n",
       "      <td>1022</td>\n",
       "      <td>0</td>\n",
       "    </tr>\n",
       "    <tr>\n",
       "      <th>1023</th>\n",
       "      <td>1023</td>\n",
       "      <td>34</td>\n",
       "    </tr>\n",
       "  </tbody>\n",
       "</table>\n",
       "<p>1024 rows × 2 columns</p>\n",
       "</div>"
      ],
      "text/plain": [
       "      full  reduced\n",
       "0        0       16\n",
       "1        1       28\n",
       "2        2       21\n",
       "3        3       29\n",
       "4        4       21\n",
       "...    ...      ...\n",
       "1019  1019       26\n",
       "1020  1020        5\n",
       "1021  1021       29\n",
       "1022  1022        0\n",
       "1023  1023       34\n",
       "\n",
       "[1024 rows x 2 columns]"
      ]
     },
     "execution_count": 188,
     "metadata": {},
     "output_type": "execute_result"
    }
   ],
   "source": [
    "pd.concat([original_table, fill_missing_df], ignore_index = True).sort_values('full').reset_index(drop = True)"
   ]
  },
  {
   "cell_type": "code",
   "execution_count": null,
   "id": "694ee556",
   "metadata": {},
   "outputs": [],
   "source": []
  }
 ],
 "metadata": {
  "kernelspec": {
   "display_name": "Python 3 (ipykernel)",
   "language": "python",
   "name": "python3"
  },
  "language_info": {
   "codemirror_mode": {
    "name": "ipython",
    "version": 3
   },
   "file_extension": ".py",
   "mimetype": "text/x-python",
   "name": "python",
   "nbconvert_exporter": "python",
   "pygments_lexer": "ipython3",
   "version": "3.9.13"
  }
 },
 "nbformat": 4,
 "nbformat_minor": 5
}
